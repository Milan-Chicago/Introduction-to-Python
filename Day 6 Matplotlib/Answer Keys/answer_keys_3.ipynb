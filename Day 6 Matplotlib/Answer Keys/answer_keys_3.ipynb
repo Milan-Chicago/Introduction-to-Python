{
 "cells": [
  {
   "cell_type": "markdown",
   "id": "2a45dc2b",
   "metadata": {},
   "source": [
    "### Answer Keys 3\n",
    "\n",
    "These are possible solutions to the exercises in the third notebook of the workshop. Alternative solutions are possible. \n",
    "\n",
    "You can copy paste the answers in the exercises' cells to see the final result. The code below will _not_ run correctly in this notebook."
   ]
  },
  {
   "cell_type": "markdown",
   "id": "e1a87d5f",
   "metadata": {},
   "source": [
    "##### Exercise 1\n",
    "\n",
    "Reproduce the plot above, but use a different `cmap` argument. Choose the new `cmap` from <a href=\"https://matplotlib.org/stable/tutorials/colors/colormaps.html\">the official documentation</a> (scroll down to see the colormaps!). Before choosing a new colormap, think about what makes a color map readable in this case?\n",
    "\n",
    "**Extra** You may have noticed the legend above is useless at the moment, since we cannot distinguish the two dataseries by their color anymore. Amend the legend by using different markers for the two dataseries. As a reminder, you can specify the marker of your choice through the argument `marker` You can find the complete list of available markers at [this page](https://matplotlib.org/stable/api/markers_api.html)."
   ]
  },
  {
   "cell_type": "code",
   "execution_count": null,
   "id": "dfe39d70",
   "metadata": {},
   "outputs": [],
   "source": [
    "# Same plot as above\n",
    "fig, ax = plt.subplots(figsize=(10,8))\n",
    "ax.set_title('Use of Taylor and Morgan Over Time')\n",
    "ax.set_xlabel('Year')\n",
    "ax.set_ylabel('Number of Babies with a Given Name')\n",
    "ax.plot(morgan['Year'], morgan['Total'], color=(1,0,0,0.5), lw=1, ls='dashed')\n",
    "ax.plot(taylor['Year'], taylor['Total'], color=(0,0,1,0.5), lw=1, ls='dashed')\n",
    "\n",
    "# Complete the code\n",
    "# I chose the coolwarm cmap and the ^, v markers\n",
    "ax.scatter(morgan['Year'], morgan['Total'], c = morgan['Proportion'], label = 'Morgan', \n",
    "           cmap='coolwarm', marker='^')\n",
    "ax.scatter(taylor['Year'], taylor['Total'], c = taylor['Proportion'], label = 'Taylor', \n",
    "           cmap='coolwarm', marker='v')\n",
    "\n",
    "# Legend and grid\n",
    "ax.legend(loc='upper left')\n",
    "ax.grid(color=(0.5,0.5,0.5,0.2), axis='y', lw=0.25)"
   ]
  },
  {
   "cell_type": "markdown",
   "id": "91442439",
   "metadata": {},
   "source": [
    "##### Exercise 2\n",
    "\n",
    "Let's play around with the `AxesDivider`. Complete the code below to create a new parasitic `Axes` at the _bottom_ of the main `Axes` and divide it with a `pad` of `0.5` from the main `Axes`. \n",
    "\n",
    "**Notice** For once, we do not call our `Figure` object `fig` and our `Axes` object `ax`. This is because we do not want to overwrite the `fig` and `ax` we created above."
   ]
  },
  {
   "cell_type": "code",
   "execution_count": null,
   "id": "16dc497e",
   "metadata": {},
   "outputs": [],
   "source": [
    "# Same plot as before, but we use different names\n",
    "fig_ex, ax_ex = plt.subplots(figsize=(10,8))\n",
    "ax_ex.set_title('Use of Taylor and Morgan Over Time')\n",
    "ax_ex.set_xlabel('Year')\n",
    "ax_ex.set_ylabel('Number of Babies with a Given Name')\n",
    "ax_ex.plot(morgan['Year'], morgan['Total'], color=(1,0,0,0.5), lw=1, ls='dashed')\n",
    "ax_ex.plot(taylor['Year'], taylor['Total'], color=(0,0,1,0.5), lw=1, ls='dashed')\n",
    "ax_ex.scatter(taylor['Year'], taylor['Total'], c = taylor['Proportion'], \n",
    "           label = 'Taylor', cmap='spring_r', marker='v')\n",
    "# we save what ax.scatter output\n",
    "for_colorbar_ex = ax_ex.scatter(morgan['Year'], morgan['Total'], c = morgan['Proportion'], \n",
    "           label = 'Morgan', cmap='spring_r', marker='^')\n",
    "ax_ex.legend(loc='upper left')\n",
    "ax_ex.grid(color=(0.5,0.5,0.5,0.2), axis='y', lw=0.25)\n",
    "\n",
    "# Complete the code\n",
    "# 1. Create an AxesDivider\n",
    "divider_ex = make_axes_locatable(ax_ex)\n",
    "# 2. Ask the AxesDivider vampirize space for the Axes containing the barplot\n",
    "# Put the new Axes at the bottom and give it a 0.5 pad\n",
    "cax_ex = divider_ex.append_axes('bottom', size='5%', pad=0.5)"
   ]
  },
  {
   "cell_type": "markdown",
   "id": "f8415ef3",
   "metadata": {},
   "source": [
    "##### Exercise 3\n",
    "\n",
    "Complete the code to create a `colorbar` at the _bottom_ of the main `Axes`. The code to create the new `Axes` at the bottom of the main `Axes` is already wirtten. You only need to fill the new `Axes` with the actual `colorbar`.\n",
    "\n",
    "\n",
    "**Extra** What's wrong with the `colorbar` now? Try to pass the argument `orientation=\"horizontal\"` and see what happens."
   ]
  },
  {
   "cell_type": "code",
   "execution_count": null,
   "id": "088a7750",
   "metadata": {},
   "outputs": [],
   "source": [
    "# Same plot\n",
    "fig_ex, ax_ex = plt.subplots(figsize=(10,8))\n",
    "ax_ex.set_title('Use of Taylor and Morgan Over Time')\n",
    "ax_ex.set_xlabel('Year')\n",
    "ax_ex.set_ylabel('Number of Babies with a Given Name')\n",
    "ax_ex.plot(morgan['Year'], morgan['Total'], color=(1,0,0,0.5), lw=1, ls='dashed')\n",
    "ax_ex.plot(taylor['Year'], taylor['Total'], color=(0,0,1,0.5), lw=1, ls='dashed')\n",
    "ax_ex.scatter(taylor['Year'], taylor['Total'], c = taylor['Proportion'], \n",
    "           label = 'Taylor', cmap='spring_r', marker='v')\n",
    "for_colorbar_ex = ax_ex.scatter(morgan['Year'], morgan['Total'], c = morgan['Proportion'], \n",
    "           label = 'Morgan', cmap='spring_r', marker='^')\n",
    "ax_ex.legend(loc='upper left')\n",
    "ax_ex.grid(color=(0.5,0.5,0.5,0.2), axis='y', lw=0.25)\n",
    "\n",
    "\n",
    "# Take the space\n",
    "divider_ex = make_axes_locatable(ax_ex)\n",
    "cax_ex = divider_ex.append_axes('bottom', size='5%', pad=0.5)\n",
    "\n",
    "# 3. Complete the call to fig.colorbar()\n",
    "fig_ex.colorbar(for_colorbar_ex, cax=cax_ex, label='Proportion of Girls', orientation='horizontal')"
   ]
  },
  {
   "cell_type": "markdown",
   "id": "80ff2be8",
   "metadata": {},
   "source": [
    "##### Exercise 4\n",
    "\n",
    "In the previous plot, we used the marker size (`s`) to represent the number of newborns given a certain name and we used the y-axis to show the proportion of girls among those newborns. Complete the code below to swap this around: use the marker size (`s`) to represent the proportion of girls and use the y-axis to represent the number of babies born with a given name.\n",
    "\n",
    "**Notice** In the plot above, when we passed the `s` argument to `ax.scatter()`, we multiplied the `Total` columns of the two `DataSet` by the scalar constant `60` to reach an aesthetically-pleasing result. You will have to do the same here, albeit with a different numerical constant. Try few values and choose the one you like most."
   ]
  },
  {
   "cell_type": "code",
   "execution_count": null,
   "id": "d4026e0f",
   "metadata": {},
   "outputs": [],
   "source": [
    "# Start plot as above\n",
    "fig, ax = plt.subplots(figsize=(12,8))\n",
    "# Set the title, axis labels\n",
    "ax.set_title('Use of Taylor and Morgan Over Time')\n",
    "ax.set_xlabel('Year')\n",
    "ax.set_ylabel('Proportion of girls among newborns with a given name')\n",
    "# Now the scatter plot. Swap the information\n",
    "ax.scatter(morgan['Year'], morgan['Total'], s = morgan['Proportion']*120, label = 'Morgan', color = 'red')\n",
    "ax.scatter(taylor['Year'], taylor['Total'], s = taylor['Proportion']*120, label = 'Taylor', color = 'blue')\n",
    "# Legend and grid\n",
    "ax.legend()\n",
    "ax.grid(color=(0.5,0.5,0.5,0.2), axis='y', lw=0.25)"
   ]
  },
  {
   "cell_type": "markdown",
   "id": "74bed667",
   "metadata": {},
   "source": [
    "##### Exercise 5\n",
    "\n",
    "Modify the code below to add a new marker in the `legend`. The new marker should appear between the third marker (labelled \"100 newborns\") and the fourth marker (labelled \"10,000 newborns\"). It shall be identical to the third and fourth marker but have a `markersize=12.5`. In the `legend`, the new marker shall be labelled \"5050 newborns\"."
   ]
  },
  {
   "cell_type": "code",
   "execution_count": null,
   "id": "6fd5a890",
   "metadata": {},
   "outputs": [],
   "source": [
    "from matplotlib.patches import Circle, CirclePolygon\n",
    "from matplotlib.lines import Line2D\n",
    "\n",
    "# Add the new marker\n",
    "legend_elements = [Line2D([0], [0], marker='o', color='white', linestyle='None',\n",
    "                          markerfacecolor='blue', markersize=15),\n",
    "                  Line2D([0], [0], marker='o', color='white', linestyle='None',\n",
    "                          markerfacecolor='red', markersize=15),\n",
    "                  Line2D([0], [0], marker='o', color='black', linestyle='None',\n",
    "                          markerfacecolor='white', markersize=5),\n",
    "                  Line2D([0], [0], marker='o', color='black', linestyle='None',\n",
    "                          markerfacecolor='white', markersize=12.5),\n",
    "                  Line2D([0], [0], marker='o', color='black', linestyle='None',\n",
    "                          markerfacecolor='white', markersize=20)]\n",
    "# Same plot as above\n",
    "fig, ax = plt.subplots(figsize=(12,8))\n",
    "ax.set_title('Use of Taylor and Morgan Over Time')\n",
    "ax.set_xlabel('Year')\n",
    "ax.set_ylabel('Proportion of girls among newborns with a given name')\n",
    "ax.set_ylim([0,1])\n",
    "ax.scatter(morgan['Year'], morgan['Proportion'], s = morgan['Total']/60, label = 'Morgan', color = 'red')\n",
    "ax.scatter(taylor['Year'], taylor['Proportion'], s = taylor['Total']/60, label = 'Taylor', color = 'blue')\n",
    "ax.grid(color=(0.5,0.5,0.5,0.2), axis='y', lw=0.25)\n",
    "\n",
    "# Add the new marker\n",
    "ax.legend(legend_elements, ['Morgan', 'Taylor', '100 newborns', '5050 newborns', '10,000 newborns'], loc='upper left')"
   ]
  },
  {
   "cell_type": "markdown",
   "id": "8025d883",
   "metadata": {},
   "source": [
    "##### Exercise E\n",
    "\n",
    "Create your own new `cmap`. Use any two colors you would like as extremes, but remember to create some contrast."
   ]
  },
  {
   "cell_type": "code",
   "execution_count": null,
   "id": "242c0a28",
   "metadata": {},
   "outputs": [],
   "source": [
    "# Complete the code:\n",
    "# Create the cmap. \n",
    "cmap_exercise = LinearSegmentedColormap.from_list(name = 'new_cmap', colors = ['tab:grey', 'gold'])\n",
    "\n",
    "# Usual plot\n",
    "fig, ax = plt.subplots(figsize=(10,8))\n",
    "ax.set_title('Use of Taylor and Morgan Over Time')\n",
    "ax.set_xlabel('Year')\n",
    "ax.set_ylabel('Number of Babies with a Given Name')\n",
    "ax.plot(morgan['Year'], morgan['Total'], color=(1,0,0,0.5), lw=1, ls='dashed')\n",
    "ax.plot(taylor['Year'], taylor['Total'], color=(0,0,1,0.5), lw=1, ls='dashed')\n",
    "\n",
    "# MODIFY the code:\n",
    "# Change the cmap to your new cmap\n",
    "ax.scatter(taylor['Year'], taylor['Total'], c = taylor['Proportion'], \n",
    "           label = 'Taylor', cmap=cmap_exercise, marker='v')\n",
    "ax.scatter(morgan['Year'], morgan['Total'], c = morgan['Proportion'], \n",
    "           label = 'Morgan', cmap=cmap_exercise, marker='^')\n",
    "\n",
    "ax.legend(loc='upper left')\n",
    "ax.grid(color=(0.5,0.5,0.5,0.2), axis='y', lw=0.25)\n",
    "\n",
    "# Now the colorbar\n",
    "divider = make_axes_locatable(ax)\n",
    "cax = divider.append_axes('right', size='5%', pad=0.05)\n",
    "norm=cm.colors.Normalize(vmin=0, vmax=1)\n",
    "\n",
    "# COMPLETE the code:\n",
    "# Use the new cmap in your ScalarMappable\n",
    "scalar_mappable = cm.ScalarMappable(norm, cmap=cmap_exercise)\n",
    "fig.colorbar(scalar_mappable, cax=cax, label='Proportion of Girls')"
   ]
  }
 ],
 "metadata": {
  "kernelspec": {
   "display_name": "Python 3",
   "language": "python",
   "name": "python3"
  },
  "language_info": {
   "codemirror_mode": {
    "name": "ipython",
    "version": 3
   },
   "file_extension": ".py",
   "mimetype": "text/x-python",
   "name": "python",
   "nbconvert_exporter": "python",
   "pygments_lexer": "ipython3",
   "version": "3.9.6"
  }
 },
 "nbformat": 4,
 "nbformat_minor": 5
}
