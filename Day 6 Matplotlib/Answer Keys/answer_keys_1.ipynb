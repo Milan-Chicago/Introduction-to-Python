{
 "cells": [
  {
   "cell_type": "markdown",
   "id": "7c2f1fb0",
   "metadata": {},
   "source": [
    "### Answer Keys 1\n",
    "\n",
    "These are possible solutions to the exercises in the first notebook of the workshop. Alternative solutions are possible. \n",
    "\n",
    "You can copy paste the answers in the exercises' cells to see the final result. The code will not run correctly in this notebook."
   ]
  },
  {
   "cell_type": "markdown",
   "id": "c585ee51",
   "metadata": {},
   "source": [
    "##### Exercise 1\n",
    "\n",
    "Create a grid of 2 rows and 3 columns, with a figure size of 10 (height) and 15 (width). Plot `x_dt` and `y_dt` in the second row, second column."
   ]
  },
  {
   "cell_type": "code",
   "execution_count": null,
   "id": "5fe75c09",
   "metadata": {},
   "outputs": [],
   "source": [
    "# The fundamental line (with arguments)\n",
    "fig, ax =plt.subplots(nrows=2, ncols=3, figsize=(10, 15))\n",
    "# Plot in the second row, second column\n",
    "ax[1,1].plot(x_dt, y_dt)"
   ]
  },
  {
   "cell_type": "markdown",
   "id": "544910d9",
   "metadata": {},
   "source": [
    "**Extra** Can you make the `Axes` where you plotted the data 2 times taller and 3 times wider than the `Axes` belonging to the other columns/rows?"
   ]
  },
  {
   "cell_type": "code",
   "execution_count": 1,
   "id": "97e45996",
   "metadata": {},
   "outputs": [
    {
     "ename": "NameError",
     "evalue": "name 'plt' is not defined",
     "output_type": "error",
     "traceback": [
      "\u001b[0;31m---------------------------------------------------------------------------\u001b[0m",
      "\u001b[0;31mNameError\u001b[0m                                 Traceback (most recent call last)",
      "\u001b[0;32m<ipython-input-1-ef7c7b584e1d>\u001b[0m in \u001b[0;36m<module>\u001b[0;34m\u001b[0m\n\u001b[1;32m      1\u001b[0m \u001b[0;31m# The fundamental line (with new arguments)\u001b[0m\u001b[0;34m\u001b[0m\u001b[0;34m\u001b[0m\u001b[0;34m\u001b[0m\u001b[0m\n\u001b[0;32m----> 2\u001b[0;31m fig, ax =plt.subplots(nrows=2, ncols=3, figsize=(10, 15),\n\u001b[0m\u001b[1;32m      3\u001b[0m                       \u001b[0;31m# This line change the width ratio of the columns and the height ratio of the rows\u001b[0m\u001b[0;34m\u001b[0m\u001b[0;34m\u001b[0m\u001b[0;34m\u001b[0m\u001b[0m\n\u001b[1;32m      4\u001b[0m                       gridspec_kw={'width_ratios': [1, 3, 1], 'height_ratios': [1,2]})\n\u001b[1;32m      5\u001b[0m \u001b[0;31m# Same plot as above\u001b[0m\u001b[0;34m\u001b[0m\u001b[0;34m\u001b[0m\u001b[0;34m\u001b[0m\u001b[0m\n",
      "\u001b[0;31mNameError\u001b[0m: name 'plt' is not defined"
     ]
    }
   ],
   "source": [
    "# The fundamental line (with new arguments)\n",
    "fig, ax =plt.subplots(nrows=2, ncols=3, figsize=(10, 15),\n",
    "                      # This line change the width ratio of the columns and the height ratio of the rows\n",
    "                      gridspec_kw={'width_ratios': [1, 3, 1], 'height_ratios': [1,2]})\n",
    "# Same plot as above\n",
    "ax[1,1].plot(x_dt, y_dt) "
   ]
  },
  {
   "cell_type": "markdown",
   "id": "90033e7a",
   "metadata": {},
   "source": [
    "##### Exercise 2\n",
    "\n",
    "Create a `Figure` containing one `Axes` with the _fundamental line_. Plot `x_dt` and `y_dt` in the `Axes`. Change the `xlim` so that it spans from 2 to 3.5. Change the title of the `Axes` to \"Zoom in\"."
   ]
  },
  {
   "cell_type": "code",
   "execution_count": null,
   "id": "1c46ef70",
   "metadata": {},
   "outputs": [],
   "source": [
    "# The fundamental line\n",
    "fig, ax = plt.subplots()\n",
    "# Plot\n",
    "ax.plot(x_dt, y_dt)\n",
    "# Change title\n",
    "ax.set_title('Zoom in')\n",
    "# Change x range\n",
    "ax.set_xlim([2, 3.5])"
   ]
  },
  {
   "cell_type": "markdown",
   "id": "61081af7",
   "metadata": {},
   "source": [
    "**Extra** Create a regular grid of `Axes`, with two rows and one column. In the top `Axes` replicate the same `Zoom in` plot you have just created. In the bottom `Axes` plot the same data (`x_dt` and `y_dt`). Change the bottom title to `Zoom out` and its `x_lim` to `[-1, 5]`. \n",
    "If the two `Axes` appear too close, play around with the `hspace` parameter when you use the _fundamental line_. You can specify the `hspace` parameter through the `gridspec_kw` dictionary, as we did above."
   ]
  },
  {
   "cell_type": "code",
   "execution_count": null,
   "id": "011ec3ff",
   "metadata": {},
   "outputs": [],
   "source": [
    "# The fundamental line with arguments\n",
    "fig, ax = plt.subplots(2,1, gridspec_kw={'hspace':1.2})\n",
    "# plot in the top Axes\n",
    "ax[0].plot(x_dt, y_dt)\n",
    "# Change top title\n",
    "ax[0].set_title('Zoom in')\n",
    "# change top x range\n",
    "ax[0].set_xlim([2, 3.5])\n",
    "# Plot in the bottom Axes\n",
    "ax[1].plot(x_dt, y_dt)\n",
    "# change bottom title\n",
    "ax[1].set_title('Zoom out')\n",
    "# change bottom x range\n",
    "ax[1].set_xlim([-1, 5])"
   ]
  }
 ],
 "metadata": {
  "kernelspec": {
   "display_name": "Python 3",
   "language": "python",
   "name": "python3"
  },
  "language_info": {
   "codemirror_mode": {
    "name": "ipython",
    "version": 3
   },
   "file_extension": ".py",
   "mimetype": "text/x-python",
   "name": "python",
   "nbconvert_exporter": "python",
   "pygments_lexer": "ipython3",
   "version": "3.9.6"
  }
 },
 "nbformat": 4,
 "nbformat_minor": 5
}
