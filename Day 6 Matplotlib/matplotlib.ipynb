{
 "cells": [
  {
   "cell_type": "markdown",
   "id": "e0b465a0-2f7f-4f23-881d-21ba967ea15c",
   "metadata": {},
   "source": [
    "*This workshop was inspired by a workshop created by Antonio Nanni (non87 on GitHub) for NUIT Research Computing Services in 2020. Thanks, Antonio!*"
   ]
  },
  {
   "cell_type": "markdown",
   "id": "f1b26ac4-7e49-45be-a254-55fbbae9fc60",
   "metadata": {},
   "source": [
    "# Intro to Matplotlib"
   ]
  },
  {
   "cell_type": "markdown",
   "id": "991be22c-3bef-488d-b2b5-39d6cb21b090",
   "metadata": {},
   "source": [
    "Matplotlib is the Python package for creating custom data visualizations. It can make very complicated, beautiful visualizations, including interactive and animated visualizations. Check out https://matplotlib.org/stable/gallery/index.html for hundreds of examples.\n",
    "<br><br>The potential complexity of graphs you can make means that Matplotlib is a very large package! Today we only have a short time, so we're going to cover the fundamental concepts that will hopefully make this complicated package easier for you to work with."
   ]
  },
  {
   "cell_type": "markdown",
   "id": "f25c326d-2492-466a-b24f-9b12c0d56cea",
   "metadata": {},
   "source": [
    "## <br><br>The Backend"
   ]
  },
  {
   "cell_type": "markdown",
   "id": "a7323f98-6154-4482-ac35-1dd57347434d",
   "metadata": {},
   "source": [
    "The **frontend** is the code that you write to create a plot. The **backend** is the code behind the scenes that is translating your code into a visualization. Matplotlib has multiple backends that you can use - some are better at creating **hard** image files (for example, png, jpg, pdf files) and some are better at creating **interactive** visualizations. Some backends are also better for working in Jupyter notebooks or better in scripts.\n",
    "<br><br>Matplotlib will usually choose an appropriate backend for you. Let's import Matplotlib and see which backend it chose for us."
   ]
  },
  {
   "cell_type": "code",
   "execution_count": null,
   "id": "71d9f874-6d16-4f48-a899-7340411cd931",
   "metadata": {},
   "outputs": [],
   "source": [
    "import matplotlib\n",
    "matplotlib.get_backend()"
   ]
  },
  {
   "cell_type": "markdown",
   "id": "191240df-e3e1-4554-8d0f-314788b06c98",
   "metadata": {},
   "source": [
    "<br>Matplotlib chose the **inline** backend for me. This is the best backend for visualizing plots in Jupyter notebooks (and Jupyter notebooks are pretty much the best for customizing your plots!). Sometimes your setup might not choose the right backend for your Jupyter notebook and you might notice your plots aren't showing up the way they should. Because of this, you'll often see people including the following code in their Jupyter notebooks:"
   ]
  },
  {
   "cell_type": "code",
   "execution_count": null,
   "id": "90da33fb-1cca-4455-af45-5d3e0f2f9156",
   "metadata": {},
   "outputs": [],
   "source": [
    "%matplotlib inline"
   ]
  },
  {
   "cell_type": "markdown",
   "id": "c2382fb7-694d-4593-a757-b1b4e5655166",
   "metadata": {},
   "source": [
    "When you see code in a Jupyter notebook that starts with `%`, it is called a **magic function**. It is kind of like a shortcut that lets you do a few special things outside of Python inside the notebook. We're not going to get into magic functions beyond this one. \n",
    "<br><br>Jupyter notebooks used to be worse at picking the right backend for Matplotlib, so always using `%matplotlib inline` used to be more necessary. If your notebook didn't automatically select `inline` as your backend when you imported Matplotlib, you should generally use the magic function in your notebooks. If it did automatically choose `inline`, you're probably safe, but if you ever notice things don't seem to be working the way you expect, it might be worth it to run `matplotlib.get_backend()` to double check which backend you're using, and then run `%matplotlib inline` if needed. You only need to run it once, usually near the top of your notebook."
   ]
  },
  {
   "cell_type": "markdown",
   "id": "daff7b75-1265-4ec2-9d67-a183d493fe9b",
   "metadata": {},
   "source": [
    "<br>This code will list all the backends available in your notebook:"
   ]
  },
  {
   "cell_type": "code",
   "execution_count": null,
   "id": "71d8af64-039f-4180-a007-6324ce207ae4",
   "metadata": {},
   "outputs": [],
   "source": [
    "%matplotlib --list"
   ]
  },
  {
   "cell_type": "markdown",
   "id": "25a337a2-0a5f-47ae-8f74-34049de317f9",
   "metadata": {},
   "source": [
    "<br>We're not going to cover any other backends today."
   ]
  },
  {
   "cell_type": "markdown",
   "id": "d7226158-7b4c-4904-a6f0-1b4d26f8c5ee",
   "metadata": {},
   "source": [
    "## <br><br>Figures and Axes"
   ]
  },
  {
   "cell_type": "markdown",
   "id": "c1c7dfc6-f5e5-44cf-9ea9-b9afe88ea6e8",
   "metadata": {},
   "source": [
    "When creating visualizations in a Jupyter notebook, the rule is:"
   ]
  },
  {
   "cell_type": "markdown",
   "id": "16f5bade-9d43-4261-9a27-cf262a53c885",
   "metadata": {},
   "source": [
    "#### One code cell per plot."
   ]
  },
  {
   "cell_type": "markdown",
   "id": "eaf0699f-d86a-4ce3-9c76-1cb0be6d7c93",
   "metadata": {},
   "source": [
    "You can't stretch the code for a plot across multiple cells. If you're customizing a lot of details, you may have many many lines of code in that cell."
   ]
  },
  {
   "cell_type": "markdown",
   "id": "1f3cab0c-31da-4723-b5fb-87e2bb8f9f85",
   "metadata": {},
   "source": [
    "#### <br>The first line of any plot\n",
    "There is one line of code that you will always start out with when creating any plot. Antonio calls this \"The Fundamental Line\":"
   ]
  },
  {
   "cell_type": "code",
   "execution_count": null,
   "id": "57e65f74-1d05-43f7-bdab-604f171b2cbb",
   "metadata": {},
   "outputs": [],
   "source": [
    "fig, ax = matplotlib.pyplot.subplots()"
   ]
  },
  {
   "cell_type": "markdown",
   "id": "aa59ea7c-e838-419f-acfb-2cc55b289914",
   "metadata": {},
   "source": [
    "<br>That's actually the long version of the line. Remember that Matplotlib is a very large package, and that sometimes in Python there are standard nicknames that are used to import packages (pandas is commonly imported as pd, for example). You usually won't actually see people running `import matplotlib` in their notebooks. Instead, we import the `pyplot` library from the `matplotlib` package as `plt`. This is just common. Let's do it here:"
   ]
  },
  {
   "cell_type": "code",
   "execution_count": null,
   "id": "40c06c8e-190d-49c5-a2f9-f910e910312a",
   "metadata": {},
   "outputs": [],
   "source": [
    "import matplotlib.pyplot as plt"
   ]
  },
  {
   "cell_type": "markdown",
   "id": "aaea4e8e-aea6-42db-a5f3-18df129064de",
   "metadata": {},
   "source": [
    "<br><br>Now our first line of code (\"The Fundamental Line\") for every plot is:"
   ]
  },
  {
   "cell_type": "code",
   "execution_count": null,
   "id": "41237948-2cc8-4a2c-9645-f5be9f6b46f8",
   "metadata": {},
   "outputs": [],
   "source": [
    "fig, ax = plt.subplots()"
   ]
  },
  {
   "cell_type": "markdown",
   "id": "a1b70167-73ec-4f4a-b756-2476861ee4f2",
   "metadata": {},
   "source": [
    "<br><br>All matplotlib plots have one **figure** and one or more **axes**.\n",
    "<br><br>An **axes** in matplotlib is **NOT** the same thing as an **axis** on a plot (like the x-axis or y-axis).\n",
    "<br><br>The **figure** is the whole visualization, and the **axes** is the individual plot inside the figure. I like to think about it like this: the *figure* is a wall where you're going to hang your pictures; the *axes* are the pictures you hang on the wall.\n",
    "<br><br>You can have multiple axes in one figure. Here is an example of that:"
   ]
  },
  {
   "cell_type": "code",
   "execution_count": null,
   "id": "3ef34522-f935-46dc-af17-2c5da8895b55",
   "metadata": {},
   "outputs": [],
   "source": [
    "fig, ax = plt.subplots(nrows=1, ncols=2)"
   ]
  },
  {
   "cell_type": "markdown",
   "id": "68bad554-a16b-4142-913d-8a6e05ccbd2f",
   "metadata": {},
   "source": [
    "<br><br>We can set some attributes of the **figure** inside the `plt.subplots()` function in this first line:"
   ]
  },
  {
   "cell_type": "code",
   "execution_count": null,
   "id": "2162f663-3350-4105-9a54-377fe06a7a65",
   "metadata": {},
   "outputs": [],
   "source": [
    "fig, ax = plt.subplots(nrows=3, figsize=(6,6), facecolor=\"blue\")"
   ]
  },
  {
   "cell_type": "markdown",
   "id": "6d1c0905-f74a-441a-b039-e9e55cb15341",
   "metadata": {},
   "source": [
    "### <br><br>**Exercise 1.**"
   ]
  },
  {
   "cell_type": "markdown",
   "id": "20c1b757-4669-40a6-90d8-d3249dd99dd1",
   "metadata": {},
   "source": [
    "In the next code cell, import pyplot as plt and use the magic function to set the Matplotlib backend as `inline`."
   ]
  },
  {
   "cell_type": "code",
   "execution_count": null,
   "id": "16671ed0-bbe5-4cdd-96ac-528805435723",
   "metadata": {},
   "outputs": [],
   "source": []
  },
  {
   "cell_type": "markdown",
   "id": "3c4a4c54-783e-4255-827a-9864616a02b1",
   "metadata": {},
   "source": [
    "In the next code cell, create a figure with four axes, two on the top row and two on the bottom. Make the figure size 4 inches wide by 4 inches high. It's ok if it looks crowded."
   ]
  },
  {
   "cell_type": "code",
   "execution_count": null,
   "id": "ea38d1d4-73d2-4f5b-b3e1-a7bac2b62c25",
   "metadata": {},
   "outputs": [],
   "source": []
  },
  {
   "cell_type": "markdown",
   "id": "2e0fd197-c6f0-4412-a685-d537e6cb863d",
   "metadata": {},
   "source": [
    "<br><br>*A note about variable names:* We are defining the figure and axes as `fig` and `ax`. We could make up any variable names we want here, but `fig` and `ax` are most commonly used and you will see those used throughout the documentation for matplotlib as well as across the internet when you're searching for help online."
   ]
  },
  {
   "cell_type": "markdown",
   "id": "275cffda-5ed0-4b50-8226-dd95583871cd",
   "metadata": {},
   "source": [
    "## <br><br>Customizing the look"
   ]
  },
  {
   "cell_type": "markdown",
   "id": "c0cca093-a1cd-41d9-8ae0-2f6dd016fa59",
   "metadata": {},
   "source": [
    "Visualizations (which we often call plots or figures) have a lot of attributes in common, but all those attributes can be customized. Let's take a look at this example from Matplotlib:"
   ]
  },
  {
   "cell_type": "markdown",
   "id": "ea9a6d15-4cdd-491b-8ff2-0d4e736129a8",
   "metadata": {},
   "source": [
    "![anatomy.png](https://matplotlib.org/_images/anatomy.png)"
   ]
  },
  {
   "cell_type": "markdown",
   "id": "fad22d46-90fc-43df-8c87-788da49102e0",
   "metadata": {},
   "source": [
    "<br>In a few minutes, we'll get to actually plotting data. But first we'll talk about customizing the axes of our plots. We can see in the image above that many of the objects in our plot are attributes of our **axes**. Specifically, this is the `ax` object we create in our first line of code. \n",
    "<br><br>We can see `ax.legend`, `ax.grid`, and `ax.xaxis`. Some of these are actually method functions and need to be called with parentheses. Some are attributes that have their own attributes or methods, like `ax.xaxis.set_minor_formatter`. Sometimes it is hard to know (and remember) if we can change an attribute of `ax` by directly calling the attribute, by using it as a method function, or if we need to go to another level."
   ]
  },
  {
   "cell_type": "markdown",
   "id": "2a65836b-4282-42c9-aed5-15d9a9dbccbb",
   "metadata": {},
   "source": [
    "<br>Let's remind ourselves of what the basic axes looks like, and then start experimenting."
   ]
  },
  {
   "cell_type": "code",
   "execution_count": null,
   "id": "a0b037f6-bc60-4876-bc2b-9da46c54a758",
   "metadata": {},
   "outputs": [],
   "source": [
    "fig, ax = plt.subplots()"
   ]
  },
  {
   "cell_type": "code",
   "execution_count": null,
   "id": "a16ad914-2123-4363-87a6-025c3d723765",
   "metadata": {},
   "outputs": [],
   "source": [
    "fig, ax = plt.subplots()\n",
    "ax.grid()"
   ]
  },
  {
   "cell_type": "code",
   "execution_count": null,
   "id": "bdb03173-09ed-4a7f-8bd3-a502c9f33134",
   "metadata": {},
   "outputs": [],
   "source": [
    "fig, ax = plt.subplots()\n",
    "ax.grid(color='red', linestyle='-.', linewidth=0.6)"
   ]
  },
  {
   "cell_type": "markdown",
   "id": "049df3c9-7e5d-479b-ab37-526508f88a3b",
   "metadata": {},
   "source": [
    "<br><br>Let's try and change the look of the x-axis the same way:"
   ]
  },
  {
   "cell_type": "code",
   "execution_count": null,
   "id": "3a138098-39f3-4ee8-8b2a-d7e5f0fdec1d",
   "metadata": {},
   "outputs": [],
   "source": [
    "fig, ax = plt.subplots()\n",
    "ax.xaxis(color='red', linestyle='-.', linewidth=0.6)"
   ]
  },
  {
   "cell_type": "markdown",
   "id": "13058fcf-b30d-474f-9157-d35c4a442a4d",
   "metadata": {},
   "source": [
    "<br><br>Hmm. Let's use a \"set\" method to change only the color."
   ]
  },
  {
   "cell_type": "code",
   "execution_count": null,
   "id": "085c60e1-2204-4706-9eeb-1f733d1d5ec6",
   "metadata": {},
   "outputs": [],
   "source": [
    "fig, ax = plt.subplots()\n",
    "ax.xaxis.set_color(\"red\")"
   ]
  },
  {
   "cell_type": "markdown",
   "id": "b166cf0f-e603-497d-9e65-6ba6aeeb73a3",
   "metadata": {},
   "source": [
    "<br> Hmm. That didn't work either."
   ]
  },
  {
   "cell_type": "markdown",
   "id": "8cfeaaf4-af10-435f-ac85-1f7746fb12a3",
   "metadata": {},
   "source": [
    "### <br><br>**Exercise 2.**"
   ]
  },
  {
   "cell_type": "markdown",
   "id": "63ff16b1-52bb-436a-b460-d226ff38e625",
   "metadata": {},
   "source": [
    "Can you figure out how to change the color of the x-axis? Try looking up the answer online. Another clue might be found by looking back at the picture above, \"Anatomy of a Figure\". \n",
    "<br><br>Don't forget that you can only have one code cell per figure, so you'll need to include \"The Fundamental Line\"."
   ]
  },
  {
   "cell_type": "code",
   "execution_count": null,
   "id": "b6f49a53-0482-4425-b6ac-9b70c34cd65d",
   "metadata": {},
   "outputs": [],
   "source": []
  },
  {
   "cell_type": "markdown",
   "id": "7a0d4ce8-1ab2-4a31-9985-89841df2c0c4",
   "metadata": {},
   "source": [
    "<br>If you figure out how to change the color, how about making the following changes: `color='red', linestyle='-.', linewidth=0.6`?"
   ]
  },
  {
   "cell_type": "code",
   "execution_count": null,
   "id": "46ca9ff0-59f0-4316-b662-df2b5796d1f8",
   "metadata": {},
   "outputs": [],
   "source": []
  },
  {
   "cell_type": "markdown",
   "id": "a8798352-a521-4a87-9fee-614e7a9a11aa",
   "metadata": {},
   "source": [
    "### <br><br><br>Colors in Matplotlib"
   ]
  },
  {
   "cell_type": "markdown",
   "id": "7de465b1-31e1-4e58-b276-63711a120487",
   "metadata": {},
   "source": [
    "There are many different ways to specify colors in matplotlib:\n",
    "<br>https://matplotlib.org/stable/gallery/color/color_demo.html"
   ]
  },
  {
   "cell_type": "markdown",
   "id": "8dfc4baf-30e2-407a-8743-995ea8ae6acd",
   "metadata": {},
   "source": [
    "<br>You can use the following colors without needing to use any sort of prefix. You just put them in quotes, like we've been doing so far."
   ]
  },
  {
   "cell_type": "markdown",
   "id": "4b5323d8-e24a-40b1-8d0a-55fcf52dbf53",
   "metadata": {},
   "source": [
    "![sphx_glr_named_colors_003_2_0x.png](https://matplotlib.org/stable/_images/sphx_glr_named_colors_003_2_0x.png)"
   ]
  },
  {
   "cell_type": "markdown",
   "id": "d99d5b7d-158a-4a5a-9076-6a6773d47312",
   "metadata": {},
   "source": [
    "### <br><br><br>Multiple ways to get the same look"
   ]
  },
  {
   "cell_type": "markdown",
   "id": "10a0cdbd-a35d-4be8-9c39-a2e4a874bfa9",
   "metadata": {},
   "source": [
    "So ax.xaxis and ax.yaxis aren't for changing their appearances. They are used for changing the tick labels (as shown in the \"Anatomy of a Figure\" image). In matplotlib, it often takes some googling to remind yourself of the proper code for exactly what you want to customize, and there are often multiple ways to do it. To change the axis labels, for example, you could use two set methods on the axes:"
   ]
  },
  {
   "cell_type": "code",
   "execution_count": null,
   "id": "24112d80-9a20-4790-8aba-9b2c85817dc6",
   "metadata": {},
   "outputs": [],
   "source": [
    "fig, ax = plt.subplots()\n",
    "ax.set_xlabel(\"Years since learning Python\")\n",
    "ax.set_ylabel(\"Days since last Python error\")"
   ]
  },
  {
   "cell_type": "markdown",
   "id": "f49089e0-31a3-4f60-b4ec-147757dfbcbc",
   "metadata": {},
   "source": [
    "<br><br>OR you can set multiple attributes of the axes at the same time inside the `set()` method:"
   ]
  },
  {
   "cell_type": "code",
   "execution_count": null,
   "id": "e10cb204-f809-43dd-95c0-fe29eb662927",
   "metadata": {},
   "outputs": [],
   "source": [
    "fig, ax = plt.subplots()\n",
    "ax.set(xlabel=\"Years since learning Python\", \n",
    "       ylabel=\"Days since last Python error\", \n",
    "       xlim=(0,10),\n",
    "       ylim=(-1,10))"
   ]
  },
  {
   "cell_type": "markdown",
   "id": "32a50c90-fac9-497c-baf2-24c6c833921f",
   "metadata": {},
   "source": [
    "### <br><br>**Exercise 3.**"
   ]
  },
  {
   "cell_type": "markdown",
   "id": "9aa8afc9-85c2-4d69-bd7e-a5ef954309e1",
   "metadata": {},
   "source": [
    "Change the code below to add a `title` to the axes (you choose the title) and change the `facecolor` of the axes to any color you'd like."
   ]
  },
  {
   "cell_type": "code",
   "execution_count": null,
   "id": "1601e32b-787b-4f81-af67-7cc5cc325aab",
   "metadata": {},
   "outputs": [],
   "source": [
    "fig, ax = plt.subplots()\n",
    "ax.set(xlabel=\"Years since learning Python\", \n",
    "       ylabel=\"Days since last Python error\", \n",
    "       xlim=(0,10),\n",
    "       ylim=(-1,10))"
   ]
  },
  {
   "cell_type": "markdown",
   "id": "26f95709-a7ce-43e2-85a8-f9784490b759",
   "metadata": {},
   "source": [
    "#### <br><br>Setting attributes with a dictionary"
   ]
  },
  {
   "cell_type": "markdown",
   "id": "4a715242-2c28-42ad-a29e-3b8403365b3e",
   "metadata": {},
   "source": [
    "Here's why it's useful to have two ways to customize the look of your plots. You can save a dictionary of your perfect look and reuse it for multiple plots inside the `set()` method function. For example, if you're creating visualizations for a paper to be published in a particular journal, you can save one set of attributes and reuse it on all your plots so that they have a cohesive look. Then, if you need to change one attribute of only one plot, you can change it using the specific `set_` method."
   ]
  },
  {
   "cell_type": "markdown",
   "id": "d07ac8a1-e17d-485b-bfa5-a6a781c1f887",
   "metadata": {},
   "source": [
    "<br>In the dictionary, the keywords from the matplotlib arguments are the keys, and must be stored as strings."
   ]
  },
  {
   "cell_type": "code",
   "execution_count": null,
   "id": "1c006265-c501-4477-a2ad-9457d38d5779",
   "metadata": {},
   "outputs": [],
   "source": [
    "cool_ax = {\"facecolor\": \"lightseagreen\", \n",
    "           \"xticks\": (0, 1, 2, 3),\n",
    "           \"xticklabels\": (\"0\", \"Year 1\", \"Year 2\", \"Year 3\")}\n",
    "cool_fig = {\"figsize\": (3,1), \"facecolor\": \"darkorange\"}"
   ]
  },
  {
   "cell_type": "markdown",
   "id": "9fdaadad-cdb5-46f8-9b3b-88ddeaba0398",
   "metadata": {},
   "source": [
    "<br> When you pass the dictionaries as arguments, you need to **unpack** them by putting `**` in front of the dictionary name:"
   ]
  },
  {
   "cell_type": "code",
   "execution_count": null,
   "id": "304d8699-6db0-46ba-a345-fccd3aaadcf2",
   "metadata": {},
   "outputs": [],
   "source": [
    "fig, ax = plt.subplots(**cool_fig)\n",
    "ax.set(**cool_ax)"
   ]
  },
  {
   "cell_type": "markdown",
   "id": "c8d34918-87fa-4351-9473-08b268b0bf9e",
   "metadata": {},
   "source": [
    "<br>Now we can use the dictionary, but still change some attributes afterwards:"
   ]
  },
  {
   "cell_type": "code",
   "execution_count": null,
   "id": "8d3f3bed-7617-4755-a4df-61d652c569d2",
   "metadata": {},
   "outputs": [],
   "source": [
    "fig, ax = plt.subplots(**cool_fig)\n",
    "ax.set(**cool_ax)\n",
    "ax.set_xticklabels((\"0\", \"Year 2\", \"Year 4\", \"Year 6\"))"
   ]
  },
  {
   "cell_type": "markdown",
   "id": "fa9545a1-a074-4946-9c90-fcc4de50f84c",
   "metadata": {},
   "source": [
    "### <br><br><br>plt.show()"
   ]
  },
  {
   "cell_type": "markdown",
   "id": "69c6b7e2-c5df-4604-9cff-d417bdd125ec",
   "metadata": {},
   "source": [
    "You'll notice that Jupyter might be printing out some extra info with every figure:"
   ]
  },
  {
   "cell_type": "code",
   "execution_count": null,
   "id": "3ecfdf8d-06b6-48b4-8aef-5b99d4d9ed8b",
   "metadata": {},
   "outputs": [],
   "source": [
    "fig, ax = plt.subplots()\n",
    "ax.set(xlabel=\"Years since learning Python\", \n",
    "       ylabel=\"Days since last Python error\", \n",
    "       xlim=(0,10),\n",
    "       ylim=(-1,10))"
   ]
  },
  {
   "cell_type": "markdown",
   "id": "672a7d5c-ac4a-43b1-bc35-677a05da214d",
   "metadata": {},
   "source": [
    "<br>You can get rid of that extra stuff by explicitly **showing** the plot after you create it. You just add a line at the bottom of the cell: `plt.show()`."
   ]
  },
  {
   "cell_type": "code",
   "execution_count": null,
   "id": "ef6e587e-8e33-43f2-b13e-7de218722245",
   "metadata": {},
   "outputs": [],
   "source": [
    "fig, ax = plt.subplots()\n",
    "ax.set(xlabel=\"Years since learning Python\", \n",
    "       ylabel=\"Days since last Python error\", \n",
    "       xlim=(0,10),\n",
    "       ylim=(-1,10))\n",
    "plt.show()"
   ]
  },
  {
   "cell_type": "markdown",
   "id": "e0e7c2b5-c85b-4758-8828-a53178aa3a72",
   "metadata": {},
   "source": [
    "### <br><br><br>Selecting an individual axes (ax?)"
   ]
  },
  {
   "cell_type": "markdown",
   "id": "938cb9ce-443d-4740-a4c3-db3b95830e58",
   "metadata": {},
   "source": [
    "Sometimes you'll want different features for different **axes** in the same **figure**. For example, they might need different ranges for the x-axis and/or y-axis. As a reminder, here's how we create a figure with multiple axes:"
   ]
  },
  {
   "cell_type": "code",
   "execution_count": null,
   "id": "24e5defd-6b5f-4f4f-a9a6-8e520e479ec6",
   "metadata": {},
   "outputs": [],
   "source": [
    "fig, ax = plt.subplots(ncols=2, nrows=2)\n",
    "plt.show()"
   ]
  },
  {
   "cell_type": "markdown",
   "id": "56e633c1-9c08-47d9-92ff-079acb03b108",
   "metadata": {},
   "source": [
    "<br>We can index the `ax` object (like we would any Python object) to select an individual axes. First you index the row, then the column, separated by a comma:"
   ]
  },
  {
   "cell_type": "code",
   "execution_count": null,
   "id": "b3be11b7-d3d2-42a9-8522-514cfcad1bac",
   "metadata": {},
   "outputs": [],
   "source": [
    "fig, ax = plt.subplots(ncols=2, nrows=2)\n",
    "ax[0,0].set(facecolor=\"cyan\", xlim=(0,1))\n",
    "ax[0,1].set(facecolor=\"magenta\", xlim=(0,100))\n",
    "ax[1,0].set(facecolor=\"lime\", xlim=(0,1000))\n",
    "ax[1,1].set(facecolor=\"yellow\", xlim=(0,0.1))\n",
    "plt.show()"
   ]
  },
  {
   "cell_type": "markdown",
   "id": "253d171f-13bb-471e-a886-71c21d236c26",
   "metadata": {},
   "source": [
    "<br>When indexing an array of axes that only has one column or one row, you only need to index one number:"
   ]
  },
  {
   "cell_type": "code",
   "execution_count": null,
   "id": "e3d24dba-e7e6-4471-b64d-b2b00de4ce80",
   "metadata": {},
   "outputs": [],
   "source": [
    "fig, ax = plt.subplots(ncols=1, nrows=4)\n",
    "ax[0].set(facecolor=\"cyan\", xlim=(0,1))\n",
    "ax[1].set(facecolor=\"magenta\", xlim=(0,100))\n",
    "ax[2].set(facecolor=\"lime\", xlim=(0,1000))\n",
    "ax[3].set(facecolor=\"yellow\", xlim=(0,0.1))\n",
    "plt.show()"
   ]
  },
  {
   "cell_type": "markdown",
   "id": "fd05b8e3-865d-49fd-aa4f-ff3a34d3d8cf",
   "metadata": {},
   "source": [
    "### <br><br>**Exercise 4.**"
   ]
  },
  {
   "cell_type": "markdown",
   "id": "11b3b7d4-fb52-438b-97ce-f8b5a27832c1",
   "metadata": {},
   "source": [
    "Change the code below so that each axes has a title. You can call them \"Plot 1\", \"Plot 2\", and \"Plot 3\":"
   ]
  },
  {
   "cell_type": "code",
   "execution_count": null,
   "id": "b2ab48a1-533f-480d-a1d3-dfda633c0cbf",
   "metadata": {},
   "outputs": [],
   "source": [
    "fig,ax = plt.subplots(ncols=3, figsize=(10,3))\n",
    "plt.show()"
   ]
  },
  {
   "cell_type": "markdown",
   "id": "8d116bc6-732c-43bf-b012-c3d1c03dc397",
   "metadata": {},
   "source": [
    "## <br><br>Plotting data"
   ]
  },
  {
   "cell_type": "markdown",
   "id": "9ef04a89-2365-4b84-a3fd-7fe83a120679",
   "metadata": {},
   "source": [
    "### <br>Today's sample data"
   ]
  },
  {
   "cell_type": "markdown",
   "id": "dfe996bb-ac35-4fba-9ab4-a9337534dda6",
   "metadata": {},
   "source": [
    "We will use Pandas to load and filter our data:"
   ]
  },
  {
   "cell_type": "code",
   "execution_count": null,
   "id": "280a578c-e059-4e97-a8d5-0e51cec4f0d9",
   "metadata": {},
   "outputs": [],
   "source": [
    "import pandas as pd"
   ]
  },
  {
   "cell_type": "markdown",
   "id": "55735b37-6ee1-4a46-88c5-46d6ca8e9157",
   "metadata": {},
   "source": [
    "<br>**US Baby Names:** This data contains information about first names used in the US from 1965 to 2014. It contains the frequency and associated sex for all names given to newborns in the US in any given year -- conditional on the name being used at least 5 times in that year. It was downloaded from Kaggle by Antonio."
   ]
  },
  {
   "cell_type": "code",
   "execution_count": null,
   "id": "38e065bf-9d2f-4d40-afd0-41758872e37d",
   "metadata": {},
   "outputs": [],
   "source": [
    "name_data_url = r'https://raw.githubusercontent.com/non87/Matplotlib-Workshop/master/data/national_reduced.csv'\n",
    "names = pd.read_csv(name_data_url)"
   ]
  },
  {
   "cell_type": "code",
   "execution_count": null,
   "id": "0e8419bc-b86f-42d9-a777-29974dfe58fa",
   "metadata": {},
   "outputs": [],
   "source": [
    "names.head()"
   ]
  },
  {
   "cell_type": "code",
   "execution_count": null,
   "id": "6ba7641d-812d-493f-bb6a-e70893e73b44",
   "metadata": {},
   "outputs": [],
   "source": [
    "names.shape"
   ]
  },
  {
   "cell_type": "markdown",
   "id": "1dfefc1e-be3f-492a-a6e4-803fd88ad670",
   "metadata": {},
   "source": [
    "### <br>Selecting data with pandas"
   ]
  },
  {
   "cell_type": "markdown",
   "id": "c696146f-43e1-4592-b710-c8f9a3a45d59",
   "metadata": {},
   "source": [
    "For each plot, we'll need to create an appropriate pandas dataframe or series object that contains the correct data to plot. Today is not a pandas workshop, but selecting data correctly in pandas is an important step. I'll include comments with the pandas code to explain what I'm doing, but we won't spend time on pandas."
   ]
  },
  {
   "cell_type": "markdown",
   "id": "156ebbc2-e063-4f16-8115-896ee5e8ef79",
   "metadata": {},
   "source": [
    "### <br>Line chart (`ax.plot()`)"
   ]
  },
  {
   "cell_type": "markdown",
   "id": "c474ab82-bb2b-4133-b736-cdaeea41ef0a",
   "metadata": {},
   "source": [
    "Let's start with a line chart that shows the popularity of the name \"Taylor\" over time. X-axis will be time (in years) and y-axis will be number of babies given that name each year."
   ]
  },
  {
   "cell_type": "code",
   "execution_count": null,
   "id": "5fdf9c51-e626-4c0c-894f-866bf6fb149b",
   "metadata": {},
   "outputs": [],
   "source": [
    "#Only get rows for the name Taylor\n",
    "#There will be two rows per year, one for M and one for F\n",
    "taylor = names.loc[names[\"Name\"] == \"Taylor\", :]\n",
    "#Sum up the total M and F for each year\n",
    "taylor = taylor.groupby(['Year']).sum()\n",
    "#Year was being used as the INDEX for the dataframe...\n",
    "#which isn't the same as a column...\n",
    "#so we use this line to turn the index into a column\n",
    "taylor.reset_index(inplace=True)\n",
    "#Show us the first five rows of the new dataframe\n",
    "taylor.head()"
   ]
  },
  {
   "cell_type": "markdown",
   "id": "372ab911-bbd0-4846-92f8-5c6e9002e930",
   "metadata": {},
   "source": [
    "<br><br>To create a line chart, we use the method `ax.plot()`. We pass it two arguments, data for the x-axis (Year) and data for the y-axis (Count of babies named Taylor). We can also pass it additional keyword arguments if desired, such as the line color."
   ]
  },
  {
   "cell_type": "code",
   "execution_count": null,
   "id": "57888187-ebeb-4937-bf00-66e3332d9327",
   "metadata": {},
   "outputs": [],
   "source": [
    "fig, ax = plt.subplots(figsize= (6,5))\n",
    "ax.plot(taylor['Year'], taylor['Count'], color=\"green\")\n",
    "ax.set_title('Popularity of Taylor over time')\n",
    "ax.set_xlabel('Year')\n",
    "ax.set_ylabel('Number of newborns named \"Taylor\"')\n",
    "plt.show()"
   ]
  },
  {
   "cell_type": "markdown",
   "id": "c7ea2e9d-750f-472d-aa5d-59252bb59628",
   "metadata": {},
   "source": [
    "<br>That's a really steep rise!"
   ]
  },
  {
   "cell_type": "markdown",
   "id": "f7a64e62-5599-4af4-bf0e-dd5dc72f1bdd",
   "metadata": {},
   "source": [
    "### <br><br>**Exercise 5.**"
   ]
  },
  {
   "cell_type": "markdown",
   "id": "bd4bb610-64b4-4173-b5ef-d24ffb654205",
   "metadata": {},
   "source": [
    "Pick a name that you think had a really steep rise at some time between 1965 and 2014. Save that name as the variable `test_name` below, and then run the code cell to select the correct data in pandas:"
   ]
  },
  {
   "cell_type": "code",
   "execution_count": null,
   "id": "d4b65c8e-3494-4085-a74d-b4293c77a828",
   "metadata": {},
   "outputs": [],
   "source": [
    "test_name = \"\"\n",
    "test_df = names.loc[names[\"Name\"] == test_name, :]\n",
    "#Sum up the total M and F for each year\n",
    "test_df = test_df.groupby(['Year']).sum()\n",
    "test_df.reset_index(inplace=True)\n",
    "test_df.head()"
   ]
  },
  {
   "cell_type": "markdown",
   "id": "a99e761f-d619-45a8-a42b-38885de7e449",
   "metadata": {},
   "source": [
    "Write code below to create a line chart for your test name. It's ok to scroll up and copy off Taylor."
   ]
  },
  {
   "cell_type": "code",
   "execution_count": null,
   "id": "a4c1b96b-0b9e-40bf-844e-67211f479076",
   "metadata": {},
   "outputs": [],
   "source": []
  },
  {
   "cell_type": "markdown",
   "id": "8b208798-3fca-4bbc-b094-766c9ef5b5e7",
   "metadata": {},
   "source": [
    "### <br><br>Line chart with two lines"
   ]
  },
  {
   "cell_type": "markdown",
   "id": "0d59f876-eefb-47d0-bd19-cff909fe225b",
   "metadata": {},
   "source": [
    "We can add multiple lines to one axes. We will plot the popularity of the name Taylor for male and female babies."
   ]
  },
  {
   "cell_type": "code",
   "execution_count": null,
   "id": "d46d9cb3-f4f8-4b70-a143-4638359eb76c",
   "metadata": {},
   "outputs": [],
   "source": [
    "#Only get rows for the name Taylor\n",
    "#There will be two rows per year, one for M and one for F\n",
    "taylor = names.loc[names[\"Name\"] == \"Taylor\", :]\n",
    "#Year was being used as the INDEX for the dataframe...\n",
    "#which isn't the same as a column...\n",
    "#so we use this line to turn the index into a column\n",
    "taylor.reset_index(inplace=True)\n",
    "#Create separate dataframes for M and F\n",
    "taylor_M = taylor[taylor.Gender == \"M\"]\n",
    "taylor_F = taylor[taylor.Gender == \"F\"]"
   ]
  },
  {
   "cell_type": "markdown",
   "id": "87d4f0f9-87fe-4e42-9f6b-4c7ac975480b",
   "metadata": {},
   "source": [
    "<br>To add multiple lines, we just call `ax.plot` multiple times in the same code cell:"
   ]
  },
  {
   "cell_type": "code",
   "execution_count": null,
   "id": "3ea9db8a-5131-4455-bba8-6068a30b24c8",
   "metadata": {},
   "outputs": [],
   "source": [
    "fig, ax = plt.subplots(figsize= (6,5))\n",
    "ax.plot(taylor_M['Year'], taylor_M['Count'], color=\"cyan\")\n",
    "ax.plot(taylor_F['Year'], taylor_F['Count'], color=\"magenta\")\n",
    "ax.set_title('Popularity of Taylor over time')\n",
    "ax.set_xlabel('Year')\n",
    "ax.set_ylabel('Number of newborns named \"Taylor\"')\n",
    "plt.show()"
   ]
  },
  {
   "cell_type": "markdown",
   "id": "7e8b9532-bd99-4ff3-98a2-1fa61edd99f4",
   "metadata": {},
   "source": [
    "<br>Let's add a legend. To match up the legend with our two lines, we need to add a label to each line:"
   ]
  },
  {
   "cell_type": "code",
   "execution_count": null,
   "id": "1d40584b-4283-4f59-bcde-0f0f91d82356",
   "metadata": {},
   "outputs": [],
   "source": [
    "fig, ax = plt.subplots(figsize= (6,5))\n",
    "ax.plot(taylor_M['Year'], taylor_M['Count'], color=\"cyan\", label=\"Male\")\n",
    "ax.plot(taylor_F['Year'], taylor_F['Count'], color=\"magenta\", label=\"Female\")\n",
    "ax.set_title('Popularity of Taylor over time')\n",
    "ax.set_xlabel('Year')\n",
    "ax.set_ylabel('Number of newborns named \"Taylor\"')\n",
    "ax.legend()\n",
    "plt.show()"
   ]
  },
  {
   "cell_type": "markdown",
   "id": "1063056a-aab5-43d8-a43a-67ee87a9f0ae",
   "metadata": {},
   "source": [
    "<br>To get even fancier, we can add a vertical line showing the year that Taylor Swift had her first number one hit:"
   ]
  },
  {
   "cell_type": "code",
   "execution_count": null,
   "id": "a7aa1153-2a63-4b02-ab4d-07b9d0b1244f",
   "metadata": {},
   "outputs": [],
   "source": [
    "fig, ax = plt.subplots(figsize= (6,5))\n",
    "ax.plot(taylor_M['Year'], taylor_M['Count'], color=\"cyan\", label=\"Male\")\n",
    "ax.plot(taylor_F['Year'], taylor_F['Count'], color=\"magenta\", label=\"Female\")\n",
    "ax.set_title('Popularity of Taylor over time')\n",
    "ax.set_xlabel('Year')\n",
    "ax.set_ylabel('Number of newborns named \"Taylor\"')\n",
    "ax.legend()\n",
    "ax.axvline(x=2007, color=\"rebeccapurple\", linewidth=1.3, linestyle=\"--\")\n",
    "plt.show()\n"
   ]
  },
  {
   "cell_type": "markdown",
   "id": "cc1f6550-9ebd-4526-bc40-25aeaf14ad03",
   "metadata": {},
   "source": [
    "### <br><br>Scatter plot (`ax.scatter()`)"
   ]
  },
  {
   "cell_type": "markdown",
   "id": "30b0e7d9-5437-4b88-be96-f0780e9fbaff",
   "metadata": {},
   "source": [
    "Let's use a scatter plot to compare the popularity of Taylor and Logan over time."
   ]
  },
  {
   "cell_type": "markdown",
   "id": "cd185676-62ec-4e0e-bbd2-04dcc13f6c88",
   "metadata": {},
   "source": [
    "Same pandas code we used before to collect Taylor data, but now with Logan:"
   ]
  },
  {
   "cell_type": "code",
   "execution_count": null,
   "id": "a788cea0-3589-46f3-b25e-9887fe41c016",
   "metadata": {},
   "outputs": [],
   "source": [
    "#Only get rows for the name Logan\n",
    "#There will be two rows per year, one for M and one for F\n",
    "logan = names.loc[names[\"Name\"] == \"Logan\", :]\n",
    "#Sum up the total M and F for each year\n",
    "logan = logan.groupby(['Year']).sum()\n",
    "#Year was being used as the INDEX for the dataframe...\n",
    "#which isn't the same as a column...\n",
    "#so we use this line to turn the index into a column\n",
    "logan.reset_index(inplace=True)\n",
    "#Show us the first five rows of the new dataframe"
   ]
  },
  {
   "cell_type": "code",
   "execution_count": null,
   "id": "29e217fe-72fc-444f-a099-0d676827eaec",
   "metadata": {},
   "outputs": [],
   "source": [
    "#And we'll rerun the code for Taylor, in case we messed it up earlier.\n",
    "taylor = names.loc[names[\"Name\"] == \"Taylor\", :]\n",
    "taylor = taylor.groupby(['Year']).sum()\n",
    "taylor.reset_index(inplace=True)"
   ]
  },
  {
   "cell_type": "markdown",
   "id": "9b21d405-3ccf-466c-be41-44958ebc9f8d",
   "metadata": {},
   "source": [
    "<br>The code for a scatter plot is pretty similar to a line plot. We will use `ax.scatter()` and pass it our data for the x-axis and the y-axis."
   ]
  },
  {
   "cell_type": "code",
   "execution_count": null,
   "id": "c7426783-d4d2-4386-846c-d7ef6e4b0819",
   "metadata": {},
   "outputs": [],
   "source": [
    "fig, ax = plt.subplots(figsize=(10,8))\n",
    "ax.set_title('Use of Taylor and Logan Over Time')\n",
    "ax.set_xlabel('Year')\n",
    "ax.set_ylabel('Number of Babies with a Given Name')\n",
    "ax.scatter(logan['Year'], logan['Count'], color='red', label='Logan')\n",
    "ax.scatter(taylor['Year'], taylor['Count'], color='blue', label='Taylor')\n",
    "ax.legend()\n",
    "plt.show()"
   ]
  },
  {
   "cell_type": "markdown",
   "id": "a85baf00-5600-4d29-8cea-837624dbf6e9",
   "metadata": {},
   "source": [
    "<br>With a scatter plot, we can also change the marker size and shape, in addition to the color:"
   ]
  },
  {
   "cell_type": "code",
   "execution_count": null,
   "id": "833a4d3e-61b8-4010-8265-ffce5208cb92",
   "metadata": {},
   "outputs": [],
   "source": [
    "fig, ax = plt.subplots(figsize=(7,5))\n",
    "ax.set_title('Use of Taylor and Logan Over Time')\n",
    "ax.set_xlabel('Year')\n",
    "ax.set_ylabel('Number of Babies with a Given Name')\n",
    "ax.scatter(logan['Year'], logan['Count'], marker=\"d\", s=20, c='red', label='Logan')\n",
    "ax.scatter(taylor['Year'], taylor['Count'], marker=\"x\", s=20, c='blue', label='Taylor')\n",
    "ax.legend()\n",
    "plt.show()"
   ]
  },
  {
   "cell_type": "markdown",
   "id": "426ff609-8515-4268-94df-4b4d92493326",
   "metadata": {},
   "source": [
    "<br>For fun, let's add a vertical line for the year that Hugh Jackman first played the role of The Wolverine (Logan) in a movie:"
   ]
  },
  {
   "cell_type": "code",
   "execution_count": null,
   "id": "b6d50ad8-6283-4a58-a96c-7ec51fbd09f2",
   "metadata": {},
   "outputs": [],
   "source": [
    "fig, ax = plt.subplots(figsize=(7,5))\n",
    "ax.set_title('Use of Taylor and Logan Over Time')\n",
    "ax.set_xlabel('Year')\n",
    "ax.set_ylabel('Number of Babies with a Given Name')\n",
    "ax.scatter(logan['Year'], logan['Count'], marker=\"d\", s=20, c='red', label='Logan')\n",
    "ax.scatter(taylor['Year'], taylor['Count'], marker=\"x\", s=20, c='blue', label='Taylor')\n",
    "ax.legend()\n",
    "ax.axvline(x=2000, color=\"green\", linewidth=1.3, linestyle=\"--\")\n",
    "plt.show()"
   ]
  },
  {
   "cell_type": "markdown",
   "id": "462c3269-11f1-4e98-bac7-b1c7527514fc",
   "metadata": {},
   "source": [
    "### <br><br>Histogram (`hist()`)"
   ]
  },
  {
   "cell_type": "markdown",
   "id": "a4579af4-582e-4cd1-a12f-eff91252b71c",
   "metadata": {},
   "source": [
    "Let's use a histogram to see the popularity of all names given to male and female babies from 1965-2014. For each sex, we only need a pandas series object, not a whole dataframe, since we only need one column representing the total count for each name."
   ]
  },
  {
   "cell_type": "code",
   "execution_count": null,
   "id": "e2b06eec-6fc9-4a20-a6fe-dc4fc30baa9c",
   "metadata": {},
   "outputs": [],
   "source": [
    "#Create pandas series that collects to total sum for each name\n",
    "total_M = names[names.Gender == \"M\"].groupby(\"Name\")[\"Count\"].sum()\n",
    "total_F = names[names.Gender == \"F\"].groupby(\"Name\")[\"Count\"].sum()\n",
    "print(total_M)"
   ]
  },
  {
   "cell_type": "markdown",
   "id": "39b417df-1536-4d26-8b29-8285aa95e98b",
   "metadata": {},
   "source": [
    "<br>We'll create one figure with two plots:"
   ]
  },
  {
   "cell_type": "code",
   "execution_count": null,
   "id": "81730d04-8a0d-4a8e-b357-1ce690744820",
   "metadata": {},
   "outputs": [],
   "source": [
    "fig, ax = plt.subplots(1,2)\n",
    "ax[0].hist(total_M)\n",
    "ax[0].set_title(\"Male baby names\")\n",
    "ax[1].hist(total_F)\n",
    "ax[1].set_title(\"Female baby names\")\n",
    "plt.show()"
   ]
  },
  {
   "cell_type": "markdown",
   "id": "7052fd50-ff23-4cb4-8321-65a72beee20b",
   "metadata": {},
   "source": [
    "<br>That doesn't look good. Let's use a log scale for the y-axis. We can do that by changing the default keyword argument`log` in the `hist()` method from False to True:"
   ]
  },
  {
   "cell_type": "code",
   "execution_count": null,
   "id": "8717691c-5123-4ce4-bbe1-c89f0847977f",
   "metadata": {},
   "outputs": [],
   "source": [
    "fig, ax = plt.subplots(1,2)\n",
    "ax[0].hist(total_M, log=True)\n",
    "ax[0].set_title(\"Male baby names\")\n",
    "ax[1].hist(total_F, log=True)\n",
    "ax[1].set_title(\"Female baby names\")\n",
    "plt.show()"
   ]
  },
  {
   "cell_type": "markdown",
   "id": "2d453a4f-a435-4c3b-aeda-45a438241fb3",
   "metadata": {},
   "source": [
    "<br>These look pretty similar! Lots more uncommon baby names, and then fewer super popular baby names. Except for one thing... The scale of the xaxis is different. For males, it goes past 2 million, and for females if goes a little past 1 million. Let's plot them both on the same histogram this time instead of side-by-side:"
   ]
  },
  {
   "cell_type": "code",
   "execution_count": null,
   "id": "27e27a45-e932-4c34-825f-944ec55badf8",
   "metadata": {},
   "outputs": [],
   "source": [
    "fig, ax = plt.subplots()\n",
    "ax.hist(total_M, log=True, color=\"cyan\", label=\"Male\")\n",
    "ax.hist(total_F, log=True, color=\"magenta\", label=\"Female\")\n",
    "ax.legend()\n",
    "plt.show()"
   ]
  },
  {
   "cell_type": "markdown",
   "id": "0fc0eb03-dd96-4b49-b1ff-2d8d597945bc",
   "metadata": {},
   "source": [
    "Now we can see that more rare names are used for female babies, and more common names are used for male babies."
   ]
  },
  {
   "cell_type": "markdown",
   "id": "5768352f-9d50-4f43-8f59-01b16fc1477e",
   "metadata": {},
   "source": [
    "### <br><br>**Exercise 6.**"
   ]
  },
  {
   "cell_type": "markdown",
   "id": "e4a5053c-896e-47e0-a1c9-1e56fa736567",
   "metadata": {},
   "source": [
    "`alpha` is a a keyword argument that can adjust the transparency of a color. `alpha=1` is full color (100% opaque). Sometimes when layering multiple colors, you want to be able to see through to the color behind. Add the `alpha` keyword argument to the code below and try to find a good transparency level for this plot."
   ]
  },
  {
   "cell_type": "code",
   "execution_count": null,
   "id": "33b2faf3-b049-44d7-b449-4445a940c47f",
   "metadata": {},
   "outputs": [],
   "source": [
    "fig, ax = plt.subplots()\n",
    "ax.hist(total_M, log=True, color=\"cyan\", label=\"Male\")\n",
    "ax.hist(total_F, log=True, color=\"magenta\", label=\"Female\")\n",
    "ax.legend()\n",
    "plt.show()"
   ]
  },
  {
   "cell_type": "markdown",
   "id": "d6f41abc-1de3-41de-b188-f34bb22b2767",
   "metadata": {},
   "source": [
    "### <br><br>Bar graph (`bar()` and `barh()`)"
   ]
  },
  {
   "cell_type": "markdown",
   "id": "6d79c3ad-9c52-4810-8e1a-88f96257b6b8",
   "metadata": {},
   "source": [
    "Let's compare the popularity of two names by decade. Our data ends in 2014, so our \"decades\" will be ten-year intervals that start halfway through each traditional decade."
   ]
  },
  {
   "cell_type": "code",
   "execution_count": null,
   "id": "e40c1755-9899-41d8-b729-f08cb1c95922",
   "metadata": {},
   "outputs": [],
   "source": [
    "name1 = \"Jordan\"\n",
    "name2 = \"Dylan\"\n",
    "#Create 4 dataframes, 1975-1985, 1985-1994, 1995-2004, and 2005-2014\n",
    "df80 = names[(names.Year >= 1975) & (names.Year < 1985)]\n",
    "df90 = names[(names.Year >= 1985) & (names.Year < 1995)]\n",
    "df00 = names[(names.Year >= 1995) & (names.Year < 2005)]\n",
    "df10 = names[(names.Year >= 2005) & (names.Year < 2015)]\n",
    "#Create a list for each name with the total count of babies born...\n",
    "#in each of the four decades\n",
    "name1decades = [df80[df80.Name == name1][\"Count\"].sum(),\n",
    "                df90[df90.Name == name1][\"Count\"].sum(), \n",
    "                df00[df00.Name == name1][\"Count\"].sum(),\n",
    "                df10[df10.Name == name1][\"Count\"].sum()]\n",
    "name2decades = [df80[df80.Name == name2][\"Count\"].sum(),\n",
    "                df90[df90.Name == name2][\"Count\"].sum(), \n",
    "                df00[df00.Name == name2][\"Count\"].sum(),\n",
    "                df10[df10.Name == name2][\"Count\"].sum()]\n",
    "#Let's see what one of these lists looks like:\n",
    "print(name1decades)"
   ]
  },
  {
   "cell_type": "markdown",
   "id": "15626595-5549-41f6-9653-156f1fb978b6",
   "metadata": {},
   "source": [
    "<br>We also need to create a list for the x-axis - What do the items in our lists represent?"
   ]
  },
  {
   "cell_type": "code",
   "execution_count": null,
   "id": "b3feef47-8b9f-4a14-b918-c84615a5b8de",
   "metadata": {},
   "outputs": [],
   "source": [
    "decades = [\"1975-1985\", \"1985-1994\", \"1995-2004\", \"2005-2014\"]"
   ]
  },
  {
   "cell_type": "markdown",
   "id": "c9bec942-09ba-4222-9438-40d97b7214be",
   "metadata": {},
   "source": [
    "<br>We will plot these bar charts side-by-side:"
   ]
  },
  {
   "cell_type": "code",
   "execution_count": null,
   "id": "fc59f06b-626e-45b9-a8b1-05f3092167d5",
   "metadata": {},
   "outputs": [],
   "source": [
    "fig, ax = plt.subplots(nrows=1, ncols=2, figsize=(8,4))\n",
    "ax[0].bar(decades, name1decades)\n",
    "ax[0].set_title(name1)\n",
    "ax[1].bar(decades, name2decades)\n",
    "ax[1].set_title(name2)\n",
    "plt.show()"
   ]
  },
  {
   "cell_type": "markdown",
   "id": "218f6d9d-877c-47a0-a14f-41845be4c841",
   "metadata": {},
   "source": [
    "<br>It's hard to compare because they have different ranges for the y-axis. We can match up all the subplots by passing the keyword argument `sharey=True`:"
   ]
  },
  {
   "cell_type": "code",
   "execution_count": null,
   "id": "246437b2-2560-4f77-91fa-8a0fcb3e8bef",
   "metadata": {},
   "outputs": [],
   "source": [
    "fig, ax = plt.subplots(nrows=1, ncols=2, figsize=(8,4), sharey=True)\n",
    "ax[0].bar(decades, name1decades)\n",
    "ax[0].set_title(name1)\n",
    "ax[1].bar(decades, name2decades)\n",
    "ax[1].set_title(name2)\n",
    "plt.show()"
   ]
  },
  {
   "cell_type": "markdown",
   "id": "ccf9e247-2095-48e4-b876-1e8a1eb52b8f",
   "metadata": {},
   "source": [
    "<br>We can improve the look even more by removing the y-axis ticks from the plot on the right and by moving the two plots closer together using the function `fig.tight_layout()`:"
   ]
  },
  {
   "cell_type": "code",
   "execution_count": null,
   "id": "a481c603-fec3-44c4-b6ce-6a0415a97b1c",
   "metadata": {},
   "outputs": [],
   "source": [
    "fig, ax = plt.subplots(nrows=1, ncols=2, figsize=(8,4), sharey=True)\n",
    "ax[0].bar(decades, name1decades)\n",
    "ax[0].set_title(name1)\n",
    "ax[1].bar(decades, name2decades)\n",
    "ax[1].set_title(name2)\n",
    "ax[1].yaxis.set_ticks_position('none') \n",
    "fig.tight_layout()\n",
    "plt.show()"
   ]
  },
  {
   "cell_type": "markdown",
   "id": "7ed98228-4f20-442c-8d45-1f861e426e01",
   "metadata": {},
   "source": [
    "### <br><br>**Exercise 7.**"
   ]
  },
  {
   "cell_type": "markdown",
   "id": "d52c1220-659a-4adb-9823-30f7c5e44fe7",
   "metadata": {},
   "source": [
    "There is a second function for making a horizontal bar plot: `barh()`. Change the code below to create two horizontal bar plots instead of two vertical bar plots. You'll need to change the subplots to be one on top of each other instead of side-by-side. You'll also need to adjust the figure size, the shared axis, and other style code. See how much you can do!"
   ]
  },
  {
   "cell_type": "code",
   "execution_count": null,
   "id": "b97f74ab-15bf-4d65-a2f1-5a81806b28e6",
   "metadata": {},
   "outputs": [],
   "source": [
    "fig, ax = plt.subplots(nrows=1, ncols=2, figsize=(8,4), sharey=True)\n",
    "ax[0].bar(decades, name1decades)\n",
    "ax[0].set_title(name1)\n",
    "ax[1].bar(decades, name2decades)\n",
    "ax[1].set_title(name2)\n",
    "ax[1].yaxis.set_ticks_position('none') \n",
    "fig.tight_layout()\n",
    "plt.show()"
   ]
  },
  {
   "cell_type": "markdown",
   "id": "150062b3-347c-4648-8526-4975abc400ec",
   "metadata": {},
   "source": [
    "### <br><br> **Exercise 8.**"
   ]
  },
  {
   "cell_type": "markdown",
   "id": "6835319c-bdb6-4c13-83eb-ab055ec5483a",
   "metadata": {},
   "source": [
    "What happens if you plot both names on the same axes, instead of on two axes in the same figure? Can you write the code to try it?"
   ]
  },
  {
   "cell_type": "code",
   "execution_count": null,
   "id": "2a9f278d-a316-4509-8a99-d8deecf5188a",
   "metadata": {},
   "outputs": [],
   "source": []
  },
  {
   "cell_type": "markdown",
   "id": "ef0df1fc-ae45-49ed-a7c2-ce24e93741ba",
   "metadata": {},
   "source": [
    "<br>Did it do what you expected? Can you adjust the colors and transparency to make it easier to read?"
   ]
  },
  {
   "cell_type": "code",
   "execution_count": null,
   "id": "ac5cb385-2b41-4eb7-8343-1c1aef9b0757",
   "metadata": {},
   "outputs": [],
   "source": []
  },
  {
   "cell_type": "code",
   "execution_count": null,
   "id": "d3c8abe7-40e6-4aa2-9beb-db5ba70c2a35",
   "metadata": {},
   "outputs": [],
   "source": []
  },
  {
   "cell_type": "markdown",
   "id": "b1e14ad4-6342-4ec6-a61e-3de3195dcb17",
   "metadata": {},
   "source": [
    "#### <br><br>Bonus recommendations"
   ]
  },
  {
   "cell_type": "markdown",
   "id": "08b07601-8fc3-43e3-bc91-65615a58633f",
   "metadata": {},
   "source": [
    "Is Matplotlib always the right package for creating visualizations in Python?\n",
    "<br><br>**Seaborn**\n",
    "<br>Built on Matplotlib; has a specific, clean aesthetic; many plots are easier to code in fewer lines without being as customizable. https://seaborn.pydata.org/index.html\n",
    "<br><br>**Plotly**\n",
    "<br>Has a default aesthetic; especially good for interactive visualizations, including integration with building Dash apps.\n",
    "https://plotly.com/python/\n",
    "<br><br>**Advice for creating interactive visualizations and apps**\n",
    "<br>https://sites.northwestern.edu/researchcomputing/2022/02/03/what-is-the-best-interactive-plotting-package-in-python/"
   ]
  },
  {
   "cell_type": "code",
   "execution_count": null,
   "id": "7cabddf1-ece4-4e5d-b50d-91216e9827b4",
   "metadata": {},
   "outputs": [],
   "source": []
  }
 ],
 "metadata": {
  "kernelspec": {
   "display_name": "Python 3",
   "language": "python",
   "name": "python3"
  },
  "language_info": {
   "codemirror_mode": {
    "name": "ipython",
    "version": 3
   },
   "file_extension": ".py",
   "mimetype": "text/x-python",
   "name": "python",
   "nbconvert_exporter": "python",
   "pygments_lexer": "ipython3",
   "version": "3.9.12"
  }
 },
 "nbformat": 4,
 "nbformat_minor": 5
}
