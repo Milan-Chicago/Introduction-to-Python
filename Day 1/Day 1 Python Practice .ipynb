{
 "cells": [
  {
   "cell_type": "markdown",
   "id": "5fc3cea6",
   "metadata": {},
   "source": [
    "# How make art using python"
   ]
  },
  {
   "cell_type": "markdown",
   "id": "9c2a2f4a",
   "metadata": {},
   "source": [
    "Creating a simple smiley face using ASCII art in Python is fun and straightforward.\n",
    "\n",
    "Arrange the ASCII characters in your required format"
   ]
  },
  {
   "cell_type": "code",
   "execution_count": 1,
   "id": "dd556a16",
   "metadata": {},
   "outputs": [
    {
     "name": "stdout",
     "output_type": "stream",
     "text": [
      "   *****   \n",
      " *       * \n",
      "*  O   O  *\n",
      "*    ^    *\n",
      " *  \\_/  * \n",
      "   *****   \n"
     ]
    }
   ],
   "source": [
    "print(\"   *****   \")\n",
    "print(\" *       * \")\n",
    "print(\"*  O   O  *\")\n",
    "print(\"*    ^    *\")\n",
    "print(\" *  \\\\_/  * \")\n",
    "print(\"   *****   \")"
   ]
  },
  {
   "cell_type": "markdown",
   "id": "7935342e",
   "metadata": {},
   "source": [
    "Happy face"
   ]
  },
  {
   "cell_type": "code",
   "execution_count": 4,
   "id": "b1859402",
   "metadata": {},
   "outputs": [
    {
     "name": "stdout",
     "output_type": "stream",
     "text": [
      "       ^_^       \n",
      "     /     \\     \n",
      "    |   O   |    \n",
      "     \\  -  /     \n",
      "       ---       \n"
     ]
    }
   ],
   "source": [
    "print(\"       ^_^       \")\n",
    "print(\"     /     \\\\     \")\n",
    "print(\"    |   O   |    \")\n",
    "print(\"     \\\\  -  /     \")\n",
    "print(\"       ---       \")"
   ]
  },
  {
   "cell_type": "markdown",
   "id": "ba874b44",
   "metadata": {},
   "source": [
    "Winking Face"
   ]
  },
  {
   "cell_type": "code",
   "execution_count": 5,
   "id": "fc0eb06c",
   "metadata": {},
   "outputs": [
    {
     "name": "stdout",
     "output_type": "stream",
     "text": [
      "       ^_-       \n",
      "     /     \\     \n",
      "    |   O   |    \n",
      "     \\  -  /     \n",
      "       ---       \n"
     ]
    }
   ],
   "source": [
    "print(\"       ^_-       \")\n",
    "print(\"     /     \\\\     \")\n",
    "print(\"    |   O   |    \")\n",
    "print(\"     \\\\  -  /     \")\n",
    "print(\"       ---       \")"
   ]
  },
  {
   "cell_type": "markdown",
   "id": "6454a167",
   "metadata": {},
   "source": [
    "Tongue Out Face"
   ]
  },
  {
   "cell_type": "code",
   "execution_count": 6,
   "id": "ef1e6679",
   "metadata": {},
   "outputs": [
    {
     "name": "stdout",
     "output_type": "stream",
     "text": [
      "       ^_^       \n",
      "     /     \\     \n",
      "    |   -   |    \n",
      "     \\  ~  /     \n",
      "       ---       \n"
     ]
    }
   ],
   "source": [
    "print(\"       ^_^       \")\n",
    "print(\"     /     \\\\     \")\n",
    "print(\"    |   -   |    \")\n",
    "print(\"     \\\\  ~  /     \")\n",
    "print(\"       ---       \")"
   ]
  },
  {
   "cell_type": "markdown",
   "id": "25b9fa1e",
   "metadata": {},
   "source": [
    "giraffe face"
   ]
  },
  {
   "cell_type": "code",
   "execution_count": 2,
   "id": "df9cde18",
   "metadata": {},
   "outputs": [
    {
     "name": "stdout",
     "output_type": "stream",
     "text": [
      "\n",
      "                                       ._ o o\n",
      "                                       \\_`-)|_\n",
      "                                    ,\"\"       \\ \n",
      "                                  ,\"  ## |   ಠ ಠ. \n",
      "                                ,\" ##   ,-\\__    `.\n",
      "                              ,\"       /     `--._;)\n",
      "                            ,\"     ## /\n",
      "                          ,\"   ##    /\n",
      "\n",
      "\n",
      "                    \n"
     ]
    }
   ],
   "source": [
    "print(\"\"\"\\\n",
    "\n",
    "                                       ._ o o\n",
    "                                       \\_`-)|_\n",
    "                                    ,\"\"       \\ \n",
    "                                  ,\"  ## |   ಠ ಠ. \n",
    "                                ,\" ##   ,-\\__    `.\n",
    "                              ,\"       /     `--._;)\n",
    "                            ,\"     ## /\n",
    "                          ,\"   ##    /\n",
    "\n",
    "\n",
    "                    \"\"\")"
   ]
  },
  {
   "cell_type": "markdown",
   "id": "12e8fa0d",
   "metadata": {},
   "source": [
    "Surprised Face"
   ]
  },
  {
   "cell_type": "code",
   "execution_count": 7,
   "id": "82157750",
   "metadata": {},
   "outputs": [
    {
     "name": "stdout",
     "output_type": "stream",
     "text": [
      "      O_O       \n",
      "     /     \\     \n",
      "    |   !   |    \n",
      "     \\  -  /     \n",
      "       ---       \n"
     ]
    }
   ],
   "source": [
    "print(\"      O_O       \")\n",
    "print(\"     /     \\\\     \")\n",
    "print(\"    |   !   |    \")\n",
    "print(\"     \\\\  -  /     \")\n",
    "print(\"       ---       \")\n"
   ]
  },
  {
   "cell_type": "markdown",
   "id": "967db3b5",
   "metadata": {},
   "source": [
    "Grumpy Face"
   ]
  },
  {
   "cell_type": "code",
   "execution_count": 8,
   "id": "81b976a7",
   "metadata": {},
   "outputs": [
    {
     "name": "stdout",
     "output_type": "stream",
     "text": [
      "      >_<       \n",
      "     /     \\     \n",
      "    |   X   |    \n",
      "     \\  -  /     \n",
      "       ---       \n"
     ]
    }
   ],
   "source": [
    "print(\"      >_<       \")\n",
    "print(\"     /     \\\\     \")\n",
    "print(\"    |   X   |    \")\n",
    "print(\"     \\\\  -  /     \")\n",
    "print(\"       ---       \")"
   ]
  },
  {
   "cell_type": "markdown",
   "id": "fa9b24db",
   "metadata": {},
   "source": [
    "Alien Face"
   ]
  },
  {
   "cell_type": "code",
   "execution_count": 9,
   "id": "adf10ff1",
   "metadata": {},
   "outputs": [
    {
     "name": "stdout",
     "output_type": "stream",
     "text": [
      "     /-_-\\      \n",
      "    /  O  O\\     \n",
      "   |    ^    |    \n",
      "    \\  -  /     \n",
      "     ---\\      \n"
     ]
    }
   ],
   "source": [
    "print(\"     /-_-\\\\      \")\n",
    "print(\"    /  O  O\\\\     \")\n",
    "print(\"   |    ^    |    \")\n",
    "print(\"    \\\\  -  /     \")\n",
    "print(\"     ---\\\\      \")"
   ]
  },
  {
   "cell_type": "markdown",
   "id": "f7da8243",
   "metadata": {},
   "source": [
    "Star"
   ]
  },
  {
   "cell_type": "code",
   "execution_count": 10,
   "id": "39b416cf",
   "metadata": {},
   "outputs": [
    {
     "name": "stdout",
     "output_type": "stream",
     "text": [
      "    *\n",
      "   ***\n",
      "  *****\n",
      " *******\n",
      "*********\n",
      " *******\n",
      "  *****\n",
      "   ***\n",
      "    *\n"
     ]
    }
   ],
   "source": [
    "print(\"    *\")\n",
    "print(\"   ***\")\n",
    "print(\"  *****\")\n",
    "print(\" *******\")\n",
    "print(\"*********\")\n",
    "print(\" *******\")\n",
    "print(\"  *****\")\n",
    "print(\"   ***\")\n",
    "print(\"    *\")"
   ]
  },
  {
   "cell_type": "markdown",
   "id": "cd54a17f",
   "metadata": {},
   "source": [
    "Heart"
   ]
  },
  {
   "cell_type": "code",
   "execution_count": 12,
   "id": "30694385",
   "metadata": {},
   "outputs": [
    {
     "name": "stdout",
     "output_type": "stream",
     "text": [
      "  ***   ***\n",
      "***** ******\n",
      "*************\n",
      " ***********\n",
      "  *********\n",
      "   *******\n",
      "    *****\n",
      "     ***\n",
      "      *\n"
     ]
    }
   ],
   "source": [
    "print(\"  ***   ***\")\n",
    "print(\"***** ******\")\n",
    "print(\"*************\")\n",
    "print(\" ***********\")\n",
    "print(\"  *********\")\n",
    "print(\"   *******\")\n",
    "print(\"    *****\")\n",
    "print(\"     ***\")\n",
    "print(\"      *\")\n"
   ]
  },
  {
   "cell_type": "markdown",
   "id": "86b56116",
   "metadata": {},
   "source": [
    "Bird"
   ]
  },
  {
   "cell_type": "code",
   "execution_count": 19,
   "id": "a5b9909c",
   "metadata": {},
   "outputs": [
    {
     "name": "stdout",
     "output_type": "stream",
     "text": [
      "\n",
      "        \\\n",
      "       (o>\n",
      "      //\\\n",
      "     //  ))\n",
      "    (\\   /)\n",
      "   (/\\/)\\/\\\n",
      "\n"
     ]
    }
   ],
   "source": [
    "print('''\n",
    "        \\\\\n",
    "       (o>\n",
    "      //\\\\\n",
    "     //  ))\n",
    "    (\\   /)\n",
    "   (/\\\\/)\\\\/\\\\\n",
    "''')\n",
    "\n",
    "\n"
   ]
  },
  {
   "cell_type": "markdown",
   "id": "8b925eb4",
   "metadata": {},
   "source": [
    "House"
   ]
  },
  {
   "cell_type": "code",
   "execution_count": 22,
   "id": "edbf8810",
   "metadata": {},
   "outputs": [
    {
     "name": "stdout",
     "output_type": "stream",
     "text": [
      "\n",
      "      /\\\n",
      "     /  \\\n",
      "    /    \\\n",
      "   /______\\\n",
      "   |   |  |\n"
     ]
    }
   ],
   "source": [
    "print('''\n",
    "      /\\\\\n",
    "     /  \\\\\n",
    "    /    \\\\\n",
    "   /______\\\\\n",
    "   |   |  |''')"
   ]
  },
  {
   "cell_type": "code",
   "execution_count": null,
   "id": "fbecca64",
   "metadata": {},
   "outputs": [],
   "source": []
  }
 ],
 "metadata": {
  "kernelspec": {
   "display_name": "Python 3 (ipykernel)",
   "language": "python",
   "name": "python3"
  },
  "language_info": {
   "codemirror_mode": {
    "name": "ipython",
    "version": 3
   },
   "file_extension": ".py",
   "mimetype": "text/x-python",
   "name": "python",
   "nbconvert_exporter": "python",
   "pygments_lexer": "ipython3",
   "version": "3.9.7"
  }
 },
 "nbformat": 4,
 "nbformat_minor": 5
}
