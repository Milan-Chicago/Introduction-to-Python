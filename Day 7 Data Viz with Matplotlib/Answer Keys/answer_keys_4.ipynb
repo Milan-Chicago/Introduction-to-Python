{
 "cells": [
  {
   "cell_type": "markdown",
   "id": "d0ec1df3",
   "metadata": {},
   "source": [
    "### Answer Keys 4\n",
    "\n",
    "These are possible solutions to the exercises in the third notebook of the workshop. Alternative solutions are possible. \n",
    "\n",
    "You can copy paste the answers in the exercises' cells to see the final result. The code below will _not_ run correctly in this notebook."
   ]
  },
  {
   "cell_type": "markdown",
   "id": "7c1f62d1",
   "metadata": {},
   "source": [
    "##### Exercise 1\n",
    "\n",
    "Complete the code by creating an histogram showing the distribution of birth year for girls named \"Taylor\"."
   ]
  },
  {
   "cell_type": "code",
   "execution_count": null,
   "id": "65c4ab01",
   "metadata": {},
   "outputs": [],
   "source": [
    "# The fundamental line\n",
    "fig, ax = plt.subplots()\n",
    "# labels, etc.\n",
    "ax.set_title(\"Birthday of Girls Named Taylor\")\n",
    "ax.set_xlabel('Year')\n",
    "ax.set_ylabel('Count')\n",
    "# Create the histogram\n",
    "ax.hist(taylor_girls, bins = 15)"
   ]
  },
  {
   "cell_type": "markdown",
   "id": "87717994",
   "metadata": {},
   "source": [
    "##### Exercise 2\n",
    "\n",
    "Complete the following code to display two histograms with the same binning for girls and boys named \"Morgan\". Use a number of bins equal to 20."
   ]
  },
  {
   "cell_type": "code",
   "execution_count": null,
   "id": "6b4fe099",
   "metadata": {},
   "outputs": [],
   "source": [
    "# The fundamental line, with the same arguments as above\n",
    "fig, ax = plt.subplots(nrows=2, gridspec_kw={'hspace': .7})\n",
    "# We take care of the labels, titles for both Axes\n",
    "ax[0].set_title(\"Birthday of Girls Named Taylor\")\n",
    "ax[0].set_xlabel('Year')\n",
    "ax[0].set_ylabel('Count')\n",
    "ax[1].set_title(\"Birthday of Boys Named Taylor\")\n",
    "ax[1].set_xlabel('Year')\n",
    "ax[1].set_ylabel('Count')\n",
    "\n",
    "# Complete the code:\n",
    "# Create the histogram for the taylor_girls data. Remember to save the output!\n",
    "_, bins, _ = ax[0].hist(taylor_girls, bins=20)\n",
    "# Create the histogram for the taylor_boys data.\n",
    "ax[1].hist(taylor_boys, bins= bins)"
   ]
  },
  {
   "cell_type": "markdown",
   "id": "fde86930",
   "metadata": {},
   "source": [
    "##### Exercise 3\n",
    "\n",
    "Complete the code below to use the Freedman-Diaconis rule for the \"Taylor\" data. Use the boy data as input to `np.histogram_bin_edges()` (overall, there are less boys than girls named \"Taylor\").\n",
    "\n",
    "**Extra** This histogram looks different from the previous. What do you think is happening with the binning?"
   ]
  },
  {
   "cell_type": "code",
   "execution_count": null,
   "id": "91a48ee8",
   "metadata": {},
   "outputs": [],
   "source": [
    "# COMPLETE the code:\n",
    "# Calculate binning with the freedman-diaconis rule\n",
    "# As data we input the taylor_boys data\n",
    "bins = np.histogram_bin_edges(taylor_boys, bins='fd')\n",
    "\n",
    "# The fundamental line and lables/titles\n",
    "fig, ax = plt.subplots(nrows=2, gridspec_kw={'hspace': .7})\n",
    "ax[0].set_title(\"Birthday of Girls Named Taylor\")\n",
    "ax[0].set_xlabel('Year')\n",
    "ax[0].set_ylabel('Count')\n",
    "ax[1].set_title(\"Birthday of Boys Named Taylor\")\n",
    "ax[1].set_xlabel('Year')\n",
    "ax[1].set_ylabel('Count')\n",
    "\n",
    "# Complete the code\n",
    "# Create an histogram for the taylor_girls data\n",
    "ax[0].hist(taylor_girls, bins=bins)\n",
    "# Create an histogram for the taylor boys data\n",
    "ax[1].hist(taylor_boys, bins=bins)"
   ]
  },
  {
   "cell_type": "markdown",
   "id": "5fd5e768",
   "metadata": {},
   "source": [
    "##### Exercise 4\n",
    "\n",
    "Modify the code below to reproduce the same `step`histograms with the \"Taylor\" data. \n",
    "\n",
    "**Extra** What is happening in the right part of the plot? How can you modify the code to provide a better visualization?"
   ]
  },
  {
   "cell_type": "code",
   "execution_count": null,
   "id": "622e094e",
   "metadata": {},
   "outputs": [],
   "source": [
    "# Calculate binning again\n",
    "bins = np.histogram_bin_edges(taylor_boys, bins='fd')\n",
    "\n",
    "# The fundamental line, title and labels\n",
    "fig, ax = plt.subplots()\n",
    "ax.set_title(\"Birth Year of Individuals Named Taylor\")\n",
    "ax.set_xlabel('Year')\n",
    "ax.set_ylabel('Count')\n",
    "\n",
    "# Complete code\n",
    "# EXTRA answer: the girls data are perfectly overlapping over the boys data.\n",
    "# To make things look better, we invert the order of plotting, first girls, then boys\n",
    "ax.hist(taylor_girls, bins=bins, histtype='step', label='Girls')\n",
    "ax.hist(taylor_boys, bins=bins, histtype='step', label='Boys')\n",
    "\n",
    "# legend\n",
    "ax.legend(loc='upper left')"
   ]
  },
  {
   "cell_type": "markdown",
   "id": "16525ea4",
   "metadata": {},
   "source": [
    "##### Exercise 5\n",
    "\n",
    "Modify the code below to produce a side-by-side comparison of the \"Taylor\" data."
   ]
  },
  {
   "cell_type": "code",
   "execution_count": null,
   "id": "d15d9bbd",
   "metadata": {},
   "outputs": [],
   "source": [
    "# Calculate binning\n",
    "bins = np.histogram_bin_edges(taylor_boys, bins='fd')\n",
    "\n",
    "# Plot\n",
    "fig, ax = plt.subplots()\n",
    "ax.set_title(\"Birth Year of Individuals Named Taylor\")\n",
    "ax.set_xlabel('Year')\n",
    "ax.set_ylabel('Count')\n",
    "\n",
    "#Modify here\n",
    "ax.hist([taylor_boys, taylor_girls], bins=bins,  label=['Boys', 'Girls'], color=['red', 'blue'])\n",
    "\n",
    "# Legend\n",
    "ax.legend(loc='upper left')"
   ]
  }
 ],
 "metadata": {
  "kernelspec": {
   "display_name": "Python 3",
   "language": "python",
   "name": "python3"
  },
  "language_info": {
   "codemirror_mode": {
    "name": "ipython",
    "version": 3
   },
   "file_extension": ".py",
   "mimetype": "text/x-python",
   "name": "python",
   "nbconvert_exporter": "python",
   "pygments_lexer": "ipython3",
   "version": "3.9.6"
  }
 },
 "nbformat": 4,
 "nbformat_minor": 5
}
