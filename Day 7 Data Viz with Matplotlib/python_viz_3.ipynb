{
 "cells": [
  {
   "cell_type": "markdown",
   "id": "b99083ea",
   "metadata": {},
   "source": [
    "# Data Viz with Matplotlib 3\n",
    "\n",
    "Today we are exploring scatter plots with `matplotlib`. Along the way we will learn some more advanced features, such as customizing the `legend` or creating a `colorbar`.\n",
    "\n",
    "First, we will load the data. We will use the same code we used before to load data directly from GitHub."
   ]
  },
  {
   "cell_type": "code",
   "execution_count": null,
   "id": "d546329e",
   "metadata": {},
   "outputs": [],
   "source": [
    "import pandas as pd\n",
    "import numpy as np\n",
    "\n",
    "# Morgan data\n",
    "morgan_data_url = r'https://github.com/Milan-Chicago/Introduction-to-Python/blob/main/Day%207%20Data%20Viz%20with%20Matplotlib/Data/morgan.csv'\n",
    "morgan = pd.read_csv(morgan_data_url)\n",
    "\n",
    "# Taylor data\n",
    "taylor_data_url = r'https://github.com/Milan-Chicago/Introduction-to-Python/blob/main/Day%207%20Data%20Viz%20with%20Matplotlib/Data/taylor.csv'\n",
    "taylor = pd.read_csv(taylor_data_url)\n",
    "\n",
    "# Look at the column names and data type\n",
    "print(f'{morgan.info()}')\n",
    "print(f\"This is how the Morgan data looks like:\\n\\n{morgan.head()}\")"
   ]
  },
  {
   "cell_type": "markdown",
   "id": "92fbe431",
   "metadata": {},
   "source": [
    "The data is about the use of the names \"Morgan\" and \"Taylor\". Unlike the previous data, these `DataFrame`s contain a column about the proportion of newborn Morgan (Taylor) registered as girls. We will see there is some quite movement in that column.\n",
    "\n",
    "Before proceeding further, we import `plt` and set the `inline` backend."
   ]
  },
  {
   "cell_type": "code",
   "execution_count": null,
   "id": "3cdd2b92",
   "metadata": {},
   "outputs": [],
   "source": [
    "# Let's not forget to set the backend and load matplotlib \n",
    "%matplotlib inline\n",
    "import matplotlib.pyplot as plt"
   ]
  },
  {
   "cell_type": "markdown",
   "id": "df58cd86",
   "metadata": {},
   "source": [
    "## Scatter Plots\n",
    "\n",
    "Using the definition of _scatter plot_ that Google suggests, \"A scatter plot uses dots to represent values for two different numeric variables\". They are mostly used to study how two variables co-vary. For example, you can plot the number of newborns with a given name for each year. To do this, we will use both `ax.plot()`, which we saw last time, and the new method `ax.scatter()`. Notice however that the syntax is very similar to what we have seen  already."
   ]
  },
  {
   "cell_type": "code",
   "execution_count": null,
   "id": "e0aefe56",
   "metadata": {},
   "outputs": [],
   "source": [
    "# The fundamental line\n",
    "fig, ax = plt.subplots(figsize=(10,8))\n",
    "# Usual settings\n",
    "ax.set_title('Use of Taylor and Morgan Over Time')\n",
    "ax.set_xlabel('Year')\n",
    "ax.set_ylabel('Number of Babies with a Given Name')\n",
    "# Now the scatter plot. The syntax is very similar to the syntax of .plot()\n",
    "# As a reminder, ls: linestyle; lw: linewidth\n",
    "ax.plot(morgan['Year'], morgan['Total'], color=(1,0,0,0.5), lw=1, ls='dashed')\n",
    "ax.scatter(morgan['Year'], morgan['Total'], color='red', label='Morgan')\n",
    "ax.plot(taylor['Year'], taylor['Total'], color=(0,0,1,0.5), lw=1, ls='dashed')\n",
    "ax.scatter(taylor['Year'], taylor['Total'], color='blue', label='Taylor')\n",
    "# Legend\n",
    "ax.legend(loc='upper left')\n",
    "# we add an horizontal grid (notice axis='y') for legibility\n",
    "ax.grid(color=(0.5,0.5,0.5,0.2), axis='y', lw=0.25)"
   ]
  },
  {
   "cell_type": "markdown",
   "id": "80a47d88",
   "metadata": {},
   "source": [
    "### Colormaps, Colorbars and Marker sizes\n",
    "\n",
    "As you can see, this is not very different with what we have done so far. What is different from the plots we were doing yesterday is that we have swapped a call to `ax.plot()` with a call to `ax.scatter()`. However, you could produce the plot above without any call to `ax.scatter()` at all: `ax.plot()` suffices. So why bother?\n",
    "\n",
    "The real power of `ax.scatter()` stands in its special argument `c` (alongside `cmap`) and `ms`. These arguments link the color (`c`/`cmap`) and the sizes of the markers to a variable that you specify. \n",
    "\n",
    "#### Colormaps\n",
    "\n",
    "First, let's work with the `c` and `cmap` arguments. For example, let's tie the color of the markers in the previous plot to the proportion of newborns named \"Morgan\" (\"Austin\") registered as \"girl\". We will use the argument `c` to associate the color of the marker to the new variable. We will use the argument `cmap` to specify more precisely what color we want to associate with the two extremes (no girls vs all girls).\n"
   ]
  },
  {
   "cell_type": "code",
   "execution_count": null,
   "id": "fd231016",
   "metadata": {
    "scrolled": true
   },
   "outputs": [],
   "source": [
    "# Same plot as before, but we also need to distinguish the two series of data using different kinds of points.\n",
    "# The fundamental line\n",
    "fig, ax = plt.subplots(figsize=(10,8))\n",
    "# Exactly as before\n",
    "ax.set_title('Use of Taylor and Morgan Over Time')\n",
    "ax.set_xlabel('Year')\n",
    "ax.set_ylabel('Number of Babies with a Given Name')\n",
    "ax.plot(morgan['Year'], morgan['Total'], color=(1,0,0,0.5), lw=1, ls='dashed')\n",
    "ax.plot(taylor['Year'], taylor['Total'], color=(0,0,1,0.5), lw=1, ls='dashed')\n",
    "'''\n",
    "Now the scatter plot. notice the new arguments:\n",
    "c: color in proportion to a variable\n",
    "cmap: what color map to use for c\n",
    "We delete the color argument (it is incompatible with the c argument)\n",
    "'''\n",
    "ax.scatter(morgan['Year'], morgan['Total'], c = morgan['Proportion'], label = 'Morgan', cmap='spring_r')\n",
    "ax.scatter(taylor['Year'], taylor['Total'], c = taylor['Proportion'], label = 'Taylor', cmap='spring_r')\n",
    "# Legend and grid\n",
    "ax.legend(loc='upper left')\n",
    "ax.grid(color=(0.5,0.5,0.5,0.2), axis='y', lw=0.25)"
   ]
  },
  {
   "cell_type": "markdown",
   "id": "639360a9",
   "metadata": {},
   "source": [
    "##### Exercise 1\n",
    "\n",
    "Complete the code below to reproduce the plot we did in the previous cell. Use a different `cmap` argument. Choose the new `cmap` from <a href=\"https://matplotlib.org/stable/tutorials/colors/colormaps.html\">the official documentation</a> (scroll down to see the colormaps!). Before choosing a new colormap, think about what makes a color map readable in this case?\n",
    "\n",
    "**Extra** You may have noticed the legend above is useless at the moment, since we cannot distinguish the two dataseries by their color anymore. Amend the legend by using different markers for the two dataseries. As a reminder, you can specify the marker of your choice through the argument `marker` You can find the complete list of available markers at [this page](https://matplotlib.org/stable/api/markers_api.html)."
   ]
  },
  {
   "cell_type": "code",
   "execution_count": null,
   "id": "44236da4",
   "metadata": {},
   "outputs": [],
   "source": [
    "# Same plot as above\n",
    "fig, ax = plt.subplots(figsize=(10,8))\n",
    "ax.set_title('Use of Taylor and Morgan Over Time')\n",
    "ax.set_xlabel('Year')\n",
    "ax.set_ylabel('Number of Babies with a Given Name')\n",
    "ax.plot(morgan['Year'], morgan['Total'], color=(1,0,0,0.5), lw=1, ls='dashed')\n",
    "ax.plot(taylor['Year'], taylor['Total'], color=(0,0,1,0.5), lw=1, ls='dashed')\n",
    "\n",
    "# Complete the code\n",
    "ax.scatter(morgan['Year'], morgan['Total'], c = , label = 'Morgan', cmap= )\n",
    "ax.scatter( , , c = , label = 'Taylor', cmap=)\n",
    "\n",
    "# Legend and grid\n",
    "ax.legend(loc='upper left')\n",
    "ax.grid(color=(0.5,0.5,0.5,0.2), axis='y', lw=0.25)"
   ]
  },
  {
   "cell_type": "markdown",
   "id": "5a549060",
   "metadata": {},
   "source": [
    "#### Color bars\n",
    "\n",
    "The previous plot has two big readability issues: \n",
    "    \n",
    "    1. It is impossible to distinguish the two data series since the legend is clearly useless\n",
    "    2. It needs some guide about the meaning of the markers' color.\n",
    "\n",
    "As for the former issue, we learned yesterday that all we need is to specify the argument `marker` when we call the `ax.scatter()`. Here it is worth taking a step back to notice that yesterday we did not introduce the `ax.scatter()` method, but we used the `marker` argument in the `ax.plot()` method. It is one of the funding principle of `matplotlib` that you should not have to learn things twice. So, if you learn how to choose a marker type for the `ax.plot()` method, you will know how to choose a marker type in _any_ method. The same principle hold for the `color`, `linewidth`, `markersize`, etc. arguments. You should expect the same arguments to work wherever they are relevant.\n",
    "\n",
    "Since the `colorbar` implementation is relatively complex, let's start from here."
   ]
  },
  {
   "cell_type": "code",
   "execution_count": null,
   "id": "cb7962e8",
   "metadata": {},
   "outputs": [],
   "source": [
    "# Same plot as before, but we also need to distinguish the two series of data using different markers\n",
    "# The fundamental line\n",
    "fig, ax = plt.subplots(figsize=(10,8))\n",
    "# Exactly as before\n",
    "ax.set_title('Use of Taylor and Morgan Over Time')\n",
    "ax.set_xlabel('Year')\n",
    "ax.set_ylabel('Number of Babies with a Given Name')\n",
    "ax.plot(morgan['Year'], morgan['Total'], color=(1,0,0,0.5), lw=1, ls='dashed')\n",
    "ax.plot(taylor['Year'], taylor['Total'], color=(0,0,1,0.5), lw=1, ls='dashed')\n",
    "# Notice the new marker arguments\n",
    "ax.scatter(morgan['Year'], morgan['Total'], c = morgan['Proportion'], \n",
    "           label = 'Morgan', cmap='spring_r', marker='^')\n",
    "ax.scatter(taylor['Year'], taylor['Total'], c = taylor['Proportion'], \n",
    "           label = 'Taylor', cmap='spring_r', marker='v')\n",
    "# Legend and grid\n",
    "ax.legend(loc='upper left')\n",
    "ax.grid(color=(0.5,0.5,0.5,0.2), axis='y', lw=0.25)"
   ]
  },
  {
   "cell_type": "markdown",
   "id": "c449e993",
   "metadata": {},
   "source": [
    "As for the color issue, we will need to implement a `colorbar`, a bar showing how to read the color graduation of the markers. **Warning** This is surprisingly complex in `matplotlib`. One of the reason why this is so complex is that we do not want the `colorbar` to be a part of the the `Axes` with the scatter plot, but we want it plotted immediately close to such `Axes`. So, we will need to tell `matplotlib` that we want the `colorbar` to take some space from the `Axes`. The other reason is that `matplotlib` offers a _lot_ of control over your `colorbar`, but the syntax becomes byzantine as soon as you need something more of the base use.\n",
    "\n",
    "In the next sub-section, I will show you the base use of `colorbar`. In the extra sub-section, I show a more complex case where we create our own colormap and we are more analytical about the color showed in the `colorbar` (for example, you may choose to not show the entire range of the `cmap`)."
   ]
  },
  {
   "cell_type": "markdown",
   "id": "4e06b8a0",
   "metadata": {},
   "source": [
    "#### Base Use\n",
    "\n",
    "This is a little more complex than what we have done before, so let me walk you through the process step by step. As a first step, we will create the same plot as above. However, we will do something we have not done so far. We will save in a new variable  what the method `ax.scatter()` returns (technically this is a `PatchCollection` object, but do not worry about this). So far, we have ignored all output from any `Axes` method, but it is often the case that your calls to `ax.scatter()`, `ax.plot()`, `ax.hist()`, etc. return objects that may be useful along the way. In this case, we will need this return for the construction of the `colorbar`."
   ]
  },
  {
   "cell_type": "code",
   "execution_count": null,
   "id": "dd545c8a",
   "metadata": {},
   "outputs": [],
   "source": [
    "# Same plot as before\n",
    "fig, ax = plt.subplots(figsize=(10,8))\n",
    "ax.set_title('Use of Taylor and Morgan Over Time')\n",
    "ax.set_xlabel('Year')\n",
    "ax.set_ylabel('Number of Babies with a Given Name')\n",
    "ax.plot(morgan['Year'], morgan['Total'], color=(1,0,0,0.5), lw=1, ls='dashed')\n",
    "ax.plot(taylor['Year'], taylor['Total'], color=(0,0,1,0.5), lw=1, ls='dashed')\n",
    "ax.scatter(taylor['Year'], taylor['Total'], c = taylor['Proportion'], \n",
    "           label = 'Taylor', cmap='spring_r', marker='v')\n",
    "# But now notice that we save what ax.scatter returns\n",
    "for_colorbar = ax.scatter(morgan['Year'], morgan['Total'], c = morgan['Proportion'], \n",
    "           label = 'Morgan', cmap='spring_r', marker='^')\n",
    "# Legend and grid\n",
    "ax.legend(loc='upper left')\n",
    "ax.grid(color=(0.5,0.5,0.5,0.2), axis='y', lw=0.25)"
   ]
  },
  {
   "cell_type": "markdown",
   "id": "04b7a12b",
   "metadata": {},
   "source": [
    "Now we will make room for the `colorbar` by subtracting space from the existing `Axes` (that is, `ax`) and creating a new `Axes` that will only contain the `colorbar`. You can think of this as creating a new parasitic `Axes` sucking vital room from the already existing `Axes` -- or, perhaps, you prefer to think about this gruesome imaginary. On a practical level, we will do this by:\n",
    "1. Importing the function `make_axes_locatable` from `mpl_toolkits.axes_grid1`.\n",
    "2. Passing the extant `Axes` to this function, which will result into an `AxesDivider`\n",
    "3. Asking the `AxesDivider` to vampirize the space of the existing `Axes` and create a new one"
   ]
  },
  {
   "cell_type": "code",
   "execution_count": null,
   "id": "cea76fad",
   "metadata": {},
   "outputs": [],
   "source": [
    "# import the function to take Axes' space\n",
    "from mpl_toolkits.axes_grid1 import make_axes_locatable\n",
    "\n",
    "# Take the space\n",
    "# 1. Create an AxesDivider\n",
    "divider = make_axes_locatable(ax)\n",
    "# 2. Ask the AxesDivider vampirize space for the Axes containing the barplot\n",
    "'''\n",
    "First argument: where the space will be created (on the right here)\n",
    "size: how much of the original Axes we are using\n",
    "pad: distance between the newly-created parasitic Axes and the original Axes \n",
    "return: a new Axes!\n",
    "'''\n",
    "cax = divider.append_axes('right', size='5%', pad=0.05)\n",
    "# We ask the notebook to visualize the figure\n",
    "fig"
   ]
  },
  {
   "cell_type": "markdown",
   "id": "6c1d11d0",
   "metadata": {},
   "source": [
    "##### Exercise 2\n",
    "\n",
    "Let's play around with the `AxesDivider`. Complete the code below to create a new parasitic `Axes` at the _bottom_ of the main `Axes` and divide it with a `pad` of `0.5` from the main `Axes`. \n",
    "\n",
    "**Notice** For once, we do not call our `Figure` object `fig` and our `Axes` object `ax`. This is because we do not want to overwrite the `fig` and `ax` we created above."
   ]
  },
  {
   "cell_type": "code",
   "execution_count": null,
   "id": "b52c440a",
   "metadata": {},
   "outputs": [],
   "source": [
    "# Same plot as before, but we use different names\n",
    "fig_ex, ax_ex = plt.subplots(figsize=(10,8))\n",
    "ax_ex.set_title('Use of Taylor and Morgan Over Time')\n",
    "ax_ex.set_xlabel('Year')\n",
    "ax_ex.set_ylabel('Number of Babies with a Given Name')\n",
    "ax_ex.plot(morgan['Year'], morgan['Total'], color=(1,0,0,0.5), lw=1, ls='dashed')\n",
    "ax_ex.plot(taylor['Year'], taylor['Total'], color=(0,0,1,0.5), lw=1, ls='dashed')\n",
    "ax_ex.scatter(taylor['Year'], taylor['Total'], c = taylor['Proportion'], \n",
    "           label = 'Taylor', cmap='spring_r', marker='v')\n",
    "# we save what ax.scatter output\n",
    "for_colorbar_ex = ax_ex.scatter(morgan['Year'], morgan['Total'], c = morgan['Proportion'], \n",
    "           label = 'Morgan', cmap='spring_r', marker='^')\n",
    "ax_ex.legend(loc='upper left')\n",
    "ax_ex.grid(color=(0.5,0.5,0.5,0.2), axis='y', lw=0.25)\n",
    "\n",
    "# Complete the code\n",
    "# 1. Create an AxesDivider\n",
    "divider_ex = make_axes_locatable( )\n",
    "# 2. Ask the AxesDivider vampirize space for the Axes containing the barplot.\n",
    "# Put the new Axes at the bottom and give it a 0.5 pad\n",
    "cax_ex = divider_ex.append_axes( )"
   ]
  },
  {
   "cell_type": "markdown",
   "id": "500ce4f1",
   "metadata": {},
   "source": [
    "At this point all we need to do is calling the `fig.colorbar()` method. For our purposes, this method has three main argument we need to specify:\n",
    "1. As a first positional argument, we need to pass something from which the `colorbar` will be able to infer a color scale. Here we will let the `colorbar` figure out what color scale we want by itself.\n",
    "2. The second argument we need to specify is the `cax` (_not_ `ax`!) argument, which regulates what `Axes` the `colormap` occupies. We will pass here the parasitic `Axes` we created for the occasion. (Try to pass the main `Axes` to this argument and see what happens!)\n",
    "3. The final argument is the `label`, where you should indicate the variable that the color map represents; in our case \"Proportion of Girls\""
   ]
  },
  {
   "cell_type": "code",
   "execution_count": null,
   "id": "da92b891",
   "metadata": {},
   "outputs": [],
   "source": [
    "'''\n",
    "The call to fig.colorbar()\n",
    "Positional argument: regulates color scale, here we pass the patchcollection saved above\n",
    "cax: which ax will the colormap occupy?\n",
    "label: what variable are representing with the color map?\n",
    "'''\n",
    "fig.colorbar(for_colorbar, cax=cax, label='Proportion of Girls')\n",
    "# visualize the figure\n",
    "fig"
   ]
  },
  {
   "cell_type": "markdown",
   "id": "8afd4890",
   "metadata": {},
   "source": [
    "##### Exercise 3\n",
    "\n",
    "Complete the code to create a `colorbar` at the _bottom_ of the main `Axes`. The code to create the new `Axes` at the bottom of the main `Axes` is already wirtten. You only need to fill the new `Axes` with the actual `colorbar`.\n",
    "\n",
    "\n",
    "**Extra** What's wrong with the `colorbar` now? Try to pass the argument `orientation=\"horizontal\"` and see what happens."
   ]
  },
  {
   "cell_type": "code",
   "execution_count": null,
   "id": "f942364f",
   "metadata": {},
   "outputs": [],
   "source": [
    "# Same plot\n",
    "fig_ex, ax_ex = plt.subplots(figsize=(10,8))\n",
    "ax_ex.set_title('Use of Taylor and Morgan Over Time')\n",
    "ax_ex.set_xlabel('Year')\n",
    "ax_ex.set_ylabel('Number of Babies with a Given Name')\n",
    "ax_ex.plot(morgan['Year'], morgan['Total'], color=(1,0,0,0.5), lw=1, ls='dashed')\n",
    "ax_ex.plot(taylor['Year'], taylor['Total'], color=(0,0,1,0.5), lw=1, ls='dashed')\n",
    "ax_ex.scatter(taylor['Year'], taylor['Total'], c = taylor['Proportion'], \n",
    "           label = 'Taylor', cmap='spring_r', marker='v')\n",
    "for_colorbar_ex = ax_ex.scatter(morgan['Year'], morgan['Total'], c = morgan['Proportion'], \n",
    "           label = 'Morgan', cmap='spring_r', marker='^')\n",
    "ax_ex.legend(loc='upper left')\n",
    "ax_ex.grid(color=(0.5,0.5,0.5,0.2), axis='y', lw=0.25)\n",
    "\n",
    "\n",
    "# Take the space\n",
    "divider_ex = make_axes_locatable(ax_ex)\n",
    "cax_ex = divider_ex.append_axes('bottom', size='5%', pad=0.5)\n",
    "\n",
    "# 3. Complete the call to fig.colorbar()\n",
    "fig_ex.colorbar( )"
   ]
  },
  {
   "cell_type": "markdown",
   "id": "9ccaa522",
   "metadata": {},
   "source": [
    "####  Marker Sizes and Legend Personalization\n",
    "\n",
    "Ok, we will come back to the previous plot in the extra section below -- it is a little more complex, so it is \"Extra\". For the moment, let's focus on the markers' sizes and how to modify them. Here we will use the `s` argument of `ax.scatterplot()`. You may pass both an `s` argument and a `c` (`cmap`) argument at the same time, but this will result in a confusing plot. As a rule of thumb, it is good to pass either the `c` (`cmap`) argument or the `s` argument. The `s` argument is to be preferred when you want to represent sizes. The `c` parameter is usually clearer for any other case. \n",
    "\n",
    "Since we want to use `s` to represent sizes, it makes sense to change the way the information is presented. The size of the markers will represent how many newborns are given the name \"Morgan\" (\"Taylor\") each year. On the y-axis we will have the proportion of newborns who are girls. \n",
    "\n",
    "Notice, for once `ax.legend()` is not good at inferring where to put the legend. We will pass the argument `loc` to this method to explicitly position the legend in rather empty upper left part of the plot."
   ]
  },
  {
   "cell_type": "code",
   "execution_count": null,
   "id": "a540ad67",
   "metadata": {},
   "outputs": [],
   "source": [
    "# The usual\n",
    "fig, ax = plt.subplots(figsize=(12,8))\n",
    "ax.set_title('Use of Taylor and Morgan Over Time')\n",
    "ax.set_xlabel('Year')\n",
    "# Now the change starts. We put proportion of girls on the y axis\n",
    "ax.set_ylabel('Proportion of girls among newborns with a given name')\n",
    "ax.set_ylim([0,1])\n",
    "# Now the scatter plot. notice the new arguments:\n",
    "# s: size of the markers. Notice we divide by 60 to get acceptable sizes\n",
    "ax.scatter(morgan['Year'], morgan['Proportion'], s = morgan['Total']/60, label = 'Morgan', color = 'red')\n",
    "ax.scatter(taylor['Year'], taylor['Proportion'], s = taylor['Total']/60, label = 'Taylor', color = 'blue')\n",
    "# Legend and grid\n",
    "ax.legend(loc='upper left')\n",
    "ax.grid(color=(0.5,0.5,0.5,0.2), axis='y', lw=0.25)"
   ]
  },
  {
   "cell_type": "markdown",
   "id": "d359b709",
   "metadata": {},
   "source": [
    "##### Exercise 4\n",
    "\n",
    "In the previous plot, we used the marker size (`s`) to represent the number of newborns given a certain name and we used the y-axis to show the proportion of girls among those newborns. Complete the code below to swap this around: use the marker size (`s`) to represent the proportion of girls and use the y-axis to represent the number of babies born with a given name.\n",
    "\n",
    "**Notice** In the plot above, when we passed the `s` argument to `ax.scatter()`, we multiplied the `Total` columns of the two `DataSet` by the scalar constant `60` to reach an aesthetically-pleasing result. You will have to do the same here, albeit with a different numerical constant. Try few values and choose the one you like most."
   ]
  },
  {
   "cell_type": "code",
   "execution_count": null,
   "id": "3b53e026",
   "metadata": {},
   "outputs": [],
   "source": [
    "# Start plot as above\n",
    "fig, ax = plt.subplots(figsize=(12,8))\n",
    "# Set the title, axis labels\n",
    "ax.set_title('Use of Taylor and Morgan Over Time')\n",
    "ax.set_xlabel('Year')\n",
    "ax.set_ylabel('Number of Babies with a Given Name')\n",
    "# Now the scatter plot. Swap the information:\n",
    "# Time on the x-axis, number newborns on the y-axis, markersize: proportion of girls\n",
    "# complete the call to plot the morgan data\n",
    "ax.scatter(, , s = , label = 'Morgan', color = 'red')\n",
    "# Complete the call to plot the taylor data\n",
    "ax.scatter(, , s = , label = 'Taylor', color = 'blue')\n",
    "# Legend and grid\n",
    "ax.legend()\n",
    "ax.grid(color=(0.5,0.5,0.5,0.2), axis='y', lw=0.25)"
   ]
  },
  {
   "cell_type": "markdown",
   "id": "d0bbb307",
   "metadata": {},
   "source": [
    "Now, the problem with the previous plots is that there is no indication whatsoever of what the marker size should mean. We need to change the `legend` and we will have to manually set what is displayed. \n",
    "\n",
    "To do this, the only difficulty is to manually create objects representing what we want the `legend` to show. Specifically, we want the legend to show 4 markers:\n",
    "\n",
    "1. A middle size red marker to be coupled with the label \"Morgan\"\n",
    "2. A middle size blue marker to be coupled with the label \"Taylor\"\n",
    "3. A small size white (black borders) marker to be coupled with the label \"100\"\n",
    "4. A big size white (black borders) marker to be coupled with the label \"10,000\"\n",
    "\n",
    "The first two markers in the `legend` show the meaning of the color code. The last two markers show the meaning of the marker size. As a side notice, I did not do the math and I put random labels to these last markers! If this was a publication-level plot you would have to figure out the exact size-value map. I believe, there must be a way to get this information directly from `matplolib` objects, but I am honestly not sure how. \n",
    "\n",
    "To produce the abstract objects representing the 4 markers we eventually want in the `legend`, we need to go one level deeper in the `matplotlib` API. Specifically, we need to get the abstract representation of lines, confusingly called `Line2D` from the `matplotlib.lines` submodule. Yes, even if we want to show round markers, we will need to go through the `Line2D` object, because a point is thought of as a line with only one point. The call to this object is quite self-explanatory at this point of the workshop and I will go through it in the comments below."
   ]
  },
  {
   "cell_type": "code",
   "execution_count": null,
   "id": "d0007c6b",
   "metadata": {},
   "outputs": [],
   "source": [
    "# Same plot as above\n",
    "fig, ax = plt.subplots(figsize=(12,8))\n",
    "ax.set_title('Use of Taylor and Morgan Over Time')\n",
    "ax.set_xlabel('Year')\n",
    "ax.set_ylabel('Proportion of girls among newborns with a given name')\n",
    "ax.set_ylim([0,1])\n",
    "ax.scatter(morgan['Year'], morgan['Proportion'], s = morgan['Total']/60, label = 'Morgan', color = 'red')\n",
    "ax.scatter(taylor['Year'], taylor['Proportion'], s = taylor['Total']/60, label = 'Taylor', color = 'blue')\n",
    "ax.grid(color=(0.5,0.5,0.5,0.2), axis='y', lw=0.25)\n",
    "\n",
    "# Now create the abstract object\n",
    "from matplotlib.lines import Line2D\n",
    "\n",
    "'''\n",
    "Line2D arguments:\n",
    "first positional argument: xdata. This is irrelevant for this code. We will pass the placeholder xdata 0\n",
    "second positional argument: ydata. This is irrelevant for this code. We will pass the placeholder ydata 0\n",
    "marker: what kind of marker we want. Use the same as in the plot ('o')\n",
    "linestyle: the style of the line to be put behind the marker. We set it to \"None\" for no line\n",
    "color: the color of the marker *border*\n",
    "facecolor: the color of the marker *fill* (or inside)\n",
    "markersize: how big the marker is\n",
    "'''\n",
    "legend_elements = [Line2D([0], [0], marker='o', color='white', linestyle='None',\n",
    "                          markerfacecolor='blue', markersize=15),\n",
    "                  Line2D([0], [0], marker='o', color='white', linestyle='None',\n",
    "                          markerfacecolor='red', markersize=15),\n",
    "                  Line2D([0], [0], marker='o', color='black', linestyle='None',\n",
    "                          markerfacecolor='white', markersize=5),\n",
    "                  Line2D([0], [0], marker='o', color='black', linestyle='None',\n",
    "                          markerfacecolor='white', markersize=20)]\n",
    "\n",
    "\n",
    "# New legend\n",
    "ax.legend(legend_elements, ['Morgan', 'Taylor', '100 newborns', '10,000 newborns'], loc='upper left')"
   ]
  },
  {
   "cell_type": "markdown",
   "id": "c9ebd459",
   "metadata": {},
   "source": [
    "##### Exercise 5\n",
    "\n",
    "Modify the code below to add a new marker in the `legend`. The new marker should appear between the third marker (labelled \"100 newborns\") and the fourth marker (labelled \"10,000 newborns\"). It shall be identical to the third and fourth marker but have a `markersize=12.5`. In the `legend`, the new marker shall be labelled \"5050 newborns\"."
   ]
  },
  {
   "cell_type": "code",
   "execution_count": null,
   "id": "6e0d410c",
   "metadata": {},
   "outputs": [],
   "source": [
    "from matplotlib.patches import Circle, CirclePolygon\n",
    "from matplotlib.lines import Line2D\n",
    "\n",
    "# Modify the code:\n",
    "# Add the new marker in between the third and fourth markers\n",
    "legend_elements = [Line2D([0], [0], marker='o', color='white', linestyle='None',\n",
    "                          markerfacecolor='blue', markersize=15),\n",
    "                  Line2D([0], [0], marker='o', color='white', linestyle='None',\n",
    "                          markerfacecolor='red', markersize=15),\n",
    "                  Line2D([0], [0], marker='o', color='black', linestyle='None',\n",
    "                          markerfacecolor='white', markersize=5),\n",
    "                  Line2D([0], [0], marker='o', color='black', linestyle='None',\n",
    "                          markerfacecolor='white', markersize=20)]\n",
    "\n",
    "# Usual plot\n",
    "fig, ax = plt.subplots(figsize=(12,8))\n",
    "ax.set_title('Use of Taylor and Morgan Over Time')\n",
    "ax.set_xlabel('Year')\n",
    "ax.set_ylabel('Proportion of girls among newborns with a given name')\n",
    "ax.set_ylim([0,1])\n",
    "ax.scatter(morgan['Year'], morgan['Proportion'], s = morgan['Total']/60, label = 'Morgan', color = 'red')\n",
    "ax.scatter(taylor['Year'], taylor['Proportion'], s = taylor['Total']/60, label = 'Taylor', color = 'blue')\n",
    "ax.grid(color=(0.5,0.5,0.5,0.2), axis='y', lw=0.25)\n",
    "\n",
    "# Modify the code:\n",
    "# Add the new marker to the legend\n",
    "ax.legend(legend_elements, ['Morgan', 'Taylor', '100 newborns', '10,000 newborns'], loc='upper left')"
   ]
  },
  {
   "cell_type": "markdown",
   "id": "0e7dd9b4",
   "metadata": {},
   "source": [
    "### Extra: More advanced uses of `fig.colorbar()` and create your own `cmap`\n",
    "\n",
    "It looks like the `colorbar` scale does not actually reach the ends of the `cmap` -- there are no `0` and `1` in the `colorbar`! This is not just a matter of not showing the `0` or `1` marks in the `colormap` `axis`. The issue is that when we pass (as we do above) a `Collection` as the first positional argument of `fig.colorbar()`, the color span of the resulting `colorbar` will only contain those colors that are actually present in the plot. This means that our `colorbar` does not contain the extremes of the chosen `cmap` (that is pure yellow and pure purple) since values of `0` and `1` are never observed in the plot. \n",
    "\n",
    "To get a sense of this, notice how the `colormap` changes once we use the \"Morgan\" data to create our `colormap`."
   ]
  },
  {
   "cell_type": "code",
   "execution_count": null,
   "id": "f87ccc7f",
   "metadata": {
    "scrolled": true
   },
   "outputs": [],
   "source": [
    "# Same plot as before\n",
    "fig, ax = plt.subplots(figsize=(10,8))\n",
    "ax.set_title('Use of Taylor and Morgan Over Time')\n",
    "ax.set_xlabel('Year')\n",
    "ax.set_ylabel('Number of Babies with a Given Name')\n",
    "ax.plot(morgan['Year'], morgan['Total'], color=(1,0,0,0.5), lw=1, ls='dashed')\n",
    "ax.plot(taylor['Year'], taylor['Total'], color=(0,0,1,0.5), lw=1, ls='dashed')\n",
    "# But now we take the return of the \"Taylor\" call to ax.scatter()\n",
    "for_colorbar = ax.scatter(taylor['Year'], taylor['Total'], c = taylor['Proportion'], \n",
    "           label = 'Taylor', cmap='spring_r', marker='v')\n",
    "ax.scatter(morgan['Year'], morgan['Total'], c = morgan['Proportion'], \n",
    "           label = 'Morgan', cmap='spring_r', marker='^')\n",
    "ax.legend(loc='upper left')\n",
    "ax.grid(color=(0.5,0.5,0.5,0.2), axis='y', lw=0.25)\n",
    "\n",
    "# Same color bar code (but we pass something different)\n",
    "divider = make_axes_locatable(ax)\n",
    "cax = divider.append_axes('right', size='5%', pad=0.05)\n",
    "fig.colorbar(for_colorbar, cax=cax, label='Proportion of Girls')"
   ]
  },
  {
   "cell_type": "markdown",
   "id": "f8f9361c",
   "metadata": {},
   "source": [
    "The `colormap` color span changed! Again, this is due to the colors (values) actually observed in the \"Taylor\" data as opposed to the colors (values) observed in the \"Morgan\" data. \n",
    "\n",
    "But this is far from ideal. It is clear that if we use the colors from the \"Taylor\" data, the `colormap` will not cover the highest colors (values) of the \"Morgan\" data. On the other hand, if we use the colors from the \"Morgan\" data, the `colormap` will not cover the lowest colors (values) of the \"Taylor\" data. Quite clearly, we need to manually specify the color range for the `colorbar`. While we are here, we will specify that we want the entire `cmap`: all the colors in the color map from `0` to `1`.\n",
    "\n",
    "To do this, we need to pass a `ScalarMappable` as the first argument of the `fig.colorbar()` call.  A `ScalarMappable` maps numerical values to coordinates in the RGBA space -- it is responsible for the transformation of a number to a color in our plots above. In practice, you input a number between 0 and 1 and it outputs a color. This entails that we will also need to manually instantiate such an object: we will use a new submodule of `matplotlib` for this purpose, `matplotlib.cm`. `Matplotlib.cm` deals with things related to color maps. Step by step, this is what we will do:    \n",
    "\n",
    "1. Import `matplotlib.cm` as `cm`\n",
    "1. We need to create a normalizer. This will be an object of the type `cm.colors.Normalize`. This object has two main arguments, _vmin_ and _vmax_. These arguments specify the lowest (highest) numerical values that you need to map to RGBA coordinates -- these extreme values map onto the extremes of your colormap. The `cm.colors.Normalize` object transforms scalar numbers between _vmin_ and _vmax_ into scalars between 0 and 1 -- as the name suggests, the object actually normalizes the input! In our case, we are dealing with a proportion, whose natural span is \\[0,1\\]. So, we will pass `vmin=0` and `vmax=1`.\n",
    "2. Instatiate an object of the class `cm.ScalarMappable`. As its first positional, we will pass the `Normalize` just created. Moreover, we need to specify what color map we want in the `cm.ScalarMappable` through the `cmap` argument. You can both pass your own personalized `cmap`, or the usual keywords corresponding to the pre-installed color maps in `matplotlib`. \n",
    "\n",
    "<div class=\"alert alert-block alert-success\">\n",
    "    <b>Different Normalizer</b>: There are many ways to map a range of values to the real numbers between 0 and 1. The <code>cm.colors.Normalize()</code> object described above uses a liner projection. However, one may want to use different, non-linear methods -- such as a logarthmic mapping. <a href=\"  https://matplotlib.org/3.1.0/tutorials/colors/colormapnorms.html\n",
    "        \">This tutorial</a> shows you the different possibilities already implemented in matplotlib.\n",
    "    </div>"
   ]
  },
  {
   "cell_type": "code",
   "execution_count": null,
   "id": "3525a6cf",
   "metadata": {},
   "outputs": [],
   "source": [
    "# Usual plot\n",
    "fig, ax = plt.subplots(figsize=(10,8))\n",
    "ax.set_title('Use of Taylor and Morgan Over Time')\n",
    "ax.set_xlabel('Year')\n",
    "ax.set_ylabel('Number of Babies with a Given Name')\n",
    "ax.plot(morgan['Year'], morgan['Total'], color=(1,0,0,0.5), lw=1, ls='dashed')\n",
    "ax.plot(taylor['Year'], taylor['Total'], color=(0,0,1,0.5), lw=1, ls='dashed')\n",
    "# But we do not need to save any return now!\n",
    "ax.scatter(taylor['Year'], taylor['Total'], c = taylor['Proportion'], \n",
    "           label = 'Taylor', cmap='spring_r', marker='v')\n",
    "ax.scatter(morgan['Year'], morgan['Total'], c = morgan['Proportion'], \n",
    "           label = 'Morgan', cmap='spring_r', marker='^')\n",
    "ax.legend(loc='upper left')\n",
    "ax.grid(color=(0.5,0.5,0.5,0.2), axis='y', lw=0.25)\n",
    "\n",
    "# Create the parasitic Axes\n",
    "divider = make_axes_locatable(ax)\n",
    "cax = divider.append_axes('right', size='5%', pad=0.05)\n",
    "\n",
    "# New part\n",
    "# Import cm\n",
    "import matplotlib.cm as cm\n",
    "# Create the Normalize object as discussed above\n",
    "norm=cm.colors.Normalize(vmin=0, vmax=1)\n",
    "# Now the ScalarMappable to be passed to colorbar\n",
    "# Notice that we pass the same cmap used in the plot\n",
    "scalar_mappable = cm.ScalarMappable(norm, cmap='spring_r')\n",
    "\n",
    "# Finally, we can pass the Scalar mappable just created to the colorbar\n",
    "fig.colorbar(scalar_mappable, cax=cax, label='Proportion of Girls')"
   ]
  },
  {
   "cell_type": "markdown",
   "id": "249cba46",
   "metadata": {},
   "source": [
    "Much better! As a final touch, we will also learn how to construct our own colormap. It is traditional (at least in Western societies) to signal a newborn boy with the color blue and a newborn girl with the color pink. Questionable as it may be, this colorscheme will probably be immediately readable by a Western audience. So, let's implement this colorscheme in our own `cmap`.\n",
    "\n",
    "Under the hood, a `cmap` is an object converting values between 0 and 1 to RGBA coordinates. The `cm.Normalize()` object we created above makes sure values are normalized between 0 and 1 before being ingested by the `cmap`. So, when maplotlib passes the normalized data (i.e. from 0 to 1) to a `cmap` , it gets back the RGBA coordinate for each point based on the data. To create a `cmap` , we need to invert this operation. That is, we need to specify a way to map number from 0 to 1 to RGBA coordinates. \n",
    "\n",
    "To create our own map from number to RGBA, we will use the `LinearSegmentedColormap` object from the `matplotlib.colors` sub-moduel. We will use the named colors 'lightskyblue' and 'pink' as the extremes of our colormap. Lightskyblue will map to 0 (all newborns with a given name were registered as boys) and pink will map to 1 (all newborns with a given name were registered girls). In between, we will use a linear interpolation between these two colors -- `LinearSegmentedColormap` does this for us.\n",
    "\n",
    "\n",
    "<div class=\"alert alert-block alert-success\">\n",
    "    <b>LinearSegmentedColormap</b>: LinearSegmentedColormap is a powerful, yet complex object. Our case is actually the simplest possible -- we just have two colors, at the start and the end of the scale. In cases like these, one can use the `.from_list()` method to create the colormap -- as shown in the code below. What happens when we want a specific color (say white) in the exact middle of the scale? LinearSegmentedColormap can manage this case, and more complex cases. See <a href=\"https://matplotlib.org/3.1.0/gallery/color/custom_cmap.html#sphx-glr-gallery-color-custom-cmap-py\">this tutorial</a> for a more extensive introduction.\n",
    "    </div>"
   ]
  },
  {
   "cell_type": "code",
   "execution_count": null,
   "id": "9f5a5c95",
   "metadata": {},
   "outputs": [],
   "source": [
    "# Import what we need to create a cmap\n",
    "from matplotlib.colors import LinearSegmentedColormap\n",
    "# Create the cmap. We only specify the name and the colors at the extremes\n",
    "new_cmap = LinearSegmentedColormap.from_list(name = 'boy_girl_cmap', colors = ['lightskyblue', 'pink'])\n",
    "\n",
    "# Same plot as above\n",
    "fig, ax = plt.subplots(figsize=(10,8))\n",
    "ax.set_title('Use of Taylor and Morgan Over Time')\n",
    "ax.set_xlabel('Year')\n",
    "ax.set_ylabel('Number of Babies with a Given Name')\n",
    "ax.plot(morgan['Year'], morgan['Total'], color=(1,0,0,0.5), lw=1, ls='dashed')\n",
    "ax.plot(taylor['Year'], taylor['Total'], color=(0,0,1,0.5), lw=1, ls='dashed')\n",
    "# Notice the new colormap!\n",
    "ax.scatter(taylor['Year'], taylor['Total'], c = taylor['Proportion'], \n",
    "           label = 'Taylor', cmap=new_cmap, marker='v')\n",
    "ax.scatter(morgan['Year'], morgan['Total'], c = morgan['Proportion'], \n",
    "           label = 'Morgan', cmap=new_cmap, marker='^')\n",
    "ax.legend(loc='upper left')\n",
    "ax.grid(color=(0.5,0.5,0.5,0.2), axis='y', lw=0.25)\n",
    "\n",
    "# Now the colorbar\n",
    "divider = make_axes_locatable(ax)\n",
    "cax = divider.append_axes('right', size='5%', pad=0.05)\n",
    "norm=cm.colors.Normalize(vmin=0, vmax=1)\n",
    "# Scalar mappable: notice the new colormap\n",
    "scalar_mappable = cm.ScalarMappable(norm, cmap=new_cmap)\n",
    "fig.colorbar(scalar_mappable, cax=cax, label='Proportion of Girls')"
   ]
  },
  {
   "cell_type": "markdown",
   "id": "7f49d1cd",
   "metadata": {},
   "source": [
    "##### Exercise E\n",
    "\n",
    "Complete/modify the code to create and deploy your own new `cmap`. Use any two colors you would like as extremes, but remember to create some contrast."
   ]
  },
  {
   "cell_type": "code",
   "execution_count": null,
   "id": "2fc36db3",
   "metadata": {},
   "outputs": [],
   "source": [
    "# Complete the code:\n",
    "# Create the cmap. \n",
    "cmap_exercise = LinearSegmentedColormap.from_list()\n",
    "\n",
    "# Usual plot\n",
    "fig, ax = plt.subplots(figsize=(10,8))\n",
    "ax.set_title('Use of Taylor and Morgan Over Time')\n",
    "ax.set_xlabel('Year')\n",
    "ax.set_ylabel('Number of Babies with a Given Name')\n",
    "ax.plot(morgan['Year'], morgan['Total'], color=(1,0,0,0.5), lw=1, ls='dashed')\n",
    "ax.plot(taylor['Year'], taylor['Total'], color=(0,0,1,0.5), lw=1, ls='dashed')\n",
    "\n",
    "# MODIFY the code:\n",
    "# Change the cmap to your new cmap\n",
    "ax.scatter(taylor['Year'], taylor['Total'], c = taylor['Proportion'], \n",
    "           label = 'Taylor', cmap=cmap_exercise, marker='v')\n",
    "ax.scatter(morgan['Year'], morgan['Total'], c = morgan['Proportion'], \n",
    "           label = 'Morgan', cmap=cmap_exercise, marker='^')\n",
    "\n",
    "ax.legend(loc='upper left')\n",
    "ax.grid(color=(0.5,0.5,0.5,0.2), axis='y', lw=0.25)\n",
    "\n",
    "# Now the colorbar\n",
    "divider = make_axes_locatable(ax)\n",
    "cax = divider.append_axes('right', size='5%', pad=0.05)\n",
    "norm=cm.colors.Normalize(vmin=0, vmax=1)\n",
    "\n",
    "# COMPLETE the code:\n",
    "# Use the new cmap in your ScalarMappable\n",
    "scalar_mappable = \n",
    "\n",
    "# Add colorbar\n",
    "fig.colorbar(scalar_mappable, cax=cax, label='Proportion of Girls')"
   ]
  }
 ],
 "metadata": {
  "kernelspec": {
   "display_name": "Python 3",
   "language": "python",
   "name": "python3"
  },
  "language_info": {
   "codemirror_mode": {
    "name": "ipython",
    "version": 3
   },
   "file_extension": ".py",
   "mimetype": "text/x-python",
   "name": "python",
   "nbconvert_exporter": "python",
   "pygments_lexer": "ipython3",
   "version": "3.9.6"
  }
 },
 "nbformat": 4,
 "nbformat_minor": 5
}
