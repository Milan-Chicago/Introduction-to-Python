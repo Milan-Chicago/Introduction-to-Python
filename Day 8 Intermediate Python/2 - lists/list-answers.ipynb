{
 "cells": [
  {
   "cell_type": "markdown",
   "metadata": {},
   "source": [
    "[![Open In Colab](https://colab.research.google.com/assets/colab-badge.svg)](https://colab.research.google.com/github/nuitrcs/NextStepsInPython/blob/master/listComprehension/list-answers.ipynb)"
   ]
  },
  {
   "cell_type": "markdown",
   "metadata": {},
   "source": [
    "#### <br>*If you are using Google Colab, first run the code cell below. You can run a cell by clicking in the cell and clicking on the arrow that appears on the left side of the cell. DO NOT run this cell if you are not using Google Colab.*"
   ]
  },
  {
   "cell_type": "code",
   "execution_count": null,
   "metadata": {},
   "outputs": [],
   "source": [
    "!wget https://raw.githubusercontent.com/nuitrcs/NextStepsInPython/master/listComprehension/genelengths.txt\n",
    "!wget https://raw.githubusercontent.com/nuitrcs/NextStepsInPython/master/listComprehension/genes.txt\n",
    "!wget https://github.com/nuitrcs/NextStepsInPython/blob/master/listComprehension/syntax.png"
   ]
  },
  {
   "cell_type": "markdown",
   "metadata": {},
   "source": [
    "# <br><br>List comprehension"
   ]
  },
  {
   "cell_type": "markdown",
   "metadata": {},
   "source": [
    "Notebook contents:\n",
    "<br>Part One - Introduction\n",
    "<br>Part Two - 7 uses of List Comprehensions with exercises\n",
    "<br>Part Three - Dictionary Comprehensions"
   ]
  },
  {
   "cell_type": "markdown",
   "metadata": {},
   "source": [
    "## Part One - Introduction"
   ]
  },
  {
   "cell_type": "markdown",
   "metadata": {},
   "source": [
    "#### Review: What is a list?"
   ]
  },
  {
   "cell_type": "markdown",
   "metadata": {},
   "source": [
    "- A collection of objects\n",
    "- The objects in a list are stored in order\n",
    "- Designated by square brackets\n",
    "- Objects are separated by commas\n",
    "- Great for looping through\n",
    "- One of the most commonly used objects in Python"
   ]
  },
  {
   "cell_type": "code",
   "execution_count": null,
   "metadata": {},
   "outputs": [],
   "source": [
    "#A sample Python list of food-themed video games\n",
    "food_games = [\"BurgerTime\", \"Food Fight\", \"Pac-Man\", \"Order Up!\", \n",
    "              \"Cooking Mama\", \"Kool-Aid Man\", \"Pizza Tycoon\"]"
   ]
  },
  {
   "cell_type": "markdown",
   "metadata": {},
   "source": [
    "*If you are new to Jupyter notebooks, each gray cell is a piece of code. To run the code, click inside the gray cell and either click the triangle button up top, or press shift+return (or shift+enter) on your keyboard. If you are using Google Colab, shift+return should also work.*"
   ]
  },
  {
   "cell_type": "markdown",
   "metadata": {},
   "source": [
    "#### <br>What is a list comprehension?"
   ]
  },
  {
   "cell_type": "markdown",
   "metadata": {},
   "source": [
    "A list comprehension is a way to make a new list and add certain items to that list in one line of code.\n",
    "<br><br>A list comprehension replaces the code to make an empty list and use a *for loop* to append items onto the empty list.\n",
    "<br><br>If you're still confused about what exactly it is, don't worry, we'll get to some examples soon."
   ]
  },
  {
   "cell_type": "markdown",
   "metadata": {},
   "source": [
    "#### <br>Why use a list comprehension?"
   ]
  },
  {
   "cell_type": "markdown",
   "metadata": {},
   "source": [
    "- Faster to type\n",
    "- Neater - turns something big and clunky into something straightforward\n",
    "- Faster to run than writing a for loop"
   ]
  },
  {
   "cell_type": "markdown",
   "metadata": {},
   "source": [
    "#### <br>When should you use a list comprehension?"
   ]
  },
  {
   "cell_type": "markdown",
   "metadata": {},
   "source": [
    "- If you are appending to an empty list using a for loop\n",
    "- AND, the list is the only output of your for loop"
   ]
  },
  {
   "cell_type": "markdown",
   "metadata": {},
   "source": [
    "#### <br>How to write a list comprehension"
   ]
  },
  {
   "cell_type": "markdown",
   "metadata": {},
   "source": [
    "When it comes to making lists, a list comprehension and a *for loop* are just two ways of saying the same thing."
   ]
  },
  {
   "cell_type": "markdown",
   "metadata": {},
   "source": [
    "Let's say you're going to the grocery store with a list of items you want to buy, but it is March 2020, so the store is missing a lot of items on your list. You could phrase your sentence in either of these two ways:\n",
    "1. For every item on the shopping list, if the item is available at the store, I will add the item to my cart.\n",
    "2. I will add the item to my cart for every item on the shopping list, if the item is available in the store.\n"
   ]
  },
  {
   "cell_type": "markdown",
   "metadata": {},
   "source": [
    "**Now let's write the same scenario in Python code:**"
   ]
  },
  {
   "cell_type": "markdown",
   "metadata": {},
   "source": [
    "First, we'll save our shopping list."
   ]
  },
  {
   "cell_type": "code",
   "execution_count": null,
   "metadata": {},
   "outputs": [],
   "source": [
    "shop_list = [\"oranges\", \"bread\", \"frozen spinach\", \"ice cream\", \"toilet paper\"]"
   ]
  },
  {
   "cell_type": "markdown",
   "metadata": {},
   "source": [
    "Next, we'll save the list of items available at the store."
   ]
  },
  {
   "cell_type": "code",
   "execution_count": null,
   "metadata": {},
   "outputs": [],
   "source": [
    "store_list = [\"oranges\", \"milk\", \"bar soap\", \"pears\", \"canned artichokes\", \n",
    "              \"frozen spinach\", \"frozen burrito\", \"ice cream\", \"peanuts\"]"
   ]
  },
  {
   "cell_type": "markdown",
   "metadata": {},
   "source": [
    "### <br>Exercise 0"
   ]
  },
  {
   "cell_type": "markdown",
   "metadata": {},
   "source": [
    "Forget about list comprehensions for a minute. Using what you already know, write Python code to make a new list that only includes the items in `shop_list` that are also in `store_list`."
   ]
  },
  {
   "cell_type": "code",
   "execution_count": null,
   "metadata": {},
   "outputs": [],
   "source": []
  },
  {
   "cell_type": "code",
   "execution_count": null,
   "metadata": {},
   "outputs": [],
   "source": []
  },
  {
   "cell_type": "markdown",
   "metadata": {},
   "source": [
    "<br>*<br>*<br>*<br>*<br>*<br>*"
   ]
  },
  {
   "cell_type": "markdown",
   "metadata": {},
   "source": [
    "The code you wrote might look something like this:"
   ]
  },
  {
   "cell_type": "markdown",
   "metadata": {},
   "source": [
    "**for loop solution**"
   ]
  },
  {
   "cell_type": "code",
   "execution_count": null,
   "metadata": {},
   "outputs": [],
   "source": [
    "my_cart = []\n",
    "for item in shop_list:\n",
    "    if item in store_list:\n",
    "        my_cart.append(item)\n",
    "print(my_cart)"
   ]
  },
  {
   "cell_type": "markdown",
   "metadata": {},
   "source": [
    "<br>To make this code faster to type, one thing we can change is the length of the temporary variable that gets created in our *for loop*. `i` is a very commonly used name for a variable that is only used inside a *for loop*."
   ]
  },
  {
   "cell_type": "markdown",
   "metadata": {},
   "source": [
    "**for loop solution**"
   ]
  },
  {
   "cell_type": "code",
   "execution_count": null,
   "metadata": {},
   "outputs": [],
   "source": [
    "my_cart = []\n",
    "for i in shop_list:\n",
    "    if i in store_list:\n",
    "        my_cart.append(i)\n",
    "print(my_cart)"
   ]
  },
  {
   "cell_type": "markdown",
   "metadata": {},
   "source": [
    "<br>All of the code in the cell above (except the print statement) can be written as a list comprehension. It would look like this:"
   ]
  },
  {
   "cell_type": "markdown",
   "metadata": {},
   "source": [
    "**list comprehension solution**"
   ]
  },
  {
   "cell_type": "code",
   "execution_count": null,
   "metadata": {},
   "outputs": [],
   "source": [
    "my_cart = [i for i in shop_list if i in store_list]\n",
    "print(my_cart)"
   ]
  },
  {
   "cell_type": "markdown",
   "metadata": {},
   "source": [
    "#### <br>List comprehension syntax"
   ]
  },
  {
   "cell_type": "markdown",
   "metadata": {},
   "source": [
    "The figure below shows how each line of code in the *for loop* solution is transferred to the syntax of the list comprehension."
   ]
  },
  {
   "cell_type": "markdown",
   "metadata": {},
   "source": [
    "![syntax](syntax.png \"\")"
   ]
  },
  {
   "cell_type": "markdown",
   "metadata": {},
   "source": [
    "## <br><br>Part 2 - 7 uses of list comprehensions with exercises"
   ]
  },
  {
   "cell_type": "markdown",
   "metadata": {},
   "source": [
    "7 uses of list comprehensions:\n",
    "1. make a list of items that are shared (or unique) between two lists\n",
    "2. make a list of numbers in a certain range\n",
    "3. change all the items in a list in the same way\n",
    "4. filter a list by some condition (or multiple conditions)\n",
    "5. filter a dictionary by some condition (or multiple conditions)\n",
    "6. make a list out of the lines in a file\n",
    "7. make a list out of comma-separated items in a file\n",
    "\n",
    "We will also cover dictionary comprehensions."
   ]
  },
  {
   "cell_type": "markdown",
   "metadata": {},
   "source": [
    "### Example 1: Finding items that are shared between two lists"
   ]
  },
  {
   "cell_type": "markdown",
   "metadata": {},
   "source": [
    "This is the example we just completed at the end of Part One:"
   ]
  },
  {
   "cell_type": "code",
   "execution_count": null,
   "metadata": {},
   "outputs": [],
   "source": [
    "store_list = [\"oranges\", \"milk\", \"bar soap\", \"pears\", \"canned artichokes\", \"frozen spinach\", \n",
    "              \"frozen burrito\", \"ice cream\", \"peanuts\"]\n",
    "\n",
    "shop_list = [\"oranges\", \"bread\", \"frozen spinach\", \"ice cream\", \"toilet paper\"]"
   ]
  },
  {
   "cell_type": "markdown",
   "metadata": {},
   "source": [
    "#### `for` loop"
   ]
  },
  {
   "cell_type": "code",
   "execution_count": null,
   "metadata": {},
   "outputs": [],
   "source": [
    "my_cart = []\n",
    "for i in shop_list:\n",
    "    if i in store_list:\n",
    "        my_cart.append(i)\n",
    "print(my_cart)"
   ]
  },
  {
   "cell_type": "markdown",
   "metadata": {},
   "source": [
    "#### list comprehension"
   ]
  },
  {
   "cell_type": "code",
   "execution_count": null,
   "metadata": {},
   "outputs": [],
   "source": [
    "my_cart = [i for i in shop_list if i in store_list]\n",
    "print(my_cart)"
   ]
  },
  {
   "cell_type": "markdown",
   "metadata": {},
   "source": [
    "#### <br>Exercise 1"
   ]
  },
  {
   "cell_type": "code",
   "execution_count": null,
   "metadata": {},
   "outputs": [],
   "source": [
    "my_numbers = [3, 4, 5, 10, 12, 13, 24, 27, 29, 30, 44, 45]\n",
    "primes = [2, 3, 5, 7, 11, 13, 17, 19, 23, 29, 31, 37, 41, 43, 47]"
   ]
  },
  {
   "cell_type": "markdown",
   "metadata": {},
   "source": [
    "<br>Run the cell above to store the two lists. Write a list comprehension in the cell below to make a new list called `my_primes` that contains all the numbers in `my_numbers` that are also in `primes`."
   ]
  },
  {
   "cell_type": "code",
   "execution_count": null,
   "metadata": {},
   "outputs": [],
   "source": [
    "my_primes = [i for i in my_numbers if i in primes]"
   ]
  },
  {
   "cell_type": "code",
   "execution_count": null,
   "metadata": {},
   "outputs": [],
   "source": [
    "print(my_primes)"
   ]
  },
  {
   "cell_type": "markdown",
   "metadata": {},
   "source": [
    "<br>You can also use list comprehension to find items that are not shared between two lists."
   ]
  },
  {
   "cell_type": "markdown",
   "metadata": {},
   "source": [
    "Write a list comprehension to make a list called `not_primes`. It should contain all the numbers in the `my_numbers` list that are `not in` the `primes list`."
   ]
  },
  {
   "cell_type": "code",
   "execution_count": null,
   "metadata": {},
   "outputs": [],
   "source": [
    "not_primes = [i for i in my_numbers if i not in primes]"
   ]
  },
  {
   "cell_type": "code",
   "execution_count": null,
   "metadata": {},
   "outputs": [],
   "source": [
    "print(not_primes)"
   ]
  },
  {
   "cell_type": "markdown",
   "metadata": {},
   "source": [
    "### <br><br>Example 2: Lists of numbers in a certain range"
   ]
  },
  {
   "cell_type": "markdown",
   "metadata": {},
   "source": [
    "`range` is a handy function to use when you want to loop through a list of sequential numbers. You can give it parameters for which number to start with, which number to end with, and how many numbers to increment by."
   ]
  },
  {
   "cell_type": "markdown",
   "metadata": {},
   "source": [
    "#### `for` loops"
   ]
  },
  {
   "cell_type": "code",
   "execution_count": null,
   "metadata": {},
   "outputs": [],
   "source": [
    "for i in range(0,10):\n",
    "    print(i)"
   ]
  },
  {
   "cell_type": "markdown",
   "metadata": {},
   "source": [
    "Remember that Python does not include the last number when indexing, so 10 is not included."
   ]
  },
  {
   "cell_type": "code",
   "execution_count": null,
   "metadata": {},
   "outputs": [],
   "source": [
    "for i in range(1,11):\n",
    "    print(i)"
   ]
  },
  {
   "cell_type": "code",
   "execution_count": null,
   "metadata": {},
   "outputs": [],
   "source": [
    "#print odd numbers between 1 and 10\n",
    "for i in range(1,11,2):\n",
    "    print(i)"
   ]
  },
  {
   "cell_type": "code",
   "execution_count": null,
   "metadata": {},
   "outputs": [],
   "source": [
    "#print even numbers between 1 and 10\n",
    "for i in range(2,11,2):\n",
    "    print(i)"
   ]
  },
  {
   "cell_type": "markdown",
   "metadata": {},
   "source": [
    "#### list comprehension"
   ]
  },
  {
   "cell_type": "code",
   "execution_count": null,
   "metadata": {},
   "outputs": [],
   "source": [
    "even_numbers = [i for i in range(2,11,2)]\n",
    "print(even_numbers)"
   ]
  },
  {
   "cell_type": "markdown",
   "metadata": {},
   "source": [
    "#### <br>Exercise 2"
   ]
  },
  {
   "cell_type": "markdown",
   "metadata": {},
   "source": [
    "Write a list comprehension to make a list called `threes` of every third number between 3 and 99. "
   ]
  },
  {
   "cell_type": "code",
   "execution_count": null,
   "metadata": {},
   "outputs": [],
   "source": [
    "threes = [i for i in range(3,100,3)]"
   ]
  },
  {
   "cell_type": "code",
   "execution_count": null,
   "metadata": {},
   "outputs": [],
   "source": [
    "print(threes)"
   ]
  },
  {
   "cell_type": "markdown",
   "metadata": {},
   "source": [
    "### <br><br>Example 3: Changing all items in a list"
   ]
  },
  {
   "cell_type": "markdown",
   "metadata": {},
   "source": [
    "We can also make changes to `i` before we add it to the list. We do this at the beginning of the list comprehension."
   ]
  },
  {
   "cell_type": "code",
   "execution_count": null,
   "metadata": {},
   "outputs": [],
   "source": [
    "squares = [i**2 for i in range(1,11)]\n",
    "print(squares)"
   ]
  },
  {
   "cell_type": "markdown",
   "metadata": {},
   "source": [
    "<br>This makes list comprehension great for making changes to every item in an existing list. For example:"
   ]
  },
  {
   "cell_type": "code",
   "execution_count": null,
   "metadata": {},
   "outputs": [],
   "source": [
    "names = [\"Cathy\", \"alvin\", \"MICAH\", \"tOmAs\"]"
   ]
  },
  {
   "cell_type": "code",
   "execution_count": null,
   "metadata": {},
   "outputs": [],
   "source": [
    "names = [i.lower().capitalize() for i in names]\n",
    "print(names)"
   ]
  },
  {
   "cell_type": "markdown",
   "metadata": {},
   "source": [
    "#### <br>Exercise 3"
   ]
  },
  {
   "cell_type": "code",
   "execution_count": null,
   "metadata": {},
   "outputs": [],
   "source": [
    "test_grades = [95, 74, 83, 90, 91, 93, 78, 79, 89, 80]"
   ]
  },
  {
   "cell_type": "markdown",
   "metadata": {},
   "source": [
    "You are a teacher who wants to give 2 extra credit points to everyone in your class on their latest test. Make a list called `adjusted_grades` that includes a list of new test grades with 2 bonus points added to each of the grades in the `test_grades` list."
   ]
  },
  {
   "cell_type": "code",
   "execution_count": null,
   "metadata": {},
   "outputs": [],
   "source": [
    "adjusted_grades = [i + 2 for i in test_grades]"
   ]
  },
  {
   "cell_type": "code",
   "execution_count": null,
   "metadata": {},
   "outputs": [],
   "source": [
    "print(adjusted_grades)"
   ]
  },
  {
   "cell_type": "markdown",
   "metadata": {},
   "source": [
    "### <br><br>Example 4: Filtering other lists"
   ]
  },
  {
   "cell_type": "markdown",
   "metadata": {},
   "source": [
    "We can include multiple conditionals in our list comprehension."
   ]
  },
  {
   "cell_type": "markdown",
   "metadata": {},
   "source": [
    "Here we have a list of grades. We want to make a list that includes only the grades of students who we want to put on probation. The list will not include students who are failing, so we only want students with grades 60-69."
   ]
  },
  {
   "cell_type": "code",
   "execution_count": null,
   "metadata": {},
   "outputs": [],
   "source": [
    "grades = [54, 92, 88, 73, 77, 62, 68, 89, 75, 55, 60, 70, 68]\n",
    "probation_list = [i for i in grades if i < 70 and i > 59]\n",
    "print(probation_list)"
   ]
  },
  {
   "cell_type": "markdown",
   "metadata": {},
   "source": [
    "Notice in the conditional phrase `if i < 70 and i > 59` we only say `if` once at the beginning, but we include `i` in both conditionals."
   ]
  },
  {
   "cell_type": "markdown",
   "metadata": {},
   "source": [
    "#### <br>Exercise 4"
   ]
  },
  {
   "cell_type": "code",
   "execution_count": null,
   "metadata": {},
   "outputs": [],
   "source": [
    "students = [\"Jordan\", \"Borden\", \"Gordon\", \"Morgan\", \"Horton\", \n",
    "            \"Zorgon\", \"Corden\", \"Porgan\", \"Argon\"]"
   ]
  },
  {
   "cell_type": "markdown",
   "metadata": {},
   "source": [
    "Use list comprehension to make a list called `ABC_list` of all students with names that start with A, B, `or` C."
   ]
  },
  {
   "cell_type": "code",
   "execution_count": null,
   "metadata": {},
   "outputs": [],
   "source": [
    "ABC_list = [i for i in students if i[0] == \"A\" or i[0] == \"B\" or i[0] == \"C\"]"
   ]
  },
  {
   "cell_type": "code",
   "execution_count": null,
   "metadata": {},
   "outputs": [],
   "source": [
    "print(ABC_list)"
   ]
  },
  {
   "cell_type": "code",
   "execution_count": null,
   "metadata": {},
   "outputs": [],
   "source": [
    "ABC_list2 = [i for i in students if i[0] in [\"A\", \"B\", \"C\"]]"
   ]
  },
  {
   "cell_type": "code",
   "execution_count": null,
   "metadata": {},
   "outputs": [],
   "source": [
    "print(ABC_list2)"
   ]
  },
  {
   "cell_type": "code",
   "execution_count": null,
   "metadata": {},
   "outputs": [],
   "source": [
    "ABC_list3 = [i for i in students if i.startswith(\"A\") or i.startswith(\"B\") or i.startswith(\"C\")]"
   ]
  },
  {
   "cell_type": "code",
   "execution_count": null,
   "metadata": {},
   "outputs": [],
   "source": [
    "print(ABC_list3)"
   ]
  },
  {
   "cell_type": "markdown",
   "metadata": {},
   "source": [
    "### <br><br>Example 5: Filtering dictionaries"
   ]
  },
  {
   "cell_type": "markdown",
   "metadata": {},
   "source": [
    "You can also make a list by filtering a dictionary."
   ]
  },
  {
   "cell_type": "markdown",
   "metadata": {},
   "source": [
    "In this example, I have a dictionary of objects in our solar system. The keys are the object names and the values are the type of object."
   ]
  },
  {
   "cell_type": "code",
   "execution_count": null,
   "metadata": {},
   "outputs": [],
   "source": [
    "solar_system = {\"Earth\": \"planet\", \"Venus\": \"planet\", \"Pluto\": \"dwarfplanet\", \n",
    "                \"Neptune\": \"planet\", \"Jupiter\": \"planet\", \"Mars\": \"planet\", \n",
    "                \"Ceres\": \"dwarfplanet\", \"Saturn\": \"planet\", \"Mercury\": \"planet\", \n",
    "                \"Eris\": \"dwarfplanet\", \"Uranus\": \"planet\", \n",
    "                \"Makemake\": \"dwarfplanet\", \"Haumea\": \"dwarfplanet\"}"
   ]
  },
  {
   "cell_type": "markdown",
   "metadata": {},
   "source": [
    "<br>Let's review dictionary indexing:"
   ]
  },
  {
   "cell_type": "code",
   "execution_count": null,
   "metadata": {},
   "outputs": [],
   "source": [
    "print(\"Keys:\")\n",
    "print(solar_system.keys())"
   ]
  },
  {
   "cell_type": "code",
   "execution_count": null,
   "metadata": {},
   "outputs": [],
   "source": [
    "print(\"Values:\")\n",
    "print(solar_system.values())"
   ]
  },
  {
   "cell_type": "code",
   "execution_count": null,
   "metadata": {},
   "outputs": [],
   "source": [
    "print(\"Keys and Values:\")\n",
    "print(solar_system.items())"
   ]
  },
  {
   "cell_type": "code",
   "execution_count": null,
   "metadata": {},
   "outputs": [],
   "source": [
    "solar_system[\"Earth\"]"
   ]
  },
  {
   "cell_type": "markdown",
   "metadata": {},
   "source": [
    "<br>So we could write a list comprehnsion to return a list of only the planets:"
   ]
  },
  {
   "cell_type": "code",
   "execution_count": null,
   "metadata": {},
   "outputs": [],
   "source": [
    "planets = [i for i in solar_system.keys() if solar_system[i] == \"planet\"]\n",
    "print(planets)"
   ]
  },
  {
   "cell_type": "markdown",
   "metadata": {},
   "source": [
    "#### <br>Exercise 5"
   ]
  },
  {
   "cell_type": "code",
   "execution_count": null,
   "metadata": {},
   "outputs": [],
   "source": [
    "solar_system = {\"Earth\": \"planet\", \"Venus\": \"planet\", \"Pluto\": \"dwarfplanet\", \n",
    "                \"Neptune\": \"planet\", \"Jupiter\": \"planet\", \"Mars\": \"planet\", \n",
    "                \"Ceres\": \"dwarfplanet\", \"Saturn\": \"planet\", \"Mercury\": \"planet\", \n",
    "                \"Eris\": \"dwarfplanet\", \"Uranus\": \"planet\", \n",
    "                \"Makemake\": \"dwarfplanet\", \"Haumea\": \"dwarfplanet\"}"
   ]
  },
  {
   "cell_type": "markdown",
   "metadata": {},
   "source": [
    "Pretend you feel very strongly that Pluto is a planet (or maybe you already do feel very strongly that Pluto is a planet). Modify the list comprehension below to include all the keys with \"planet\" as a value and also Pluto."
   ]
  },
  {
   "cell_type": "code",
   "execution_count": null,
   "metadata": {},
   "outputs": [],
   "source": [
    "planets = [i for i in solar_system.keys() if solar_system[i] == \"planet\" or i == \"Pluto\"]"
   ]
  },
  {
   "cell_type": "code",
   "execution_count": null,
   "metadata": {},
   "outputs": [],
   "source": [
    "print(planets)"
   ]
  },
  {
   "cell_type": "markdown",
   "metadata": {},
   "source": [
    "### <br><br>Example 6: Making a list out of the lines in a file"
   ]
  },
  {
   "cell_type": "markdown",
   "metadata": {},
   "source": [
    "List comprehensions are very useful for making a list out of all the lines in a file. Remember that it is usually best to use `with` for opening files because it will automatically close the file and free up memory."
   ]
  },
  {
   "cell_type": "markdown",
   "metadata": {},
   "source": [
    "#### `with` statement and `for` loop"
   ]
  },
  {
   "cell_type": "code",
   "execution_count": null,
   "metadata": {},
   "outputs": [],
   "source": [
    "line_list = []\n",
    "with open(\"genes.txt\", \"r\") as f:\n",
    "    for line in f:\n",
    "        line_list.append(line)\n",
    "print(line_list)"
   ]
  },
  {
   "cell_type": "markdown",
   "metadata": {},
   "source": [
    "#### list comprehension"
   ]
  },
  {
   "cell_type": "code",
   "execution_count": null,
   "metadata": {},
   "outputs": [],
   "source": [
    "with open(\"genes.txt\", \"r\") as f:\n",
    "    line_list = [line for line in f]"
   ]
  },
  {
   "cell_type": "code",
   "execution_count": null,
   "metadata": {},
   "outputs": [],
   "source": [
    "print(line_list)"
   ]
  },
  {
   "cell_type": "markdown",
   "metadata": {},
   "source": [
    "<br>Some of you might know that you can also get a list of lines by using the `readlines()` function, like this:"
   ]
  },
  {
   "cell_type": "code",
   "execution_count": null,
   "metadata": {},
   "outputs": [],
   "source": [
    "with open(\"genes.txt\", \"r\") as f:\n",
    "    line_list = f.readlines()\n",
    "print(line_list)"
   ]
  },
  {
   "cell_type": "markdown",
   "metadata": {},
   "source": [
    "<br>However, there is an advantage to using a list comprehension instead of `readlines()`, which you will see in the next exercise."
   ]
  },
  {
   "cell_type": "markdown",
   "metadata": {},
   "source": [
    "#### <br>Exercise 6.1"
   ]
  },
  {
   "cell_type": "markdown",
   "metadata": {},
   "source": [
    "Remember that we can do something to the item in a list comprehension. Rewrite this list comprehension, using the `.rstrip()` function to remove the new line character from each line before adding it to the list."
   ]
  },
  {
   "cell_type": "code",
   "execution_count": null,
   "metadata": {},
   "outputs": [],
   "source": [
    "with open(\"genes.txt\", \"r\") as f:\n",
    "    line_list = [line.rstrip(\"\\n\") for line in f]"
   ]
  },
  {
   "cell_type": "code",
   "execution_count": null,
   "metadata": {},
   "outputs": [],
   "source": [
    "print(line_list)"
   ]
  },
  {
   "cell_type": "markdown",
   "metadata": {},
   "source": [
    "#### <br>Exercise 6.2"
   ]
  },
  {
   "cell_type": "markdown",
   "metadata": {},
   "source": [
    "Copy your code from exercise 6.1 into the cell below and then modify it to only include the gene files, leaving out the protein files."
   ]
  },
  {
   "cell_type": "code",
   "execution_count": null,
   "metadata": {},
   "outputs": [],
   "source": [
    "with open(\"genes.txt\", \"r\") as f:\n",
    "    line_list = [line.rstrip(\"\\n\") for line in f if \"gene\" in line]"
   ]
  },
  {
   "cell_type": "code",
   "execution_count": null,
   "metadata": {},
   "outputs": [],
   "source": [
    "print(line_list)"
   ]
  },
  {
   "cell_type": "code",
   "execution_count": null,
   "metadata": {},
   "outputs": [],
   "source": [
    "with open(\"genes.txt\", \"r\") as f:\n",
    "    line_list2 = [line.rstrip(\"\\n\") for line in f if line[0:4] == \"gene\"]"
   ]
  },
  {
   "cell_type": "code",
   "execution_count": null,
   "metadata": {},
   "outputs": [],
   "source": [
    "print(line_list2)"
   ]
  },
  {
   "cell_type": "code",
   "execution_count": null,
   "metadata": {},
   "outputs": [],
   "source": [
    "with open(\"genes.txt\", \"r\") as f:\n",
    "    line_list3 = [line.rstrip(\"\\n\") for line in f if \".fa\" in line]"
   ]
  },
  {
   "cell_type": "code",
   "execution_count": null,
   "metadata": {},
   "outputs": [],
   "source": [
    "print(line_list3)"
   ]
  },
  {
   "cell_type": "markdown",
   "metadata": {},
   "source": [
    "### <br><br>Example 7: Making a list out of items in a file"
   ]
  },
  {
   "cell_type": "markdown",
   "metadata": {},
   "source": [
    "Let's say our file contains more information than we want to include in our list. If the file contains patterns that can be parsed, like comma-separated data (or tab-separated, space-separated, etc.), we can still use list comprehension."
   ]
  },
  {
   "cell_type": "markdown",
   "metadata": {},
   "source": [
    "First, let's see what the file we're going to work with looks like:"
   ]
  },
  {
   "cell_type": "code",
   "execution_count": null,
   "metadata": {},
   "outputs": [],
   "source": [
    "with open(\"genelengths.txt\", \"r\") as f:\n",
    "    for line in f:\n",
    "        print(line)"
   ]
  },
  {
   "cell_type": "markdown",
   "metadata": {},
   "source": [
    "<br>We can write a list comprehension to make a list of only the first items in the list (all the characters before the commas on each line):"
   ]
  },
  {
   "cell_type": "code",
   "execution_count": null,
   "metadata": {},
   "outputs": [],
   "source": [
    "with open(\"genelengths.txt\", \"r\") as f:\n",
    "    gene_names = [line.split(\",\")[0] for line in f]\n",
    "print(gene_names)"
   ]
  },
  {
   "cell_type": "markdown",
   "metadata": {},
   "source": [
    "#### <br>Exercise 7"
   ]
  },
  {
   "cell_type": "markdown",
   "metadata": {},
   "source": [
    "Write a list comprehension to make a list called `lengths` of the gene lengths from the \"genelengths.txt\" file."
   ]
  },
  {
   "cell_type": "code",
   "execution_count": null,
   "metadata": {},
   "outputs": [],
   "source": [
    "with open(\"genelengths.txt\", \"r\") as f:\n",
    "    lengths = [line.split(\",\")[1].rstrip(\"\\n\") for line in f]"
   ]
  },
  {
   "cell_type": "code",
   "execution_count": null,
   "metadata": {},
   "outputs": [],
   "source": [
    "print(lengths)"
   ]
  },
  {
   "cell_type": "markdown",
   "metadata": {},
   "source": [
    "## <br><br>Part 3 - Dictionary Comprehension"
   ]
  },
  {
   "cell_type": "markdown",
   "metadata": {},
   "source": [
    "You can also write dictionary comprehensions! Use curly brackets instead of square brackets, and include the key and value separated by a colon."
   ]
  },
  {
   "cell_type": "code",
   "execution_count": null,
   "metadata": {},
   "outputs": [],
   "source": [
    "students = [\"Jordan\", \"Gordon\", \"Morgan\", \"Horton\", \"Zorgon\", \"Corden\", \"Porgan\"]\n",
    "starting_grades = {i:0 for i in students}\n",
    "print(starting_grades)"
   ]
  },
  {
   "cell_type": "markdown",
   "metadata": {},
   "source": [
    "#### Exercise D1"
   ]
  },
  {
   "cell_type": "markdown",
   "metadata": {},
   "source": [
    "Use dictionary comprehension to turn this list of planets into a dictionary with the planet names as the keys and the word \"planet\" as the value."
   ]
  },
  {
   "cell_type": "code",
   "execution_count": null,
   "metadata": {},
   "outputs": [],
   "source": [
    "planet_list = [\"Earth\", \"Venus\", \"Mercury\", \"Mars\", \"Jupiter\", \"Saturn\", \"Neptune\", \"Uranus\"]"
   ]
  },
  {
   "cell_type": "code",
   "execution_count": null,
   "metadata": {},
   "outputs": [],
   "source": [
    "planet_dict = {i:\"planet\" for i in planet_list}"
   ]
  },
  {
   "cell_type": "code",
   "execution_count": null,
   "metadata": {},
   "outputs": [],
   "source": [
    "print(planet_dict)"
   ]
  },
  {
   "cell_type": "markdown",
   "metadata": {},
   "source": [
    "### <br><br>Using dictionary comprehension and `zip()` to combine two lists"
   ]
  },
  {
   "cell_type": "markdown",
   "metadata": {},
   "source": [
    "<br>You can also make a dictionary out of two lists using the `zip()` function. "
   ]
  },
  {
   "cell_type": "markdown",
   "metadata": {},
   "source": [
    "Remember that when you loop through two items (like when you loop through both the keys and values in a dictionary) you include two values in your for statement, separated by a comma."
   ]
  },
  {
   "cell_type": "code",
   "execution_count": null,
   "metadata": {},
   "outputs": [],
   "source": [
    "students = [\"Jordan\", \"Gordon\", \"Morgan\", \"Horton\", \"Zorgon\", \"Corden\", \"Porgan\"]\n",
    "test_grades = [55, 75, 85, 100, 65, 75, 100]\n",
    "test_1 = {i:j for i,j in zip(students, test_grades)}\n",
    "print(test_1)"
   ]
  },
  {
   "cell_type": "markdown",
   "metadata": {},
   "source": [
    "#### Exercise D2"
   ]
  },
  {
   "cell_type": "markdown",
   "metadata": {},
   "source": [
    "Use dictionary comprehension and the zip function to combine these 2 lists of solar system objects and their planetary status. The keys should be the names of the objects and the values should be their status."
   ]
  },
  {
   "cell_type": "code",
   "execution_count": null,
   "metadata": {},
   "outputs": [],
   "source": [
    "objects = [\"Earth\", \"Venus\", \"Mercury\", \"Mars\", \"Jupiter\", \"Saturn\", \n",
    "           \"Neptune\", \"Uranus\", \"Ceres\", \"Eris\", \"Pluto\", \"Makemake\", \"Haumea\"]\n",
    "status = [\"planet\", \"planet\",\"planet\",\"planet\",\"planet\",\"planet\",\"planet\", \n",
    "          \"planet\", \"dwarfplanet\", \"dwarfplanet\", \"dwarfplanet\", \"dwarfplanet\", \"dwarfplanet\"]"
   ]
  },
  {
   "cell_type": "code",
   "execution_count": null,
   "metadata": {},
   "outputs": [],
   "source": [
    "solar_system = {o:s for o,s in zip(objects, status)}"
   ]
  },
  {
   "cell_type": "code",
   "execution_count": null,
   "metadata": {},
   "outputs": [],
   "source": [
    "print(solar_system)"
   ]
  },
  {
   "cell_type": "markdown",
   "metadata": {},
   "source": [
    "### <br><br>Filter lists as you make a dictionary"
   ]
  },
  {
   "cell_type": "markdown",
   "metadata": {},
   "source": [
    "<br>Using a dictionary comprehension allows you to add conditionals while making the dictionary:"
   ]
  },
  {
   "cell_type": "code",
   "execution_count": null,
   "metadata": {},
   "outputs": [],
   "source": [
    "students = [\"Jordan\", \"Gordon\", \"Morgan\", \"Horton\", \"Zorgon\", \"Corden\", \"Porgan\"]\n",
    "test_grades = [55, 75, 85, 100, 65, 75, 100]\n",
    "passing_grades = {i:j for i,j in zip(students, test_grades) if j >= 60}\n",
    "print(passing_grades)"
   ]
  },
  {
   "cell_type": "markdown",
   "metadata": {},
   "source": [
    "#### Exercise D3"
   ]
  },
  {
   "cell_type": "markdown",
   "metadata": {},
   "source": [
    "Make a dictionary with the object name as the key and the status as the value, but only include objects that are planets."
   ]
  },
  {
   "cell_type": "code",
   "execution_count": null,
   "metadata": {},
   "outputs": [],
   "source": [
    "objects = [\"Earth\", \"Venus\", \"Mercury\", \"Mars\", \"Jupiter\", \"Saturn\", \n",
    "           \"Neptune\", \"Uranus\", \"Ceres\", \"Eris\", \"Pluto\", \"Makemake\", \"Haumea\"]\n",
    "status = [\"planet\", \"planet\",\"planet\",\"planet\",\"planet\",\"planet\",\"planet\", \n",
    "          \"planet\", \"dwarfplanet\", \"dwarfplanet\", \"dwarfplanet\", \"dwarfplanet\", \"dwarfplanet\"]"
   ]
  },
  {
   "cell_type": "code",
   "execution_count": null,
   "metadata": {},
   "outputs": [],
   "source": [
    "planet_dict = {o:s for o,s in zip(objects, status) if s == \"planet\"}"
   ]
  },
  {
   "cell_type": "code",
   "execution_count": null,
   "metadata": {},
   "outputs": [],
   "source": [
    "print(planet_dict)"
   ]
  },
  {
   "cell_type": "markdown",
   "metadata": {},
   "source": [
    "### <br><br>Filtering an existing dictionary"
   ]
  },
  {
   "cell_type": "markdown",
   "metadata": {},
   "source": [
    "<br>You can also use a dictionary comprehension to filter an existing dictionary. Since we want both the keys and values in our final dictionary, our for loop should use the `.items()` method function:"
   ]
  },
  {
   "cell_type": "code",
   "execution_count": null,
   "metadata": {},
   "outputs": [],
   "source": [
    "solar_system = {\"Earth\": \"planet\", \"Venus\": \"planet\", \"Pluto\": \"dwarfplanet\", \n",
    "                \"Neptune\": \"planet\", \"Jupiter\": \"planet\", \"Mars\": \"planet\", \n",
    "                \"Ceres\": \"dwarfplanet\", \"Saturn\": \"planet\", \"Mercury\": \"planet\", \n",
    "                \"Eris\": \"dwarfplanet\", \"Uranus\": \"planet\", \n",
    "                \"Makemake\": \"dwarfplanet\", \"Haumea\": \"dwarfplanet\"}\n",
    "planets_dict = {k:v for k,v in solar_system.items() if v == \"planet\"}\n",
    "print(planets_dict)"
   ]
  },
  {
   "cell_type": "markdown",
   "metadata": {},
   "source": [
    "#### Exercise D4"
   ]
  },
  {
   "cell_type": "markdown",
   "metadata": {},
   "source": [
    "Make a new dictionary that only includes students with grades over 90."
   ]
  },
  {
   "cell_type": "code",
   "execution_count": null,
   "metadata": {},
   "outputs": [],
   "source": [
    "grade_dict = {'Jordan': 55, 'Gordon': 75, 'Morgan': 85, 'Horton': 100, \n",
    "              'Zorgon': 65, 'Corden': 75, 'Porgan': 100}"
   ]
  },
  {
   "cell_type": "code",
   "execution_count": null,
   "metadata": {},
   "outputs": [],
   "source": [
    "A_students = {k:v for k,v in grade_dict.items() if v > 90}"
   ]
  },
  {
   "cell_type": "code",
   "execution_count": null,
   "metadata": {},
   "outputs": [],
   "source": [
    "print(A_students)"
   ]
  },
  {
   "cell_type": "markdown",
   "metadata": {},
   "source": [
    "### <br><br>Make changes to keys and values when creating the dictionary"
   ]
  },
  {
   "cell_type": "markdown",
   "metadata": {},
   "source": [
    "<br>You can make changes to the keys and values before adding them. Take a minute to try and predict the output of this code before you run it:"
   ]
  },
  {
   "cell_type": "code",
   "execution_count": null,
   "metadata": {},
   "outputs": [],
   "source": [
    "solar_system = {\"Earth\": \"planet\", \"Venus\": \"planet\", \"Pluto\": \"dwarfplanet\", \n",
    "                \"Neptune\": \"planet\", \"Jupiter\": \"planet\", \"Mars\": \"planet\", \n",
    "                \"Ceres\": \"dwarfplanet\", \"Saturn\": \"planet\", \"Mercury\": \"planet\", \n",
    "                \"Eris\": \"dwarfplanet\", \"Uranus\": \"planet\", \n",
    "                \"Makemake\": \"dwarfplanet\", \"Haumea\": \"dwarfplanet\"}\n",
    "planets_dict = {k.upper():v.capitalize() for k,v in solar_system.items() if v == \"planet\"}\n",
    "print(planets_dict)"
   ]
  },
  {
   "cell_type": "markdown",
   "metadata": {},
   "source": [
    "#### Exercise D5"
   ]
  },
  {
   "cell_type": "markdown",
   "metadata": {},
   "source": [
    "Use dictionary comprehension to create a dictionary called `students_ABC` with each student's name as the key, and the first letter of each student's name as the value."
   ]
  },
  {
   "cell_type": "code",
   "execution_count": null,
   "metadata": {},
   "outputs": [],
   "source": [
    "students = [\"Jordan\", \"Gordon\", \"Morgan\", \"Horton\", \"Zorgon\", \"Corden\", \"Porgan\"]\n",
    "students_ABC = {name:name[0] for name in students}"
   ]
  },
  {
   "cell_type": "code",
   "execution_count": null,
   "metadata": {},
   "outputs": [],
   "source": [
    "print(students_ABC)"
   ]
  },
  {
   "cell_type": "markdown",
   "metadata": {},
   "source": [
    "### <br><br>Make a dictionary from data in a file"
   ]
  },
  {
   "cell_type": "markdown",
   "metadata": {},
   "source": [
    "<br>Finally, you can use dictionary comprehension to make a dictionary from data in a file:"
   ]
  },
  {
   "cell_type": "code",
   "execution_count": null,
   "metadata": {},
   "outputs": [],
   "source": [
    "with open(\"genelengths.txt\", \"r\") as f:\n",
    "    length_dict = {line.split(\",\")[0]:line.split(\",\")[1].rstrip(\"\\n\") for line in f}\n",
    "print(length_dict)"
   ]
  },
  {
   "cell_type": "markdown",
   "metadata": {},
   "source": [
    "#### Exercise D6"
   ]
  },
  {
   "cell_type": "markdown",
   "metadata": {},
   "source": [
    "The \"genes.txt\" file contains some genes and some proteins. Make a dictionary from that file that has each line as the key and either \"gene\" or \"protein\" as the value."
   ]
  },
  {
   "cell_type": "code",
   "execution_count": null,
   "metadata": {},
   "outputs": [],
   "source": [
    "with open(\"genes.txt\", \"r\") as f:\n",
    "    gene_dict = {line.rstrip(\"\\n\"):line.split(\".\")[0][:-5] for line in f}"
   ]
  },
  {
   "cell_type": "code",
   "execution_count": null,
   "metadata": {},
   "outputs": [],
   "source": [
    "print(gene_dict)"
   ]
  },
  {
   "cell_type": "markdown",
   "metadata": {},
   "source": [
    "**OR**"
   ]
  },
  {
   "cell_type": "code",
   "execution_count": null,
   "metadata": {},
   "outputs": [],
   "source": [
    "with open(\"genes.txt\", \"r\") as f:\n",
    "    gene_dict = {line.rstrip(\"\\n\"):line.split(\"0\")[0] for line in f}"
   ]
  },
  {
   "cell_type": "code",
   "execution_count": null,
   "metadata": {},
   "outputs": [],
   "source": [
    "print(gene_dict)"
   ]
  },
  {
   "cell_type": "code",
   "execution_count": null,
   "metadata": {},
   "outputs": [],
   "source": []
  }
 ],
 "metadata": {
  "kernelspec": {
   "display_name": "Python 3",
   "language": "python",
   "name": "python3"
  },
  "language_info": {
   "codemirror_mode": {
    "name": "ipython",
    "version": 3
   },
   "file_extension": ".py",
   "mimetype": "text/x-python",
   "name": "python",
   "nbconvert_exporter": "python",
   "pygments_lexer": "ipython3",
   "version": "3.7.3"
  }
 },
 "nbformat": 4,
 "nbformat_minor": 4
}
