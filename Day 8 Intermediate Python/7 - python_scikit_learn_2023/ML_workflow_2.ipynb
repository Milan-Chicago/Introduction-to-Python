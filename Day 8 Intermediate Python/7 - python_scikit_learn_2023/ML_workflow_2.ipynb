{
 "cells": [
  {
   "cell_type": "markdown",
   "id": "66f4fad5-3b89-4b5d-8eae-bc09c764aa7e",
   "metadata": {},
   "source": [
    "# <span style=\"color:rebeccapurple\">Python Machine Learning with scikit-learn</span>"
   ]
  },
  {
   "cell_type": "markdown",
   "id": "b7dff7cd-dda8-41f8-9b7b-4523d5494ec9",
   "metadata": {},
   "source": [
    "## <span style=\"color:rebeccapurple\">Notebook 2: Regularized model</span>"
   ]
  },
  {
   "cell_type": "markdown",
   "id": "74cd7566-72df-4aec-b3e4-1a58d86dfc59",
   "metadata": {
    "tags": []
   },
   "source": [
    "## <span style=\"color:rebeccapurple\">ML workflow steps:</span>\n",
    "\n",
    "1. State the problem\n",
    "2. Gather the data\n",
    "3. Split train-test sets\n",
    "4. Pre-process the data\n",
    "5. Establish a baseline\n",
    "6. Choose a model\n",
    "7. Train the model\n",
    "8. Optimize the model\n",
    "9. Validate the model\n",
    "10. Predict unknown data points using the model\n",
    "11. Interpret and evaluate the model"
   ]
  },
  {
   "cell_type": "code",
   "execution_count": 1,
   "id": "02beb87d-5d60-4945-97f5-00d3ee0edeea",
   "metadata": {
    "jupyter": {
     "source_hidden": true
    },
    "tags": []
   },
   "outputs": [],
   "source": [
    "# Import required packages\n",
    "import pandas as pd\n",
    "import numpy as np\n",
    "import matplotlib\n",
    "import matplotlib.pyplot as plt\n",
    "import seaborn as sns\n",
    "\n",
    "import sklearn"
   ]
  },
  {
   "cell_type": "code",
   "execution_count": 2,
   "id": "58f1d89e-b7f7-4971-b1b5-bca840bcc93a",
   "metadata": {
    "jupyter": {
     "source_hidden": true
    },
    "tags": []
   },
   "outputs": [],
   "source": [
    "# setting some figure display paramaters\n",
    "sns.set_context('notebook')\n",
    "sns.set_style('white', {'axes.linewidth': 0.5})\n",
    "matplotlib.rcParams.update(matplotlib.rcParamsDefault)\n",
    "\n",
    "plt.rcParams['figure.dpi'] = 150\n",
    "plt.rcParams['xtick.major.size'] = 3\n",
    "plt.rcParams['xtick.major.width'] = 1\n",
    "plt.rcParams['xtick.bottom'] = True\n",
    "plt.rcParams['ytick.left'] = True\n",
    "plt.rcParams['font.family'] = 'sans-serif'\n",
    "plt.rcParams['font.sans-serif'] = 'Arial'\n",
    "plt.rcParams['pdf.fonttype'] = 42\n",
    "plt.rcParams['legend.edgecolor'] = 'w'"
   ]
  },
  {
   "cell_type": "markdown",
   "id": "f1037cbd-8863-4415-a167-a3ec13a400f3",
   "metadata": {
    "tags": []
   },
   "source": [
    "## <span style=\"color:rebeccapurple\">Why regularization?</span></h1>\n",
    "\n",
    "We are going to use the same approach as notebook 1, but this time we will add **regularization**  to the model to see if it can be improved.\n",
    "\n",
    "Regularization adds a penalty during model training, such that larger weights (coefficients) are penalized. Think of regularization as a method to reduce the dependence of the weights on the data, and to prevent weights from exploding in the presence of extreme outliers."
   ]
  },
  {
   "cell_type": "markdown",
   "id": "d70bcf21-44bf-486d-9617-97379d26e2e2",
   "metadata": {},
   "source": [
    "Remember the linear regressor minimizes the RSS. Now if you add a weight penalty the total \"error\" looks like:\n",
    "$$ \n",
    "RSS + penalty  \\\\\n",
    "= (y_{pred} - y_{obs})^2 + penalty  \\\\\n",
    "= (\\beta_0 + \\sum_{i=1}^N \\beta_i x_i - y_{obs})^2 + penalty \\\\\n",
    "$$"
   ]
  },
  {
   "cell_type": "markdown",
   "id": "f2b8b853-9450-4a6c-83c0-1b4965c7d3e0",
   "metadata": {},
   "source": [
    "Usually, we use either the L1 norm (lasso) or the L2 norm (ridge) (or a combination of the two) of the model weights as the penalty. \n",
    "$$\n",
    "L1 = \\lambda \\sum_{i=1}^N\\ \\|\\beta_i\\|\n",
    "$$\n",
    "\n",
    "$$\n",
    "L2 = \\lambda \\sum_{i=1}^N\\beta_i^2\n",
    "$$\n",
    "\n",
    "Here, $\\lambda$ is the tuning parameter that decides how much we want to penalize the flexibility of our model."
   ]
  },
  {
   "cell_type": "markdown",
   "id": "d7747ad9-b391-4690-83f9-33c47b1ce4d6",
   "metadata": {},
   "source": [
    "## <span style=\"color:rebeccapurple\">Setup for linear model</span></h1>\n",
    "Let's re-do the Steps 1-6 as before"
   ]
  },
  {
   "cell_type": "code",
   "execution_count": 311,
   "id": "9019980b-4edf-4c12-a824-9ff8a5f99ce3",
   "metadata": {},
   "outputs": [],
   "source": [
    "# 1 - task : predict diabetes progression from features\n",
    "# 2 - load data\n",
    "df = pd.read_csv('data/penguins.csv')\n",
    "\n",
    "# 3 - split features and target\n",
    "X = df.drop(columns=\"body_mass_g\")\n",
    "y = df.body_mass_g\n",
    "\n",
    "# 4 - split train and test\n",
    "from sklearn.model_selection import train_test_split\n",
    "X_train, X_test, y_train, y_test = train_test_split(X, y, test_size=0.5)"
   ]
  },
  {
   "cell_type": "code",
   "execution_count": 312,
   "id": "6ceba605-977e-46cf-975e-93e4deff2012",
   "metadata": {},
   "outputs": [],
   "source": [
    "# 5 - pre-process the data - numeric\n",
    "numeric_cols = ['bill_length_mm', 'bill_depth_mm', 'flipper_length_mm']\n",
    "\n",
    "from sklearn.preprocessing import StandardScaler\n",
    "scaler = StandardScaler()\n",
    "scaler.fit(X_train[numeric_cols])\n",
    "\n",
    "numeric_X_train = scaler.transform(X_train[numeric_cols])\n",
    "numeric_X_test  = scaler.transform(X_test[numeric_cols])"
   ]
  },
  {
   "cell_type": "code",
   "execution_count": 313,
   "id": "c43f2bde-456a-498e-a551-bb0ea010bcde",
   "metadata": {},
   "outputs": [],
   "source": [
    "# 5 - pre-process the data - categorical\n",
    "categorical_cols = ['species', 'island', 'sex', 'year']\n",
    "\n",
    "from sklearn.preprocessing import OneHotEncoder\n",
    "ohe = OneHotEncoder()\n",
    "\n",
    "ohe.fit(X_train[categorical_cols])\n",
    "\n",
    "ohe_X_train = ohe.transform(X_train[categorical_cols]) # transform train set\n",
    "ohe_X_test = ohe.transform(X_test[categorical_cols])   # transform test set\n",
    "\n",
    "# convert to numpy array\n",
    "ohe_X_train = ohe_X_train.toarray()\n",
    "ohe_X_test = ohe_X_test.toarray()"
   ]
  },
  {
   "cell_type": "code",
   "execution_count": 314,
   "id": "7afb5573-462e-4007-8a6e-e8a47afcc1a3",
   "metadata": {},
   "outputs": [
    {
     "data": {
      "text/plain": [
       "((166, 14), (167, 14))"
      ]
     },
     "execution_count": 314,
     "metadata": {},
     "output_type": "execute_result"
    }
   ],
   "source": [
    "# 5 - stack the processed columns together\n",
    "processed_X_train = np.hstack((numeric_X_train, ohe_X_train))\n",
    "processed_X_test = np.hstack((numeric_X_test, ohe_X_test))\n",
    "\n",
    "processed_X_train.shape, processed_X_test.shape"
   ]
  },
  {
   "cell_type": "markdown",
   "id": "7f9c5864-8396-467d-adbc-1786e42a7001",
   "metadata": {},
   "source": [
    "For Step 6 - we can now assume our old model is the \"baseline\" model"
   ]
  },
  {
   "cell_type": "markdown",
   "id": "7b84477e-f531-4ed6-b5bb-1dd116164e2e",
   "metadata": {},
   "source": [
    "## <span style=\"color:rebeccapurple\">7. Train the model</span></h1>"
   ]
  },
  {
   "cell_type": "markdown",
   "id": "fbc76285-92dd-4cb8-9766-d8b526c80e8c",
   "metadata": {},
   "source": [
    "We will train 3 models, one with L1 (Lasso), one with L2 (ridge) and one with both L1 and L2 (elastic net) regularization"
   ]
  },
  {
   "cell_type": "markdown",
   "id": "49fe56a7-d7c7-47da-ba41-50ae7f7d2c5c",
   "metadata": {},
   "source": [
    "## <span style=\"color:rebeccapurple\">8. Optimize the model</span></h1>"
   ]
  },
  {
   "cell_type": "code",
   "execution_count": 2,
   "id": "0b8837bd-c9f3-4d68-9f27-fd47dd3e9efe",
   "metadata": {},
   "outputs": [],
   "source": [
    "from sklearn import linear_model"
   ]
  },
  {
   "cell_type": "code",
   "execution_count": 316,
   "id": "561f3206-dab4-459f-9f11-ff2ceec59603",
   "metadata": {},
   "outputs": [],
   "source": [
    "model0 = linear_model.LinearRegression()"
   ]
  },
  {
   "cell_type": "code",
   "execution_count": 414,
   "id": "c5cc2576-983c-47dc-a004-8a43bade69c2",
   "metadata": {},
   "outputs": [],
   "source": [
    "alpha = 0.1"
   ]
  },
  {
   "cell_type": "code",
   "execution_count": 415,
   "id": "0be48ac0-ebf7-4b54-bed9-7995cfb611ed",
   "metadata": {},
   "outputs": [],
   "source": [
    "model1 = linear_model.Lasso(alpha=alpha) # alpha controls regularization strength"
   ]
  },
  {
   "cell_type": "code",
   "execution_count": 416,
   "id": "263db4fb-6203-47c3-9b79-820a5e40bf02",
   "metadata": {},
   "outputs": [],
   "source": [
    "model2 = linear_model.Ridge(alpha=alpha)"
   ]
  },
  {
   "cell_type": "code",
   "execution_count": 417,
   "id": "1bebd498-dfd7-4037-8a49-5a8333515bc8",
   "metadata": {},
   "outputs": [],
   "source": [
    "model3 = linear_model.ElasticNet(alpha=alpha, l1_ratio=0.5)"
   ]
  },
  {
   "cell_type": "code",
   "execution_count": 418,
   "id": "87a17c2e-dc4e-4157-9337-a0127e905dde",
   "metadata": {},
   "outputs": [
    {
     "data": {
      "text/html": [
       "<style>#sk-container-id-27 {color: black;background-color: white;}#sk-container-id-27 pre{padding: 0;}#sk-container-id-27 div.sk-toggleable {background-color: white;}#sk-container-id-27 label.sk-toggleable__label {cursor: pointer;display: block;width: 100%;margin-bottom: 0;padding: 0.3em;box-sizing: border-box;text-align: center;}#sk-container-id-27 label.sk-toggleable__label-arrow:before {content: \"▸\";float: left;margin-right: 0.25em;color: #696969;}#sk-container-id-27 label.sk-toggleable__label-arrow:hover:before {color: black;}#sk-container-id-27 div.sk-estimator:hover label.sk-toggleable__label-arrow:before {color: black;}#sk-container-id-27 div.sk-toggleable__content {max-height: 0;max-width: 0;overflow: hidden;text-align: left;background-color: #f0f8ff;}#sk-container-id-27 div.sk-toggleable__content pre {margin: 0.2em;color: black;border-radius: 0.25em;background-color: #f0f8ff;}#sk-container-id-27 input.sk-toggleable__control:checked~div.sk-toggleable__content {max-height: 200px;max-width: 100%;overflow: auto;}#sk-container-id-27 input.sk-toggleable__control:checked~label.sk-toggleable__label-arrow:before {content: \"▾\";}#sk-container-id-27 div.sk-estimator input.sk-toggleable__control:checked~label.sk-toggleable__label {background-color: #d4ebff;}#sk-container-id-27 div.sk-label input.sk-toggleable__control:checked~label.sk-toggleable__label {background-color: #d4ebff;}#sk-container-id-27 input.sk-hidden--visually {border: 0;clip: rect(1px 1px 1px 1px);clip: rect(1px, 1px, 1px, 1px);height: 1px;margin: -1px;overflow: hidden;padding: 0;position: absolute;width: 1px;}#sk-container-id-27 div.sk-estimator {font-family: monospace;background-color: #f0f8ff;border: 1px dotted black;border-radius: 0.25em;box-sizing: border-box;margin-bottom: 0.5em;}#sk-container-id-27 div.sk-estimator:hover {background-color: #d4ebff;}#sk-container-id-27 div.sk-parallel-item::after {content: \"\";width: 100%;border-bottom: 1px solid gray;flex-grow: 1;}#sk-container-id-27 div.sk-label:hover label.sk-toggleable__label {background-color: #d4ebff;}#sk-container-id-27 div.sk-serial::before {content: \"\";position: absolute;border-left: 1px solid gray;box-sizing: border-box;top: 0;bottom: 0;left: 50%;z-index: 0;}#sk-container-id-27 div.sk-serial {display: flex;flex-direction: column;align-items: center;background-color: white;padding-right: 0.2em;padding-left: 0.2em;position: relative;}#sk-container-id-27 div.sk-item {position: relative;z-index: 1;}#sk-container-id-27 div.sk-parallel {display: flex;align-items: stretch;justify-content: center;background-color: white;position: relative;}#sk-container-id-27 div.sk-item::before, #sk-container-id-27 div.sk-parallel-item::before {content: \"\";position: absolute;border-left: 1px solid gray;box-sizing: border-box;top: 0;bottom: 0;left: 50%;z-index: -1;}#sk-container-id-27 div.sk-parallel-item {display: flex;flex-direction: column;z-index: 1;position: relative;background-color: white;}#sk-container-id-27 div.sk-parallel-item:first-child::after {align-self: flex-end;width: 50%;}#sk-container-id-27 div.sk-parallel-item:last-child::after {align-self: flex-start;width: 50%;}#sk-container-id-27 div.sk-parallel-item:only-child::after {width: 0;}#sk-container-id-27 div.sk-dashed-wrapped {border: 1px dashed gray;margin: 0 0.4em 0.5em 0.4em;box-sizing: border-box;padding-bottom: 0.4em;background-color: white;}#sk-container-id-27 div.sk-label label {font-family: monospace;font-weight: bold;display: inline-block;line-height: 1.2em;}#sk-container-id-27 div.sk-label-container {text-align: center;}#sk-container-id-27 div.sk-container {/* jupyter's `normalize.less` sets `[hidden] { display: none; }` but bootstrap.min.css set `[hidden] { display: none !important; }` so we also need the `!important` here to be able to override the default hidden behavior on the sphinx rendered scikit-learn.org. See: https://github.com/scikit-learn/scikit-learn/issues/21755 */display: inline-block !important;position: relative;}#sk-container-id-27 div.sk-text-repr-fallback {display: none;}</style><div id=\"sk-container-id-27\" class=\"sk-top-container\"><div class=\"sk-text-repr-fallback\"><pre>ElasticNet(alpha=0.1)</pre><b>In a Jupyter environment, please rerun this cell to show the HTML representation or trust the notebook. <br />On GitHub, the HTML representation is unable to render, please try loading this page with nbviewer.org.</b></div><div class=\"sk-container\" hidden><div class=\"sk-item\"><div class=\"sk-estimator sk-toggleable\"><input class=\"sk-toggleable__control sk-hidden--visually\" id=\"sk-estimator-id-27\" type=\"checkbox\" checked><label for=\"sk-estimator-id-27\" class=\"sk-toggleable__label sk-toggleable__label-arrow\">ElasticNet</label><div class=\"sk-toggleable__content\"><pre>ElasticNet(alpha=0.1)</pre></div></div></div></div></div>"
      ],
      "text/plain": [
       "ElasticNet(alpha=0.1)"
      ]
     },
     "execution_count": 418,
     "metadata": {},
     "output_type": "execute_result"
    }
   ],
   "source": [
    "# fit the models to the training data\n",
    "model0.fit(processed_X_train, y_train)\n",
    "model1.fit(processed_X_train, y_train)\n",
    "model2.fit(processed_X_train, y_train)\n",
    "model3.fit(processed_X_train, y_train)"
   ]
  },
  {
   "cell_type": "code",
   "execution_count": 419,
   "id": "5df3cc39-fbf8-40c0-a6e8-a2d36f1336ed",
   "metadata": {},
   "outputs": [
    {
     "data": {
      "text/plain": [
       "[array(['Adelie', 'Chinstrap', 'Gentoo'], dtype=object),\n",
       " array(['Biscoe', 'Dream', 'Torgersen'], dtype=object),\n",
       " array(['female', 'male'], dtype=object),\n",
       " array([2007, 2008, 2009])]"
      ]
     },
     "execution_count": 419,
     "metadata": {},
     "output_type": "execute_result"
    }
   ],
   "source": [
    "ohe.categories_"
   ]
  },
  {
   "cell_type": "code",
   "execution_count": 420,
   "id": "0b4f6ba2-09a6-42d2-8d80-fc6de4237b78",
   "metadata": {},
   "outputs": [
    {
     "data": {
      "text/html": [
       "<div>\n",
       "<style scoped>\n",
       "    .dataframe tbody tr th:only-of-type {\n",
       "        vertical-align: middle;\n",
       "    }\n",
       "\n",
       "    .dataframe tbody tr th {\n",
       "        vertical-align: top;\n",
       "    }\n",
       "\n",
       "    .dataframe thead th {\n",
       "        text-align: right;\n",
       "    }\n",
       "</style>\n",
       "<table border=\"1\" class=\"dataframe\">\n",
       "  <thead>\n",
       "    <tr style=\"text-align: right;\">\n",
       "      <th></th>\n",
       "      <th>Lasso</th>\n",
       "      <th>Ridge</th>\n",
       "      <th>Elastic_net</th>\n",
       "      <th>OLS</th>\n",
       "    </tr>\n",
       "  </thead>\n",
       "  <tbody>\n",
       "    <tr>\n",
       "      <th>bill_length_mm</th>\n",
       "      <td>1.249122e+01</td>\n",
       "      <td>14.349430</td>\n",
       "      <td>61.359378</td>\n",
       "      <td>12.636180</td>\n",
       "    </tr>\n",
       "    <tr>\n",
       "      <th>bill_depth_mm</th>\n",
       "      <td>1.614444e+02</td>\n",
       "      <td>156.760389</td>\n",
       "      <td>11.728816</td>\n",
       "      <td>162.900507</td>\n",
       "    </tr>\n",
       "    <tr>\n",
       "      <th>flipper_length_mm</th>\n",
       "      <td>3.447997e+02</td>\n",
       "      <td>349.150954</td>\n",
       "      <td>415.053287</td>\n",
       "      <td>344.130121</td>\n",
       "    </tr>\n",
       "    <tr>\n",
       "      <th>Adelie</th>\n",
       "      <td>-3.178390e+02</td>\n",
       "      <td>-246.771131</td>\n",
       "      <td>-66.338192</td>\n",
       "      <td>-256.494115</td>\n",
       "    </tr>\n",
       "    <tr>\n",
       "      <th>Chinstrap</th>\n",
       "      <td>-5.016271e+02</td>\n",
       "      <td>-433.381936</td>\n",
       "      <td>-230.879912</td>\n",
       "      <td>-441.501485</td>\n",
       "    </tr>\n",
       "    <tr>\n",
       "      <th>Gentoo</th>\n",
       "      <td>6.327034e+02</td>\n",
       "      <td>680.153067</td>\n",
       "      <td>298.168527</td>\n",
       "      <td>697.995600</td>\n",
       "    </tr>\n",
       "    <tr>\n",
       "      <th>Biscoe</th>\n",
       "      <td>4.541732e+01</td>\n",
       "      <td>47.243169</td>\n",
       "      <td>106.962546</td>\n",
       "      <td>44.398738</td>\n",
       "    </tr>\n",
       "    <tr>\n",
       "      <th>Dream</th>\n",
       "      <td>0.000000e+00</td>\n",
       "      <td>-2.442876</td>\n",
       "      <td>-61.976653</td>\n",
       "      <td>-0.413941</td>\n",
       "    </tr>\n",
       "    <tr>\n",
       "      <th>Torgersen</th>\n",
       "      <td>-4.233785e+01</td>\n",
       "      <td>-44.800294</td>\n",
       "      <td>-43.980305</td>\n",
       "      <td>-43.984797</td>\n",
       "    </tr>\n",
       "    <tr>\n",
       "      <th>female</th>\n",
       "      <td>-4.162408e+02</td>\n",
       "      <td>-208.509339</td>\n",
       "      <td>-215.280602</td>\n",
       "      <td>-207.855479</td>\n",
       "    </tr>\n",
       "    <tr>\n",
       "      <th>male</th>\n",
       "      <td>1.097489e-13</td>\n",
       "      <td>208.509339</td>\n",
       "      <td>215.277826</td>\n",
       "      <td>207.855479</td>\n",
       "    </tr>\n",
       "    <tr>\n",
       "      <th>2007</th>\n",
       "      <td>1.248794e+02</td>\n",
       "      <td>103.143236</td>\n",
       "      <td>98.141958</td>\n",
       "      <td>102.241758</td>\n",
       "    </tr>\n",
       "    <tr>\n",
       "      <th>2008</th>\n",
       "      <td>-0.000000e+00</td>\n",
       "      <td>-23.023552</td>\n",
       "      <td>-19.761915</td>\n",
       "      <td>-22.850983</td>\n",
       "    </tr>\n",
       "    <tr>\n",
       "      <th>2009</th>\n",
       "      <td>-5.624278e+01</td>\n",
       "      <td>-80.119684</td>\n",
       "      <td>-77.384335</td>\n",
       "      <td>-79.390775</td>\n",
       "    </tr>\n",
       "  </tbody>\n",
       "</table>\n",
       "</div>"
      ],
      "text/plain": [
       "                          Lasso       Ridge  Elastic_net         OLS\n",
       "bill_length_mm     1.249122e+01   14.349430    61.359378   12.636180\n",
       "bill_depth_mm      1.614444e+02  156.760389    11.728816  162.900507\n",
       "flipper_length_mm  3.447997e+02  349.150954   415.053287  344.130121\n",
       "Adelie            -3.178390e+02 -246.771131   -66.338192 -256.494115\n",
       "Chinstrap         -5.016271e+02 -433.381936  -230.879912 -441.501485\n",
       "Gentoo             6.327034e+02  680.153067   298.168527  697.995600\n",
       "Biscoe             4.541732e+01   47.243169   106.962546   44.398738\n",
       "Dream              0.000000e+00   -2.442876   -61.976653   -0.413941\n",
       "Torgersen         -4.233785e+01  -44.800294   -43.980305  -43.984797\n",
       "female            -4.162408e+02 -208.509339  -215.280602 -207.855479\n",
       "male               1.097489e-13  208.509339   215.277826  207.855479\n",
       "2007               1.248794e+02  103.143236    98.141958  102.241758\n",
       "2008              -0.000000e+00  -23.023552   -19.761915  -22.850983\n",
       "2009              -5.624278e+01  -80.119684   -77.384335  -79.390775"
      ]
     },
     "execution_count": 420,
     "metadata": {},
     "output_type": "execute_result"
    }
   ],
   "source": [
    "# get the intercept and model coefficients\n",
    "feature_names = numeric_cols + list(ohe.categories_[0]) + list(ohe.categories_[1]) + list(ohe.categories_[2]) + list(ohe.categories_[3])\n",
    "\n",
    "coefs = pd.DataFrame({\"Lasso\" : model1.coef_, \n",
    "                      \"Ridge\" : model2.coef_, \n",
    "                      \"Elastic_net\" : model3.coef_,\n",
    "                      \"OLS\": model0.coef_, })\n",
    "coefs.index = feature_names\n",
    "\n",
    "coefs"
   ]
  },
  {
   "cell_type": "markdown",
   "id": "4616c0d3-e021-4cef-a3e8-a7cf44d9a8b1",
   "metadata": {},
   "source": [
    "<span style=\"color:#DC537D\"><font size=\"+1\">What do you notice about the coefficients?</font></span>"
   ]
  },
  {
   "cell_type": "code",
   "execution_count": 421,
   "id": "2ed9a1fe-f3a2-46ec-801c-cb49dae1469f",
   "metadata": {},
   "outputs": [],
   "source": [
    "coefs[\"feature\"] = feature_names"
   ]
  },
  {
   "cell_type": "code",
   "execution_count": 422,
   "id": "b39d41e6-b32a-4a11-afdb-7f950f9a9425",
   "metadata": {},
   "outputs": [
    {
     "data": {
      "text/plain": [
       "<Axes: title={'center': 'Model coefficients'}, ylabel='feature'>"
      ]
     },
     "execution_count": 422,
     "metadata": {},
     "output_type": "execute_result"
    },
    {
     "data": {
      "image/png": "[encoded data removed]",
      "text/plain": [
       "<Figure size 960x720 with 1 Axes>"
      ]
     },
     "metadata": {},
     "output_type": "display_data"
    }
   ],
   "source": [
    "# plot the model coefficients for all models\n",
    "coefs.plot(x=\"feature\", kind=\"barh\", stacked=False, title=\"Model coefficients\")"
   ]
  },
  {
   "cell_type": "code",
   "execution_count": 423,
   "id": "17037aa5-6696-4786-ab5d-bf5481826921",
   "metadata": {},
   "outputs": [
    {
     "data": {
      "text/plain": [
       "<Axes: title={'center': 'Model coefficients'}, ylabel='feature'>"
      ]
     },
     "execution_count": 423,
     "metadata": {},
     "output_type": "execute_result"
    },
    {
     "data": {
      "image/png": "[encoded data removed]",
      "text/plain": [
       "<Figure size 960x720 with 1 Axes>"
      ]
     },
     "metadata": {},
     "output_type": "display_data"
    }
   ],
   "source": [
    "# plot the model coefficients for L1 and L2 models only\n",
    "coefs[[\"feature\", \"Lasso\", \"Ridge\"]].plot(x=\"feature\", kind=\"barh\", stacked=False, title=\"Model coefficients\")"
   ]
  },
  {
   "cell_type": "markdown",
   "id": "60b84939-ff1d-406e-9aee-8e9e5f719bdd",
   "metadata": {},
   "source": [
    "<span style=\"color:#DC537D\"><font size=\"+1\">Do any values seem missing in the plot above?</font></span>"
   ]
  },
  {
   "cell_type": "markdown",
   "id": "3710e3d3-2bd8-4c18-ac59-e9be91fb9f7b",
   "metadata": {},
   "source": [
    "## <span style=\"color:rebeccapurple\">10. Predict values for the test set  <br> 11. Evaluate performance</span></h1>"
   ]
  },
  {
   "cell_type": "code",
   "execution_count": 424,
   "id": "d46dcbdb-5478-4e1e-9431-4c186d2316e4",
   "metadata": {},
   "outputs": [
    {
     "name": "stdout",
     "output_type": "stream",
     "text": [
      "\n",
      "\n",
      "OLS\n",
      "test R2 :  0.851\n",
      "test MSE :  90199\n",
      "\n",
      "\n",
      "Lasso\n",
      "test R2 :  0.851\n",
      "test MSE :  90094\n",
      "\n",
      "\n",
      "Ridge\n",
      "test R2 :  0.851\n",
      "test MSE :  90009\n",
      "\n",
      "\n",
      "Elastic Net\n",
      "test R2 :  0.857\n",
      "test MSE :  86335\n"
     ]
    }
   ],
   "source": [
    "from sklearn.metrics import r2_score\n",
    "from sklearn.metrics import mean_squared_error\n",
    "\n",
    "for model, name in zip([model0, model1,  model2, model3], [\"OLS\", \"Lasso\", \"Ridge\", \"Elastic Net\"]):\n",
    "    print(\"\\n\")\n",
    "    print(name)\n",
    "    \n",
    "    # predict\n",
    "    y_predicted_test = model.predict(processed_X_test)\n",
    "    \n",
    "    # evaluate performance\n",
    "    print(\"test R2 : \", round(r2_score(y_test, y_predicted_test), 3))\n",
    "    print(\"test MSE : \", int(mean_squared_error(y_test, y_predicted_test)))"
   ]
  },
  {
   "cell_type": "markdown",
   "id": "64c1cc08-ae7e-45bd-82ab-4b2dd54d278e",
   "metadata": {},
   "source": [
    "<span style=\"color:#DC537D\"><font size=\"+2\">How does alpha (lambda) affect the results?</font></span>\n",
    "<br> Change the value of alpha across 0.1, 10, 100 for lasso and ridge regression models and plot the results. <br> Also calculate the model performance across these different values of alpha."
   ]
  },
  {
   "cell_type": "code",
   "execution_count": null,
   "id": "5873c9ed-b085-472a-a601-7acfa838135e",
   "metadata": {},
   "outputs": [],
   "source": [
    "coefficient_dataframe_list = []\n",
    "\n",
    "for alpha in [0.1, 10, 100]:\n",
    "    # define the model\n",
    "    model1 = \n",
    "    model2 =\n",
    "    \n",
    "    # fit the model\n",
    "    model1.fit()\n",
    "    model2.fit()\n",
    "    \n",
    "    #get coefficients table\n",
    "    coefs = pd.DataFrame({\"Lasso\" : model1.coef_, \"Ridge\" : model2.coef_, })\n",
    "    coefs[\"feature\"] = feature_names\n",
    "    coefs[\"alpha\"] = alpha\n",
    "    \n",
    "    # append to list\n",
    "    coefficient_dataframe_list.append(coefs)\n",
    "    \n",
    "# concatenate the list of dataframes\n",
    "final_coefs = pd.concat(coefficient_dataframe_list)"
   ]
  },
  {
   "cell_type": "code",
   "execution_count": null,
   "id": "3a0adf3a-485a-4a7b-9b0b-818fda7deac5",
   "metadata": {},
   "outputs": [],
   "source": [
    "final_coefs"
   ]
  },
  {
   "cell_type": "code",
   "execution_count": null,
   "id": "e246e2f1-a781-4b1f-90f9-fabc52e1ea8f",
   "metadata": {},
   "outputs": [],
   "source": [
    "# plot the results for alpha = 0.1\n",
    "plot_df = final_coefs.loc[final_coefs.alpha==0.1, [\"Lasso\", \"Ridge\", \"feature\"]]\n",
    "plot_df.plot()"
   ]
  },
  {
   "cell_type": "code",
   "execution_count": null,
   "id": "f1564825-f64b-4360-babd-17cf687c83b3",
   "metadata": {},
   "outputs": [],
   "source": []
  },
  {
   "cell_type": "code",
   "execution_count": null,
   "id": "b23a2240-fcd5-4510-9126-25a7a89d946f",
   "metadata": {},
   "outputs": [],
   "source": []
  },
  {
   "cell_type": "markdown",
   "id": "e0de1f4c-6de2-4e7f-9ade-a18c79aeab36",
   "metadata": {},
   "source": [
    "## <span style=\"color:rebeccapurple\">9. Model cross-validation</span></h1>"
   ]
  },
  {
   "cell_type": "markdown",
   "id": "19600301-565a-44ca-aeb5-07b8a094110a",
   "metadata": {},
   "source": [
    "Alpha above is a hyper-parameter.\n",
    "<br>It must also be optimized for best model performance."
   ]
  },
  {
   "cell_type": "markdown",
   "id": "266e4d0f-ddb4-40cc-85b0-4a219c2d63bf",
   "metadata": {},
   "source": [
    "When evaluating different settings (“hyperparameters”) for estimators, that must be manually set, there is still a risk of overfitting on the test set because the parameters can be tweaked until the estimator performs optimally. This way, knowledge about the test set can “leak” into the model and evaluation metrics no longer report on generalization performance. To solve this problem, yet another part of the dataset can be held out as a so-called “validation set”: training proceeds on the training set, after which evaluation is done on the validation set, and when the experiment seems to be successful, final evaluation can be done on the test set.\n",
    "\n",
    "However, by partitioning the available data into three sets, we drastically reduce the number of samples which can be used for learning the model, and the results can depend on a particular random choice for the pair of (train, validation) sets.\n",
    "\n",
    "A solution to this problem is a procedure called cross-validation (CV for short). A test set should still be held out for final evaluation, but the validation set is no longer needed when doing CV. In the basic approach, called k-fold CV, the training set is split into k smaller sets (other approaches are described below, but generally follow the same principles). The following procedure is followed for each of the k “folds”:\n",
    "\n",
    "A model is trained using k-1 of the folds as training data; the resulting model is validated on the remaining part of the data (i.e., it is used as a test set to compute a performance measure such as accuracy).\n",
    "\n",
    "The performance measure reported by k-fold cross-validation is then the average of the values computed in the loop. This approach can be computationally expensive, but does not waste too much data (as is the case when fixing an arbitrary validation set), which is a major advantage in problems such as inverse inference where the number of samples is very small."
   ]
  },
  {
   "cell_type": "code",
   "execution_count": 429,
   "id": "928e7194-6822-48b6-bf95-b711611cfd21",
   "metadata": {
    "jupyter": {
     "source_hidden": true
    },
    "tags": []
   },
   "outputs": [
    {
     "data": {
      "text/html": [
       "<img src=\"https://scikit-learn.org/stable/_images/grid_search_cross_validation.png\" width=\"600\" height=\"600\"/>"
      ],
      "text/plain": [
       "<IPython.core.display.Image object>"
      ]
     },
     "execution_count": 429,
     "metadata": {},
     "output_type": "execute_result"
    }
   ],
   "source": [
    "from IPython.display import Image\n",
    "Image(url=\"https://scikit-learn.org/stable/_images/grid_search_cross_validation.png\", width=600, height=600)"
   ]
  },
  {
   "cell_type": "code",
   "execution_count": 430,
   "id": "57eb2cd3-d121-4780-befe-e529885bab2a",
   "metadata": {},
   "outputs": [],
   "source": [
    "from sklearn.model_selection import cross_val_score"
   ]
  },
  {
   "cell_type": "code",
   "execution_count": 434,
   "id": "4df13232-dcb5-493c-8995-6fb705e0859c",
   "metadata": {},
   "outputs": [
    {
     "data": {
      "text/plain": [
       "array([0.91213544, 0.77799597, 0.91743448, 0.8738194 , 0.85356473])"
      ]
     },
     "execution_count": 434,
     "metadata": {},
     "output_type": "execute_result"
    }
   ],
   "source": [
    "# fit the models to the training data\n",
    "scores = cross_val_score(model1, processed_X_train, y_train, cv=5)\n",
    "scores"
   ]
  },
  {
   "cell_type": "markdown",
   "id": "bca7b413-c1ac-4915-ab05-e72e1ffa2a58",
   "metadata": {},
   "source": [
    "<span style=\"color:#DC537D\"><font size=\"+2\">What does 5-fold cross-validation on all the 4 models yeild?</font></span>"
   ]
  },
  {
   "cell_type": "code",
   "execution_count": 3,
   "id": "b7d3f027-18c4-49ae-8d24-b7101cf20896",
   "metadata": {},
   "outputs": [],
   "source": [
    "alpha=10\n",
    "model0 = linear_model.LinearRegression()\n",
    "model1 = linear_model.Lasso(alpha=alpha) # alpha controls regularization strength\n",
    "model2 = linear_model.Ridge(alpha=alpha)\n",
    "model3 = linear_model.ElasticNet(alpha=alpha, l1_ratio=0.5)"
   ]
  },
  {
   "cell_type": "code",
   "execution_count": null,
   "id": "e15679f9-fa54-4879-ab6f-e42c0e776888",
   "metadata": {},
   "outputs": [],
   "source": [
    "print(\"alpha : \" , alpha)\n",
    "for model, name in zip([model0, model1,  model2, model3], [\"OLS\", \"Lasso\", \"Ridge\", \"Elastic Net\"]):\n",
    "    "
   ]
  },
  {
   "cell_type": "code",
   "execution_count": null,
   "id": "d08c168c-fe0d-4947-949b-0cfe7e7d2219",
   "metadata": {},
   "outputs": [],
   "source": []
  },
  {
   "cell_type": "code",
   "execution_count": null,
   "id": "a2b1cc53-c839-44a6-a05a-391c000b4bd5",
   "metadata": {},
   "outputs": [],
   "source": []
  }
 ],
 "metadata": {
  "kernelspec": {
   "display_name": "Python 3 (ipykernel)",
   "language": "python",
   "name": "python3"
  },
  "language_info": {
   "codemirror_mode": {
    "name": "ipython",
    "version": 3
   },
   "file_extension": ".py",
   "mimetype": "text/x-python",
   "name": "python",
   "nbconvert_exporter": "python",
   "pygments_lexer": "ipython3",
   "version": "3.10.9"
  }
 },
 "nbformat": 4,
 "nbformat_minor": 5
}
