{
 "cells": [
  {
   "cell_type": "markdown",
   "id": "84249947-3dab-4550-862a-555f5d5dfaf9",
   "metadata": {},
   "source": [
    "# <span style=\"color:rebeccapurple\">Python Machine Learning with scikit-learn</span>"
   ]
  },
  {
   "cell_type": "markdown",
   "id": "be11d140-a4af-464b-bad0-6ca2e0af3d38",
   "metadata": {},
   "source": [
    "## <span style=\"color:rebeccapurple\">Notebook 1: Building a simple model </span>"
   ]
  },
  {
   "cell_type": "markdown",
   "id": "c0276527-2eee-4dd7-89b6-befeb39e3b58",
   "metadata": {
    "tags": []
   },
   "source": [
    "## <br><span style=\"color:rebeccapurple\">ML workflow steps:</span>\n",
    "\n",
    "1. State the problem\n",
    "2. Gather the data\n",
    "3. Split train-test sets\n",
    "4. Pre-process the data\n",
    "5. Establish a baseline\n",
    "6. Choose a model\n",
    "7. Train the model\n",
    "8. Optimize the model\n",
    "9. Validate the model\n",
    "10. Predict unknown data points using the model\n",
    "11. Interpret and evaluate the model"
   ]
  },
  {
   "cell_type": "code",
   "execution_count": 3,
   "id": "1ff5d5e9-e908-4320-af9d-24700814379c",
   "metadata": {
    "tags": []
   },
   "outputs": [],
   "source": [
    "# Import required packages\n",
    "import pandas as pd\n",
    "import numpy as np\n",
    "import matplotlib\n",
    "import matplotlib.pyplot as plt\n",
    "import seaborn as sns\n",
    "\n",
    "import sklearn"
   ]
  },
  {
   "cell_type": "code",
   "execution_count": 4,
   "id": "4875d4d7-b9e6-4d21-bf5a-53bd8b7985b1",
   "metadata": {},
   "outputs": [],
   "source": [
    "# setting some figure display paramaters\n",
    "sns.set_context('notebook')\n",
    "sns.set_style('white', {'axes.linewidth': 0.5})\n",
    "matplotlib.rcParams.update(matplotlib.rcParamsDefault)\n",
    "\n",
    "plt.rcParams['figure.dpi'] = 150\n",
    "plt.rcParams['xtick.major.size'] = 3\n",
    "plt.rcParams['xtick.major.width'] = 1\n",
    "plt.rcParams['xtick.bottom'] = True\n",
    "plt.rcParams['ytick.left'] = True\n",
    "plt.rcParams['font.family'] = 'sans-serif'\n",
    "plt.rcParams['font.sans-serif'] = 'Arial'\n",
    "plt.rcParams['pdf.fonttype'] = 42\n",
    "plt.rcParams['legend.edgecolor'] = 'w'"
   ]
  },
  {
   "cell_type": "markdown",
   "id": "f51812ab-79c6-4b66-8c8e-c8f081aa8970",
   "metadata": {
    "jp-MarkdownHeadingCollapsed": true,
    "tags": []
   },
   "source": [
    "## <span style=\"color:rebeccapurple\">1. State the problem</span></h1>\n",
    "\n",
    "**Task:** Predict the body mass of penguins.\n",
    "\n",
    "**Input:** Table of penguins features.\n",
    "\n",
    "**Output:** A value for body mass in grams."
   ]
  },
  {
   "cell_type": "markdown",
   "id": "fa6e7335-9761-4909-abfb-4ab05cfe0b63",
   "metadata": {
    "tags": []
   },
   "source": [
    "## <span style=\"color:rebeccapurple\">2. Gather and inspect the data</span></h1>\n",
    "\n",
    "**Data:** Size measurements for 344 adult foraging Adélie, Chinstrap, and Gentoo penguins observed on islands in the Palmer Archipelago near Palmer Station, Antarctica."
   ]
  },
  {
   "cell_type": "code",
   "execution_count": 73,
   "id": "7adeb1f1-5915-4858-9660-09cf62422eb0",
   "metadata": {},
   "outputs": [],
   "source": [
    "# Let's look at the data\n",
    "df = pd.read_csv('data/penguins.csv')"
   ]
  },
  {
   "cell_type": "code",
   "execution_count": 74,
   "id": "b3b5461b-d645-432c-a951-657bc8b9f3ef",
   "metadata": {},
   "outputs": [
    {
     "data": {
      "text/html": [
       "<div>\n",
       "<style scoped>\n",
       "    .dataframe tbody tr th:only-of-type {\n",
       "        vertical-align: middle;\n",
       "    }\n",
       "\n",
       "    .dataframe tbody tr th {\n",
       "        vertical-align: top;\n",
       "    }\n",
       "\n",
       "    .dataframe thead th {\n",
       "        text-align: right;\n",
       "    }\n",
       "</style>\n",
       "<table border=\"1\" class=\"dataframe\">\n",
       "  <thead>\n",
       "    <tr style=\"text-align: right;\">\n",
       "      <th></th>\n",
       "      <th>species</th>\n",
       "      <th>island</th>\n",
       "      <th>bill_length_mm</th>\n",
       "      <th>bill_depth_mm</th>\n",
       "      <th>flipper_length_mm</th>\n",
       "      <th>body_mass_g</th>\n",
       "      <th>sex</th>\n",
       "      <th>year</th>\n",
       "    </tr>\n",
       "  </thead>\n",
       "  <tbody>\n",
       "    <tr>\n",
       "      <th>0</th>\n",
       "      <td>Adelie</td>\n",
       "      <td>Torgersen</td>\n",
       "      <td>39.1</td>\n",
       "      <td>18.7</td>\n",
       "      <td>181.0</td>\n",
       "      <td>3750.0</td>\n",
       "      <td>male</td>\n",
       "      <td>2007</td>\n",
       "    </tr>\n",
       "    <tr>\n",
       "      <th>1</th>\n",
       "      <td>Adelie</td>\n",
       "      <td>Torgersen</td>\n",
       "      <td>39.5</td>\n",
       "      <td>17.4</td>\n",
       "      <td>186.0</td>\n",
       "      <td>3800.0</td>\n",
       "      <td>female</td>\n",
       "      <td>2007</td>\n",
       "    </tr>\n",
       "    <tr>\n",
       "      <th>2</th>\n",
       "      <td>Adelie</td>\n",
       "      <td>Torgersen</td>\n",
       "      <td>40.3</td>\n",
       "      <td>18.0</td>\n",
       "      <td>195.0</td>\n",
       "      <td>3250.0</td>\n",
       "      <td>female</td>\n",
       "      <td>2007</td>\n",
       "    </tr>\n",
       "    <tr>\n",
       "      <th>3</th>\n",
       "      <td>Adelie</td>\n",
       "      <td>Torgersen</td>\n",
       "      <td>36.7</td>\n",
       "      <td>19.3</td>\n",
       "      <td>193.0</td>\n",
       "      <td>3450.0</td>\n",
       "      <td>female</td>\n",
       "      <td>2007</td>\n",
       "    </tr>\n",
       "    <tr>\n",
       "      <th>4</th>\n",
       "      <td>Adelie</td>\n",
       "      <td>Torgersen</td>\n",
       "      <td>39.3</td>\n",
       "      <td>20.6</td>\n",
       "      <td>190.0</td>\n",
       "      <td>3650.0</td>\n",
       "      <td>male</td>\n",
       "      <td>2007</td>\n",
       "    </tr>\n",
       "  </tbody>\n",
       "</table>\n",
       "</div>"
      ],
      "text/plain": [
       "  species     island  bill_length_mm  bill_depth_mm  flipper_length_mm  \\\n",
       "0  Adelie  Torgersen            39.1           18.7              181.0   \n",
       "1  Adelie  Torgersen            39.5           17.4              186.0   \n",
       "2  Adelie  Torgersen            40.3           18.0              195.0   \n",
       "3  Adelie  Torgersen            36.7           19.3              193.0   \n",
       "4  Adelie  Torgersen            39.3           20.6              190.0   \n",
       "\n",
       "   body_mass_g     sex  year  \n",
       "0       3750.0    male  2007  \n",
       "1       3800.0  female  2007  \n",
       "2       3250.0  female  2007  \n",
       "3       3450.0  female  2007  \n",
       "4       3650.0    male  2007  "
      ]
     },
     "execution_count": 74,
     "metadata": {},
     "output_type": "execute_result"
    }
   ],
   "source": [
    "df.head()"
   ]
  },
  {
   "cell_type": "code",
   "execution_count": 75,
   "id": "b5d23977-cdee-4cef-b523-e680c41c1ae4",
   "metadata": {},
   "outputs": [
    {
     "data": {
      "text/plain": [
       "(333, 8)"
      ]
     },
     "execution_count": 75,
     "metadata": {},
     "output_type": "execute_result"
    }
   ],
   "source": [
    "df.shape"
   ]
  },
  {
   "cell_type": "code",
   "execution_count": 76,
   "id": "d46508f8-4063-4438-8484-e5d436ed73be",
   "metadata": {},
   "outputs": [
    {
     "data": {
      "text/html": [
       "<div>\n",
       "<style scoped>\n",
       "    .dataframe tbody tr th:only-of-type {\n",
       "        vertical-align: middle;\n",
       "    }\n",
       "\n",
       "    .dataframe tbody tr th {\n",
       "        vertical-align: top;\n",
       "    }\n",
       "\n",
       "    .dataframe thead th {\n",
       "        text-align: right;\n",
       "    }\n",
       "</style>\n",
       "<table border=\"1\" class=\"dataframe\">\n",
       "  <thead>\n",
       "    <tr style=\"text-align: right;\">\n",
       "      <th></th>\n",
       "      <th>bill_length_mm</th>\n",
       "      <th>bill_depth_mm</th>\n",
       "      <th>flipper_length_mm</th>\n",
       "      <th>body_mass_g</th>\n",
       "      <th>year</th>\n",
       "    </tr>\n",
       "  </thead>\n",
       "  <tbody>\n",
       "    <tr>\n",
       "      <th>count</th>\n",
       "      <td>333.000000</td>\n",
       "      <td>333.000000</td>\n",
       "      <td>333.000000</td>\n",
       "      <td>333.000000</td>\n",
       "      <td>333.000000</td>\n",
       "    </tr>\n",
       "    <tr>\n",
       "      <th>mean</th>\n",
       "      <td>43.992793</td>\n",
       "      <td>17.164865</td>\n",
       "      <td>200.966967</td>\n",
       "      <td>4207.057057</td>\n",
       "      <td>2008.042042</td>\n",
       "    </tr>\n",
       "    <tr>\n",
       "      <th>std</th>\n",
       "      <td>5.468668</td>\n",
       "      <td>1.969235</td>\n",
       "      <td>14.015765</td>\n",
       "      <td>805.215802</td>\n",
       "      <td>0.812944</td>\n",
       "    </tr>\n",
       "    <tr>\n",
       "      <th>min</th>\n",
       "      <td>32.100000</td>\n",
       "      <td>13.100000</td>\n",
       "      <td>172.000000</td>\n",
       "      <td>2700.000000</td>\n",
       "      <td>2007.000000</td>\n",
       "    </tr>\n",
       "    <tr>\n",
       "      <th>25%</th>\n",
       "      <td>39.500000</td>\n",
       "      <td>15.600000</td>\n",
       "      <td>190.000000</td>\n",
       "      <td>3550.000000</td>\n",
       "      <td>2007.000000</td>\n",
       "    </tr>\n",
       "    <tr>\n",
       "      <th>50%</th>\n",
       "      <td>44.500000</td>\n",
       "      <td>17.300000</td>\n",
       "      <td>197.000000</td>\n",
       "      <td>4050.000000</td>\n",
       "      <td>2008.000000</td>\n",
       "    </tr>\n",
       "    <tr>\n",
       "      <th>75%</th>\n",
       "      <td>48.600000</td>\n",
       "      <td>18.700000</td>\n",
       "      <td>213.000000</td>\n",
       "      <td>4775.000000</td>\n",
       "      <td>2009.000000</td>\n",
       "    </tr>\n",
       "    <tr>\n",
       "      <th>max</th>\n",
       "      <td>59.600000</td>\n",
       "      <td>21.500000</td>\n",
       "      <td>231.000000</td>\n",
       "      <td>6300.000000</td>\n",
       "      <td>2009.000000</td>\n",
       "    </tr>\n",
       "  </tbody>\n",
       "</table>\n",
       "</div>"
      ],
      "text/plain": [
       "       bill_length_mm  bill_depth_mm  flipper_length_mm  body_mass_g  \\\n",
       "count      333.000000     333.000000         333.000000   333.000000   \n",
       "mean        43.992793      17.164865         200.966967  4207.057057   \n",
       "std          5.468668       1.969235          14.015765   805.215802   \n",
       "min         32.100000      13.100000         172.000000  2700.000000   \n",
       "25%         39.500000      15.600000         190.000000  3550.000000   \n",
       "50%         44.500000      17.300000         197.000000  4050.000000   \n",
       "75%         48.600000      18.700000         213.000000  4775.000000   \n",
       "max         59.600000      21.500000         231.000000  6300.000000   \n",
       "\n",
       "              year  \n",
       "count   333.000000  \n",
       "mean   2008.042042  \n",
       "std       0.812944  \n",
       "min    2007.000000  \n",
       "25%    2007.000000  \n",
       "50%    2008.000000  \n",
       "75%    2009.000000  \n",
       "max    2009.000000  "
      ]
     },
     "execution_count": 76,
     "metadata": {},
     "output_type": "execute_result"
    }
   ],
   "source": [
    "df.describe()"
   ]
  },
  {
   "cell_type": "code",
   "execution_count": 77,
   "id": "ab4914cd-0ae4-43a6-bac4-e2d6b87bb8e4",
   "metadata": {},
   "outputs": [
    {
     "name": "stderr",
     "output_type": "stream",
     "text": [
      "/var/folders/j2/63xz860d3_90w9q1rg4066gw0000gp/T/ipykernel_31706/232295409.py:1: FutureWarning: The default value of numeric_only in DataFrameGroupBy.mean is deprecated. In a future version, numeric_only will default to False. Either specify numeric_only or select only columns which should be valid for the function.\n",
      "  df.groupby(\"sex\").mean()\n"
     ]
    },
    {
     "data": {
      "text/html": [
       "<div>\n",
       "<style scoped>\n",
       "    .dataframe tbody tr th:only-of-type {\n",
       "        vertical-align: middle;\n",
       "    }\n",
       "\n",
       "    .dataframe tbody tr th {\n",
       "        vertical-align: top;\n",
       "    }\n",
       "\n",
       "    .dataframe thead th {\n",
       "        text-align: right;\n",
       "    }\n",
       "</style>\n",
       "<table border=\"1\" class=\"dataframe\">\n",
       "  <thead>\n",
       "    <tr style=\"text-align: right;\">\n",
       "      <th></th>\n",
       "      <th>bill_length_mm</th>\n",
       "      <th>bill_depth_mm</th>\n",
       "      <th>flipper_length_mm</th>\n",
       "      <th>body_mass_g</th>\n",
       "      <th>year</th>\n",
       "    </tr>\n",
       "    <tr>\n",
       "      <th>sex</th>\n",
       "      <th></th>\n",
       "      <th></th>\n",
       "      <th></th>\n",
       "      <th></th>\n",
       "      <th></th>\n",
       "    </tr>\n",
       "  </thead>\n",
       "  <tbody>\n",
       "    <tr>\n",
       "      <th>female</th>\n",
       "      <td>42.096970</td>\n",
       "      <td>16.425455</td>\n",
       "      <td>197.363636</td>\n",
       "      <td>3862.272727</td>\n",
       "      <td>2008.042424</td>\n",
       "    </tr>\n",
       "    <tr>\n",
       "      <th>male</th>\n",
       "      <td>45.854762</td>\n",
       "      <td>17.891071</td>\n",
       "      <td>204.505952</td>\n",
       "      <td>4545.684524</td>\n",
       "      <td>2008.041667</td>\n",
       "    </tr>\n",
       "  </tbody>\n",
       "</table>\n",
       "</div>"
      ],
      "text/plain": [
       "        bill_length_mm  bill_depth_mm  flipper_length_mm  body_mass_g  \\\n",
       "sex                                                                     \n",
       "female       42.096970      16.425455         197.363636  3862.272727   \n",
       "male         45.854762      17.891071         204.505952  4545.684524   \n",
       "\n",
       "               year  \n",
       "sex                  \n",
       "female  2008.042424  \n",
       "male    2008.041667  "
      ]
     },
     "execution_count": 77,
     "metadata": {},
     "output_type": "execute_result"
    }
   ],
   "source": [
    "df.groupby(\"sex\").mean()"
   ]
  },
  {
   "cell_type": "code",
   "execution_count": 78,
   "id": "e3fb7963-aec6-4fcb-a989-47a0fbe0203b",
   "metadata": {},
   "outputs": [
    {
     "data": {
      "image/png": "[encoded data removed]",
      "text/plain": [
       "<Figure size 600x300 with 1 Axes>"
      ]
     },
     "metadata": {},
     "output_type": "display_data"
    }
   ],
   "source": [
    "# Let's see what distribution of the output variable looks like\n",
    "plt.figure(figsize=(4, 2))\n",
    "sns.histplot(df['body_mass_g'], bins=20)\n",
    "plt.title('Target distribution')\n",
    "plt.show()"
   ]
  },
  {
   "cell_type": "markdown",
   "id": "bc0f3379-801c-4466-bf06-ce430c181f40",
   "metadata": {},
   "source": [
    "<span style=\"color:#DC537D\"><font size=\"+1\">What is the input data for prediction?</font></span>"
   ]
  },
  {
   "cell_type": "code",
   "execution_count": 173,
   "id": "9880dcde-04fa-40e6-8b22-a6de9f59be76",
   "metadata": {},
   "outputs": [],
   "source": [
    "# select the input data\n",
    "X = "
   ]
  },
  {
   "cell_type": "markdown",
   "id": "f3b4f7ec-2368-4b85-aa29-ce0fe53df35b",
   "metadata": {},
   "source": [
    "<span style=\"color:#DC537D\"><font size=\"+1\">What is the target to be predicted?</font></span>"
   ]
  },
  {
   "cell_type": "code",
   "execution_count": 174,
   "id": "1e2475a3-fc62-4309-a410-c54201343299",
   "metadata": {},
   "outputs": [],
   "source": [
    "# select the target labels\n",
    "y = "
   ]
  },
  {
   "cell_type": "markdown",
   "id": "a323072b-6ccd-4cbf-94e4-7dd3233afbaa",
   "metadata": {
    "tags": []
   },
   "source": [
    "## <span style=\"color:rebeccapurple\">3. Split the data into train and test</span></h1>\n",
    "Ideally you want to separate the train and test sets very early on. I prefer to split them before pre-processing."
   ]
  },
  {
   "cell_type": "markdown",
   "id": "bea1d080-a3ae-4c67-81e9-75a2846963de",
   "metadata": {},
   "source": [
    "<span style=\"color:#DC537D\"><font size=\"+1\">Write code to split the dataset 80-20 train vs test</font></span>"
   ]
  },
  {
   "cell_type": "code",
   "execution_count": 119,
   "id": "1f308bb4-003a-4da5-8e1f-8fa3980af12a",
   "metadata": {},
   "outputs": [],
   "source": [
    "# import the required function\n"
   ]
  },
  {
   "cell_type": "code",
   "execution_count": 124,
   "id": "c35760c2-28f8-4816-b1f0-dc740da705cf",
   "metadata": {},
   "outputs": [],
   "source": [
    "# split the dataset\n"
   ]
  },
  {
   "cell_type": "code",
   "execution_count": null,
   "id": "79bc47cf-cc33-41d9-83a2-23fe6ee6d1cd",
   "metadata": {},
   "outputs": [],
   "source": [
    "# look at the dimensions of the split data\n"
   ]
  },
  {
   "cell_type": "markdown",
   "id": "ca957a70-c639-4ce2-8597-9a7793ffe92a",
   "metadata": {},
   "source": [
    "## <span style=\"color:rebeccapurple\">4. Pre-process the training data</span>"
   ]
  },
  {
   "cell_type": "markdown",
   "id": "aa612bd1-858c-40bc-a4f2-b71056831a41",
   "metadata": {},
   "source": [
    "<span style=\"color:#DC537D\"><font size=\"+1\">What kind of pre-processing does our dataset need?</font></span>"
   ]
  },
  {
   "cell_type": "code",
   "execution_count": 66,
   "id": "991fea46-233c-4cf8-a44e-ef07618bacb6",
   "metadata": {},
   "outputs": [
    {
     "data": {
      "text/plain": [
       "Index(['species', 'island', 'bill_length_mm', 'bill_depth_mm',\n",
       "       'flipper_length_mm', 'body_mass_g', 'sex', 'year'],\n",
       "      dtype='object')"
      ]
     },
     "execution_count": 66,
     "metadata": {},
     "output_type": "execute_result"
    }
   ],
   "source": [
    "df.columns"
   ]
  },
  {
   "cell_type": "code",
   "execution_count": null,
   "id": "bb956683-9932-4293-819d-aeede656e497",
   "metadata": {},
   "outputs": [],
   "source": [
    "# list the numerical features\n",
    "numeric_cols = "
   ]
  },
  {
   "cell_type": "code",
   "execution_count": null,
   "id": "d73d7d61-f0f4-4ac5-933c-fa0e5d26a4ab",
   "metadata": {},
   "outputs": [],
   "source": [
    "# list the categorical features\n",
    "categorical_cols = "
   ]
  },
  {
   "cell_type": "code",
   "execution_count": null,
   "id": "834adbf7-9cfd-4276-b02c-502455034da5",
   "metadata": {},
   "outputs": [],
   "source": [
    "# ---------------- standardize numerical columns ---------------\n",
    "# import scaler\n",
    "\n",
    "# fit\n",
    "\n",
    "# transform both train and test\n"
   ]
  },
  {
   "cell_type": "code",
   "execution_count": null,
   "id": "09f508a4-00fd-4419-9dbb-e3b6f5c7421c",
   "metadata": {},
   "outputs": [],
   "source": [
    "# ---------------- encode categorical columns ---------------\n",
    "# import encoder\n",
    "\n",
    "# fit\n",
    "\n",
    "# transform both train and test\n"
   ]
  },
  {
   "cell_type": "code",
   "execution_count": null,
   "id": "bcfc1577-05f3-4c3e-96bf-50aeca460283",
   "metadata": {},
   "outputs": [],
   "source": [
    "# ---------------- stack the processed columns together---------------\n"
   ]
  },
  {
   "cell_type": "markdown",
   "id": "5e8ac6bf-acbf-4f0a-9788-dde3f4759e93",
   "metadata": {},
   "source": [
    "<span style=\"color:#DC537D\"><font size=\"+1\">Does the target label need any encoding / transformation?</font></span>"
   ]
  },
  {
   "cell_type": "code",
   "execution_count": null,
   "id": "a0e7c0a1-3ed7-4d4a-b852-71d31676a540",
   "metadata": {},
   "outputs": [],
   "source": []
  },
  {
   "cell_type": "markdown",
   "id": "ecbe1c38-f6aa-4ad2-b996-5d3e801c328a",
   "metadata": {},
   "source": [
    "## <span style=\"color:rebeccapurple\">5. Establish a baseline</span></h1>"
   ]
  },
  {
   "cell_type": "markdown",
   "id": "a05642b7-5247-44ac-a01d-df174e2225d4",
   "metadata": {},
   "source": [
    "The simplest prediction you could make would be an \"average diagnosis\":"
   ]
  },
  {
   "cell_type": "code",
   "execution_count": 79,
   "id": "3c1c0032-341d-4bc3-a824-80e81c2b089d",
   "metadata": {},
   "outputs": [
    {
     "data": {
      "text/plain": [
       "4207.057057057057"
      ]
     },
     "execution_count": 79,
     "metadata": {},
     "output_type": "execute_result"
    }
   ],
   "source": [
    "df[\"body_mass_g\"].mean()"
   ]
  },
  {
   "cell_type": "markdown",
   "id": "a209213a-7094-4163-b66f-68c18119cc6b",
   "metadata": {},
   "source": [
    "The error on this prediction can be calculated too. Suppose we decide to calculate the mean squared error (MSE)\n",
    "$$MSE = \\overline{(Observed - Expected)^2}$$"
   ]
  },
  {
   "cell_type": "code",
   "execution_count": 80,
   "id": "d98208d1-b816-41c4-b0a3-d52517a8e303",
   "metadata": {},
   "outputs": [
    {
     "data": {
      "text/plain": [
       "646425.4231709186"
      ]
     },
     "execution_count": 80,
     "metadata": {},
     "output_type": "execute_result"
    }
   ],
   "source": [
    "error = df[\"body_mass_g\"] - df[\"body_mass_g\"].mean()\n",
    "squared_error = error**2\n",
    "mean_squared_error = np.mean(squared_error)\n",
    "mean_squared_error"
   ]
  },
  {
   "cell_type": "markdown",
   "id": "7bc81788-7da1-4dd9-ac7c-10904c4e73d3",
   "metadata": {},
   "source": [
    "The objective of model training or model optimization is to reduce the training error as much as possible, without over-fitting the model.\n",
    "\n",
    "Note - Ideally you never see the test set, so the \"average prediction\" would be calculated over the train set only."
   ]
  },
  {
   "cell_type": "markdown",
   "id": "0527d0d2-cad3-4d28-b3ae-795b0b961a92",
   "metadata": {},
   "source": [
    "<span style=\"color:#DC537D\"><font size=\"+1\">Provide a baseline target prediction and mean squared error using the training set</font></span>"
   ]
  },
  {
   "cell_type": "code",
   "execution_count": null,
   "id": "cce7cbca-b803-4a3c-bacf-db19741c848d",
   "metadata": {},
   "outputs": [],
   "source": []
  },
  {
   "cell_type": "markdown",
   "id": "b5c51945-783a-4691-b238-79c624893b80",
   "metadata": {},
   "source": [
    "## <span style=\"color:rebeccapurple\">6. Choose a model</span></h1>"
   ]
  },
  {
   "cell_type": "markdown",
   "id": "0b706ef4-f041-4ddd-870f-8bf451febbe6",
   "metadata": {},
   "source": [
    "<span style=\"color:#DC537D\"><font size=\"+1\">Is this a supervised or unsupervised learning task?</font></span>"
   ]
  },
  {
   "cell_type": "markdown",
   "id": "0db2819f-370d-4dd5-a4d7-ece6d057014a",
   "metadata": {},
   "source": [
    "<span style=\"color:#DC537D\"><font size=\"+1\">Is this a classification or regression task?</font></span>"
   ]
  },
  {
   "cell_type": "markdown",
   "id": "59c757fa-1f98-4324-afc2-98af1e042252",
   "metadata": {},
   "source": [
    "<span style=\"color:#DC537D\"><font size=\"+1\">Are we predicting discrete or continuous values?</font></span>"
   ]
  },
  {
   "cell_type": "code",
   "execution_count": null,
   "id": "862a6ca4-b999-4066-9e57-32cc9bb75871",
   "metadata": {},
   "outputs": [],
   "source": []
  },
  {
   "cell_type": "code",
   "execution_count": null,
   "id": "3065a957-4490-42b6-b941-0288a602cd77",
   "metadata": {},
   "outputs": [],
   "source": []
  },
  {
   "cell_type": "markdown",
   "id": "6da36cc5-0720-485a-8738-fac986e837ea",
   "metadata": {},
   "source": [
    "Let's try to use a simple, interpretable model - a linear regressor"
   ]
  },
  {
   "cell_type": "markdown",
   "id": "aa01e95e-7994-4290-93e1-515c83e78744",
   "metadata": {},
   "source": []
  },
  {
   "cell_type": "markdown",
   "id": "faebd25f-3629-4770-aac4-4bde285f3de8",
   "metadata": {},
   "source": [
    "## <span style=\"color:rebeccapurple\">7. Train the model</span></h1>"
   ]
  },
  {
   "cell_type": "markdown",
   "id": "e5b31004-0a4c-4f68-a29e-d4f99d946596",
   "metadata": {},
   "source": [
    "<span style=\"color:#DC537D\"><font size=\"+1\">Use sklearn to train a linear regression model</font></span>"
   ]
  },
  {
   "cell_type": "code",
   "execution_count": null,
   "id": "a882aaf7-0fa6-4b5f-8983-aa609735f136",
   "metadata": {},
   "outputs": [],
   "source": [
    "# import the model class \n"
   ]
  },
  {
   "cell_type": "code",
   "execution_count": null,
   "id": "4d530a90-ba4a-454d-beab-8d8227570920",
   "metadata": {},
   "outputs": [],
   "source": [
    "# create an instance of the model object\n",
    "model = "
   ]
  },
  {
   "cell_type": "code",
   "execution_count": null,
   "id": "308bfe21-2998-4079-8a43-ffdd30793951",
   "metadata": {},
   "outputs": [],
   "source": [
    "# fit the model to the processed training data\n",
    "model."
   ]
  },
  {
   "cell_type": "code",
   "execution_count": null,
   "id": "0c1b7a42-bcf6-459f-a867-3bcebf35a140",
   "metadata": {},
   "outputs": [],
   "source": [
    "# get the intercept and model coefficients\n",
    "model."
   ]
  },
  {
   "cell_type": "code",
   "execution_count": null,
   "id": "ae495b4b-81ee-44c8-bbfc-e3b38430b977",
   "metadata": {},
   "outputs": [],
   "source": [
    "# get the coefficients inside a nice dataframe\n",
    "feature_names = \n",
    "\n",
    "coefs = pd.DataFrame(data=  ,\n",
    "                     columns= , \n",
    "                     index=  )"
   ]
  },
  {
   "cell_type": "code",
   "execution_count": null,
   "id": "483675ad-c923-4667-be8b-2542cf096ddb",
   "metadata": {},
   "outputs": [],
   "source": [
    "# which features look most relevant?\n",
    "coefs.plot.barh(figsize=(10, 4))\n",
    "plt.axvline(x=0, color=\".5\")\n",
    "plt.xlabel(\"Coefficient values\")\n",
    "plt.subplots_adjust(left=0.3)"
   ]
  },
  {
   "cell_type": "code",
   "execution_count": null,
   "id": "de394e17-0235-492e-9445-92d38d0c5534",
   "metadata": {},
   "outputs": [],
   "source": []
  },
  {
   "cell_type": "markdown",
   "id": "99325f34-9a4b-4b50-9a03-b19e7108ecdf",
   "metadata": {},
   "source": [
    "## <span style=\"color:rebeccapurple\">10. Predict values for the test set</span></h1>"
   ]
  },
  {
   "cell_type": "markdown",
   "id": "e7c14b8d-4d55-4caa-aea7-8a4510ee1c4a",
   "metadata": {},
   "source": [
    "<span style=\"color:#DC537D\"><font size=\"+1\">Generate predictions from your trained model</font></span>"
   ]
  },
  {
   "cell_type": "code",
   "execution_count": null,
   "id": "0dce7872-9ad2-4679-9d84-673e7339dbf7",
   "metadata": {},
   "outputs": [],
   "source": [
    "# generate predictions from your trained model\n",
    "y_predicted_train = \n",
    "y_predicted_test = \n",
    "\n",
    "y_predicted_train.shape, y_predicted_test.shape"
   ]
  },
  {
   "cell_type": "code",
   "execution_count": null,
   "id": "d0a4dfbf-235f-44b6-b797-a31b591f3a99",
   "metadata": {},
   "outputs": [],
   "source": [
    "# plot\n",
    "fig, axes = plt.subplots(nrows=1, ncols=2, figsize=(10,3))\n",
    "\n",
    "axes[0].scatter(y_train, y_predicted_train, s=2)\n",
    "axes[0].set_title(\"Train data\")\n",
    "axes[1].scatter(y_test, y_predicted_test, s=2)\n",
    "axes[1].set_title(\"Test data\")\n",
    "\n",
    "for ax in axes:\n",
    "    ax.plot([0, 1], [0, 1], transform=ax.transAxes, ls=\"--\", c=\"red\")\n",
    "    ax.set(xlabel=\"Observed y\", ylabel=\"Predicted y\")"
   ]
  },
  {
   "cell_type": "markdown",
   "id": "2260294d-999b-47c6-af6d-aba8af9c977c",
   "metadata": {},
   "source": [
    "## <span style=\"color:rebeccapurple\">11. Evaluate the model</span>"
   ]
  },
  {
   "cell_type": "markdown",
   "id": "757d60f9-9014-4d54-9ed2-b1de332c3c6e",
   "metadata": {},
   "source": [
    "<span style=\"color:#DC537D\"><font size=\"+1\">What is the $R^2$?</font></span>"
   ]
  },
  {
   "cell_type": "code",
   "execution_count": null,
   "id": "df8848b9-0ba3-42c0-b766-2a74f7b039a4",
   "metadata": {},
   "outputs": [],
   "source": [
    "# import metric function\n"
   ]
  },
  {
   "cell_type": "code",
   "execution_count": null,
   "id": "0a4311c6-68b0-4742-853f-8bd3ffb166fc",
   "metadata": {},
   "outputs": [],
   "source": [
    "# calculate metric for test\n"
   ]
  },
  {
   "cell_type": "code",
   "execution_count": null,
   "id": "52704fe2-f862-4503-ba5c-40b4507b744d",
   "metadata": {},
   "outputs": [],
   "source": [
    "# calculate metric for train\n"
   ]
  },
  {
   "cell_type": "markdown",
   "id": "0a24e9ba-ee6b-40cf-ae62-b880b89fe86f",
   "metadata": {},
   "source": [
    "<span style=\"color:#DC537D\"><font size=\"+1\">What is the MSE?</font></span>"
   ]
  },
  {
   "cell_type": "code",
   "execution_count": null,
   "id": "79efbd0c-2164-45a2-987a-fee504831690",
   "metadata": {},
   "outputs": [],
   "source": [
    "# import metric function\n"
   ]
  },
  {
   "cell_type": "code",
   "execution_count": null,
   "id": "bdf8b9e2-cdba-4930-984a-d460ade08e7f",
   "metadata": {},
   "outputs": [],
   "source": [
    "# calculate metric for test\n"
   ]
  },
  {
   "cell_type": "code",
   "execution_count": null,
   "id": "2de7b3d8-0ba2-4b50-a3ed-754b06d7f4dc",
   "metadata": {},
   "outputs": [],
   "source": [
    "# calculate metric for train\n"
   ]
  },
  {
   "cell_type": "code",
   "execution_count": null,
   "id": "e7d72c5a-ab6b-4690-98e9-e4d441cf89b6",
   "metadata": {},
   "outputs": [],
   "source": []
  },
  {
   "cell_type": "markdown",
   "id": "c61d1c3c-ed5b-48b3-9793-8cb94570a8b8",
   "metadata": {
    "tags": []
   },
   "source": [
    "# <span style=\"color:rebeccapurple\">Bonus Questions</span>\n",
    "Feel free to code out variations of the ML workflow to answer these questions"
   ]
  },
  {
   "cell_type": "markdown",
   "id": "b6ee4d51-a4dd-48fd-bc8a-fe3e7de7a8e2",
   "metadata": {},
   "source": [
    "<span style=\"color:#DC537D\"><font size=\"+1\">Does changing the train-test split ratio improve the model?</font></span>\n",
    "<br>Hint: does the fraction of the split matter, or does the sample size?"
   ]
  },
  {
   "cell_type": "markdown",
   "id": "c2b9bed1-4239-4cc0-957e-8f96f0d9b7f8",
   "metadata": {},
   "source": [
    "<span style=\"color:#DC537D\"><font size=\"+1\">Do you always get the same result when you randomly split the train and test sets multiple times?</font></span>\n",
    "<br>Hint: think about the variance in the model"
   ]
  },
  {
   "cell_type": "markdown",
   "id": "a4b5ecc6-d5e4-4477-9d81-c4b96bc4f2d0",
   "metadata": {},
   "source": [
    "<span style=\"color:#DC537D\"><font size=\"+1\">Are the features and target variables normally distributed?</font></span>\n",
    "<br>Hint: think about transforming individual features _before_ pre-processing to make it more normal-like"
   ]
  },
  {
   "cell_type": "markdown",
   "id": "57f613a9-837d-419f-8e5c-2e5545e9b637",
   "metadata": {},
   "source": [
    "<span style=\"color:#DC537D\"><font size=\"+1\">Does scaling really matter?</font></span>\n",
    "<br>Hint: don't pre-process the numerical columns before modeling and look at the coefficients"
   ]
  },
  {
   "cell_type": "code",
   "execution_count": null,
   "id": "4a9787d7-6374-4146-9d7b-1532a7ade708",
   "metadata": {},
   "outputs": [],
   "source": []
  }
 ],
 "metadata": {
  "kernelspec": {
   "display_name": "Python 3 (ipykernel)",
   "language": "python",
   "name": "python3"
  },
  "language_info": {
   "codemirror_mode": {
    "name": "ipython",
    "version": 3
   },
   "file_extension": ".py",
   "mimetype": "text/x-python",
   "name": "python",
   "nbconvert_exporter": "python",
   "pygments_lexer": "ipython3",
   "version": "3.10.9"
  }
 },
 "nbformat": 4,
 "nbformat_minor": 5
}
