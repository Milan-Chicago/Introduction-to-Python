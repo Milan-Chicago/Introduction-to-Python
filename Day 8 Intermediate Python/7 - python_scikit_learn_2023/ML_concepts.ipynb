{
 "cells": [
  {
   "cell_type": "markdown",
   "id": "855e6e11-389a-4edb-9b32-eef018d04f17",
   "metadata": {
    "jp-MarkdownHeadingCollapsed": true,
    "tags": []
   },
   "source": [
    "# <span style=\"color:rebeccapurple\">Setup</span>"
   ]
  },
  {
   "cell_type": "code",
   "execution_count": 1,
   "id": "836f1237-f931-4272-aa29-d667d8a41631",
   "metadata": {},
   "outputs": [],
   "source": [
    "# imports \n",
    "import pandas as pd\n",
    "import numpy as np\n",
    "import matplotlib\n",
    "import matplotlib.pyplot as plt\n",
    "import seaborn as sns\n",
    "\n",
    "import sklearn"
   ]
  },
  {
   "cell_type": "markdown",
   "id": "ba1853e8-6611-47f0-8b93-48395fd54a43",
   "metadata": {
    "jp-MarkdownHeadingCollapsed": true,
    "tags": [],
    "toc-hr-collapsed": true
   },
   "source": [
    "# <span style=\"color:rebeccapurple\">Feature vs Target split</span>"
   ]
  },
  {
   "cell_type": "code",
   "execution_count": 7,
   "id": "d93f4a9e-ba72-40aa-8d52-10b26cfeef06",
   "metadata": {},
   "outputs": [
    {
     "data": {
      "text/html": [
       "<div>\n",
       "<style scoped>\n",
       "    .dataframe tbody tr th:only-of-type {\n",
       "        vertical-align: middle;\n",
       "    }\n",
       "\n",
       "    .dataframe tbody tr th {\n",
       "        vertical-align: top;\n",
       "    }\n",
       "\n",
       "    .dataframe thead th {\n",
       "        text-align: right;\n",
       "    }\n",
       "</style>\n",
       "<table border=\"1\" class=\"dataframe\">\n",
       "  <thead>\n",
       "    <tr style=\"text-align: right;\">\n",
       "      <th></th>\n",
       "      <th>sepal_length</th>\n",
       "      <th>sepal_width</th>\n",
       "      <th>petal_length</th>\n",
       "      <th>petal_width</th>\n",
       "      <th>target</th>\n",
       "    </tr>\n",
       "  </thead>\n",
       "  <tbody>\n",
       "    <tr>\n",
       "      <th>0</th>\n",
       "      <td>5.1</td>\n",
       "      <td>3.5</td>\n",
       "      <td>1.4</td>\n",
       "      <td>0.2</td>\n",
       "      <td>0</td>\n",
       "    </tr>\n",
       "    <tr>\n",
       "      <th>1</th>\n",
       "      <td>4.9</td>\n",
       "      <td>3.0</td>\n",
       "      <td>1.4</td>\n",
       "      <td>0.2</td>\n",
       "      <td>0</td>\n",
       "    </tr>\n",
       "    <tr>\n",
       "      <th>2</th>\n",
       "      <td>4.7</td>\n",
       "      <td>3.2</td>\n",
       "      <td>1.3</td>\n",
       "      <td>0.2</td>\n",
       "      <td>0</td>\n",
       "    </tr>\n",
       "    <tr>\n",
       "      <th>3</th>\n",
       "      <td>4.6</td>\n",
       "      <td>3.1</td>\n",
       "      <td>1.5</td>\n",
       "      <td>0.2</td>\n",
       "      <td>0</td>\n",
       "    </tr>\n",
       "    <tr>\n",
       "      <th>4</th>\n",
       "      <td>5.0</td>\n",
       "      <td>NaN</td>\n",
       "      <td>1.4</td>\n",
       "      <td>0.2</td>\n",
       "      <td>0</td>\n",
       "    </tr>\n",
       "  </tbody>\n",
       "</table>\n",
       "</div>"
      ],
      "text/plain": [
       "   sepal_length  sepal_width  petal_length  petal_width  target\n",
       "0           5.1          3.5           1.4          0.2       0\n",
       "1           4.9          3.0           1.4          0.2       0\n",
       "2           4.7          3.2           1.3          0.2       0\n",
       "3           4.6          3.1           1.5          0.2       0\n",
       "4           5.0          NaN           1.4          0.2       0"
      ]
     },
     "execution_count": 7,
     "metadata": {},
     "output_type": "execute_result"
    }
   ],
   "source": [
    "# data load\n",
    "df = pd.read_csv(\"data/iris_numeric.csv\")\n",
    "df.head()"
   ]
  },
  {
   "cell_type": "markdown",
   "id": "7ceedb0e-0f28-4f25-ba9d-3969c06bad6a",
   "metadata": {},
   "source": [
    "Once the problem statement is defined, the data can be split into target labels and input features as below."
   ]
  },
  {
   "cell_type": "code",
   "execution_count": 12,
   "id": "efccf229-1b6f-4da6-b2cb-0f4724055d15",
   "metadata": {},
   "outputs": [
    {
     "data": {
      "text/plain": [
       "((150, 5), (150, 4))"
      ]
     },
     "execution_count": 12,
     "metadata": {},
     "output_type": "execute_result"
    }
   ],
   "source": [
    "X = df.drop(columns=\"target\")\n",
    "df.shape, X.shape"
   ]
  },
  {
   "cell_type": "code",
   "execution_count": 13,
   "id": "8793260c-17a4-4165-a7a7-026ad4f7bb66",
   "metadata": {},
   "outputs": [
    {
     "data": {
      "text/plain": [
       "(150,)"
      ]
     },
     "execution_count": 13,
     "metadata": {},
     "output_type": "execute_result"
    }
   ],
   "source": [
    "y = df[\"target\"]\n",
    "y.shape"
   ]
  },
  {
   "cell_type": "markdown",
   "id": "5ba9e594-9655-469b-96ea-6620150d7281",
   "metadata": {
    "jp-MarkdownHeadingCollapsed": true,
    "tags": []
   },
   "source": [
    "# <span style=\"color:rebeccapurple\">Train-test split</span>"
   ]
  },
  {
   "cell_type": "markdown",
   "id": "64e6fe37-d554-481e-846a-44ab9e2600f9",
   "metadata": {},
   "source": [
    "An important aspect of machine learning that sets itself apart from fields like optimization is that in addition to the training error, we want to minimize the generalization error. In other words, we want to make sure that the trained model generalizes well to unobserved/future inputs. That is why we need to split our dataset into train and test set.\n",
    "\n",
    "These 2 sets should be disjoint, i.e., one instance shouldn't be in both sets. (When dataset is too small, there are special measures but we will not cover here.)\n",
    "\n",
    "The typical split is 80%-20% for train vs test set. In sklearn it is defaulted to 75-25 (or more accurately 0.75-0.25).\n",
    "\n",
    "The train dataset is used to learn the model. The test dataset is used to estimate generalization error."
   ]
  },
  {
   "cell_type": "code",
   "execution_count": 18,
   "id": "23a787bc-19d2-4f4c-ba32-baf5bc405231",
   "metadata": {
    "tags": []
   },
   "outputs": [],
   "source": [
    "from sklearn.model_selection import train_test_split\n",
    "\n",
    "X_train, X_test, y_train, y_test = train_test_split(X, y, test_size=0.33)"
   ]
  },
  {
   "cell_type": "code",
   "execution_count": 16,
   "id": "eebd6d97-3eb3-4022-b9fa-14e7e42edf48",
   "metadata": {},
   "outputs": [
    {
     "data": {
      "text/plain": [
       "((120, 4), (30, 4), (120,), (30,))"
      ]
     },
     "execution_count": 16,
     "metadata": {},
     "output_type": "execute_result"
    }
   ],
   "source": [
    "X_train.shape , X_test.shape , y_train.shape , y_test.shape"
   ]
  },
  {
   "cell_type": "code",
   "execution_count": 17,
   "id": "30c9c2e5-cbb3-4108-a78e-6495c50bea2b",
   "metadata": {},
   "outputs": [
    {
     "data": {
      "text/html": [
       "<div>\n",
       "<style scoped>\n",
       "    .dataframe tbody tr th:only-of-type {\n",
       "        vertical-align: middle;\n",
       "    }\n",
       "\n",
       "    .dataframe tbody tr th {\n",
       "        vertical-align: top;\n",
       "    }\n",
       "\n",
       "    .dataframe thead th {\n",
       "        text-align: right;\n",
       "    }\n",
       "</style>\n",
       "<table border=\"1\" class=\"dataframe\">\n",
       "  <thead>\n",
       "    <tr style=\"text-align: right;\">\n",
       "      <th></th>\n",
       "      <th>sepal_length</th>\n",
       "      <th>sepal_width</th>\n",
       "      <th>petal_length</th>\n",
       "      <th>petal_width</th>\n",
       "    </tr>\n",
       "  </thead>\n",
       "  <tbody>\n",
       "    <tr>\n",
       "      <th>count</th>\n",
       "      <td>120.000000</td>\n",
       "      <td>119.000000</td>\n",
       "      <td>119.000000</td>\n",
       "      <td>120.000000</td>\n",
       "    </tr>\n",
       "    <tr>\n",
       "      <th>mean</th>\n",
       "      <td>5.880833</td>\n",
       "      <td>3.048739</td>\n",
       "      <td>3.835294</td>\n",
       "      <td>1.231667</td>\n",
       "    </tr>\n",
       "    <tr>\n",
       "      <th>std</th>\n",
       "      <td>0.850437</td>\n",
       "      <td>0.430779</td>\n",
       "      <td>1.779620</td>\n",
       "      <td>0.775354</td>\n",
       "    </tr>\n",
       "    <tr>\n",
       "      <th>min</th>\n",
       "      <td>4.300000</td>\n",
       "      <td>2.000000</td>\n",
       "      <td>1.100000</td>\n",
       "      <td>0.100000</td>\n",
       "    </tr>\n",
       "    <tr>\n",
       "      <th>25%</th>\n",
       "      <td>5.100000</td>\n",
       "      <td>2.800000</td>\n",
       "      <td>1.600000</td>\n",
       "      <td>0.300000</td>\n",
       "    </tr>\n",
       "    <tr>\n",
       "      <th>50%</th>\n",
       "      <td>5.800000</td>\n",
       "      <td>3.000000</td>\n",
       "      <td>4.400000</td>\n",
       "      <td>1.300000</td>\n",
       "    </tr>\n",
       "    <tr>\n",
       "      <th>75%</th>\n",
       "      <td>6.500000</td>\n",
       "      <td>3.300000</td>\n",
       "      <td>5.200000</td>\n",
       "      <td>1.900000</td>\n",
       "    </tr>\n",
       "    <tr>\n",
       "      <th>max</th>\n",
       "      <td>7.900000</td>\n",
       "      <td>4.400000</td>\n",
       "      <td>6.900000</td>\n",
       "      <td>2.500000</td>\n",
       "    </tr>\n",
       "  </tbody>\n",
       "</table>\n",
       "</div>"
      ],
      "text/plain": [
       "       sepal_length  sepal_width  petal_length  petal_width\n",
       "count    120.000000   119.000000    119.000000   120.000000\n",
       "mean       5.880833     3.048739      3.835294     1.231667\n",
       "std        0.850437     0.430779      1.779620     0.775354\n",
       "min        4.300000     2.000000      1.100000     0.100000\n",
       "25%        5.100000     2.800000      1.600000     0.300000\n",
       "50%        5.800000     3.000000      4.400000     1.300000\n",
       "75%        6.500000     3.300000      5.200000     1.900000\n",
       "max        7.900000     4.400000      6.900000     2.500000"
      ]
     },
     "execution_count": 17,
     "metadata": {},
     "output_type": "execute_result"
    }
   ],
   "source": [
    "X_train.describe(include='all')"
   ]
  },
  {
   "cell_type": "markdown",
   "id": "4219baa0-823e-45ac-803f-d9f745d7094f",
   "metadata": {},
   "source": [
    "Important note: preprocessing should be fit to train dataset, instead of applying to the whole set, to avoid leakage of information. Data leakage essentially means that the training process has information about, and thus will create a bias toward, the test set, potentially leading to a deceptively good generalization result.\n",
    "\n",
    "After the preprocessor learns to fit to and transform the train dataset, it is then used to fit (only) to the test set. More specifically, in the case of standardization,the preprocessor will obtain the mean and standard deviation of the train set and use those statistics to transform the test set. As a result, after the transformation, the train set will definitely have 0 mean and unit standard deviation but the test set may not."
   ]
  },
  {
   "cell_type": "markdown",
   "id": "7974c159-8d2e-4bee-b2d8-da1fdcd724f9",
   "metadata": {
    "jp-MarkdownHeadingCollapsed": true,
    "tags": [],
    "toc-hr-collapsed": true
   },
   "source": [
    "# <span style=\"color:rebeccapurple\">Data Pre-processing</span>"
   ]
  },
  {
   "cell_type": "markdown",
   "id": "c32a2787-a271-426b-930d-74c2991859ea",
   "metadata": {},
   "source": [
    "Raw data can take on any range of values. By preprocessing data, we make it easier to interpret and use.\n",
    "There are many ways to preproccess data for ML, depending on the modeling purpose and data characteristics.\n",
    "\n",
    "We're going to discuss methods to deal with these three types of data:\n",
    "\n",
    "* Numerical\n",
    "* Categorical\n",
    "* Missing"
   ]
  },
  {
   "cell_type": "markdown",
   "id": "4f6e014d-25b6-42b1-8b86-bd992873838d",
   "metadata": {
    "tags": []
   },
   "source": [
    "### <span style=\"color:#1409FA\">Scaling Numerical data</span>\n",
    "Several machine learning algorithms rely on calculating distances. Therefore, it is important to have all the input features on the same scale - so that the distances computed for different features are comparable."
   ]
  },
  {
   "cell_type": "markdown",
   "id": "a9b3d9ca-4310-42d9-848b-a51b2f0829a1",
   "metadata": {},
   "source": [
    "#### <span style=\"color:teal\">Standardization</span>\n",
    "This is the process of converting data into the standard format where each feature has zero mean and unit variance (i.e., std=1).\n",
    "$$ x' = \\frac{x - \\mu}{\\sigma}$$"
   ]
  },
  {
   "cell_type": "code",
   "execution_count": 20,
   "id": "1ac772a6-d4b6-4c10-9a23-5715b745eb80",
   "metadata": {},
   "outputs": [],
   "source": [
    "from sklearn.preprocessing import StandardScaler"
   ]
  },
  {
   "cell_type": "code",
   "execution_count": 19,
   "id": "d3a35109-3209-424b-ac3d-6cef712df7b6",
   "metadata": {},
   "outputs": [
    {
     "data": {
      "text/html": [
       "<div>\n",
       "<style scoped>\n",
       "    .dataframe tbody tr th:only-of-type {\n",
       "        vertical-align: middle;\n",
       "    }\n",
       "\n",
       "    .dataframe tbody tr th {\n",
       "        vertical-align: top;\n",
       "    }\n",
       "\n",
       "    .dataframe thead th {\n",
       "        text-align: right;\n",
       "    }\n",
       "</style>\n",
       "<table border=\"1\" class=\"dataframe\">\n",
       "  <thead>\n",
       "    <tr style=\"text-align: right;\">\n",
       "      <th></th>\n",
       "      <th>sepal_length</th>\n",
       "      <th>sepal_width</th>\n",
       "      <th>petal_length</th>\n",
       "      <th>petal_width</th>\n",
       "      <th>target</th>\n",
       "    </tr>\n",
       "  </thead>\n",
       "  <tbody>\n",
       "    <tr>\n",
       "      <th>0</th>\n",
       "      <td>5.1</td>\n",
       "      <td>3.5</td>\n",
       "      <td>1.4</td>\n",
       "      <td>0.2</td>\n",
       "      <td>0</td>\n",
       "    </tr>\n",
       "    <tr>\n",
       "      <th>1</th>\n",
       "      <td>4.9</td>\n",
       "      <td>3.0</td>\n",
       "      <td>1.4</td>\n",
       "      <td>0.2</td>\n",
       "      <td>0</td>\n",
       "    </tr>\n",
       "  </tbody>\n",
       "</table>\n",
       "</div>"
      ],
      "text/plain": [
       "   sepal_length  sepal_width  petal_length  petal_width  target\n",
       "0           5.1          3.5           1.4          0.2       0\n",
       "1           4.9          3.0           1.4          0.2       0"
      ]
     },
     "execution_count": 19,
     "metadata": {},
     "output_type": "execute_result"
    }
   ],
   "source": [
    "df.head(2)"
   ]
  },
  {
   "cell_type": "code",
   "execution_count": 22,
   "id": "f708b536-b20c-4625-98cf-0d8e0aabfcfc",
   "metadata": {},
   "outputs": [],
   "source": [
    "# scaler is an object of class StandardScaler\n",
    "scaler = StandardScaler()"
   ]
  },
  {
   "cell_type": "code",
   "execution_count": 25,
   "id": "4f5257fe-999a-4221-9590-a2bf08532d8b",
   "metadata": {},
   "outputs": [],
   "source": [
    "# scaling the data\n",
    "scaler.fit(X_train)\n",
    "scaled_X_train = scaler.transform(X_train)"
   ]
  },
  {
   "cell_type": "code",
   "execution_count": 31,
   "id": "99bff90c-90ce-4f75-830a-df8f51da1eb3",
   "metadata": {
    "collapsed": true,
    "jupyter": {
     "outputs_hidden": true
    },
    "tags": []
   },
   "outputs": [
    {
     "data": {
      "text/plain": [
       "array([[-0.31699245, -1.32619491,  0.07470002, -0.13206311],\n",
       "       [ 2.06897222, -0.1454998 ,  1.2920336 ,  1.40653626],\n",
       "       [ 0.47832911,  0.56291726,  0.51736677,  0.50901996],\n",
       "       [-0.43060981, -1.56233393,  0.01936667, -0.13206311],\n",
       "       [ 0.47832911, -0.85391687,  0.62803346,  0.76545319],\n",
       "       [ 0.47832911, -0.61777784,  0.73870015,  0.38080334],\n",
       "       [-1.11231401, -1.32619491,  0.40670008,  0.63723657],\n",
       "       [ 0.47832911, -1.32619491,  0.68336681,  0.8936698 ],\n",
       "       [ 1.27365067,  0.32677824,  0.51736677,  0.25258673],\n",
       "       [ 0.70556384, -0.1454998 ,  0.7940335 ,  1.02188642],\n",
       "       [ 0.13747701,  0.79905629,  0.40670008,  0.50901996],\n",
       "       [-1.22593137,  0.09063922, -1.19796691, -1.28601264],\n",
       "       [-0.08975772, -0.85391687,  0.73870015,  0.8936698 ],\n",
       "       [-0.31699245, -0.85391687,  0.24070005,  0.12437012],\n",
       "       [-0.31699245, -0.38163882, -0.09130002,  0.12437012],\n",
       "       [-0.43060981, -1.32619491,  0.13003336,  0.12437012],\n",
       "       [ 0.25109438, -0.1454998 ,  0.46203343,  0.25258673],\n",
       "       [ 1.5008854 ,  0.32677824,  1.23670026,  0.76545319],\n",
       "       [-0.65784455,  1.50747335, -1.25330026, -1.28601264],\n",
       "       [-1.7940182 , -0.1454998 , -1.47463364, -1.41422926],\n",
       "       [ 0.59194647, -0.85391687,  0.84936684,  0.8936698 ],\n",
       "       [-0.20337508, -0.1454998 ,  0.24070005, -0.0038465 ],\n",
       "       [-0.54422718,  0.79905629, -1.14263357, -1.28601264],\n",
       "       [-0.20337508,  3.1604465 , -1.25330026, -1.02957941],\n",
       "       [ 1.1600333 ,  0.09063922,  0.62803346,  0.38080334],\n",
       "       [-1.4531661 ,  0.09063922, -1.25330026, -1.28601264],\n",
       "       [ 0.02385965, -0.1454998 ,  0.73870015,  0.76545319],\n",
       "       [-0.88507928, -1.32619491, -0.42330009, -0.13206311],\n",
       "       [-1.4531661 ,  0.79905629, -1.3086336 , -1.15779603],\n",
       "       [ 0.36471174, -2.03461198,  0.40670008,  0.38080334],\n",
       "       [ 1.5008854 ,  1.27133433,  1.2920336 ,  1.66296949],\n",
       "       [-0.20337508, -0.38163882,  0.24070005,  0.12437012],\n",
       "       [-1.22593137, -0.1454998 , -1.3086336 , -1.41422926],\n",
       "       [ 1.38726803, -0.1454998 ,  1.18136691,  1.15010303],\n",
       "       [ 1.1600333 ,  0.32677824,  1.07070022,  1.40653626],\n",
       "       [ 0.70556384, -0.1454998 ,  1.12603357,  1.27831964],\n",
       "       [ 0.59194647, -0.61777784,  1.01536688,  1.15010303],\n",
       "       [-0.88507928,  1.74361237, -1.19796691, -1.28601264],\n",
       "       [-1.22593137,  0.79905629, -1.19796691, -1.28601264],\n",
       "       [ 0.70556384,  0.32677824,  0.73870015,  1.02188642],\n",
       "       [ 0.93279857,  0.56291726,  1.07070022,  1.15010303],\n",
       "       [-1.56678347, -1.79847295, -1.36396695, -1.15779603],\n",
       "       [ 0.36471174,  0.79905629,  0.90470019,  1.40653626],\n",
       "       [-1.11231401, -0.1454998 , -1.3086336 , -1.28601264],\n",
       "       [-0.20337508, -1.32619491,  0.68336681,  1.02188642],\n",
       "       [ 1.1600333 ,  0.09063922,  0.90470019,  1.15010303],\n",
       "       [-1.68040083,  0.32677824, -1.36396695, -1.28601264],\n",
       "       [-0.99869664,         nan, -1.3086336 , -1.28601264],\n",
       "       [ 1.5008854 , -0.1454998 ,  1.12603357,  0.50901996],\n",
       "       [-0.88507928,  1.03519531, -1.3086336 , -1.15779603],\n",
       "       [-1.68040083, -0.1454998 , -1.36396695, -1.28601264],\n",
       "       [-0.54422718,  1.9797514 , -1.14263357, -1.02957941],\n",
       "       [-0.43060981, -1.79847295,  0.13003336,  0.12437012],\n",
       "       [ 1.04641594,  0.32677824,  1.18136691,  1.40653626],\n",
       "       [ 1.95535486, -0.1454998 ,  1.56870033,  1.15010303],\n",
       "       [-0.88507928,  1.03519531, -1.3086336 , -1.28601264],\n",
       "       [-1.11231401,  0.09063922, -1.25330026, -1.28601264],\n",
       "       [-0.77146191,  0.79905629, -1.3086336 , -1.28601264],\n",
       "       [-0.20337508, -0.61777784,  0.40670008,  0.12437012],\n",
       "       [ 0.8191812 , -0.1454998 ,  0.35136674,  0.25258673],\n",
       "       [-0.99869664,  0.32677824, -1.41930029, -1.28601264],\n",
       "       [-0.88507928,  0.56291726, -1.14263357, -0.9013628 ],\n",
       "       [ 0.59194647, -0.38163882,  0.29603339,  0.12437012],\n",
       "       [-0.54422718,  0.79905629, -1.25330026, -1.02957941],\n",
       "       [ 2.06897222, -1.09005589,  1.73470036,  1.40653626],\n",
       "       [-1.11231401, -1.56233393, -0.25730005, -0.26027973],\n",
       "       [ 2.29620696,  1.74361237,  1.45803364,  1.02188642],\n",
       "       [ 0.93279857,  0.09063922,  0.35136674,  0.25258673],\n",
       "       [-0.77146191,  2.45202944, -1.25330026, -1.41422926],\n",
       "       [ 0.13747701, -0.1454998 ,  0.57270012,  0.76545319],\n",
       "       [-0.08975772,  2.21589042, -1.41930029, -1.28601264],\n",
       "       [ 2.06897222, -0.61777784,  1.62403367,  1.02188642],\n",
       "       [-0.88507928,  1.74361237, -1.25330026, -1.15779603],\n",
       "       [-1.33954874,  0.32677824, -1.19796691, -1.28601264],\n",
       "       [ 1.72812013, -0.61777784,  1.2920336 ,  0.8936698 ],\n",
       "       [-0.99869664,  0.56291726, -1.3086336 , -1.28601264],\n",
       "       [ 0.47832911,  0.79905629,  1.01536688,  1.53475287],\n",
       "       [-0.20337508, -0.61777784,  0.18536671,  0.12437012],\n",
       "       [-0.08975772, -0.85391687,  0.07470002, -0.0038465 ],\n",
       "       [-0.20337508, -1.09005589, -0.14663336, -0.26027973],\n",
       "       [ 0.59194647,  0.32677824,  0.84936684,  1.40653626],\n",
       "       [ 0.93279857, -0.1454998 ,  0.7940335 ,  1.40653626],\n",
       "       [ 0.47832911, -1.32619491,  0.62803346,  0.38080334],\n",
       "       [ 0.93279857, -0.1454998 ,  0.68336681,  0.63723657],\n",
       "       [-0.99869664, -0.1454998 , -1.19796691, -1.28601264],\n",
       "       [-0.43060981, -1.56233393, -0.03596667, -0.26027973],\n",
       "       [ 0.93279857,  0.09063922,  1.01536688,  1.53475287],\n",
       "       [-0.08975772, -0.85391687,  0.73870015,  0.8936698 ],\n",
       "       [-0.88507928,  0.79905629, -1.25330026, -1.28601264],\n",
       "       [ 0.8191812 , -0.38163882,  0.46203343,  0.12437012],\n",
       "       [-0.31699245, -0.1454998 ,  0.18536671,  0.12437012],\n",
       "       [ 0.02385965,  0.32677824,  0.57270012,  0.76545319],\n",
       "       [ 0.47832911, -1.79847295,  0.35136674,  0.12437012],\n",
       "       [-0.43060981,  1.03519531, -1.36396695, -1.28601264],\n",
       "       [-0.88507928,  1.50747335, -1.25330026, -1.02957941],\n",
       "       [-1.11231401,  0.09063922, -1.25330026, -1.41422926],\n",
       "       [ 0.47832911, -0.38163882,  1.01536688,  0.76545319],\n",
       "       [-0.08975772, -0.85391687,  0.18536671, -0.26027973],\n",
       "       [ 2.06897222,  1.74361237,  1.62403367,  1.27831964],\n",
       "       [-1.4531661 ,  0.32677824, -1.3086336 , -1.28601264]])"
      ]
     },
     "execution_count": 31,
     "metadata": {},
     "output_type": "execute_result"
    }
   ],
   "source": [
    "scaled_X_train"
   ]
  },
  {
   "cell_type": "code",
   "execution_count": 32,
   "id": "891b3ea7-823b-4f2f-b1bc-ab4ce3f204ca",
   "metadata": {},
   "outputs": [],
   "source": [
    "# convert array to df\n",
    "scaled_X_train = pd.DataFrame(scaled_X_train, columns=X_train.columns)"
   ]
  },
  {
   "cell_type": "code",
   "execution_count": 35,
   "id": "f169c09d-532b-4191-ae03-bd41add9b979",
   "metadata": {},
   "outputs": [
    {
     "data": {
      "text/html": [
       "<div>\n",
       "<style scoped>\n",
       "    .dataframe tbody tr th:only-of-type {\n",
       "        vertical-align: middle;\n",
       "    }\n",
       "\n",
       "    .dataframe tbody tr th {\n",
       "        vertical-align: top;\n",
       "    }\n",
       "\n",
       "    .dataframe thead th {\n",
       "        text-align: right;\n",
       "    }\n",
       "</style>\n",
       "<table border=\"1\" class=\"dataframe\">\n",
       "  <thead>\n",
       "    <tr style=\"text-align: right;\">\n",
       "      <th></th>\n",
       "      <th>sepal_length</th>\n",
       "      <th>sepal_width</th>\n",
       "      <th>petal_length</th>\n",
       "      <th>petal_width</th>\n",
       "    </tr>\n",
       "  </thead>\n",
       "  <tbody>\n",
       "    <tr>\n",
       "      <th>69</th>\n",
       "      <td>5.6</td>\n",
       "      <td>2.5</td>\n",
       "      <td>3.9</td>\n",
       "      <td>1.1</td>\n",
       "    </tr>\n",
       "    <tr>\n",
       "      <th>135</th>\n",
       "      <td>7.7</td>\n",
       "      <td>3.0</td>\n",
       "      <td>6.1</td>\n",
       "      <td>2.3</td>\n",
       "    </tr>\n",
       "  </tbody>\n",
       "</table>\n",
       "</div>"
      ],
      "text/plain": [
       "     sepal_length  sepal_width  petal_length  petal_width\n",
       "69            5.6          2.5           3.9          1.1\n",
       "135           7.7          3.0           6.1          2.3"
      ]
     },
     "metadata": {},
     "output_type": "display_data"
    },
    {
     "data": {
      "text/html": [
       "<div>\n",
       "<style scoped>\n",
       "    .dataframe tbody tr th:only-of-type {\n",
       "        vertical-align: middle;\n",
       "    }\n",
       "\n",
       "    .dataframe tbody tr th {\n",
       "        vertical-align: top;\n",
       "    }\n",
       "\n",
       "    .dataframe thead th {\n",
       "        text-align: right;\n",
       "    }\n",
       "</style>\n",
       "<table border=\"1\" class=\"dataframe\">\n",
       "  <thead>\n",
       "    <tr style=\"text-align: right;\">\n",
       "      <th></th>\n",
       "      <th>sepal_length</th>\n",
       "      <th>sepal_width</th>\n",
       "      <th>petal_length</th>\n",
       "      <th>petal_width</th>\n",
       "    </tr>\n",
       "  </thead>\n",
       "  <tbody>\n",
       "    <tr>\n",
       "      <th>0</th>\n",
       "      <td>-0.316992</td>\n",
       "      <td>-1.326195</td>\n",
       "      <td>0.074700</td>\n",
       "      <td>-0.132063</td>\n",
       "    </tr>\n",
       "    <tr>\n",
       "      <th>1</th>\n",
       "      <td>2.068972</td>\n",
       "      <td>-0.145500</td>\n",
       "      <td>1.292034</td>\n",
       "      <td>1.406536</td>\n",
       "    </tr>\n",
       "  </tbody>\n",
       "</table>\n",
       "</div>"
      ],
      "text/plain": [
       "   sepal_length  sepal_width  petal_length  petal_width\n",
       "0     -0.316992    -1.326195      0.074700    -0.132063\n",
       "1      2.068972    -0.145500      1.292034     1.406536"
      ]
     },
     "metadata": {},
     "output_type": "display_data"
    }
   ],
   "source": [
    "display(X_train.head(2))\n",
    "display(scaled_X_train.head(2))"
   ]
  },
  {
   "cell_type": "markdown",
   "id": "6cbce36f-9468-45e0-a5fc-571722190668",
   "metadata": {},
   "source": [
    "#### <span style=\"color:teal\">Scaling features to a range</span>\n",
    "Apart from standardization, we can scale features to lie between a given minimum and maximum value, often between zero and one. Range compression helps with robustness due to small standard deviations of features after scaling and at the same time preserves zero entries.\n",
    "$$ x' = \\frac{x - min}{max - min} $$"
   ]
  },
  {
   "cell_type": "code",
   "execution_count": 36,
   "id": "25a42d2d-faaf-4e83-95aa-270916373ea4",
   "metadata": {},
   "outputs": [],
   "source": [
    "from sklearn.preprocessing import MinMaxScaler"
   ]
  },
  {
   "cell_type": "markdown",
   "id": "60bd09a4-ebfa-4718-bb80-ab83c24f87c9",
   "metadata": {},
   "source": [
    "#### <span style=\"color:teal\">Normalization</span>\n",
    "This is the process of scaling individual samples to have unit norm. So far, we have scaled data by features i.e., calculations are applied on individual columns. Sometimes, we need to scale data across rows. For example, clustering requires normalization to calculate cosine similarity scores."
   ]
  },
  {
   "cell_type": "code",
   "execution_count": 133,
   "id": "8199347c-f907-4a5e-82cf-066a536dd7fa",
   "metadata": {},
   "outputs": [],
   "source": [
    "from sklearn.preprocessing import Normalizer"
   ]
  },
  {
   "cell_type": "markdown",
   "id": "b06d62bd-55bb-4bbb-b289-8727da4616e4",
   "metadata": {
    "tags": []
   },
   "source": [
    "### <span style=\"color:#1409FA\">Encoding Categorical data</span>\n",
    "Data sometimes come in non-numeric values in predictors and/or response."
   ]
  },
  {
   "cell_type": "code",
   "execution_count": 37,
   "id": "ee2f98d0-59b7-4bca-ab93-9d39897f1488",
   "metadata": {},
   "outputs": [
    {
     "data": {
      "text/html": [
       "<div>\n",
       "<style scoped>\n",
       "    .dataframe tbody tr th:only-of-type {\n",
       "        vertical-align: middle;\n",
       "    }\n",
       "\n",
       "    .dataframe tbody tr th {\n",
       "        vertical-align: top;\n",
       "    }\n",
       "\n",
       "    .dataframe thead th {\n",
       "        text-align: right;\n",
       "    }\n",
       "</style>\n",
       "<table border=\"1\" class=\"dataframe\">\n",
       "  <thead>\n",
       "    <tr style=\"text-align: right;\">\n",
       "      <th></th>\n",
       "      <th>target</th>\n",
       "      <th>age</th>\n",
       "      <th>tumor-size</th>\n",
       "      <th>deg_malig</th>\n",
       "      <th>side</th>\n",
       "      <th>quad</th>\n",
       "      <th>irradiat</th>\n",
       "    </tr>\n",
       "  </thead>\n",
       "  <tbody>\n",
       "    <tr>\n",
       "      <th>0</th>\n",
       "      <td>no-recurrence-events</td>\n",
       "      <td>30-39</td>\n",
       "      <td>30-34</td>\n",
       "      <td>3</td>\n",
       "      <td>left</td>\n",
       "      <td>left_low</td>\n",
       "      <td>no</td>\n",
       "    </tr>\n",
       "    <tr>\n",
       "      <th>1</th>\n",
       "      <td>no-recurrence-events</td>\n",
       "      <td>40-49</td>\n",
       "      <td>20-24</td>\n",
       "      <td>2</td>\n",
       "      <td>right</td>\n",
       "      <td>right_up</td>\n",
       "      <td>no</td>\n",
       "    </tr>\n",
       "    <tr>\n",
       "      <th>2</th>\n",
       "      <td>no-recurrence-events</td>\n",
       "      <td>40-49</td>\n",
       "      <td>20-24</td>\n",
       "      <td>2</td>\n",
       "      <td>left</td>\n",
       "      <td>left_low</td>\n",
       "      <td>no</td>\n",
       "    </tr>\n",
       "    <tr>\n",
       "      <th>3</th>\n",
       "      <td>no-recurrence-events</td>\n",
       "      <td>60-69</td>\n",
       "      <td>15-19</td>\n",
       "      <td>2</td>\n",
       "      <td>right</td>\n",
       "      <td>left_up</td>\n",
       "      <td>no</td>\n",
       "    </tr>\n",
       "    <tr>\n",
       "      <th>4</th>\n",
       "      <td>no-recurrence-events</td>\n",
       "      <td>40-49</td>\n",
       "      <td>0-4</td>\n",
       "      <td>2</td>\n",
       "      <td>right</td>\n",
       "      <td>right_low</td>\n",
       "      <td>no</td>\n",
       "    </tr>\n",
       "  </tbody>\n",
       "</table>\n",
       "</div>"
      ],
      "text/plain": [
       "                 target    age tumor-size  deg_malig   side       quad  \\\n",
       "0  no-recurrence-events  30-39      30-34          3   left   left_low   \n",
       "1  no-recurrence-events  40-49      20-24          2  right   right_up   \n",
       "2  no-recurrence-events  40-49      20-24          2   left   left_low   \n",
       "3  no-recurrence-events  60-69      15-19          2  right    left_up   \n",
       "4  no-recurrence-events  40-49        0-4          2  right  right_low   \n",
       "\n",
       "  irradiat  \n",
       "0       no  \n",
       "1       no  \n",
       "2       no  \n",
       "3       no  \n",
       "4       no  "
      ]
     },
     "execution_count": 37,
     "metadata": {},
     "output_type": "execute_result"
    }
   ],
   "source": [
    "df = pd.read_csv('data/breast_cancer.csv')\n",
    "df.head()"
   ]
  },
  {
   "cell_type": "markdown",
   "id": "1e7cb365-be85-405e-b284-a8ae667d8dd3",
   "metadata": {},
   "source": [
    "<span style=\"color:#DC537D\"><font size=\"+2\">Which features in the dataset above are categorical?</font></span>"
   ]
  },
  {
   "cell_type": "code",
   "execution_count": null,
   "id": "b279d669-f265-4d44-8e50-62004b9afcc2",
   "metadata": {},
   "outputs": [],
   "source": []
  },
  {
   "cell_type": "markdown",
   "id": "f11e2d86-6f39-4709-85d8-5af43ae0e8f5",
   "metadata": {},
   "source": [
    "#### <span style=\"color:teal\">Ordinal encoding</span>\n",
    "This is the process of assigning each unique category an integer value. Doing this, we impose a natural ordered relationship between each category.\n",
    "\n",
    "For example, age is ordered in nature and we can map the different ranges to integer values. More specifically, 30-39 => 0, 40-49 =>1, 50-59 => 2, etc."
   ]
  },
  {
   "cell_type": "code",
   "execution_count": 58,
   "id": "59e0f157-fe9a-4a4a-886a-98494ed6a168",
   "metadata": {},
   "outputs": [],
   "source": [
    "from sklearn.preprocessing import OrdinalEncoder"
   ]
  },
  {
   "cell_type": "code",
   "execution_count": 68,
   "id": "eb5e2fe0-2f04-49ad-9fac-5e18c08a1143",
   "metadata": {},
   "outputs": [],
   "source": [
    "# load the raw data\n",
    "df = pd.read_csv('data/breast_cancer.csv')"
   ]
  },
  {
   "cell_type": "code",
   "execution_count": 69,
   "id": "1b254cd2-379d-4f2f-8752-ef35ff8c05aa",
   "metadata": {},
   "outputs": [],
   "source": [
    "# encode the \"age\" feature\n",
    "age_encoder = OrdinalEncoder().fit(df[[\"age\"]])"
   ]
  },
  {
   "cell_type": "code",
   "execution_count": 70,
   "id": "21a7c3b1-ebcb-4bce-8f5c-02438baae8c2",
   "metadata": {},
   "outputs": [
    {
     "data": {
      "text/plain": [
       "[array(['20-29', '30-39', '40-49', '50-59', '60-69', '70-79'], dtype=object)]"
      ]
     },
     "execution_count": 70,
     "metadata": {},
     "output_type": "execute_result"
    }
   ],
   "source": [
    "# how many categories were encoded?\n",
    "age_encoder.categories_"
   ]
  },
  {
   "cell_type": "code",
   "execution_count": 71,
   "id": "130a7969-9680-4313-a674-08abc39e993e",
   "metadata": {
    "tags": []
   },
   "outputs": [
    {
     "data": {
      "text/html": [
       "<div>\n",
       "<style scoped>\n",
       "    .dataframe tbody tr th:only-of-type {\n",
       "        vertical-align: middle;\n",
       "    }\n",
       "\n",
       "    .dataframe tbody tr th {\n",
       "        vertical-align: top;\n",
       "    }\n",
       "\n",
       "    .dataframe thead th {\n",
       "        text-align: right;\n",
       "    }\n",
       "</style>\n",
       "<table border=\"1\" class=\"dataframe\">\n",
       "  <thead>\n",
       "    <tr style=\"text-align: right;\">\n",
       "      <th></th>\n",
       "      <th>target</th>\n",
       "      <th>age</th>\n",
       "      <th>tumor-size</th>\n",
       "      <th>deg_malig</th>\n",
       "      <th>side</th>\n",
       "      <th>quad</th>\n",
       "      <th>irradiat</th>\n",
       "      <th>scaled_age</th>\n",
       "    </tr>\n",
       "  </thead>\n",
       "  <tbody>\n",
       "    <tr>\n",
       "      <th>0</th>\n",
       "      <td>no-recurrence-events</td>\n",
       "      <td>30-39</td>\n",
       "      <td>30-34</td>\n",
       "      <td>3</td>\n",
       "      <td>left</td>\n",
       "      <td>left_low</td>\n",
       "      <td>no</td>\n",
       "      <td>1.0</td>\n",
       "    </tr>\n",
       "    <tr>\n",
       "      <th>1</th>\n",
       "      <td>no-recurrence-events</td>\n",
       "      <td>40-49</td>\n",
       "      <td>20-24</td>\n",
       "      <td>2</td>\n",
       "      <td>right</td>\n",
       "      <td>right_up</td>\n",
       "      <td>no</td>\n",
       "      <td>2.0</td>\n",
       "    </tr>\n",
       "  </tbody>\n",
       "</table>\n",
       "</div>"
      ],
      "text/plain": [
       "                 target    age tumor-size  deg_malig   side      quad  \\\n",
       "0  no-recurrence-events  30-39      30-34          3   left  left_low   \n",
       "1  no-recurrence-events  40-49      20-24          2  right  right_up   \n",
       "\n",
       "  irradiat  scaled_age  \n",
       "0       no         1.0  \n",
       "1       no         2.0  "
      ]
     },
     "execution_count": 71,
     "metadata": {},
     "output_type": "execute_result"
    }
   ],
   "source": [
    "df[\"scaled_age\"] = age_encoder.transform(df[[\"age\"]])\n",
    "df.head(2)"
   ]
  },
  {
   "cell_type": "markdown",
   "id": "8d4ae901-3164-44f7-b49b-204319789252",
   "metadata": {},
   "source": [
    "#### <span style=\"color:teal\">One-hot encoding</span>\n",
    "When there is no natural ordinal relationship among different categories, OrdinalEncoder is not an appropriate approach.\n",
    "\n",
    "In addition, when the response variable has no ordinal relationship, encoding its labels as ordered integer values can result in poor performance. For example, suppose we encode the response's labels as 0, 1, 2. The algorithm can return a prediction of 1.5.\n",
    "\n",
    "One-hot encoding is the process of transforming each label of the orginal categorical variable into a new binary variable. This means the total number of features will increase after preprocessing."
   ]
  },
  {
   "cell_type": "code",
   "execution_count": 50,
   "id": "3516d436-a05e-4a57-99c4-d465060375fe",
   "metadata": {},
   "outputs": [],
   "source": [
    "from sklearn.preprocessing import OneHotEncoder"
   ]
  },
  {
   "cell_type": "code",
   "execution_count": 72,
   "id": "703d4919-39e6-4645-8c8a-b4d7ddd76ce3",
   "metadata": {},
   "outputs": [
    {
     "data": {
      "text/plain": [
       "[array(['20-29', '30-39', '40-49', '50-59', '60-69', '70-79'], dtype=object)]"
      ]
     },
     "execution_count": 72,
     "metadata": {},
     "output_type": "execute_result"
    }
   ],
   "source": [
    "# load raw data\n",
    "df = pd.read_csv('data/breast_cancer.csv')\n",
    "\n",
    "# encode age with OHE\n",
    "age_ohe = OneHotEncoder().fit(df[[\"age\"]])\n",
    "\n",
    "# check categories\n",
    "age_ohe.categories_"
   ]
  },
  {
   "cell_type": "code",
   "execution_count": 74,
   "id": "400f37f5-7e84-4bad-b19b-7b066755c41d",
   "metadata": {},
   "outputs": [
    {
     "data": {
      "text/plain": [
       "(285, 6)"
      ]
     },
     "execution_count": 74,
     "metadata": {},
     "output_type": "execute_result"
    }
   ],
   "source": [
    "age_ohe_transformed = age_ohe.transform(df[[\"age\"]])\n",
    "age_ohe_transformed.shape"
   ]
  },
  {
   "cell_type": "markdown",
   "id": "1823c1ee-4d19-4c93-b617-7260fd8053a8",
   "metadata": {},
   "source": [
    "Results from OneHotEncoder are saved as scipy sparse matrix format. We can obtain the actual values using the toarray() method."
   ]
  },
  {
   "cell_type": "code",
   "execution_count": 75,
   "id": "2cebe9e3-ca11-4b38-80c8-fdbaba9c50a0",
   "metadata": {},
   "outputs": [
    {
     "data": {
      "text/plain": [
       "array([[0., 1., 0., 0., 0., 0.],\n",
       "       [0., 0., 1., 0., 0., 0.],\n",
       "       [0., 0., 1., 0., 0., 0.],\n",
       "       ...,\n",
       "       [0., 0., 0., 0., 1., 0.],\n",
       "       [0., 0., 1., 0., 0., 0.],\n",
       "       [0., 0., 0., 1., 0., 0.]])"
      ]
     },
     "execution_count": 75,
     "metadata": {},
     "output_type": "execute_result"
    }
   ],
   "source": [
    "age_ohe_transformed.toarray()"
   ]
  },
  {
   "cell_type": "code",
   "execution_count": 76,
   "id": "14a8867e-eb3f-4cab-a867-a4e5bd99ae19",
   "metadata": {},
   "outputs": [
    {
     "data": {
      "text/html": [
       "<div>\n",
       "<style scoped>\n",
       "    .dataframe tbody tr th:only-of-type {\n",
       "        vertical-align: middle;\n",
       "    }\n",
       "\n",
       "    .dataframe tbody tr th {\n",
       "        vertical-align: top;\n",
       "    }\n",
       "\n",
       "    .dataframe thead tr th {\n",
       "        text-align: left;\n",
       "    }\n",
       "</style>\n",
       "<table border=\"1\" class=\"dataframe\">\n",
       "  <thead>\n",
       "    <tr>\n",
       "      <th></th>\n",
       "      <th>20-29</th>\n",
       "      <th>30-39</th>\n",
       "      <th>40-49</th>\n",
       "      <th>50-59</th>\n",
       "      <th>60-69</th>\n",
       "      <th>70-79</th>\n",
       "    </tr>\n",
       "  </thead>\n",
       "  <tbody>\n",
       "    <tr>\n",
       "      <th>0</th>\n",
       "      <td>0.0</td>\n",
       "      <td>1.0</td>\n",
       "      <td>0.0</td>\n",
       "      <td>0.0</td>\n",
       "      <td>0.0</td>\n",
       "      <td>0.0</td>\n",
       "    </tr>\n",
       "    <tr>\n",
       "      <th>1</th>\n",
       "      <td>0.0</td>\n",
       "      <td>0.0</td>\n",
       "      <td>1.0</td>\n",
       "      <td>0.0</td>\n",
       "      <td>0.0</td>\n",
       "      <td>0.0</td>\n",
       "    </tr>\n",
       "  </tbody>\n",
       "</table>\n",
       "</div>"
      ],
      "text/plain": [
       "  20-29 30-39 40-49 50-59 60-69 70-79\n",
       "0   0.0   1.0   0.0   0.0   0.0   0.0\n",
       "1   0.0   0.0   1.0   0.0   0.0   0.0"
      ]
     },
     "execution_count": 76,
     "metadata": {},
     "output_type": "execute_result"
    }
   ],
   "source": [
    "# convert to a dataframe\n",
    "age_ohe_dataframe = pd.DataFrame(data = age_ohe_transformed.toarray(),\n",
    "                                columns=age_ohe.categories_)\n",
    "age_ohe_dataframe.head(2)"
   ]
  },
  {
   "cell_type": "code",
   "execution_count": 79,
   "id": "ab3b8a21-cdad-4255-9a5f-d3f315f24484",
   "metadata": {},
   "outputs": [
    {
     "data": {
      "text/html": [
       "<div>\n",
       "<style scoped>\n",
       "    .dataframe tbody tr th:only-of-type {\n",
       "        vertical-align: middle;\n",
       "    }\n",
       "\n",
       "    .dataframe tbody tr th {\n",
       "        vertical-align: top;\n",
       "    }\n",
       "\n",
       "    .dataframe thead th {\n",
       "        text-align: right;\n",
       "    }\n",
       "</style>\n",
       "<table border=\"1\" class=\"dataframe\">\n",
       "  <thead>\n",
       "    <tr style=\"text-align: right;\">\n",
       "      <th></th>\n",
       "      <th>age_20-29</th>\n",
       "      <th>age_30-39</th>\n",
       "      <th>age_40-49</th>\n",
       "      <th>age_50-59</th>\n",
       "      <th>age_60-69</th>\n",
       "      <th>age_70-79</th>\n",
       "    </tr>\n",
       "  </thead>\n",
       "  <tbody>\n",
       "    <tr>\n",
       "      <th>0</th>\n",
       "      <td>0</td>\n",
       "      <td>1</td>\n",
       "      <td>0</td>\n",
       "      <td>0</td>\n",
       "      <td>0</td>\n",
       "      <td>0</td>\n",
       "    </tr>\n",
       "    <tr>\n",
       "      <th>1</th>\n",
       "      <td>0</td>\n",
       "      <td>0</td>\n",
       "      <td>1</td>\n",
       "      <td>0</td>\n",
       "      <td>0</td>\n",
       "      <td>0</td>\n",
       "    </tr>\n",
       "    <tr>\n",
       "      <th>2</th>\n",
       "      <td>0</td>\n",
       "      <td>0</td>\n",
       "      <td>1</td>\n",
       "      <td>0</td>\n",
       "      <td>0</td>\n",
       "      <td>0</td>\n",
       "    </tr>\n",
       "    <tr>\n",
       "      <th>3</th>\n",
       "      <td>0</td>\n",
       "      <td>0</td>\n",
       "      <td>0</td>\n",
       "      <td>0</td>\n",
       "      <td>1</td>\n",
       "      <td>0</td>\n",
       "    </tr>\n",
       "    <tr>\n",
       "      <th>4</th>\n",
       "      <td>0</td>\n",
       "      <td>0</td>\n",
       "      <td>1</td>\n",
       "      <td>0</td>\n",
       "      <td>0</td>\n",
       "      <td>0</td>\n",
       "    </tr>\n",
       "  </tbody>\n",
       "</table>\n",
       "</div>"
      ],
      "text/plain": [
       "   age_20-29  age_30-39  age_40-49  age_50-59  age_60-69  age_70-79\n",
       "0          0          1          0          0          0          0\n",
       "1          0          0          1          0          0          0\n",
       "2          0          0          1          0          0          0\n",
       "3          0          0          0          0          1          0\n",
       "4          0          0          1          0          0          0"
      ]
     },
     "execution_count": 79,
     "metadata": {},
     "output_type": "execute_result"
    }
   ],
   "source": [
    "# pandas - get dummies - easy to use, but not suggested\n",
    "ohe_age_df = pd.get_dummies(df.age, prefix='age')\n",
    "ohe_age_df.head()"
   ]
  },
  {
   "cell_type": "code",
   "execution_count": 83,
   "id": "a2d83646-30fb-4337-9ce4-7038d06e0f9c",
   "metadata": {},
   "outputs": [
    {
     "data": {
      "text/html": [
       "<div>\n",
       "<style scoped>\n",
       "    .dataframe tbody tr th:only-of-type {\n",
       "        vertical-align: middle;\n",
       "    }\n",
       "\n",
       "    .dataframe tbody tr th {\n",
       "        vertical-align: top;\n",
       "    }\n",
       "\n",
       "    .dataframe thead th {\n",
       "        text-align: right;\n",
       "    }\n",
       "</style>\n",
       "<table border=\"1\" class=\"dataframe\">\n",
       "  <thead>\n",
       "    <tr style=\"text-align: right;\">\n",
       "      <th></th>\n",
       "      <th>target</th>\n",
       "      <th>age</th>\n",
       "      <th>tumor-size</th>\n",
       "      <th>deg_malig</th>\n",
       "      <th>side</th>\n",
       "      <th>quad</th>\n",
       "      <th>irradiat</th>\n",
       "      <th>age_20-29</th>\n",
       "      <th>age_30-39</th>\n",
       "      <th>age_40-49</th>\n",
       "      <th>age_50-59</th>\n",
       "      <th>age_60-69</th>\n",
       "      <th>age_70-79</th>\n",
       "    </tr>\n",
       "  </thead>\n",
       "  <tbody>\n",
       "    <tr>\n",
       "      <th>0</th>\n",
       "      <td>no-recurrence-events</td>\n",
       "      <td>30-39</td>\n",
       "      <td>30-34</td>\n",
       "      <td>3</td>\n",
       "      <td>left</td>\n",
       "      <td>left_low</td>\n",
       "      <td>no</td>\n",
       "      <td>0</td>\n",
       "      <td>1</td>\n",
       "      <td>0</td>\n",
       "      <td>0</td>\n",
       "      <td>0</td>\n",
       "      <td>0</td>\n",
       "    </tr>\n",
       "    <tr>\n",
       "      <th>1</th>\n",
       "      <td>no-recurrence-events</td>\n",
       "      <td>40-49</td>\n",
       "      <td>20-24</td>\n",
       "      <td>2</td>\n",
       "      <td>right</td>\n",
       "      <td>right_up</td>\n",
       "      <td>no</td>\n",
       "      <td>0</td>\n",
       "      <td>0</td>\n",
       "      <td>1</td>\n",
       "      <td>0</td>\n",
       "      <td>0</td>\n",
       "      <td>0</td>\n",
       "    </tr>\n",
       "  </tbody>\n",
       "</table>\n",
       "</div>"
      ],
      "text/plain": [
       "                 target    age tumor-size  deg_malig   side      quad  \\\n",
       "0  no-recurrence-events  30-39      30-34          3   left  left_low   \n",
       "1  no-recurrence-events  40-49      20-24          2  right  right_up   \n",
       "\n",
       "  irradiat  age_20-29  age_30-39  age_40-49  age_50-59  age_60-69  age_70-79  \n",
       "0       no          0          1          0          0          0          0  \n",
       "1       no          0          0          1          0          0          0  "
      ]
     },
     "execution_count": 83,
     "metadata": {},
     "output_type": "execute_result"
    }
   ],
   "source": [
    "# bind the two dataframes together\n",
    "df_ohe = df.join(ohe_age_df)\n",
    "df_ohe.head(2)"
   ]
  },
  {
   "cell_type": "markdown",
   "id": "a88d6795-6cb6-4864-81f6-fbbe7afcc908",
   "metadata": {},
   "source": [
    "#### <span style=\"color:teal\">Label encoding</span>\n",
    "sklearn has a separate module to encode the target variable."
   ]
  },
  {
   "cell_type": "code",
   "execution_count": 84,
   "id": "7709f4cf-9b8c-48c7-9128-e412ed9594fa",
   "metadata": {},
   "outputs": [],
   "source": [
    "from sklearn.preprocessing import LabelEncoder"
   ]
  },
  {
   "cell_type": "code",
   "execution_count": 85,
   "id": "e3d511c2-44c3-4116-bb18-7a72ebf405e6",
   "metadata": {},
   "outputs": [],
   "source": [
    "le = LabelEncoder().fit(df['target'])"
   ]
  },
  {
   "cell_type": "code",
   "execution_count": 88,
   "id": "4584fe53-1e2d-4a1e-8bdd-496bad7a39e0",
   "metadata": {},
   "outputs": [
    {
     "data": {
      "text/plain": [
       "array(['no-recurrence-events', 'recurrence-events'], dtype=object)"
      ]
     },
     "execution_count": 88,
     "metadata": {},
     "output_type": "execute_result"
    }
   ],
   "source": [
    "le.classes_"
   ]
  },
  {
   "cell_type": "code",
   "execution_count": 89,
   "id": "a7548f2d-b24e-476b-b1b8-59efd786844f",
   "metadata": {},
   "outputs": [],
   "source": [
    "target_transformed = le.transform(df['target'])"
   ]
  },
  {
   "cell_type": "code",
   "execution_count": 90,
   "id": "d33269be-3de3-4828-9680-0debdc35a97e",
   "metadata": {},
   "outputs": [
    {
     "data": {
      "text/plain": [
       "array([0, 0, 0, 0, 0, 0, 0, 0, 0, 0, 0, 0, 0, 0, 0, 0, 0, 0, 0, 0, 0, 0,\n",
       "       0, 0, 0, 0, 0, 0, 0, 0, 0, 0, 0, 0, 0, 0, 0, 0, 0, 0, 0, 0, 0, 0,\n",
       "       0, 0, 0, 0, 0, 0, 0, 0, 0, 0, 0, 0, 0, 0, 0, 0, 0, 0, 0, 0, 0, 0,\n",
       "       0, 0, 0, 0, 0, 0, 0, 0, 0, 0, 0, 0, 0, 0, 0, 0, 0, 0, 0, 0, 0, 0,\n",
       "       0, 0, 0, 0, 0, 0, 0, 0, 0, 0, 0, 0, 0, 0, 0, 0, 0, 0, 0, 0, 0, 0,\n",
       "       0, 0, 0, 0, 0, 0, 0, 0, 0, 0, 0, 0, 0, 0, 0, 0, 0, 0, 0, 0, 0, 0,\n",
       "       0, 0, 0, 0, 0, 0, 0, 0, 0, 0, 0, 0, 0, 0, 0, 0, 0, 0, 0, 0, 0, 0,\n",
       "       0, 0, 0, 0, 0, 0, 0, 0, 0, 0, 0, 0, 0, 0, 0, 0, 0, 0, 0, 0, 0, 0,\n",
       "       0, 0, 0, 0, 0, 0, 0, 0, 0, 0, 0, 0, 0, 0, 0, 0, 0, 0, 0, 0, 0, 0,\n",
       "       0, 0, 0, 1, 1, 1, 1, 1, 1, 1, 1, 1, 1, 1, 1, 1, 1, 1, 1, 1, 1, 1,\n",
       "       1, 1, 1, 1, 1, 1, 1, 1, 1, 1, 1, 1, 1, 1, 1, 1, 1, 1, 1, 1, 1, 1,\n",
       "       1, 1, 1, 1, 1, 1, 1, 1, 1, 1, 1, 1, 1, 1, 1, 1, 1, 1, 1, 1, 1, 1,\n",
       "       1, 1, 1, 1, 1, 1, 1, 1, 1, 1, 1, 1, 1, 1, 1, 1, 1, 1, 1, 1, 1])"
      ]
     },
     "execution_count": 90,
     "metadata": {},
     "output_type": "execute_result"
    }
   ],
   "source": [
    "target_transformed"
   ]
  },
  {
   "cell_type": "markdown",
   "id": "25b0558c-059f-45e4-8a5b-72f4aa914174",
   "metadata": {
    "tags": []
   },
   "source": [
    "### <span style=\"color:#1409FA\">Imputing Missing data</span>\n",
    "Sometimes, your data will have missing values (NaN)."
   ]
  },
  {
   "cell_type": "code",
   "execution_count": 91,
   "id": "1cd3900a-649a-4984-adef-5f67e563a607",
   "metadata": {},
   "outputs": [
    {
     "data": {
      "text/html": [
       "<div>\n",
       "<style scoped>\n",
       "    .dataframe tbody tr th:only-of-type {\n",
       "        vertical-align: middle;\n",
       "    }\n",
       "\n",
       "    .dataframe tbody tr th {\n",
       "        vertical-align: top;\n",
       "    }\n",
       "\n",
       "    .dataframe thead th {\n",
       "        text-align: right;\n",
       "    }\n",
       "</style>\n",
       "<table border=\"1\" class=\"dataframe\">\n",
       "  <thead>\n",
       "    <tr style=\"text-align: right;\">\n",
       "      <th></th>\n",
       "      <th>sepal_length</th>\n",
       "      <th>sepal_width</th>\n",
       "      <th>petal_length</th>\n",
       "      <th>petal_width</th>\n",
       "      <th>target</th>\n",
       "    </tr>\n",
       "  </thead>\n",
       "  <tbody>\n",
       "    <tr>\n",
       "      <th>0</th>\n",
       "      <td>5.1</td>\n",
       "      <td>3.5</td>\n",
       "      <td>1.4</td>\n",
       "      <td>0.2</td>\n",
       "      <td>0</td>\n",
       "    </tr>\n",
       "    <tr>\n",
       "      <th>1</th>\n",
       "      <td>4.9</td>\n",
       "      <td>3.0</td>\n",
       "      <td>1.4</td>\n",
       "      <td>0.2</td>\n",
       "      <td>0</td>\n",
       "    </tr>\n",
       "    <tr>\n",
       "      <th>2</th>\n",
       "      <td>4.7</td>\n",
       "      <td>3.2</td>\n",
       "      <td>1.3</td>\n",
       "      <td>0.2</td>\n",
       "      <td>0</td>\n",
       "    </tr>\n",
       "    <tr>\n",
       "      <th>3</th>\n",
       "      <td>4.6</td>\n",
       "      <td>3.1</td>\n",
       "      <td>1.5</td>\n",
       "      <td>0.2</td>\n",
       "      <td>0</td>\n",
       "    </tr>\n",
       "    <tr>\n",
       "      <th>4</th>\n",
       "      <td>5.0</td>\n",
       "      <td>NaN</td>\n",
       "      <td>1.4</td>\n",
       "      <td>0.2</td>\n",
       "      <td>0</td>\n",
       "    </tr>\n",
       "  </tbody>\n",
       "</table>\n",
       "</div>"
      ],
      "text/plain": [
       "   sepal_length  sepal_width  petal_length  petal_width  target\n",
       "0           5.1          3.5           1.4          0.2       0\n",
       "1           4.9          3.0           1.4          0.2       0\n",
       "2           4.7          3.2           1.3          0.2       0\n",
       "3           4.6          3.1           1.5          0.2       0\n",
       "4           5.0          NaN           1.4          0.2       0"
      ]
     },
     "execution_count": 91,
     "metadata": {},
     "output_type": "execute_result"
    }
   ],
   "source": [
    "df = pd.read_csv('data/iris_numeric.csv')\n",
    "df.head()"
   ]
  },
  {
   "cell_type": "markdown",
   "id": "b0eeb26f-6092-452f-b301-8290cd9b3a9c",
   "metadata": {},
   "source": [
    "Note that we use the dataset with transformed target labels here. If we apply sklearn transformer on the entire dataset and there are non-numeric values, Python will raise an error.\n",
    "\n",
    "We can check if there is any missing value in the entire dataset"
   ]
  },
  {
   "cell_type": "code",
   "execution_count": 148,
   "id": "1cd2c577-b0af-44dc-bbd8-1fadeced776b",
   "metadata": {},
   "outputs": [
    {
     "data": {
      "text/plain": [
       "True"
      ]
     },
     "execution_count": 148,
     "metadata": {},
     "output_type": "execute_result"
    }
   ],
   "source": [
    "# check the entire dataset\n",
    "df.isna().values.any()"
   ]
  },
  {
   "cell_type": "code",
   "execution_count": 149,
   "id": "8b617ae7-2844-41d3-a173-b719eb362a4c",
   "metadata": {},
   "outputs": [
    {
     "data": {
      "text/plain": [
       "sepal_length    False\n",
       "sepal_width      True\n",
       "petal_length     True\n",
       "petal_width     False\n",
       "target          False\n",
       "dtype: bool"
      ]
     },
     "execution_count": 149,
     "metadata": {},
     "output_type": "execute_result"
    }
   ],
   "source": [
    "# check individual columns\n",
    "df.isna().any()"
   ]
  },
  {
   "cell_type": "markdown",
   "id": "5f02cb07-78de-45da-92ca-31f0939945b6",
   "metadata": {},
   "source": [
    "We can get the specific rows with missing values"
   ]
  },
  {
   "cell_type": "code",
   "execution_count": 150,
   "id": "3f5d846a-943a-46bc-9c33-c6863f069f75",
   "metadata": {},
   "outputs": [
    {
     "data": {
      "text/html": [
       "<div>\n",
       "<style scoped>\n",
       "    .dataframe tbody tr th:only-of-type {\n",
       "        vertical-align: middle;\n",
       "    }\n",
       "\n",
       "    .dataframe tbody tr th {\n",
       "        vertical-align: top;\n",
       "    }\n",
       "\n",
       "    .dataframe thead th {\n",
       "        text-align: right;\n",
       "    }\n",
       "</style>\n",
       "<table border=\"1\" class=\"dataframe\">\n",
       "  <thead>\n",
       "    <tr style=\"text-align: right;\">\n",
       "      <th></th>\n",
       "      <th>sepal_length</th>\n",
       "      <th>sepal_width</th>\n",
       "      <th>petal_length</th>\n",
       "      <th>petal_width</th>\n",
       "      <th>target</th>\n",
       "    </tr>\n",
       "  </thead>\n",
       "  <tbody>\n",
       "    <tr>\n",
       "      <th>4</th>\n",
       "      <td>5.0</td>\n",
       "      <td>NaN</td>\n",
       "      <td>1.4</td>\n",
       "      <td>0.2</td>\n",
       "      <td>0</td>\n",
       "    </tr>\n",
       "    <tr>\n",
       "      <th>10</th>\n",
       "      <td>5.4</td>\n",
       "      <td>3.7</td>\n",
       "      <td>NaN</td>\n",
       "      <td>0.2</td>\n",
       "      <td>0</td>\n",
       "    </tr>\n",
       "  </tbody>\n",
       "</table>\n",
       "</div>"
      ],
      "text/plain": [
       "    sepal_length  sepal_width  petal_length  petal_width  target\n",
       "4            5.0          NaN           1.4          0.2       0\n",
       "10           5.4          3.7           NaN          0.2       0"
      ]
     },
     "execution_count": 150,
     "metadata": {},
     "output_type": "execute_result"
    }
   ],
   "source": [
    "df[df.isna().any(axis=1)]"
   ]
  },
  {
   "cell_type": "markdown",
   "id": "f7bac135-1024-41ab-bbf8-2d0e94d249d1",
   "metadata": {},
   "source": [
    "There are several approaches to imputing missing values before building an estimator. We will explore the most simple approach which involves replacing the missing values with\n",
    "\n",
    "* constant values\n",
    "* statistics like mean, median, mode"
   ]
  },
  {
   "cell_type": "code",
   "execution_count": 93,
   "id": "dc4d2a2d-a4cf-4f8b-a01b-8e5298369122",
   "metadata": {},
   "outputs": [],
   "source": [
    "from sklearn.impute import SimpleImputer"
   ]
  },
  {
   "cell_type": "code",
   "execution_count": 94,
   "id": "dd6f3f1c-2301-4d5b-8710-b2a489c1a359",
   "metadata": {},
   "outputs": [],
   "source": [
    "# impute a constant value\n",
    "imp_const = SimpleImputer(missing_values=np.nan, strategy='constant', fill_value=0.).fit_transform(df)"
   ]
  },
  {
   "cell_type": "code",
   "execution_count": 95,
   "id": "8581a570-787e-4d7f-b86f-9785fd37932e",
   "metadata": {},
   "outputs": [
    {
     "data": {
      "text/plain": [
       "sepal_length    False\n",
       "sepal_width     False\n",
       "petal_length    False\n",
       "petal_width     False\n",
       "target          False\n",
       "dtype: bool"
      ]
     },
     "execution_count": 95,
     "metadata": {},
     "output_type": "execute_result"
    }
   ],
   "source": [
    "df_transformed_const = pd.DataFrame(imp_const, columns=df.columns)\n",
    "df_transformed_const.isna().any()"
   ]
  },
  {
   "cell_type": "markdown",
   "id": "c0b6a8dc-c696-4ec6-9c45-4513fc51cd43",
   "metadata": {
    "tags": []
   },
   "source": [
    "# <span style=\"color:rebeccapurple\">Supervised learning - Linear regression</span>"
   ]
  },
  {
   "cell_type": "markdown",
   "id": "ab524a3c-58b5-475e-acd2-8071f3912bd6",
   "metadata": {},
   "source": [
    "Linear regression model is typically\n",
    "$$\\begin{align}\n",
    "y = \\beta_0 + \\sum_{i=1}^N \\beta_i x_i\n",
    "\\end{align}$$\n",
    "where $y$ is the output, $x_i$ are the predictors and $N$ is the number of predictors. What we want to learn is the set of parameters, or weights, $\\beta_i, i=0,...N$.\n",
    "\n",
    "To learn these parameters, sklearn will minimize the residual sum of squares\n",
    "$$\n",
    "RSS = (y_{pred} - y_{obs})^2 = (\\beta_0 + \\sum_{i=1}^N \\beta_i x_i - y_{obs})^2\n",
    "$$\n",
    "where $M$ is the number of observations."
   ]
  },
  {
   "cell_type": "markdown",
   "id": "3313345f-8f8a-4915-b09d-8124f67f1145",
   "metadata": {},
   "source": [
    "### I. Data import"
   ]
  },
  {
   "cell_type": "code",
   "execution_count": 2,
   "id": "8da5325a-9e5c-4ee9-a3dd-696233f42216",
   "metadata": {},
   "outputs": [
    {
     "data": {
      "text/html": [
       "<div>\n",
       "<style scoped>\n",
       "    .dataframe tbody tr th:only-of-type {\n",
       "        vertical-align: middle;\n",
       "    }\n",
       "\n",
       "    .dataframe tbody tr th {\n",
       "        vertical-align: top;\n",
       "    }\n",
       "\n",
       "    .dataframe thead th {\n",
       "        text-align: right;\n",
       "    }\n",
       "</style>\n",
       "<table border=\"1\" class=\"dataframe\">\n",
       "  <thead>\n",
       "    <tr style=\"text-align: right;\">\n",
       "      <th></th>\n",
       "      <th>species</th>\n",
       "      <th>vertical_len</th>\n",
       "      <th>diag_len</th>\n",
       "      <th>cross_len</th>\n",
       "      <th>height</th>\n",
       "      <th>width</th>\n",
       "      <th>weight</th>\n",
       "    </tr>\n",
       "  </thead>\n",
       "  <tbody>\n",
       "    <tr>\n",
       "      <th>0</th>\n",
       "      <td>Bream</td>\n",
       "      <td>23.2</td>\n",
       "      <td>25.4</td>\n",
       "      <td>30.0</td>\n",
       "      <td>11.5200</td>\n",
       "      <td>4.0200</td>\n",
       "      <td>242.0</td>\n",
       "    </tr>\n",
       "    <tr>\n",
       "      <th>1</th>\n",
       "      <td>Bream</td>\n",
       "      <td>24.0</td>\n",
       "      <td>26.3</td>\n",
       "      <td>31.2</td>\n",
       "      <td>12.4800</td>\n",
       "      <td>4.3056</td>\n",
       "      <td>290.0</td>\n",
       "    </tr>\n",
       "    <tr>\n",
       "      <th>2</th>\n",
       "      <td>Bream</td>\n",
       "      <td>23.9</td>\n",
       "      <td>26.5</td>\n",
       "      <td>31.1</td>\n",
       "      <td>12.3778</td>\n",
       "      <td>4.6961</td>\n",
       "      <td>340.0</td>\n",
       "    </tr>\n",
       "    <tr>\n",
       "      <th>3</th>\n",
       "      <td>Bream</td>\n",
       "      <td>26.3</td>\n",
       "      <td>29.0</td>\n",
       "      <td>33.5</td>\n",
       "      <td>12.7300</td>\n",
       "      <td>4.4555</td>\n",
       "      <td>363.0</td>\n",
       "    </tr>\n",
       "    <tr>\n",
       "      <th>4</th>\n",
       "      <td>Bream</td>\n",
       "      <td>26.5</td>\n",
       "      <td>29.0</td>\n",
       "      <td>34.0</td>\n",
       "      <td>12.4440</td>\n",
       "      <td>5.1340</td>\n",
       "      <td>430.0</td>\n",
       "    </tr>\n",
       "  </tbody>\n",
       "</table>\n",
       "</div>"
      ],
      "text/plain": [
       "  species  vertical_len  diag_len  cross_len   height   width  weight\n",
       "0   Bream          23.2      25.4       30.0  11.5200  4.0200   242.0\n",
       "1   Bream          24.0      26.3       31.2  12.4800  4.3056   290.0\n",
       "2   Bream          23.9      26.5       31.1  12.3778  4.6961   340.0\n",
       "3   Bream          26.3      29.0       33.5  12.7300  4.4555   363.0\n",
       "4   Bream          26.5      29.0       34.0  12.4440  5.1340   430.0"
      ]
     },
     "execution_count": 2,
     "metadata": {},
     "output_type": "execute_result"
    }
   ],
   "source": [
    "# Import a dataset\n",
    "df = pd.read_csv(\"data/fish.csv\")\n",
    "df.head()"
   ]
  },
  {
   "cell_type": "code",
   "execution_count": 77,
   "id": "74de972f-d483-4072-ab3f-7842a47336cc",
   "metadata": {},
   "outputs": [
    {
     "data": {
      "image/png": "[encoded data removed]",
      "text/plain": [
       "<Figure size 600x300 with 1 Axes>"
      ]
     },
     "metadata": {},
     "output_type": "display_data"
    }
   ],
   "source": [
    "plt.figure(figsize=(6,3))\n",
    "sns.histplot(df.weight, bins=50)\n",
    "plt.show()"
   ]
  },
  {
   "cell_type": "code",
   "execution_count": 78,
   "id": "1791e547-4b49-4a29-bd50-d286124dee4c",
   "metadata": {},
   "outputs": [
    {
     "data": {
      "text/html": [
       "<div>\n",
       "<style scoped>\n",
       "    .dataframe tbody tr th:only-of-type {\n",
       "        vertical-align: middle;\n",
       "    }\n",
       "\n",
       "    .dataframe tbody tr th {\n",
       "        vertical-align: top;\n",
       "    }\n",
       "\n",
       "    .dataframe thead th {\n",
       "        text-align: right;\n",
       "    }\n",
       "</style>\n",
       "<table border=\"1\" class=\"dataframe\">\n",
       "  <thead>\n",
       "    <tr style=\"text-align: right;\">\n",
       "      <th></th>\n",
       "      <th>vertical_len</th>\n",
       "      <th>diag_len</th>\n",
       "      <th>cross_len</th>\n",
       "      <th>height</th>\n",
       "      <th>width</th>\n",
       "      <th>weight</th>\n",
       "    </tr>\n",
       "    <tr>\n",
       "      <th>species</th>\n",
       "      <th></th>\n",
       "      <th></th>\n",
       "      <th></th>\n",
       "      <th></th>\n",
       "      <th></th>\n",
       "      <th></th>\n",
       "    </tr>\n",
       "  </thead>\n",
       "  <tbody>\n",
       "    <tr>\n",
       "      <th>Bream</th>\n",
       "      <td>30.305714</td>\n",
       "      <td>33.108571</td>\n",
       "      <td>38.354286</td>\n",
       "      <td>15.183211</td>\n",
       "      <td>5.427614</td>\n",
       "      <td>617.828571</td>\n",
       "    </tr>\n",
       "    <tr>\n",
       "      <th>Parkki</th>\n",
       "      <td>18.727273</td>\n",
       "      <td>20.345455</td>\n",
       "      <td>22.790909</td>\n",
       "      <td>8.962427</td>\n",
       "      <td>3.220736</td>\n",
       "      <td>154.818182</td>\n",
       "    </tr>\n",
       "    <tr>\n",
       "      <th>Perch</th>\n",
       "      <td>25.735714</td>\n",
       "      <td>27.892857</td>\n",
       "      <td>29.571429</td>\n",
       "      <td>7.861870</td>\n",
       "      <td>4.745723</td>\n",
       "      <td>382.239286</td>\n",
       "    </tr>\n",
       "    <tr>\n",
       "      <th>Pike</th>\n",
       "      <td>42.476471</td>\n",
       "      <td>45.482353</td>\n",
       "      <td>48.717647</td>\n",
       "      <td>7.713771</td>\n",
       "      <td>5.086382</td>\n",
       "      <td>718.705882</td>\n",
       "    </tr>\n",
       "    <tr>\n",
       "      <th>Roach</th>\n",
       "      <td>20.731579</td>\n",
       "      <td>22.368421</td>\n",
       "      <td>25.084211</td>\n",
       "      <td>6.706353</td>\n",
       "      <td>3.673968</td>\n",
       "      <td>160.052632</td>\n",
       "    </tr>\n",
       "    <tr>\n",
       "      <th>Smelt</th>\n",
       "      <td>11.257143</td>\n",
       "      <td>11.921429</td>\n",
       "      <td>13.035714</td>\n",
       "      <td>2.209371</td>\n",
       "      <td>1.340093</td>\n",
       "      <td>11.178571</td>\n",
       "    </tr>\n",
       "    <tr>\n",
       "      <th>Whitefish</th>\n",
       "      <td>28.800000</td>\n",
       "      <td>31.316667</td>\n",
       "      <td>34.316667</td>\n",
       "      <td>10.027167</td>\n",
       "      <td>5.473050</td>\n",
       "      <td>531.000000</td>\n",
       "    </tr>\n",
       "  </tbody>\n",
       "</table>\n",
       "</div>"
      ],
      "text/plain": [
       "           vertical_len   diag_len  cross_len     height     width      weight\n",
       "species                                                                       \n",
       "Bream         30.305714  33.108571  38.354286  15.183211  5.427614  617.828571\n",
       "Parkki        18.727273  20.345455  22.790909   8.962427  3.220736  154.818182\n",
       "Perch         25.735714  27.892857  29.571429   7.861870  4.745723  382.239286\n",
       "Pike          42.476471  45.482353  48.717647   7.713771  5.086382  718.705882\n",
       "Roach         20.731579  22.368421  25.084211   6.706353  3.673968  160.052632\n",
       "Smelt         11.257143  11.921429  13.035714   2.209371  1.340093   11.178571\n",
       "Whitefish     28.800000  31.316667  34.316667  10.027167  5.473050  531.000000"
      ]
     },
     "execution_count": 78,
     "metadata": {},
     "output_type": "execute_result"
    }
   ],
   "source": [
    "df.groupby(\"species\").mean()"
   ]
  },
  {
   "cell_type": "markdown",
   "id": "4e1fd4f0-bded-4490-abc2-6dd1ec516f56",
   "metadata": {},
   "source": [
    "### II. Feature - target split"
   ]
  },
  {
   "cell_type": "markdown",
   "id": "e83412d0-a8cb-4173-ba9c-8f05d6caca78",
   "metadata": {},
   "source": [
    "Suppose we want to predict the weight (in log space) of a fish. We will build a model with the remaining features as predictors."
   ]
  },
  {
   "cell_type": "code",
   "execution_count": 3,
   "id": "02b389da-7276-4a2d-83dc-fa33bd1fb5f4",
   "metadata": {},
   "outputs": [
    {
     "data": {
      "text/plain": [
       "((158, 6), (158,))"
      ]
     },
     "execution_count": 3,
     "metadata": {},
     "output_type": "execute_result"
    }
   ],
   "source": [
    "# separate the input features and the target variable\n",
    "X = df.drop(columns=\"weight\")\n",
    "y = np.log(df.weight) # predicting weight in log-scale\n",
    "\n",
    "X.shape, y.shape"
   ]
  },
  {
   "cell_type": "markdown",
   "id": "12db2ba9-ca11-4524-b870-ed7acfe38dc3",
   "metadata": {},
   "source": [
    "### III. Train - test split\n",
    "Ideally you would split your data into train and test sets before modeling."
   ]
  },
  {
   "cell_type": "code",
   "execution_count": 80,
   "id": "b6b26995-7272-457e-a44a-92832eb61833",
   "metadata": {},
   "outputs": [
    {
     "data": {
      "text/plain": [
       "((110, 6), (48, 6), (110,), (48,))"
      ]
     },
     "execution_count": 80,
     "metadata": {},
     "output_type": "execute_result"
    }
   ],
   "source": [
    "from sklearn.model_selection import train_test_split\n",
    "\n",
    "X_train, X_test, y_train, y_test = train_test_split(X, y, test_size=0.3)\n",
    "X_train.shape, X_test.shape, y_train.shape, y_test.shape"
   ]
  },
  {
   "cell_type": "markdown",
   "id": "0ecb460e-9328-4a51-a8b9-678c705ed67a",
   "metadata": {},
   "source": [
    "### IV. Data pre-processing\n",
    "Then you would standardize the numeric columns and encode the categorical columns."
   ]
  },
  {
   "cell_type": "code",
   "execution_count": 81,
   "id": "e20976bc-2589-4f77-b891-5ca68c45e545",
   "metadata": {},
   "outputs": [
    {
     "data": {
      "text/plain": [
       "((110, 5), (48, 5))"
      ]
     },
     "execution_count": 81,
     "metadata": {},
     "output_type": "execute_result"
    }
   ],
   "source": [
    "# process the nnumeric columns\n",
    "from sklearn.preprocessing import StandardScaler\n",
    "scaler = StandardScaler()\n",
    "\n",
    "# select the numeric columns and fit them\n",
    "numeric_cols = ['vertical_len', 'diag_len', 'cross_len', 'height', 'width']\n",
    "scaler.fit(X_train[numeric_cols])\n",
    "\n",
    "# get the transformed X_train and X_test data\n",
    "numeric_X_train = scaler.transform(X_train[numeric_cols])\n",
    "numeric_X_test  = scaler.transform(X_test[numeric_cols])\n",
    "\n",
    "numeric_X_train.shape, numeric_X_test.shape"
   ]
  },
  {
   "cell_type": "code",
   "execution_count": 82,
   "id": "96fd7a9d-c4b1-40ea-96f5-0d6a9422bb82",
   "metadata": {},
   "outputs": [
    {
     "data": {
      "text/plain": [
       "((110, 7), (48, 7))"
      ]
     },
     "execution_count": 82,
     "metadata": {},
     "output_type": "execute_result"
    }
   ],
   "source": [
    "# process the categorical columns\n",
    "from sklearn.preprocessing import OneHotEncoder\n",
    "\n",
    "species_ohe = OneHotEncoder()          # generate instance\n",
    "species_ohe.fit(X_train[[\"species\"]])  # fit the encoder\n",
    "\n",
    "ohe_X_train = species_ohe.transform(X_train[[\"species\"]]) # transform train set\n",
    "ohe_X_test = species_ohe.transform(X_test[[\"species\"]])   # transform test set\n",
    "\n",
    "# convert to array\n",
    "ohe_X_train = ohe_X_train.toarray()\n",
    "ohe_X_test = ohe_X_test.toarray()\n",
    "\n",
    "ohe_X_train.shape, ohe_X_test.shape"
   ]
  },
  {
   "cell_type": "code",
   "execution_count": 83,
   "id": "278d75c9-1f67-4042-a54e-4c8ea0901344",
   "metadata": {},
   "outputs": [
    {
     "data": {
      "text/plain": [
       "((110, 12), (48, 12))"
      ]
     },
     "execution_count": 83,
     "metadata": {},
     "output_type": "execute_result"
    }
   ],
   "source": [
    "# use hstack to join the processed columns together\n",
    "processed_X_train = np.hstack((numeric_X_train, ohe_X_train))\n",
    "processed_X_test = np.hstack((numeric_X_test, ohe_X_test))\n",
    "\n",
    "processed_X_train.shape, processed_X_test.shape"
   ]
  },
  {
   "cell_type": "markdown",
   "id": "b3085adf-bf4f-4732-89fd-a39cb7808822",
   "metadata": {},
   "source": [
    "### V. Modeling"
   ]
  },
  {
   "cell_type": "code",
   "execution_count": 84,
   "id": "ba4c02c2-86fd-4938-988e-ac79dadb071f",
   "metadata": {},
   "outputs": [],
   "source": [
    "from sklearn.linear_model import LinearRegression\n",
    "\n",
    "model = LinearRegression() # create an instance of class \"LinearRegression\""
   ]
  },
  {
   "cell_type": "code",
   "execution_count": 85,
   "id": "e99b5774",
   "metadata": {},
   "outputs": [
    {
     "data": {
      "text/html": [
       "<style>#sk-container-id-4 {color: black;background-color: white;}#sk-container-id-4 pre{padding: 0;}#sk-container-id-4 div.sk-toggleable {background-color: white;}#sk-container-id-4 label.sk-toggleable__label {cursor: pointer;display: block;width: 100%;margin-bottom: 0;padding: 0.3em;box-sizing: border-box;text-align: center;}#sk-container-id-4 label.sk-toggleable__label-arrow:before {content: \"▸\";float: left;margin-right: 0.25em;color: #696969;}#sk-container-id-4 label.sk-toggleable__label-arrow:hover:before {color: black;}#sk-container-id-4 div.sk-estimator:hover label.sk-toggleable__label-arrow:before {color: black;}#sk-container-id-4 div.sk-toggleable__content {max-height: 0;max-width: 0;overflow: hidden;text-align: left;background-color: #f0f8ff;}#sk-container-id-4 div.sk-toggleable__content pre {margin: 0.2em;color: black;border-radius: 0.25em;background-color: #f0f8ff;}#sk-container-id-4 input.sk-toggleable__control:checked~div.sk-toggleable__content {max-height: 200px;max-width: 100%;overflow: auto;}#sk-container-id-4 input.sk-toggleable__control:checked~label.sk-toggleable__label-arrow:before {content: \"▾\";}#sk-container-id-4 div.sk-estimator input.sk-toggleable__control:checked~label.sk-toggleable__label {background-color: #d4ebff;}#sk-container-id-4 div.sk-label input.sk-toggleable__control:checked~label.sk-toggleable__label {background-color: #d4ebff;}#sk-container-id-4 input.sk-hidden--visually {border: 0;clip: rect(1px 1px 1px 1px);clip: rect(1px, 1px, 1px, 1px);height: 1px;margin: -1px;overflow: hidden;padding: 0;position: absolute;width: 1px;}#sk-container-id-4 div.sk-estimator {font-family: monospace;background-color: #f0f8ff;border: 1px dotted black;border-radius: 0.25em;box-sizing: border-box;margin-bottom: 0.5em;}#sk-container-id-4 div.sk-estimator:hover {background-color: #d4ebff;}#sk-container-id-4 div.sk-parallel-item::after {content: \"\";width: 100%;border-bottom: 1px solid gray;flex-grow: 1;}#sk-container-id-4 div.sk-label:hover label.sk-toggleable__label {background-color: #d4ebff;}#sk-container-id-4 div.sk-serial::before {content: \"\";position: absolute;border-left: 1px solid gray;box-sizing: border-box;top: 0;bottom: 0;left: 50%;z-index: 0;}#sk-container-id-4 div.sk-serial {display: flex;flex-direction: column;align-items: center;background-color: white;padding-right: 0.2em;padding-left: 0.2em;position: relative;}#sk-container-id-4 div.sk-item {position: relative;z-index: 1;}#sk-container-id-4 div.sk-parallel {display: flex;align-items: stretch;justify-content: center;background-color: white;position: relative;}#sk-container-id-4 div.sk-item::before, #sk-container-id-4 div.sk-parallel-item::before {content: \"\";position: absolute;border-left: 1px solid gray;box-sizing: border-box;top: 0;bottom: 0;left: 50%;z-index: -1;}#sk-container-id-4 div.sk-parallel-item {display: flex;flex-direction: column;z-index: 1;position: relative;background-color: white;}#sk-container-id-4 div.sk-parallel-item:first-child::after {align-self: flex-end;width: 50%;}#sk-container-id-4 div.sk-parallel-item:last-child::after {align-self: flex-start;width: 50%;}#sk-container-id-4 div.sk-parallel-item:only-child::after {width: 0;}#sk-container-id-4 div.sk-dashed-wrapped {border: 1px dashed gray;margin: 0 0.4em 0.5em 0.4em;box-sizing: border-box;padding-bottom: 0.4em;background-color: white;}#sk-container-id-4 div.sk-label label {font-family: monospace;font-weight: bold;display: inline-block;line-height: 1.2em;}#sk-container-id-4 div.sk-label-container {text-align: center;}#sk-container-id-4 div.sk-container {/* jupyter's `normalize.less` sets `[hidden] { display: none; }` but bootstrap.min.css set `[hidden] { display: none !important; }` so we also need the `!important` here to be able to override the default hidden behavior on the sphinx rendered scikit-learn.org. See: https://github.com/scikit-learn/scikit-learn/issues/21755 */display: inline-block !important;position: relative;}#sk-container-id-4 div.sk-text-repr-fallback {display: none;}</style><div id=\"sk-container-id-4\" class=\"sk-top-container\"><div class=\"sk-text-repr-fallback\"><pre>LinearRegression()</pre><b>In a Jupyter environment, please rerun this cell to show the HTML representation or trust the notebook. <br />On GitHub, the HTML representation is unable to render, please try loading this page with nbviewer.org.</b></div><div class=\"sk-container\" hidden><div class=\"sk-item\"><div class=\"sk-estimator sk-toggleable\"><input class=\"sk-toggleable__control sk-hidden--visually\" id=\"sk-estimator-id-4\" type=\"checkbox\" checked><label for=\"sk-estimator-id-4\" class=\"sk-toggleable__label sk-toggleable__label-arrow\">LinearRegression</label><div class=\"sk-toggleable__content\"><pre>LinearRegression()</pre></div></div></div></div></div>"
      ],
      "text/plain": [
       "LinearRegression()"
      ]
     },
     "execution_count": 85,
     "metadata": {},
     "output_type": "execute_result"
    }
   ],
   "source": [
    "# fit the model to your data features and labels\n",
    "model.fit(processed_X_train, y_train)"
   ]
  },
  {
   "cell_type": "code",
   "execution_count": 86,
   "id": "c1453254-d5f2-493d-8a81-792ab94e1a81",
   "metadata": {},
   "outputs": [
    {
     "data": {
      "text/plain": [
       "(5.260224913950426, 192.52478793866393)"
      ]
     },
     "execution_count": 86,
     "metadata": {},
     "output_type": "execute_result"
    }
   ],
   "source": [
    "model.intercept_, np.exp(model.intercept_)"
   ]
  },
  {
   "cell_type": "code",
   "execution_count": 87,
   "id": "c856c027-ae13-4f4d-8a61-2129b1b2c5f8",
   "metadata": {},
   "outputs": [
    {
     "data": {
      "text/plain": [
       "array([ 1.01735067, -0.14491191, -0.44321947,  0.34009896,  0.33333023,\n",
       "        0.24489428,  0.17180421,  0.10295069,  0.18098011,  0.1577234 ,\n",
       "       -1.21698416,  0.35863147])"
      ]
     },
     "execution_count": 87,
     "metadata": {},
     "output_type": "execute_result"
    }
   ],
   "source": [
    "model.coef_"
   ]
  },
  {
   "cell_type": "code",
   "execution_count": 88,
   "id": "81689e51-d830-4760-a1a3-9905fbf030bd",
   "metadata": {},
   "outputs": [
    {
     "data": {
      "text/plain": [
       "[array(['Bream', 'Parkki', 'Perch', 'Pike', 'Roach', 'Smelt', 'Whitefish'],\n",
       "       dtype=object)]"
      ]
     },
     "execution_count": 88,
     "metadata": {},
     "output_type": "execute_result"
    }
   ],
   "source": [
    "species_ohe.categories_"
   ]
  },
  {
   "cell_type": "code",
   "execution_count": 89,
   "id": "b189c6c0-ec78-4031-b48f-9950ce03bcad",
   "metadata": {},
   "outputs": [],
   "source": [
    "# get the coefficients inside a nice dataframe\n",
    "feature_names = numeric_cols + list(species_ohe.categories_[0])\n",
    "coefs = pd.DataFrame(data=model.coef_, \n",
    "                     columns=[\"Coefficients\"], \n",
    "                     index=feature_names,)"
   ]
  },
  {
   "cell_type": "code",
   "execution_count": 90,
   "id": "83217c97-cfa9-4b73-a836-0a643dedf6d6",
   "metadata": {},
   "outputs": [
    {
     "data": {
      "image/png": "[encoded data removed]",
      "text/plain": [
       "<Figure size 1000x400 with 1 Axes>"
      ]
     },
     "metadata": {},
     "output_type": "display_data"
    }
   ],
   "source": [
    "coefs.plot.barh(figsize=(10, 4))\n",
    "plt.axvline(x=0, color=\".5\")\n",
    "plt.xlabel(\"Coefficient values\")\n",
    "plt.subplots_adjust(left=0.3)"
   ]
  },
  {
   "cell_type": "markdown",
   "id": "3035398f-2ba7-4a35-8306-99037df70b18",
   "metadata": {},
   "source": [
    "From this plot, we would infer that the most important factor in determining weight of a fish is whether it is a smelt and the next important factor is the vertical length of the fish. \n",
    "\n",
    "Comparing weight based on their magnitude to determine feature importance can be misleading if features vary widely, i.e., their variances/standard deviations are of different scale. However, we already standardize our dataset and eliminate this concern. Thus, it is relatively safe to make the inference above."
   ]
  },
  {
   "cell_type": "markdown",
   "id": "196d35f7-45fe-4607-9476-b3d1d6436845",
   "metadata": {},
   "source": [
    "### VI. Prediction"
   ]
  },
  {
   "cell_type": "code",
   "execution_count": 91,
   "id": "af57a63d-4424-4627-8aa6-1e53ec5108dc",
   "metadata": {},
   "outputs": [
    {
     "data": {
      "text/plain": [
       "((110,), (48,))"
      ]
     },
     "execution_count": 91,
     "metadata": {},
     "output_type": "execute_result"
    }
   ],
   "source": [
    "y_predicted_train = model.predict(processed_X_train)\n",
    "y_predicted_test = model.predict(processed_X_test)\n",
    "\n",
    "y_predicted_train.shape, y_predicted_test.shape"
   ]
  },
  {
   "cell_type": "code",
   "execution_count": 92,
   "id": "0d67c7d5-5708-4fd2-b0d7-cf3200ae3920",
   "metadata": {},
   "outputs": [
    {
     "data": {
      "image/png": "[encoded data removed]",
      "text/plain": [
       "<Figure size 1000x300 with 2 Axes>"
      ]
     },
     "metadata": {},
     "output_type": "display_data"
    }
   ],
   "source": [
    "# let's compare our predicted weights to the observed weights\n",
    "fig, axes = plt.subplots(nrows=1, ncols=2, figsize=(10,3))\n",
    "\n",
    "axes[0].scatter(y_train, y_predicted_train, s=2)\n",
    "axes[0].set_title(\"Train data\")\n",
    "axes[1].scatter(y_test, y_predicted_test, s=2)\n",
    "axes[1].set_title(\"Test data\")\n",
    "\n",
    "for ax in axes:\n",
    "    ax.plot([0, 1], [0, 1], transform=ax.transAxes, ls=\"--\", c=\"red\")\n",
    "    ax.set(xlabel=\"Observed weight\", ylabel=\"Predicted weight\")"
   ]
  },
  {
   "cell_type": "markdown",
   "id": "fc028fdf-8517-4cb7-9c12-6d37729e7d19",
   "metadata": {},
   "source": [
    "### VII. Model evaluation"
   ]
  },
  {
   "cell_type": "markdown",
   "id": "7696bb2f-566c-4b7c-b4f6-b71b7b5b5dc9",
   "metadata": {},
   "source": [
    "We are interested in understanding how well the learned model generalizes. There are several metrics to quantify the quality of a model.\n",
    "\n",
    "A typical measure for regression is the mean squared error\n",
    "$$\n",
    "MSE = \\frac{1}{M} (y_{pred} - y_{obs})^2\n",
    "$$"
   ]
  },
  {
   "cell_type": "code",
   "execution_count": 93,
   "id": "19dd5bd9-3c7f-48d3-b647-1addde303335",
   "metadata": {},
   "outputs": [],
   "source": [
    "from sklearn.metrics import mean_squared_error"
   ]
  },
  {
   "cell_type": "code",
   "execution_count": 100,
   "id": "a159383b-0f25-4da8-88aa-a10ab6534d8f",
   "metadata": {},
   "outputs": [
    {
     "name": "stdout",
     "output_type": "stream",
     "text": [
      "test MSE -  0.08337805881422312\n"
     ]
    }
   ],
   "source": [
    "mse = mean_squared_error(y_test, y_predicted_test)\n",
    "print(\"test MSE - \", mse)"
   ]
  },
  {
   "cell_type": "code",
   "execution_count": 101,
   "id": "84d1fd46-7b88-4edf-9d5c-a1bb283da0ae",
   "metadata": {},
   "outputs": [
    {
     "name": "stdout",
     "output_type": "stream",
     "text": [
      "train MSE -  0.028929778863924466\n"
     ]
    }
   ],
   "source": [
    "mse = mean_squared_error(y_train, y_predicted_train)\n",
    "print(\"train MSE - \", mse)"
   ]
  },
  {
   "cell_type": "markdown",
   "id": "57609927-77a8-41fc-a05f-e461ab67aac3",
   "metadata": {},
   "source": [
    "Another measure is $R^2$ score, which indicates a goodness of fit. More specifically, it represents the proportion of the response's variance that has been explained by the predictors. Best possible score is 1."
   ]
  },
  {
   "cell_type": "code",
   "execution_count": 96,
   "id": "6708e5b3-eccf-4a81-87de-bd8c05dea1e3",
   "metadata": {},
   "outputs": [],
   "source": [
    "from sklearn.metrics import r2_score"
   ]
  },
  {
   "cell_type": "code",
   "execution_count": 103,
   "id": "6155b36a-3c26-4af9-92aa-cc92231dc01c",
   "metadata": {},
   "outputs": [
    {
     "data": {
      "text/plain": [
       "0.9406249150716188"
      ]
     },
     "execution_count": 103,
     "metadata": {},
     "output_type": "execute_result"
    }
   ],
   "source": [
    "r2_score(y_test, y_predicted_test)"
   ]
  },
  {
   "cell_type": "code",
   "execution_count": 105,
   "id": "097af608-535e-4c65-add6-2bb9bd78c2cf",
   "metadata": {},
   "outputs": [
    {
     "data": {
      "text/plain": [
       "0.984169873200063"
      ]
     },
     "execution_count": 105,
     "metadata": {},
     "output_type": "execute_result"
    }
   ],
   "source": [
    "r2_score(y_train, y_predicted_train)"
   ]
  },
  {
   "cell_type": "markdown",
   "id": "e6836e70-2cd8-47f8-befd-4fe4ed401e28",
   "metadata": {},
   "source": [
    "## <span style=\"color:rebeccapurple\">Bias-Variance trade-off</span>\n"
   ]
  },
  {
   "cell_type": "markdown",
   "id": "cd7d33e2-469d-439b-afbc-3802572bd9cb",
   "metadata": {},
   "source": [
    "<div>\n",
    "<center><img src=\"figures/bv.png\" width=\"600\"/>"
   ]
  },
  {
   "cell_type": "markdown",
   "id": "affe19b1-bbb9-4c50-a84a-1135bea1e94f",
   "metadata": {
    "tags": []
   },
   "source": [
    " # <span style=\"color:rebeccapurple\">Unsupervised learning</span>\n",
    "\n",
    "Unsupervised learning learns patterns from unlabeled data.\n",
    "   \n",
    "An important method in unsupervised learning is cluster analysis. The goal of clustering is to group objects based on their similarities and uncover some patterns in the data. \n",
    "\n",
    "Clustering approaches can be classified into two categories:\n",
    "- Hard clustering: a data point either belongs exclusively to a cluster, or doesn’t.\n",
    "- Soft clustering: a probability score is assigned to data points to be in the clusters.\n",
    "\n",
    "There isn't a clear criterion for good clustering. Your data are unlabeled, so there isn't any \"gold standard\" to compare your model performance against. Different clustering models use different metrics to group samples together. The choice of model will depend on your goal and data. \n",
    "\n",
    "Some popular models include:\n",
    "- Connectivity: e.g. hierarchical clustering, which uses distance connectivity among data points\n",
    "- Centroid: e.g. K-means clustering, which represents each cluster with a centroid, or single mean vector\n",
    "- Distribution: e.g. Gaussian mixture model(GMM), which assumes data is composed of Guassian distributions\n",
    "- Density: e.g. Density-Based Spatial Clustering of Applications with Noise (DBSCAN), which connects data points based on a density criteria (minimum number of objects within a radius)\n",
    "- etc.\n",
    "\n",
    "One thing you can consider when choosing models is the size of your dataset. Not all models scale effiiciently to large datasets. K-Means is one of the most popular algorithms and it is scale-efficient (scales linearly with the number of samples).\n",
    "\n",
    "We are going to focus on K-Means clustering for this workshop. "
   ]
  },
  {
   "cell_type": "markdown",
   "id": "a4afa89a-3948-49d4-a8a5-0882362ea5a9",
   "metadata": {},
   "source": [
    "## <span style=\"color:rebeccapurple\">K-means clustering</span>\n",
    "\n",
    "The K-means algorithm divides the given dataset into a predefined $K$ number of clusters using Euclidean distance metric. The center of each cluster is called the centroid.\n",
    "\n",
    "Thus, an important task in the algorithm is to find the $K$ centroids. Note: they may not necessarily be a member of the dataset.\n",
    "\n",
    "The algorithm aims to choose centroids that minimize the inertia, or within-cluster sum-of-squares (WCSS) criterion:\n",
    "$$\n",
    "\\text{WCSS} = \\sum_{i=1}^K \\sum_{x_j \\in C_i} || \\bf{x}_j - \\bf{\\mu}_i|| ^2\n",
    "$$\n",
    "\n",
    "Suppose we want to divide the data below into 2 clusters, i.e. $K=2$.\n",
    "\n",
    "<div>\n",
    "<center><img src=\"figures/kmeans1.png\" width=\"300\"/>"
   ]
  },
  {
   "cell_type": "markdown",
   "id": "4a45cfa8-b4a9-447a-8539-7e2f010b6a66",
   "metadata": {},
   "source": [
    "#### Step 1: Initalize $K$ centroids\n",
    "\n",
    "- Random approach: randomly pick $K$ data points from the dataset to be the initial centroids\n",
    "- K-means++: radomly pick 1 data point to be the first centroid and find the rest based on maximum squared distance. Essentially, you want to keep the centroids as far away from another as possible. \n",
    "\n",
    "<div>\n",
    "<center><img src=\"figures/kmeans2.png\" width=\"300\"/>"
   ]
  },
  {
   "cell_type": "markdown",
   "id": "ea470841-d5fe-41b7-b825-081cf025e1c8",
   "metadata": {},
   "source": [
    "#### Step 2: Assign data points to the nearest cluster\n",
    "\n",
    "Compute the (Euclidean) distance between point $x$ and the centroids and assign it to the nearest centroid.\n",
    "<div>\n",
    "<center><img src=\"figures/kmeans3.png\" width=\"300\"/>"
   ]
  },
  {
   "cell_type": "markdown",
   "id": "449969c2-6c14-4c6a-a3e9-65f1ca5b5b33",
   "metadata": {},
   "source": [
    "#### Step 3: Re-initialize centroids \n",
    "\n",
    "Calculate the average of all data points in a cluster and take this as a new centroid. Do this for all of the clusters. Essentially the new centroid is computed by\n",
    "$$\n",
    "C_i = \\frac{1}{N_i} \\sum x_j\n",
    "$$\n",
    "where $x_j$ are the samples in cluster $i$ and $N_i$ is the number of samples.\n",
    "<div>\n",
    "<center><img src=\"figures/kmeans4.png\" width=\"300\"/>"
   ]
  },
  {
   "cell_type": "markdown",
   "id": "2fd0e92f-081d-4836-bb99-76b11978cf02",
   "metadata": {},
   "source": [
    "Repeat Step 2 and 3.\n",
    "<div>\n",
    "<center><img src=\"figures/kmeans5.png\" width=\"300\"/>"
   ]
  },
  {
   "cell_type": "markdown",
   "id": "f56b183a-dd08-4904-9096-ee48b84256ee",
   "metadata": {},
   "source": [
    "When the assignments of data points to clusters stop changing after some number of iterations or we reach the maximum number of iterations, we can stop the algorithm.\n",
    "<div>\n",
    "<center><img src=\"figures/kmeans6.png\" width=\"300\"/>\n"
   ]
  },
  {
   "cell_type": "markdown",
   "id": "5fed011b-fad3-4275-81b0-49ccaa3a5f8b",
   "metadata": {},
   "source": [
    "Here is a nifty animation to show how KMeans iterations proceed and stabilize over time."
   ]
  },
  {
   "cell_type": "markdown",
   "id": "488d880a-626f-46e0-a0de-3bad50abcfcc",
   "metadata": {},
   "source": [
    "![pcagifurl](https://upload.wikimedia.org/wikipedia/commons/e/ea/K-means_convergence.gif)"
   ]
  },
  {
   "cell_type": "markdown",
   "id": "34dd3f13-abbc-4088-bbb0-63e01a0a5a3c",
   "metadata": {},
   "source": [
    "## <br><span style=\"color:rebeccapurple\">Let's code!</span>\n",
    "\n",
    "Let's look at our penguins data again"
   ]
  },
  {
   "cell_type": "markdown",
   "id": "92704bd4-2c9f-46b3-b09e-e473a0965a6f",
   "metadata": {},
   "source": [
    "### <span style=\"color:teal\"> Data selection"
   ]
  },
  {
   "cell_type": "code",
   "execution_count": 108,
   "id": "77abdb8c-7990-412b-a6b6-1b45025b2fc6",
   "metadata": {},
   "outputs": [],
   "source": [
    "df =pd.read_csv(\"data/penguins.csv\")"
   ]
  },
  {
   "cell_type": "code",
   "execution_count": 109,
   "id": "9736ba87-ec0d-451b-a7c0-73ca9559bfce",
   "metadata": {},
   "outputs": [
    {
     "data": {
      "text/html": [
       "<div>\n",
       "<style scoped>\n",
       "    .dataframe tbody tr th:only-of-type {\n",
       "        vertical-align: middle;\n",
       "    }\n",
       "\n",
       "    .dataframe tbody tr th {\n",
       "        vertical-align: top;\n",
       "    }\n",
       "\n",
       "    .dataframe thead th {\n",
       "        text-align: right;\n",
       "    }\n",
       "</style>\n",
       "<table border=\"1\" class=\"dataframe\">\n",
       "  <thead>\n",
       "    <tr style=\"text-align: right;\">\n",
       "      <th></th>\n",
       "      <th>species</th>\n",
       "      <th>island</th>\n",
       "      <th>bill_length_mm</th>\n",
       "      <th>bill_depth_mm</th>\n",
       "      <th>flipper_length_mm</th>\n",
       "      <th>body_mass_g</th>\n",
       "      <th>sex</th>\n",
       "      <th>year</th>\n",
       "    </tr>\n",
       "  </thead>\n",
       "  <tbody>\n",
       "    <tr>\n",
       "      <th>0</th>\n",
       "      <td>Adelie</td>\n",
       "      <td>Torgersen</td>\n",
       "      <td>39.1</td>\n",
       "      <td>18.7</td>\n",
       "      <td>181.0</td>\n",
       "      <td>3750.0</td>\n",
       "      <td>male</td>\n",
       "      <td>2007</td>\n",
       "    </tr>\n",
       "    <tr>\n",
       "      <th>1</th>\n",
       "      <td>Adelie</td>\n",
       "      <td>Torgersen</td>\n",
       "      <td>39.5</td>\n",
       "      <td>17.4</td>\n",
       "      <td>186.0</td>\n",
       "      <td>3800.0</td>\n",
       "      <td>female</td>\n",
       "      <td>2007</td>\n",
       "    </tr>\n",
       "    <tr>\n",
       "      <th>2</th>\n",
       "      <td>Adelie</td>\n",
       "      <td>Torgersen</td>\n",
       "      <td>40.3</td>\n",
       "      <td>18.0</td>\n",
       "      <td>195.0</td>\n",
       "      <td>3250.0</td>\n",
       "      <td>female</td>\n",
       "      <td>2007</td>\n",
       "    </tr>\n",
       "    <tr>\n",
       "      <th>3</th>\n",
       "      <td>Adelie</td>\n",
       "      <td>Torgersen</td>\n",
       "      <td>36.7</td>\n",
       "      <td>19.3</td>\n",
       "      <td>193.0</td>\n",
       "      <td>3450.0</td>\n",
       "      <td>female</td>\n",
       "      <td>2007</td>\n",
       "    </tr>\n",
       "    <tr>\n",
       "      <th>4</th>\n",
       "      <td>Adelie</td>\n",
       "      <td>Torgersen</td>\n",
       "      <td>39.3</td>\n",
       "      <td>20.6</td>\n",
       "      <td>190.0</td>\n",
       "      <td>3650.0</td>\n",
       "      <td>male</td>\n",
       "      <td>2007</td>\n",
       "    </tr>\n",
       "  </tbody>\n",
       "</table>\n",
       "</div>"
      ],
      "text/plain": [
       "  species     island  bill_length_mm  bill_depth_mm  flipper_length_mm  \\\n",
       "0  Adelie  Torgersen            39.1           18.7              181.0   \n",
       "1  Adelie  Torgersen            39.5           17.4              186.0   \n",
       "2  Adelie  Torgersen            40.3           18.0              195.0   \n",
       "3  Adelie  Torgersen            36.7           19.3              193.0   \n",
       "4  Adelie  Torgersen            39.3           20.6              190.0   \n",
       "\n",
       "   body_mass_g     sex  year  \n",
       "0       3750.0    male  2007  \n",
       "1       3800.0  female  2007  \n",
       "2       3250.0  female  2007  \n",
       "3       3450.0  female  2007  \n",
       "4       3650.0    male  2007  "
      ]
     },
     "execution_count": 109,
     "metadata": {},
     "output_type": "execute_result"
    }
   ],
   "source": [
    "df.head()"
   ]
  },
  {
   "cell_type": "code",
   "execution_count": 110,
   "id": "3cbe2fbf-0fb0-41a1-bd90-57b5389b0798",
   "metadata": {},
   "outputs": [
    {
     "data": {
      "text/html": [
       "<div>\n",
       "<style scoped>\n",
       "    .dataframe tbody tr th:only-of-type {\n",
       "        vertical-align: middle;\n",
       "    }\n",
       "\n",
       "    .dataframe tbody tr th {\n",
       "        vertical-align: top;\n",
       "    }\n",
       "\n",
       "    .dataframe thead th {\n",
       "        text-align: right;\n",
       "    }\n",
       "</style>\n",
       "<table border=\"1\" class=\"dataframe\">\n",
       "  <thead>\n",
       "    <tr style=\"text-align: right;\">\n",
       "      <th></th>\n",
       "      <th>island</th>\n",
       "      <th>bill_length_mm</th>\n",
       "      <th>bill_depth_mm</th>\n",
       "      <th>flipper_length_mm</th>\n",
       "      <th>body_mass_g</th>\n",
       "      <th>sex</th>\n",
       "      <th>year</th>\n",
       "    </tr>\n",
       "    <tr>\n",
       "      <th>species</th>\n",
       "      <th></th>\n",
       "      <th></th>\n",
       "      <th></th>\n",
       "      <th></th>\n",
       "      <th></th>\n",
       "      <th></th>\n",
       "      <th></th>\n",
       "    </tr>\n",
       "  </thead>\n",
       "  <tbody>\n",
       "    <tr>\n",
       "      <th>Adelie</th>\n",
       "      <td>146</td>\n",
       "      <td>146</td>\n",
       "      <td>146</td>\n",
       "      <td>146</td>\n",
       "      <td>146</td>\n",
       "      <td>146</td>\n",
       "      <td>146</td>\n",
       "    </tr>\n",
       "    <tr>\n",
       "      <th>Chinstrap</th>\n",
       "      <td>68</td>\n",
       "      <td>68</td>\n",
       "      <td>68</td>\n",
       "      <td>68</td>\n",
       "      <td>68</td>\n",
       "      <td>68</td>\n",
       "      <td>68</td>\n",
       "    </tr>\n",
       "    <tr>\n",
       "      <th>Gentoo</th>\n",
       "      <td>119</td>\n",
       "      <td>119</td>\n",
       "      <td>119</td>\n",
       "      <td>119</td>\n",
       "      <td>119</td>\n",
       "      <td>119</td>\n",
       "      <td>119</td>\n",
       "    </tr>\n",
       "  </tbody>\n",
       "</table>\n",
       "</div>"
      ],
      "text/plain": [
       "           island  bill_length_mm  bill_depth_mm  flipper_length_mm  \\\n",
       "species                                                               \n",
       "Adelie        146             146            146                146   \n",
       "Chinstrap      68              68             68                 68   \n",
       "Gentoo        119             119            119                119   \n",
       "\n",
       "           body_mass_g  sex  year  \n",
       "species                            \n",
       "Adelie             146  146   146  \n",
       "Chinstrap           68   68    68  \n",
       "Gentoo             119  119   119  "
      ]
     },
     "execution_count": 110,
     "metadata": {},
     "output_type": "execute_result"
    }
   ],
   "source": [
    "df.groupby(\"species\").count()"
   ]
  },
  {
   "cell_type": "code",
   "execution_count": 113,
   "id": "fd400585-0b91-4f4a-aad3-4b5adc821a41",
   "metadata": {},
   "outputs": [
    {
     "data": {
      "text/html": [
       "<div>\n",
       "<style scoped>\n",
       "    .dataframe tbody tr th:only-of-type {\n",
       "        vertical-align: middle;\n",
       "    }\n",
       "\n",
       "    .dataframe tbody tr th {\n",
       "        vertical-align: top;\n",
       "    }\n",
       "\n",
       "    .dataframe thead th {\n",
       "        text-align: right;\n",
       "    }\n",
       "</style>\n",
       "<table border=\"1\" class=\"dataframe\">\n",
       "  <thead>\n",
       "    <tr style=\"text-align: right;\">\n",
       "      <th></th>\n",
       "      <th>species</th>\n",
       "      <th>island</th>\n",
       "      <th>bill_length_mm</th>\n",
       "      <th>bill_depth_mm</th>\n",
       "      <th>flipper_length_mm</th>\n",
       "      <th>body_mass_g</th>\n",
       "      <th>year</th>\n",
       "    </tr>\n",
       "    <tr>\n",
       "      <th>sex</th>\n",
       "      <th></th>\n",
       "      <th></th>\n",
       "      <th></th>\n",
       "      <th></th>\n",
       "      <th></th>\n",
       "      <th></th>\n",
       "      <th></th>\n",
       "    </tr>\n",
       "  </thead>\n",
       "  <tbody>\n",
       "    <tr>\n",
       "      <th>female</th>\n",
       "      <td>165</td>\n",
       "      <td>165</td>\n",
       "      <td>165</td>\n",
       "      <td>165</td>\n",
       "      <td>165</td>\n",
       "      <td>165</td>\n",
       "      <td>165</td>\n",
       "    </tr>\n",
       "    <tr>\n",
       "      <th>male</th>\n",
       "      <td>168</td>\n",
       "      <td>168</td>\n",
       "      <td>168</td>\n",
       "      <td>168</td>\n",
       "      <td>168</td>\n",
       "      <td>168</td>\n",
       "      <td>168</td>\n",
       "    </tr>\n",
       "  </tbody>\n",
       "</table>\n",
       "</div>"
      ],
      "text/plain": [
       "        species  island  bill_length_mm  bill_depth_mm  flipper_length_mm  \\\n",
       "sex                                                                         \n",
       "female      165     165             165            165                165   \n",
       "male        168     168             168            168                168   \n",
       "\n",
       "        body_mass_g  year  \n",
       "sex                        \n",
       "female          165   165  \n",
       "male            168   168  "
      ]
     },
     "execution_count": 113,
     "metadata": {},
     "output_type": "execute_result"
    }
   ],
   "source": [
    "df.groupby(\"sex\").count()"
   ]
  },
  {
   "cell_type": "markdown",
   "id": "b8530f94-4d93-4e09-830b-3a9ce0080d9c",
   "metadata": {},
   "source": [
    "Let's simplify the problem by only taking one sex, and only the numerical columns."
   ]
  },
  {
   "cell_type": "code",
   "execution_count": 114,
   "id": "b5ede2ae-47b7-438d-bc0d-ac54ea1bcfe2",
   "metadata": {},
   "outputs": [
    {
     "data": {
      "text/plain": [
       "Index(['species', 'island', 'bill_length_mm', 'bill_depth_mm',\n",
       "       'flipper_length_mm', 'body_mass_g', 'sex', 'year'],\n",
       "      dtype='object')"
      ]
     },
     "execution_count": 114,
     "metadata": {},
     "output_type": "execute_result"
    }
   ],
   "source": [
    "df.columns"
   ]
  },
  {
   "cell_type": "code",
   "execution_count": 117,
   "id": "d4a8afae-9488-41c6-9040-1b4f89461a40",
   "metadata": {},
   "outputs": [
    {
     "data": {
      "text/html": [
       "<div>\n",
       "<style scoped>\n",
       "    .dataframe tbody tr th:only-of-type {\n",
       "        vertical-align: middle;\n",
       "    }\n",
       "\n",
       "    .dataframe tbody tr th {\n",
       "        vertical-align: top;\n",
       "    }\n",
       "\n",
       "    .dataframe thead th {\n",
       "        text-align: right;\n",
       "    }\n",
       "</style>\n",
       "<table border=\"1\" class=\"dataframe\">\n",
       "  <thead>\n",
       "    <tr style=\"text-align: right;\">\n",
       "      <th></th>\n",
       "      <th>bill_length_mm</th>\n",
       "      <th>bill_depth_mm</th>\n",
       "      <th>flipper_length_mm</th>\n",
       "      <th>body_mass_g</th>\n",
       "      <th>species</th>\n",
       "    </tr>\n",
       "  </thead>\n",
       "  <tbody>\n",
       "    <tr>\n",
       "      <th>0</th>\n",
       "      <td>39.1</td>\n",
       "      <td>18.7</td>\n",
       "      <td>181.0</td>\n",
       "      <td>3750.0</td>\n",
       "      <td>Adelie</td>\n",
       "    </tr>\n",
       "    <tr>\n",
       "      <th>4</th>\n",
       "      <td>39.3</td>\n",
       "      <td>20.6</td>\n",
       "      <td>190.0</td>\n",
       "      <td>3650.0</td>\n",
       "      <td>Adelie</td>\n",
       "    </tr>\n",
       "    <tr>\n",
       "      <th>6</th>\n",
       "      <td>39.2</td>\n",
       "      <td>19.6</td>\n",
       "      <td>195.0</td>\n",
       "      <td>4675.0</td>\n",
       "      <td>Adelie</td>\n",
       "    </tr>\n",
       "    <tr>\n",
       "      <th>8</th>\n",
       "      <td>38.6</td>\n",
       "      <td>21.2</td>\n",
       "      <td>191.0</td>\n",
       "      <td>3800.0</td>\n",
       "      <td>Adelie</td>\n",
       "    </tr>\n",
       "    <tr>\n",
       "      <th>9</th>\n",
       "      <td>34.6</td>\n",
       "      <td>21.1</td>\n",
       "      <td>198.0</td>\n",
       "      <td>4400.0</td>\n",
       "      <td>Adelie</td>\n",
       "    </tr>\n",
       "  </tbody>\n",
       "</table>\n",
       "</div>"
      ],
      "text/plain": [
       "   bill_length_mm  bill_depth_mm  flipper_length_mm  body_mass_g species\n",
       "0            39.1           18.7              181.0       3750.0  Adelie\n",
       "4            39.3           20.6              190.0       3650.0  Adelie\n",
       "6            39.2           19.6              195.0       4675.0  Adelie\n",
       "8            38.6           21.2              191.0       3800.0  Adelie\n",
       "9            34.6           21.1              198.0       4400.0  Adelie"
      ]
     },
     "execution_count": 117,
     "metadata": {},
     "output_type": "execute_result"
    }
   ],
   "source": [
    "data = df.loc[df['sex']==\"male\", ['bill_length_mm', 'bill_depth_mm','flipper_length_mm', 'body_mass_g', 'species']]\n",
    "data.head()"
   ]
  },
  {
   "cell_type": "markdown",
   "id": "49368aeb-6490-4d92-8774-046855ecb4b6",
   "metadata": {},
   "source": [
    "### <span style=\"color:teal\"> Preprocessing\n",
    "\n",
    "Scaling is an important step in K-means clustering. Since the algorithm uses a distance measure to quantify similarities, scaling the data either to will improve the performance. "
   ]
  },
  {
   "cell_type": "code",
   "execution_count": 118,
   "id": "4cd44a78-8ef0-47a2-96ab-8bb0f4f0a77b",
   "metadata": {},
   "outputs": [],
   "source": [
    "data_ = data.drop(columns=[\"species\"]) # drop the species category column"
   ]
  },
  {
   "cell_type": "code",
   "execution_count": 120,
   "id": "5f000927-32a2-4639-a279-89ec06de60c2",
   "metadata": {},
   "outputs": [],
   "source": [
    "from sklearn.preprocessing import StandardScaler\n",
    "\n",
    "scaler = StandardScaler()\n",
    "scaled_data = scaler.fit_transform(data_)"
   ]
  },
  {
   "cell_type": "markdown",
   "id": "a472439f-2958-4253-9ed3-23ade384b3b7",
   "metadata": {},
   "source": [
    "### <span style=\"color:teal\"> Modeling"
   ]
  },
  {
   "cell_type": "markdown",
   "id": "06fa2fab-bd54-4206-a951-38c10113c498",
   "metadata": {},
   "source": [
    "https://scikit-learn.org/stable/modules/generated/sklearn.cluster.KMeans.html#sklearn.cluster.KMeans"
   ]
  },
  {
   "cell_type": "code",
   "execution_count": 123,
   "id": "bf9dd5df-9ae4-456a-a7c9-5dc9d6debec3",
   "metadata": {},
   "outputs": [],
   "source": [
    "from sklearn.cluster import KMeans"
   ]
  },
  {
   "cell_type": "code",
   "execution_count": 126,
   "id": "402cdb82-01b8-4513-a42c-029f9cd99674",
   "metadata": {},
   "outputs": [],
   "source": [
    "model = KMeans(n_clusters=3, n_init = 20).fit(scaled_data)"
   ]
  },
  {
   "cell_type": "markdown",
   "id": "1dffeff7-65a5-402e-9e40-81a98f717fd4",
   "metadata": {},
   "source": [
    "### <span style=\"color:teal\"> Model results"
   ]
  },
  {
   "cell_type": "code",
   "execution_count": 128,
   "id": "6dfd1f2f-ae0d-4c5a-be78-bb21b24f0b93",
   "metadata": {},
   "outputs": [
    {
     "data": {
      "text/plain": [
       "127.93318940056783"
      ]
     },
     "execution_count": 128,
     "metadata": {},
     "output_type": "execute_result"
    }
   ],
   "source": [
    "# Inertia: sum of squared distances of samples to their closest cluster center\n",
    "model.inertia_"
   ]
  },
  {
   "cell_type": "code",
   "execution_count": 129,
   "id": "b6d55e09-6582-4281-8a3d-becc722222a2",
   "metadata": {},
   "outputs": [
    {
     "data": {
      "text/plain": [
       "array([1, 1, 1, 1, 1, 1, 2, 1, 1, 1, 1, 1, 1, 1, 1, 1, 1, 1, 1, 1, 1, 1,\n",
       "       1, 1, 1, 1, 1, 1, 1, 1, 1, 1, 1, 2, 1, 1, 1, 1, 1, 1, 1, 1, 1, 1,\n",
       "       1, 1, 1, 1, 1, 1, 1, 1, 1, 1, 1, 1, 1, 1, 1, 1, 1, 1, 1, 1, 1, 1,\n",
       "       1, 1, 1, 1, 1, 1, 1, 0, 0, 0, 0, 0, 0, 0, 0, 0, 0, 0, 0, 0, 0, 0,\n",
       "       0, 0, 0, 0, 0, 0, 0, 0, 0, 0, 0, 0, 0, 0, 0, 0, 0, 0, 0, 0, 0, 0,\n",
       "       0, 0, 0, 0, 0, 0, 0, 0, 0, 0, 0, 0, 0, 0, 0, 0, 0, 0, 0, 0, 0, 0,\n",
       "       0, 0, 2, 2, 2, 2, 2, 2, 2, 2, 2, 2, 2, 2, 2, 2, 2, 2, 2, 2, 2, 2,\n",
       "       2, 2, 2, 2, 2, 2, 2, 2, 2, 2, 2, 2, 2, 2], dtype=int32)"
      ]
     },
     "execution_count": 129,
     "metadata": {},
     "output_type": "execute_result"
    }
   ],
   "source": [
    "# Label: indicating which cluster a point belong to. There isn't any ordinal meaning to the value of the labels. They are indices of clusters.\n",
    "model.labels_"
   ]
  },
  {
   "cell_type": "code",
   "execution_count": 130,
   "id": "3e7610ce-86e8-4bba-87fc-88aa2b1138db",
   "metadata": {},
   "outputs": [
    {
     "data": {
      "text/plain": [
       "array([[ 0.67633655, -1.16968595,  1.17446414,  1.19594291],\n",
       "       [-1.05020682,  0.61889101, -0.83987709, -0.64422242],\n",
       "       [ 0.92522652,  0.76137726, -0.33363998, -0.75590903]])"
      ]
     },
     "execution_count": 130,
     "metadata": {},
     "output_type": "execute_result"
    }
   ],
   "source": [
    "# Cluster centers/centroids\n",
    "model.cluster_centers_"
   ]
  },
  {
   "cell_type": "code",
   "execution_count": 132,
   "id": "7808d6e1-ba74-479b-a236-330a18c8473a",
   "metadata": {},
   "outputs": [
    {
     "data": {
      "text/plain": [
       "0         Adelie\n",
       "4         Adelie\n",
       "6         Adelie\n",
       "8         Adelie\n",
       "9         Adelie\n",
       "         ...    \n",
       "323    Chinstrap\n",
       "325    Chinstrap\n",
       "328    Chinstrap\n",
       "330    Chinstrap\n",
       "331    Chinstrap\n",
       "Name: species, Length: 168, dtype: object"
      ]
     },
     "execution_count": 132,
     "metadata": {},
     "output_type": "execute_result"
    }
   ],
   "source": [
    "# compare to known labels\n",
    "data.species"
   ]
  },
  {
   "cell_type": "code",
   "execution_count": 154,
   "id": "8dee8016-f3c4-4d8d-b1f8-a14f421ac692",
   "metadata": {},
   "outputs": [
    {
     "data": {
      "text/plain": [
       "array([1, 1, 1, 1, 1, 1, 2, 1, 1, 1, 1, 1, 1, 1, 1, 1, 1, 1, 1, 1, 1, 1,\n",
       "       1, 1, 1, 1, 1, 1, 1, 1, 1, 1, 1, 2, 1, 1, 1, 1, 1, 1, 1, 1, 1, 1,\n",
       "       1, 1, 1, 1, 1, 1, 1, 1, 1, 1, 1, 1, 1, 1, 1, 1, 1, 1, 1, 1, 1, 1,\n",
       "       1, 1, 1, 1, 1, 1, 1, 0, 0, 0, 0, 0, 0, 0, 0, 0, 0, 0, 0, 0, 0, 0,\n",
       "       0, 0, 0, 0, 0, 0, 0, 0, 0, 0, 0, 0, 0, 0, 0, 0, 0, 0, 0, 0, 0, 0,\n",
       "       0, 0, 0, 0, 0, 0, 0, 0, 0, 0, 0, 0, 0, 0, 0, 0, 0, 0, 0, 0, 0, 0,\n",
       "       0, 0, 2, 2, 2, 2, 2, 2, 2, 2, 2, 2, 2, 2, 2, 2, 2, 2, 2, 2, 2, 2,\n",
       "       2, 2, 2, 2, 2, 2, 2, 2, 2, 2, 2, 2, 2, 2], dtype=int32)"
      ]
     },
     "execution_count": 154,
     "metadata": {},
     "output_type": "execute_result"
    }
   ],
   "source": [
    "model.labels_"
   ]
  },
  {
   "cell_type": "code",
   "execution_count": 155,
   "id": "d887d606-8aaa-4803-8731-375197e09533",
   "metadata": {},
   "outputs": [],
   "source": [
    "data[\"labels\"]  = list(model.labels_)\n",
    "data[\"labels\"] = data[\"labels\"].map({1:\"Adelie\", 0:\"Gentoo\", 2:\"Chinstrap\"})"
   ]
  },
  {
   "cell_type": "code",
   "execution_count": 157,
   "id": "6106fc90-cc5a-42de-b6f5-22b202d54058",
   "metadata": {},
   "outputs": [
    {
     "data": {
      "text/html": [
       "<div>\n",
       "<style scoped>\n",
       "    .dataframe tbody tr th:only-of-type {\n",
       "        vertical-align: middle;\n",
       "    }\n",
       "\n",
       "    .dataframe tbody tr th {\n",
       "        vertical-align: top;\n",
       "    }\n",
       "\n",
       "    .dataframe thead th {\n",
       "        text-align: right;\n",
       "    }\n",
       "</style>\n",
       "<table border=\"1\" class=\"dataframe\">\n",
       "  <thead>\n",
       "    <tr style=\"text-align: right;\">\n",
       "      <th></th>\n",
       "      <th>bill_length_mm</th>\n",
       "      <th>bill_depth_mm</th>\n",
       "      <th>flipper_length_mm</th>\n",
       "      <th>body_mass_g</th>\n",
       "      <th>species</th>\n",
       "      <th>labels</th>\n",
       "    </tr>\n",
       "  </thead>\n",
       "  <tbody>\n",
       "    <tr>\n",
       "      <th>323</th>\n",
       "      <td>50.2</td>\n",
       "      <td>18.8</td>\n",
       "      <td>202.0</td>\n",
       "      <td>3800.0</td>\n",
       "      <td>Chinstrap</td>\n",
       "      <td>Chinstrap</td>\n",
       "    </tr>\n",
       "    <tr>\n",
       "      <th>325</th>\n",
       "      <td>51.9</td>\n",
       "      <td>19.5</td>\n",
       "      <td>206.0</td>\n",
       "      <td>3950.0</td>\n",
       "      <td>Chinstrap</td>\n",
       "      <td>Chinstrap</td>\n",
       "    </tr>\n",
       "    <tr>\n",
       "      <th>328</th>\n",
       "      <td>55.8</td>\n",
       "      <td>19.8</td>\n",
       "      <td>207.0</td>\n",
       "      <td>4000.0</td>\n",
       "      <td>Chinstrap</td>\n",
       "      <td>Chinstrap</td>\n",
       "    </tr>\n",
       "    <tr>\n",
       "      <th>330</th>\n",
       "      <td>49.6</td>\n",
       "      <td>18.2</td>\n",
       "      <td>193.0</td>\n",
       "      <td>3775.0</td>\n",
       "      <td>Chinstrap</td>\n",
       "      <td>Chinstrap</td>\n",
       "    </tr>\n",
       "    <tr>\n",
       "      <th>331</th>\n",
       "      <td>50.8</td>\n",
       "      <td>19.0</td>\n",
       "      <td>210.0</td>\n",
       "      <td>4100.0</td>\n",
       "      <td>Chinstrap</td>\n",
       "      <td>Chinstrap</td>\n",
       "    </tr>\n",
       "  </tbody>\n",
       "</table>\n",
       "</div>"
      ],
      "text/plain": [
       "     bill_length_mm  bill_depth_mm  flipper_length_mm  body_mass_g    species  \\\n",
       "323            50.2           18.8              202.0       3800.0  Chinstrap   \n",
       "325            51.9           19.5              206.0       3950.0  Chinstrap   \n",
       "328            55.8           19.8              207.0       4000.0  Chinstrap   \n",
       "330            49.6           18.2              193.0       3775.0  Chinstrap   \n",
       "331            50.8           19.0              210.0       4100.0  Chinstrap   \n",
       "\n",
       "        labels  \n",
       "323  Chinstrap  \n",
       "325  Chinstrap  \n",
       "328  Chinstrap  \n",
       "330  Chinstrap  \n",
       "331  Chinstrap  "
      ]
     },
     "execution_count": 157,
     "metadata": {},
     "output_type": "execute_result"
    }
   ],
   "source": [
    "data.tail()"
   ]
  },
  {
   "cell_type": "markdown",
   "id": "fc4690c2-fba4-459e-9e28-f34defc6631e",
   "metadata": {},
   "source": [
    "### <span style=\"color:teal\"> Model performance"
   ]
  },
  {
   "cell_type": "code",
   "execution_count": 143,
   "id": "3d6cc038-92f7-419d-a253-537b4b9b691b",
   "metadata": {},
   "outputs": [],
   "source": [
    "from sklearn.metrics import confusion_matrix, ConfusionMatrixDisplay"
   ]
  },
  {
   "cell_type": "code",
   "execution_count": 160,
   "id": "76b34b83-47d2-4752-a7e6-d4bd2944d846",
   "metadata": {},
   "outputs": [],
   "source": [
    "cm = confusion_matrix(data.species.values, data[\"labels\"].values)"
   ]
  },
  {
   "cell_type": "code",
   "execution_count": 164,
   "id": "8b8f6443-1248-4dc2-8dad-d31bfef794dd",
   "metadata": {},
   "outputs": [
    {
     "data": {
      "image/png": "[encoded data removed]",
      "text/plain": [
       "<Figure size 640x480 with 2 Axes>"
      ]
     },
     "metadata": {},
     "output_type": "display_data"
    }
   ],
   "source": [
    "disp = ConfusionMatrixDisplay(confusion_matrix=cm, display_labels=[\"Gentoo\", \"Adelie\", \"Chinstrap\"])\n",
    "disp.plot()\n",
    "plt.show()"
   ]
  },
  {
   "cell_type": "code",
   "execution_count": 165,
   "id": "bac53461-3e8b-492c-8d62-7b31ff7a53af",
   "metadata": {},
   "outputs": [],
   "source": [
    "from sklearn.metrics import accuracy_score"
   ]
  },
  {
   "cell_type": "code",
   "execution_count": 166,
   "id": "9d3b31a8-d06e-4a03-ab95-f9f0947b8ffb",
   "metadata": {},
   "outputs": [
    {
     "data": {
      "text/plain": [
       "0.9880952380952381"
      ]
     },
     "execution_count": 166,
     "metadata": {},
     "output_type": "execute_result"
    }
   ],
   "source": [
    "accuracy_score(data.species.values, data[\"labels\"].values)"
   ]
  },
  {
   "cell_type": "code",
   "execution_count": null,
   "id": "3d75b62f-6b4e-4b1a-93bb-0cf689244b72",
   "metadata": {},
   "outputs": [],
   "source": []
  }
 ],
 "metadata": {
  "kernelspec": {
   "display_name": "Python 3 (ipykernel)",
   "language": "python",
   "name": "python3"
  },
  "language_info": {
   "codemirror_mode": {
    "name": "ipython",
    "version": 3
   },
   "file_extension": ".py",
   "mimetype": "text/x-python",
   "name": "python",
   "nbconvert_exporter": "python",
   "pygments_lexer": "ipython3",
   "version": "3.10.9"
  }
 },
 "nbformat": 4,
 "nbformat_minor": 5
}
