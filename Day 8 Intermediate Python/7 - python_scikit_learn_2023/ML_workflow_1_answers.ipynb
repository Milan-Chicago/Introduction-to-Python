{
 "cells": [
  {
   "cell_type": "markdown",
   "id": "84249947-3dab-4550-862a-555f5d5dfaf9",
   "metadata": {},
   "source": [
    "# <span style=\"color:rebeccapurple\">Python Machine Learning with scikit-learn</span>"
   ]
  },
  {
   "cell_type": "markdown",
   "id": "f70c2364-f1e3-49d9-b91b-d394a822dbda",
   "metadata": {},
   "source": [
    "## <span style=\"color:rebeccapurple\">Notebook 1: Building a simple model</span>"
   ]
  },
  {
   "cell_type": "markdown",
   "id": "937cf059-2f81-41df-8d31-26c1b9a3fcc2",
   "metadata": {
    "tags": []
   },
   "source": [
    "## <br><span style=\"color:rebeccapurple\">ML workflow steps:</span>\n",
    "\n",
    "1. State the problem\n",
    "2. Gather the data\n",
    "3. Split train-test sets\n",
    "4. Pre-process the data\n",
    "5. Establish a baseline\n",
    "6. Choose a model\n",
    "7. Train the model\n",
    "8. Optimize the model\n",
    "9. Validate the model\n",
    "10. Predict unknown data points using the model\n",
    "11. Interpret and evaluate the model"
   ]
  },
  {
   "cell_type": "code",
   "execution_count": 1,
   "id": "1ff5d5e9-e908-4320-af9d-24700814379c",
   "metadata": {},
   "outputs": [],
   "source": [
    "# Import required packages\n",
    "import pandas as pd\n",
    "import numpy as np\n",
    "import matplotlib\n",
    "import matplotlib.pyplot as plt\n",
    "import seaborn as sns\n",
    "\n",
    "import sklearn"
   ]
  },
  {
   "cell_type": "code",
   "execution_count": 2,
   "id": "4875d4d7-b9e6-4d21-bf5a-53bd8b7985b1",
   "metadata": {},
   "outputs": [],
   "source": [
    "# setting some figure display paramaters\n",
    "sns.set_context('notebook')\n",
    "sns.set_style('white', {'axes.linewidth': 0.5})\n",
    "matplotlib.rcParams.update(matplotlib.rcParamsDefault)\n",
    "\n",
    "plt.rcParams['figure.dpi'] = 150\n",
    "plt.rcParams['xtick.major.size'] = 3\n",
    "plt.rcParams['xtick.major.width'] = 1\n",
    "plt.rcParams['xtick.bottom'] = True\n",
    "plt.rcParams['ytick.left'] = True\n",
    "plt.rcParams['font.family'] = 'sans-serif'\n",
    "plt.rcParams['font.sans-serif'] = 'Arial'\n",
    "plt.rcParams['pdf.fonttype'] = 42\n",
    "plt.rcParams['legend.edgecolor'] = 'w'"
   ]
  },
  {
   "cell_type": "markdown",
   "id": "7aa79973-58ed-4853-9f0e-bebc96fca684",
   "metadata": {
    "tags": []
   },
   "source": [
    "## <span style=\"color:rebeccapurple\">1. State the problem</span></h1>\n",
    "\n",
    "**Task:** Predict the body mass of penguins.\n",
    "\n",
    "**Input:** Table of penguins features.\n",
    "\n",
    "**Output:** A value for body mass in grams."
   ]
  },
  {
   "cell_type": "markdown",
   "id": "dfe0d1cb-8dac-4100-b320-4780c05a058c",
   "metadata": {
    "tags": []
   },
   "source": [
    "## <span style=\"color:rebeccapurple\">2. Gather and inspect the data</span></h1>\n",
    "\n",
    "**Data:** Size measurements for 344 adult foraging Adélie, Chinstrap, and Gentoo penguins observed on islands in the Palmer Archipelago near Palmer Station, Antarctica."
   ]
  },
  {
   "cell_type": "code",
   "execution_count": 77,
   "id": "7adeb1f1-5915-4858-9660-09cf62422eb0",
   "metadata": {},
   "outputs": [],
   "source": [
    "# Let's look at the data\n",
    "df = pd.read_csv('data/penguins.csv')"
   ]
  },
  {
   "cell_type": "code",
   "execution_count": 78,
   "id": "b3b5461b-d645-432c-a951-657bc8b9f3ef",
   "metadata": {},
   "outputs": [
    {
     "data": {
      "text/html": [
       "<div>\n",
       "<style scoped>\n",
       "    .dataframe tbody tr th:only-of-type {\n",
       "        vertical-align: middle;\n",
       "    }\n",
       "\n",
       "    .dataframe tbody tr th {\n",
       "        vertical-align: top;\n",
       "    }\n",
       "\n",
       "    .dataframe thead th {\n",
       "        text-align: right;\n",
       "    }\n",
       "</style>\n",
       "<table border=\"1\" class=\"dataframe\">\n",
       "  <thead>\n",
       "    <tr style=\"text-align: right;\">\n",
       "      <th></th>\n",
       "      <th>species</th>\n",
       "      <th>island</th>\n",
       "      <th>bill_length_mm</th>\n",
       "      <th>bill_depth_mm</th>\n",
       "      <th>flipper_length_mm</th>\n",
       "      <th>body_mass_g</th>\n",
       "      <th>sex</th>\n",
       "      <th>year</th>\n",
       "    </tr>\n",
       "  </thead>\n",
       "  <tbody>\n",
       "    <tr>\n",
       "      <th>0</th>\n",
       "      <td>Adelie</td>\n",
       "      <td>Torgersen</td>\n",
       "      <td>39.1</td>\n",
       "      <td>18.7</td>\n",
       "      <td>181.0</td>\n",
       "      <td>3750.0</td>\n",
       "      <td>male</td>\n",
       "      <td>2007</td>\n",
       "    </tr>\n",
       "    <tr>\n",
       "      <th>1</th>\n",
       "      <td>Adelie</td>\n",
       "      <td>Torgersen</td>\n",
       "      <td>39.5</td>\n",
       "      <td>17.4</td>\n",
       "      <td>186.0</td>\n",
       "      <td>3800.0</td>\n",
       "      <td>female</td>\n",
       "      <td>2007</td>\n",
       "    </tr>\n",
       "    <tr>\n",
       "      <th>2</th>\n",
       "      <td>Adelie</td>\n",
       "      <td>Torgersen</td>\n",
       "      <td>40.3</td>\n",
       "      <td>18.0</td>\n",
       "      <td>195.0</td>\n",
       "      <td>3250.0</td>\n",
       "      <td>female</td>\n",
       "      <td>2007</td>\n",
       "    </tr>\n",
       "    <tr>\n",
       "      <th>3</th>\n",
       "      <td>Adelie</td>\n",
       "      <td>Torgersen</td>\n",
       "      <td>36.7</td>\n",
       "      <td>19.3</td>\n",
       "      <td>193.0</td>\n",
       "      <td>3450.0</td>\n",
       "      <td>female</td>\n",
       "      <td>2007</td>\n",
       "    </tr>\n",
       "    <tr>\n",
       "      <th>4</th>\n",
       "      <td>Adelie</td>\n",
       "      <td>Torgersen</td>\n",
       "      <td>39.3</td>\n",
       "      <td>20.6</td>\n",
       "      <td>190.0</td>\n",
       "      <td>3650.0</td>\n",
       "      <td>male</td>\n",
       "      <td>2007</td>\n",
       "    </tr>\n",
       "  </tbody>\n",
       "</table>\n",
       "</div>"
      ],
      "text/plain": [
       "  species     island  bill_length_mm  bill_depth_mm  flipper_length_mm  \\\n",
       "0  Adelie  Torgersen            39.1           18.7              181.0   \n",
       "1  Adelie  Torgersen            39.5           17.4              186.0   \n",
       "2  Adelie  Torgersen            40.3           18.0              195.0   \n",
       "3  Adelie  Torgersen            36.7           19.3              193.0   \n",
       "4  Adelie  Torgersen            39.3           20.6              190.0   \n",
       "\n",
       "   body_mass_g     sex  year  \n",
       "0       3750.0    male  2007  \n",
       "1       3800.0  female  2007  \n",
       "2       3250.0  female  2007  \n",
       "3       3450.0  female  2007  \n",
       "4       3650.0    male  2007  "
      ]
     },
     "execution_count": 78,
     "metadata": {},
     "output_type": "execute_result"
    }
   ],
   "source": [
    "df.head()"
   ]
  },
  {
   "cell_type": "code",
   "execution_count": 79,
   "id": "b5d23977-cdee-4cef-b523-e680c41c1ae4",
   "metadata": {},
   "outputs": [
    {
     "data": {
      "text/plain": [
       "(333, 8)"
      ]
     },
     "execution_count": 79,
     "metadata": {},
     "output_type": "execute_result"
    }
   ],
   "source": [
    "df.shape"
   ]
  },
  {
   "cell_type": "code",
   "execution_count": 80,
   "id": "d46508f8-4063-4438-8484-e5d436ed73be",
   "metadata": {},
   "outputs": [
    {
     "data": {
      "text/html": [
       "<div>\n",
       "<style scoped>\n",
       "    .dataframe tbody tr th:only-of-type {\n",
       "        vertical-align: middle;\n",
       "    }\n",
       "\n",
       "    .dataframe tbody tr th {\n",
       "        vertical-align: top;\n",
       "    }\n",
       "\n",
       "    .dataframe thead th {\n",
       "        text-align: right;\n",
       "    }\n",
       "</style>\n",
       "<table border=\"1\" class=\"dataframe\">\n",
       "  <thead>\n",
       "    <tr style=\"text-align: right;\">\n",
       "      <th></th>\n",
       "      <th>bill_length_mm</th>\n",
       "      <th>bill_depth_mm</th>\n",
       "      <th>flipper_length_mm</th>\n",
       "      <th>body_mass_g</th>\n",
       "      <th>year</th>\n",
       "    </tr>\n",
       "  </thead>\n",
       "  <tbody>\n",
       "    <tr>\n",
       "      <th>count</th>\n",
       "      <td>333.000000</td>\n",
       "      <td>333.000000</td>\n",
       "      <td>333.000000</td>\n",
       "      <td>333.000000</td>\n",
       "      <td>333.000000</td>\n",
       "    </tr>\n",
       "    <tr>\n",
       "      <th>mean</th>\n",
       "      <td>43.992793</td>\n",
       "      <td>17.164865</td>\n",
       "      <td>200.966967</td>\n",
       "      <td>4207.057057</td>\n",
       "      <td>2008.042042</td>\n",
       "    </tr>\n",
       "    <tr>\n",
       "      <th>std</th>\n",
       "      <td>5.468668</td>\n",
       "      <td>1.969235</td>\n",
       "      <td>14.015765</td>\n",
       "      <td>805.215802</td>\n",
       "      <td>0.812944</td>\n",
       "    </tr>\n",
       "    <tr>\n",
       "      <th>min</th>\n",
       "      <td>32.100000</td>\n",
       "      <td>13.100000</td>\n",
       "      <td>172.000000</td>\n",
       "      <td>2700.000000</td>\n",
       "      <td>2007.000000</td>\n",
       "    </tr>\n",
       "    <tr>\n",
       "      <th>25%</th>\n",
       "      <td>39.500000</td>\n",
       "      <td>15.600000</td>\n",
       "      <td>190.000000</td>\n",
       "      <td>3550.000000</td>\n",
       "      <td>2007.000000</td>\n",
       "    </tr>\n",
       "    <tr>\n",
       "      <th>50%</th>\n",
       "      <td>44.500000</td>\n",
       "      <td>17.300000</td>\n",
       "      <td>197.000000</td>\n",
       "      <td>4050.000000</td>\n",
       "      <td>2008.000000</td>\n",
       "    </tr>\n",
       "    <tr>\n",
       "      <th>75%</th>\n",
       "      <td>48.600000</td>\n",
       "      <td>18.700000</td>\n",
       "      <td>213.000000</td>\n",
       "      <td>4775.000000</td>\n",
       "      <td>2009.000000</td>\n",
       "    </tr>\n",
       "    <tr>\n",
       "      <th>max</th>\n",
       "      <td>59.600000</td>\n",
       "      <td>21.500000</td>\n",
       "      <td>231.000000</td>\n",
       "      <td>6300.000000</td>\n",
       "      <td>2009.000000</td>\n",
       "    </tr>\n",
       "  </tbody>\n",
       "</table>\n",
       "</div>"
      ],
      "text/plain": [
       "       bill_length_mm  bill_depth_mm  flipper_length_mm  body_mass_g  \\\n",
       "count      333.000000     333.000000         333.000000   333.000000   \n",
       "mean        43.992793      17.164865         200.966967  4207.057057   \n",
       "std          5.468668       1.969235          14.015765   805.215802   \n",
       "min         32.100000      13.100000         172.000000  2700.000000   \n",
       "25%         39.500000      15.600000         190.000000  3550.000000   \n",
       "50%         44.500000      17.300000         197.000000  4050.000000   \n",
       "75%         48.600000      18.700000         213.000000  4775.000000   \n",
       "max         59.600000      21.500000         231.000000  6300.000000   \n",
       "\n",
       "              year  \n",
       "count   333.000000  \n",
       "mean   2008.042042  \n",
       "std       0.812944  \n",
       "min    2007.000000  \n",
       "25%    2007.000000  \n",
       "50%    2008.000000  \n",
       "75%    2009.000000  \n",
       "max    2009.000000  "
      ]
     },
     "execution_count": 80,
     "metadata": {},
     "output_type": "execute_result"
    }
   ],
   "source": [
    "df.describe()"
   ]
  },
  {
   "cell_type": "code",
   "execution_count": 81,
   "id": "ab4914cd-0ae4-43a6-bac4-e2d6b87bb8e4",
   "metadata": {},
   "outputs": [
    {
     "name": "stderr",
     "output_type": "stream",
     "text": [
      "/var/folders/j2/63xz860d3_90w9q1rg4066gw0000gp/T/ipykernel_32682/232295409.py:1: FutureWarning: The default value of numeric_only in DataFrameGroupBy.mean is deprecated. In a future version, numeric_only will default to False. Either specify numeric_only or select only columns which should be valid for the function.\n",
      "  df.groupby(\"sex\").mean()\n"
     ]
    },
    {
     "data": {
      "text/html": [
       "<div>\n",
       "<style scoped>\n",
       "    .dataframe tbody tr th:only-of-type {\n",
       "        vertical-align: middle;\n",
       "    }\n",
       "\n",
       "    .dataframe tbody tr th {\n",
       "        vertical-align: top;\n",
       "    }\n",
       "\n",
       "    .dataframe thead th {\n",
       "        text-align: right;\n",
       "    }\n",
       "</style>\n",
       "<table border=\"1\" class=\"dataframe\">\n",
       "  <thead>\n",
       "    <tr style=\"text-align: right;\">\n",
       "      <th></th>\n",
       "      <th>bill_length_mm</th>\n",
       "      <th>bill_depth_mm</th>\n",
       "      <th>flipper_length_mm</th>\n",
       "      <th>body_mass_g</th>\n",
       "      <th>year</th>\n",
       "    </tr>\n",
       "    <tr>\n",
       "      <th>sex</th>\n",
       "      <th></th>\n",
       "      <th></th>\n",
       "      <th></th>\n",
       "      <th></th>\n",
       "      <th></th>\n",
       "    </tr>\n",
       "  </thead>\n",
       "  <tbody>\n",
       "    <tr>\n",
       "      <th>female</th>\n",
       "      <td>42.096970</td>\n",
       "      <td>16.425455</td>\n",
       "      <td>197.363636</td>\n",
       "      <td>3862.272727</td>\n",
       "      <td>2008.042424</td>\n",
       "    </tr>\n",
       "    <tr>\n",
       "      <th>male</th>\n",
       "      <td>45.854762</td>\n",
       "      <td>17.891071</td>\n",
       "      <td>204.505952</td>\n",
       "      <td>4545.684524</td>\n",
       "      <td>2008.041667</td>\n",
       "    </tr>\n",
       "  </tbody>\n",
       "</table>\n",
       "</div>"
      ],
      "text/plain": [
       "        bill_length_mm  bill_depth_mm  flipper_length_mm  body_mass_g  \\\n",
       "sex                                                                     \n",
       "female       42.096970      16.425455         197.363636  3862.272727   \n",
       "male         45.854762      17.891071         204.505952  4545.684524   \n",
       "\n",
       "               year  \n",
       "sex                  \n",
       "female  2008.042424  \n",
       "male    2008.041667  "
      ]
     },
     "execution_count": 81,
     "metadata": {},
     "output_type": "execute_result"
    }
   ],
   "source": [
    "df.groupby(\"sex\").mean()"
   ]
  },
  {
   "cell_type": "code",
   "execution_count": 82,
   "id": "e3fb7963-aec6-4fcb-a989-47a0fbe0203b",
   "metadata": {},
   "outputs": [
    {
     "data": {
      "image/png": "[encoded data removed]",
      "text/plain": [
       "<Figure size 600x300 with 1 Axes>"
      ]
     },
     "metadata": {},
     "output_type": "display_data"
    }
   ],
   "source": [
    "# Let's see what distribution of the output variable looks like\n",
    "plt.figure(figsize=(4, 2))\n",
    "sns.histplot(df['body_mass_g'], bins=20)\n",
    "plt.title('Target distribution')\n",
    "plt.show()"
   ]
  },
  {
   "cell_type": "markdown",
   "id": "bc0f3379-801c-4466-bf06-ce430c181f40",
   "metadata": {},
   "source": [
    "<span style=\"color:#DC537D\"><font size=\"+1\">What is the input data for prediction?</font></span>"
   ]
  },
  {
   "cell_type": "code",
   "execution_count": 83,
   "id": "9880dcde-04fa-40e6-8b22-a6de9f59be76",
   "metadata": {},
   "outputs": [
    {
     "data": {
      "text/plain": [
       "(333, 7)"
      ]
     },
     "execution_count": 83,
     "metadata": {},
     "output_type": "execute_result"
    }
   ],
   "source": [
    "# select the input data\n",
    "X = df.drop(columns=\"body_mass_g\")\n",
    "X.shape"
   ]
  },
  {
   "cell_type": "markdown",
   "id": "f3b4f7ec-2368-4b85-aa29-ce0fe53df35b",
   "metadata": {},
   "source": [
    "<span style=\"color:#DC537D\"><font size=\"+1\">What is the target to be predicted?</font></span>"
   ]
  },
  {
   "cell_type": "code",
   "execution_count": 84,
   "id": "1e2475a3-fc62-4309-a410-c54201343299",
   "metadata": {},
   "outputs": [
    {
     "data": {
      "text/plain": [
       "(333,)"
      ]
     },
     "execution_count": 84,
     "metadata": {},
     "output_type": "execute_result"
    }
   ],
   "source": [
    "# select the target labels\n",
    "y = df.body_mass_g\n",
    "y.shape"
   ]
  },
  {
   "cell_type": "markdown",
   "id": "a323072b-6ccd-4cbf-94e4-7dd3233afbaa",
   "metadata": {
    "tags": []
   },
   "source": [
    "## <span style=\"color:rebeccapurple\">3. Split the data into train and test</span></h1>\n",
    "Ideally you want to separate the train and test sets very early on. I prefer to split them before pre-processing."
   ]
  },
  {
   "cell_type": "markdown",
   "id": "bea1d080-a3ae-4c67-81e9-75a2846963de",
   "metadata": {},
   "source": [
    "<span style=\"color:#DC537D\"><font size=\"+1\">Write code to split the dataset 80-20 train vs test</font></span>"
   ]
  },
  {
   "cell_type": "code",
   "execution_count": 85,
   "id": "1f308bb4-003a-4da5-8e1f-8fa3980af12a",
   "metadata": {},
   "outputs": [],
   "source": [
    "# import the required function\n",
    "from sklearn.model_selection import train_test_split"
   ]
  },
  {
   "cell_type": "code",
   "execution_count": 86,
   "id": "c35760c2-28f8-4816-b1f0-dc740da705cf",
   "metadata": {},
   "outputs": [],
   "source": [
    "# split the dataset\n",
    "X_train, X_test, y_train, y_test = train_test_split(X, y, test_size=0.2)"
   ]
  },
  {
   "cell_type": "code",
   "execution_count": 87,
   "id": "79bc47cf-cc33-41d9-83a2-23fe6ee6d1cd",
   "metadata": {},
   "outputs": [
    {
     "data": {
      "text/plain": [
       "((266, 7), (67, 7), (266,), (67,))"
      ]
     },
     "execution_count": 87,
     "metadata": {},
     "output_type": "execute_result"
    }
   ],
   "source": [
    "# look at the dimensions of the split data\n",
    "X_train.shape, X_test.shape, y_train.shape, y_test.shape"
   ]
  },
  {
   "cell_type": "markdown",
   "id": "ca957a70-c639-4ce2-8597-9a7793ffe92a",
   "metadata": {},
   "source": [
    "## <span style=\"color:rebeccapurple\">4. Pre-process the training data</span>"
   ]
  },
  {
   "cell_type": "markdown",
   "id": "aa612bd1-858c-40bc-a4f2-b71056831a41",
   "metadata": {},
   "source": [
    "<span style=\"color:#DC537D\"><font size=\"+1\">What kind of pre-processing does our dataset need?</font></span>"
   ]
  },
  {
   "cell_type": "code",
   "execution_count": 88,
   "id": "afeaccd8-74ec-4ec8-bc1b-a855d52ae59c",
   "metadata": {},
   "outputs": [
    {
     "data": {
      "text/plain": [
       "Index(['species', 'island', 'bill_length_mm', 'bill_depth_mm',\n",
       "       'flipper_length_mm', 'body_mass_g', 'sex', 'year'],\n",
       "      dtype='object')"
      ]
     },
     "execution_count": 88,
     "metadata": {},
     "output_type": "execute_result"
    }
   ],
   "source": [
    "df.columns"
   ]
  },
  {
   "cell_type": "code",
   "execution_count": 105,
   "id": "5a526783-eabf-42af-a5ba-08bda5297eac",
   "metadata": {},
   "outputs": [],
   "source": [
    "# list the numerical features\n",
    "numeric_cols = ['bill_length_mm', 'bill_depth_mm', 'flipper_length_mm']"
   ]
  },
  {
   "cell_type": "code",
   "execution_count": 106,
   "id": "1bf9c25d-0894-48cc-a931-1f29e341b283",
   "metadata": {},
   "outputs": [],
   "source": [
    "# list the categorical features\n",
    "categorical_cols = ['species', 'island', 'sex', 'year']"
   ]
  },
  {
   "cell_type": "code",
   "execution_count": 107,
   "id": "834adbf7-9cfd-4276-b02c-502455034da5",
   "metadata": {},
   "outputs": [
    {
     "data": {
      "text/plain": [
       "((266, 3), (67, 3))"
      ]
     },
     "execution_count": 107,
     "metadata": {},
     "output_type": "execute_result"
    }
   ],
   "source": [
    "# ---------------- standardize numerical columns ---------------\n",
    "# import scaler\n",
    "from sklearn.preprocessing import StandardScaler\n",
    "scaler = StandardScaler()\n",
    "\n",
    "# fit\n",
    "scaler.fit(X_train[numeric_cols])\n",
    "\n",
    "# transform both train and test\n",
    "numeric_X_train = scaler.transform(X_train[numeric_cols])\n",
    "numeric_X_test  = scaler.transform(X_test[numeric_cols])\n",
    "\n",
    "numeric_X_train.shape, numeric_X_test.shape"
   ]
  },
  {
   "cell_type": "code",
   "execution_count": 108,
   "id": "09f508a4-00fd-4419-9dbb-e3b6f5c7421c",
   "metadata": {},
   "outputs": [
    {
     "data": {
      "text/plain": [
       "((266, 11), (67, 11))"
      ]
     },
     "execution_count": 108,
     "metadata": {},
     "output_type": "execute_result"
    }
   ],
   "source": [
    "# ---------------- encode categorical columns ---------------\n",
    "# import encoder\n",
    "from sklearn.preprocessing import OneHotEncoder\n",
    "ohe = OneHotEncoder()\n",
    "\n",
    "# fit\n",
    "ohe.fit(X_train[categorical_cols])\n",
    "\n",
    "# transform both train and test\n",
    "ohe_X_train = ohe.transform(X_train[categorical_cols]) # transform train set\n",
    "ohe_X_test = ohe.transform(X_test[categorical_cols])   # transform test set\n",
    "\n",
    "ohe_X_train = ohe_X_train.toarray()\n",
    "ohe_X_test = ohe_X_test.toarray()\n",
    "\n",
    "ohe_X_train.shape, ohe_X_test.shape"
   ]
  },
  {
   "cell_type": "code",
   "execution_count": 109,
   "id": "bcfc1577-05f3-4c3e-96bf-50aeca460283",
   "metadata": {},
   "outputs": [
    {
     "data": {
      "text/plain": [
       "((266, 14), (67, 14))"
      ]
     },
     "execution_count": 109,
     "metadata": {},
     "output_type": "execute_result"
    }
   ],
   "source": [
    "# ---------------- stack the processed columns together---------------\n",
    "processed_X_train = np.hstack((numeric_X_train, ohe_X_train))\n",
    "processed_X_test = np.hstack((numeric_X_test, ohe_X_test))\n",
    "\n",
    "processed_X_train.shape, processed_X_test.shape"
   ]
  },
  {
   "cell_type": "markdown",
   "id": "5e8ac6bf-acbf-4f0a-9788-dde3f4759e93",
   "metadata": {},
   "source": [
    "<span style=\"color:#DC537D\"><font size=\"+1\">Does the target label need any encoding / transformation?</font></span>"
   ]
  },
  {
   "cell_type": "code",
   "execution_count": null,
   "id": "a0e7c0a1-3ed7-4d4a-b852-71d31676a540",
   "metadata": {},
   "outputs": [],
   "source": []
  },
  {
   "cell_type": "markdown",
   "id": "ecbe1c38-f6aa-4ad2-b996-5d3e801c328a",
   "metadata": {},
   "source": [
    "## <span style=\"color:rebeccapurple\">5. Establish a baseline</span></h1>"
   ]
  },
  {
   "cell_type": "markdown",
   "id": "a05642b7-5247-44ac-a01d-df174e2225d4",
   "metadata": {},
   "source": [
    "The simplest prediction you could make would be an \"average diagnosis\":"
   ]
  },
  {
   "cell_type": "code",
   "execution_count": 95,
   "id": "3c1c0032-341d-4bc3-a824-80e81c2b089d",
   "metadata": {},
   "outputs": [
    {
     "data": {
      "text/plain": [
       "4207.057057057057"
      ]
     },
     "execution_count": 95,
     "metadata": {},
     "output_type": "execute_result"
    }
   ],
   "source": [
    "df[\"body_mass_g\"].mean()"
   ]
  },
  {
   "cell_type": "markdown",
   "id": "a209213a-7094-4163-b66f-68c18119cc6b",
   "metadata": {},
   "source": [
    "The error on this prediction can be calculated too. Suppose we decide to calculate the mean squared error (MSE)\n",
    "$$MSE = \\overline{(Observed - Expected)^2}$$"
   ]
  },
  {
   "cell_type": "code",
   "execution_count": 96,
   "id": "d98208d1-b816-41c4-b0a3-d52517a8e303",
   "metadata": {},
   "outputs": [
    {
     "data": {
      "text/plain": [
       "646425.4231709186"
      ]
     },
     "execution_count": 96,
     "metadata": {},
     "output_type": "execute_result"
    }
   ],
   "source": [
    "error = df[\"body_mass_g\"] - df[\"body_mass_g\"].mean()\n",
    "squared_error = error**2\n",
    "mean_squared_error = np.mean(squared_error)\n",
    "mean_squared_error"
   ]
  },
  {
   "cell_type": "markdown",
   "id": "7bc81788-7da1-4dd9-ac7c-10904c4e73d3",
   "metadata": {},
   "source": [
    "The objective of model training or model optimization is to reduce the training error as much as possible, without over-fitting the model.\n",
    "\n",
    "Note - Ideally you never see the test set, so the \"average prediction\" would be calculated over the train set only."
   ]
  },
  {
   "cell_type": "markdown",
   "id": "0527d0d2-cad3-4d28-b3ae-795b0b961a92",
   "metadata": {},
   "source": [
    "<span style=\"color:#DC537D\"><font size=\"+1\">Provide a baseline target prediction and mean squared error using the training set</font></span>"
   ]
  },
  {
   "cell_type": "code",
   "execution_count": 99,
   "id": "cce7cbca-b803-4a3c-bacf-db19741c848d",
   "metadata": {},
   "outputs": [
    {
     "data": {
      "text/plain": [
       "4197.462406015037"
      ]
     },
     "execution_count": 99,
     "metadata": {},
     "output_type": "execute_result"
    }
   ],
   "source": [
    "y_train.mean()"
   ]
  },
  {
   "cell_type": "code",
   "execution_count": 100,
   "id": "71f07759-53dd-4e42-aa34-c6a224663a74",
   "metadata": {},
   "outputs": [
    {
     "data": {
      "text/plain": [
       "646866.2109927073"
      ]
     },
     "execution_count": 100,
     "metadata": {},
     "output_type": "execute_result"
    }
   ],
   "source": [
    "np.mean((y_train - y_train.mean())**2)"
   ]
  },
  {
   "cell_type": "markdown",
   "id": "b5c51945-783a-4691-b238-79c624893b80",
   "metadata": {},
   "source": [
    "## <span style=\"color:rebeccapurple\">6. Choose a model</span></h1>"
   ]
  },
  {
   "cell_type": "markdown",
   "id": "0b706ef4-f041-4ddd-870f-8bf451febbe6",
   "metadata": {},
   "source": [
    "<span style=\"color:#DC537D\"><font size=\"+1\">Is this a supervised or unsupervised learning task?</font></span>"
   ]
  },
  {
   "cell_type": "markdown",
   "id": "0db2819f-370d-4dd5-a4d7-ece6d057014a",
   "metadata": {},
   "source": [
    "<span style=\"color:#DC537D\"><font size=\"+1\">Is this a classification or regression task?</font></span>"
   ]
  },
  {
   "cell_type": "markdown",
   "id": "59c757fa-1f98-4324-afc2-98af1e042252",
   "metadata": {},
   "source": [
    "<span style=\"color:#DC537D\"><font size=\"+1\">Are we predicting discrete or continuous values?</font></span>"
   ]
  },
  {
   "cell_type": "code",
   "execution_count": null,
   "id": "862a6ca4-b999-4066-9e57-32cc9bb75871",
   "metadata": {},
   "outputs": [],
   "source": []
  },
  {
   "cell_type": "code",
   "execution_count": null,
   "id": "3065a957-4490-42b6-b941-0288a602cd77",
   "metadata": {},
   "outputs": [],
   "source": []
  },
  {
   "cell_type": "markdown",
   "id": "6da36cc5-0720-485a-8738-fac986e837ea",
   "metadata": {},
   "source": [
    "Let's try to use a simple, interpretable model - a linear regressor"
   ]
  },
  {
   "cell_type": "markdown",
   "id": "faebd25f-3629-4770-aac4-4bde285f3de8",
   "metadata": {},
   "source": [
    "## <span style=\"color:rebeccapurple\">7. Train the model</span></h1>"
   ]
  },
  {
   "cell_type": "markdown",
   "id": "e5b31004-0a4c-4f68-a29e-d4f99d946596",
   "metadata": {},
   "source": [
    "<span style=\"color:#DC537D\"><font size=\"+1\">Use sklearn to train a linear regression model</font></span>"
   ]
  },
  {
   "cell_type": "code",
   "execution_count": 101,
   "id": "a882aaf7-0fa6-4b5f-8983-aa609735f136",
   "metadata": {},
   "outputs": [],
   "source": [
    "# import the model class \n",
    "from sklearn.linear_model import LinearRegression"
   ]
  },
  {
   "cell_type": "code",
   "execution_count": 110,
   "id": "4d530a90-ba4a-454d-beab-8d8227570920",
   "metadata": {},
   "outputs": [],
   "source": [
    "# create an instance of the model object\n",
    "model = LinearRegression()"
   ]
  },
  {
   "cell_type": "code",
   "execution_count": 111,
   "id": "308bfe21-2998-4079-8a43-ffdd30793951",
   "metadata": {
    "tags": []
   },
   "outputs": [
    {
     "data": {
      "text/html": [
       "<style>#sk-container-id-3 {color: black;background-color: white;}#sk-container-id-3 pre{padding: 0;}#sk-container-id-3 div.sk-toggleable {background-color: white;}#sk-container-id-3 label.sk-toggleable__label {cursor: pointer;display: block;width: 100%;margin-bottom: 0;padding: 0.3em;box-sizing: border-box;text-align: center;}#sk-container-id-3 label.sk-toggleable__label-arrow:before {content: \"▸\";float: left;margin-right: 0.25em;color: #696969;}#sk-container-id-3 label.sk-toggleable__label-arrow:hover:before {color: black;}#sk-container-id-3 div.sk-estimator:hover label.sk-toggleable__label-arrow:before {color: black;}#sk-container-id-3 div.sk-toggleable__content {max-height: 0;max-width: 0;overflow: hidden;text-align: left;background-color: #f0f8ff;}#sk-container-id-3 div.sk-toggleable__content pre {margin: 0.2em;color: black;border-radius: 0.25em;background-color: #f0f8ff;}#sk-container-id-3 input.sk-toggleable__control:checked~div.sk-toggleable__content {max-height: 200px;max-width: 100%;overflow: auto;}#sk-container-id-3 input.sk-toggleable__control:checked~label.sk-toggleable__label-arrow:before {content: \"▾\";}#sk-container-id-3 div.sk-estimator input.sk-toggleable__control:checked~label.sk-toggleable__label {background-color: #d4ebff;}#sk-container-id-3 div.sk-label input.sk-toggleable__control:checked~label.sk-toggleable__label {background-color: #d4ebff;}#sk-container-id-3 input.sk-hidden--visually {border: 0;clip: rect(1px 1px 1px 1px);clip: rect(1px, 1px, 1px, 1px);height: 1px;margin: -1px;overflow: hidden;padding: 0;position: absolute;width: 1px;}#sk-container-id-3 div.sk-estimator {font-family: monospace;background-color: #f0f8ff;border: 1px dotted black;border-radius: 0.25em;box-sizing: border-box;margin-bottom: 0.5em;}#sk-container-id-3 div.sk-estimator:hover {background-color: #d4ebff;}#sk-container-id-3 div.sk-parallel-item::after {content: \"\";width: 100%;border-bottom: 1px solid gray;flex-grow: 1;}#sk-container-id-3 div.sk-label:hover label.sk-toggleable__label {background-color: #d4ebff;}#sk-container-id-3 div.sk-serial::before {content: \"\";position: absolute;border-left: 1px solid gray;box-sizing: border-box;top: 0;bottom: 0;left: 50%;z-index: 0;}#sk-container-id-3 div.sk-serial {display: flex;flex-direction: column;align-items: center;background-color: white;padding-right: 0.2em;padding-left: 0.2em;position: relative;}#sk-container-id-3 div.sk-item {position: relative;z-index: 1;}#sk-container-id-3 div.sk-parallel {display: flex;align-items: stretch;justify-content: center;background-color: white;position: relative;}#sk-container-id-3 div.sk-item::before, #sk-container-id-3 div.sk-parallel-item::before {content: \"\";position: absolute;border-left: 1px solid gray;box-sizing: border-box;top: 0;bottom: 0;left: 50%;z-index: -1;}#sk-container-id-3 div.sk-parallel-item {display: flex;flex-direction: column;z-index: 1;position: relative;background-color: white;}#sk-container-id-3 div.sk-parallel-item:first-child::after {align-self: flex-end;width: 50%;}#sk-container-id-3 div.sk-parallel-item:last-child::after {align-self: flex-start;width: 50%;}#sk-container-id-3 div.sk-parallel-item:only-child::after {width: 0;}#sk-container-id-3 div.sk-dashed-wrapped {border: 1px dashed gray;margin: 0 0.4em 0.5em 0.4em;box-sizing: border-box;padding-bottom: 0.4em;background-color: white;}#sk-container-id-3 div.sk-label label {font-family: monospace;font-weight: bold;display: inline-block;line-height: 1.2em;}#sk-container-id-3 div.sk-label-container {text-align: center;}#sk-container-id-3 div.sk-container {/* jupyter's `normalize.less` sets `[hidden] { display: none; }` but bootstrap.min.css set `[hidden] { display: none !important; }` so we also need the `!important` here to be able to override the default hidden behavior on the sphinx rendered scikit-learn.org. See: https://github.com/scikit-learn/scikit-learn/issues/21755 */display: inline-block !important;position: relative;}#sk-container-id-3 div.sk-text-repr-fallback {display: none;}</style><div id=\"sk-container-id-3\" class=\"sk-top-container\"><div class=\"sk-text-repr-fallback\"><pre>LinearRegression()</pre><b>In a Jupyter environment, please rerun this cell to show the HTML representation or trust the notebook. <br />On GitHub, the HTML representation is unable to render, please try loading this page with nbviewer.org.</b></div><div class=\"sk-container\" hidden><div class=\"sk-item\"><div class=\"sk-estimator sk-toggleable\"><input class=\"sk-toggleable__control sk-hidden--visually\" id=\"sk-estimator-id-3\" type=\"checkbox\" checked><label for=\"sk-estimator-id-3\" class=\"sk-toggleable__label sk-toggleable__label-arrow\">LinearRegression</label><div class=\"sk-toggleable__content\"><pre>LinearRegression()</pre></div></div></div></div></div>"
      ],
      "text/plain": [
       "LinearRegression()"
      ]
     },
     "execution_count": 111,
     "metadata": {},
     "output_type": "execute_result"
    }
   ],
   "source": [
    "# fit the model to the processed training data\n",
    "model.fit(processed_X_train, y_train)"
   ]
  },
  {
   "cell_type": "code",
   "execution_count": 112,
   "id": "0c1b7a42-bcf6-459f-a867-3bcebf35a140",
   "metadata": {},
   "outputs": [
    {
     "data": {
      "text/plain": [
       "(4113.412702208336,\n",
       " array([  96.13716265,  139.81965275,  313.85299822, -181.42288779,\n",
       "        -460.20908526,  641.63197306,   54.48938499,   16.95553694,\n",
       "         -71.44492194, -176.04425927,  176.04425927,   76.8948224 ,\n",
       "         -33.8111821 ,  -43.08364031]))"
      ]
     },
     "execution_count": 112,
     "metadata": {},
     "output_type": "execute_result"
    }
   ],
   "source": [
    "# get the intercept and model coefficients\n",
    "model.intercept_, model.coef_"
   ]
  },
  {
   "cell_type": "code",
   "execution_count": 120,
   "id": "49e4bf5c-837a-4d42-9d97-6a622f5608ea",
   "metadata": {},
   "outputs": [
    {
     "data": {
      "text/plain": [
       "[array(['Adelie', 'Chinstrap', 'Gentoo'], dtype=object),\n",
       " array(['Biscoe', 'Dream', 'Torgersen'], dtype=object),\n",
       " array(['female', 'male'], dtype=object),\n",
       " array([2007, 2008, 2009])]"
      ]
     },
     "execution_count": 120,
     "metadata": {},
     "output_type": "execute_result"
    }
   ],
   "source": [
    "ohe.categories_"
   ]
  },
  {
   "cell_type": "code",
   "execution_count": 121,
   "id": "ae495b4b-81ee-44c8-bbfc-e3b38430b977",
   "metadata": {},
   "outputs": [],
   "source": [
    "# get the coefficients inside a nice dataframe\n",
    "feature_names = numeric_cols + list(ohe.categories_[0]) + list(ohe.categories_[1]) + list(ohe.categories_[2]) + list(ohe.categories_[3])\n",
    "\n",
    "coefs = pd.DataFrame(data= model.coef_ ,\n",
    "                     columns= [\"Coefficients\"], \n",
    "                     index=  feature_names)"
   ]
  },
  {
   "cell_type": "code",
   "execution_count": 122,
   "id": "483675ad-c923-4667-be8b-2542cf096ddb",
   "metadata": {},
   "outputs": [
    {
     "data": {
      "image/png": "[encoded data removed]",
      "text/plain": [
       "<Figure size 1500x600 with 1 Axes>"
      ]
     },
     "metadata": {},
     "output_type": "display_data"
    }
   ],
   "source": [
    "# which features look most relevant?\n",
    "coefs.plot.barh(figsize=(10, 4))\n",
    "plt.axvline(x=0, color=\".5\")\n",
    "plt.xlabel(\"Coefficient values\")\n",
    "plt.subplots_adjust(left=0.3)"
   ]
  },
  {
   "cell_type": "code",
   "execution_count": null,
   "id": "de394e17-0235-492e-9445-92d38d0c5534",
   "metadata": {},
   "outputs": [],
   "source": []
  },
  {
   "cell_type": "markdown",
   "id": "99325f34-9a4b-4b50-9a03-b19e7108ecdf",
   "metadata": {},
   "source": [
    "## <span style=\"color:rebeccapurple\">10. Predict values for the test set</span></h1>"
   ]
  },
  {
   "cell_type": "markdown",
   "id": "e7c14b8d-4d55-4caa-aea7-8a4510ee1c4a",
   "metadata": {},
   "source": [
    "<span style=\"color:#DC537D\"><font size=\"+1\">Generate predictions from your trained model</font></span>"
   ]
  },
  {
   "cell_type": "code",
   "execution_count": 123,
   "id": "0dce7872-9ad2-4679-9d84-673e7339dbf7",
   "metadata": {},
   "outputs": [
    {
     "data": {
      "text/plain": [
       "((266,), (67,))"
      ]
     },
     "execution_count": 123,
     "metadata": {},
     "output_type": "execute_result"
    }
   ],
   "source": [
    "# generate predictions from your trained model\n",
    "y_predicted_train = model.predict(processed_X_train)\n",
    "y_predicted_test = model.predict(processed_X_test)\n",
    "\n",
    "y_predicted_train.shape, y_predicted_test.shape"
   ]
  },
  {
   "cell_type": "code",
   "execution_count": 124,
   "id": "d0a4dfbf-235f-44b6-b797-a31b591f3a99",
   "metadata": {},
   "outputs": [
    {
     "data": {
      "image/png": "[encoded data removed]",
      "text/plain": [
       "<Figure size 1500x450 with 2 Axes>"
      ]
     },
     "metadata": {},
     "output_type": "display_data"
    }
   ],
   "source": [
    "# plot\n",
    "fig, axes = plt.subplots(nrows=1, ncols=2, figsize=(10,3))\n",
    "\n",
    "axes[0].scatter(y_train, y_predicted_train, s=2)\n",
    "axes[0].set_title(\"Train data\")\n",
    "axes[1].scatter(y_test, y_predicted_test, s=2)\n",
    "axes[1].set_title(\"Test data\")\n",
    "\n",
    "for ax in axes:\n",
    "    ax.plot([0, 1], [0, 1], transform=ax.transAxes, ls=\"--\", c=\"red\")\n",
    "    ax.set(xlabel=\"Observed y\", ylabel=\"Predicted y\")"
   ]
  },
  {
   "cell_type": "markdown",
   "id": "2260294d-999b-47c6-af6d-aba8af9c977c",
   "metadata": {},
   "source": [
    "## <span style=\"color:rebeccapurple\">11. Evaluate the model</span>"
   ]
  },
  {
   "cell_type": "markdown",
   "id": "757d60f9-9014-4d54-9ed2-b1de332c3c6e",
   "metadata": {},
   "source": [
    "<span style=\"color:#DC537D\"><font size=\"+1\">What is the $R^2$?</font></span>"
   ]
  },
  {
   "cell_type": "code",
   "execution_count": 125,
   "id": "df8848b9-0ba3-42c0-b766-2a74f7b039a4",
   "metadata": {},
   "outputs": [],
   "source": [
    "# import metric function\n",
    "from sklearn.metrics import r2_score"
   ]
  },
  {
   "cell_type": "code",
   "execution_count": 126,
   "id": "0a4311c6-68b0-4742-853f-8bd3ffb166fc",
   "metadata": {},
   "outputs": [
    {
     "data": {
      "text/plain": [
       "0.8523231389009337"
      ]
     },
     "execution_count": 126,
     "metadata": {},
     "output_type": "execute_result"
    }
   ],
   "source": [
    "# calculate metric for test\n",
    "r2_score(y_test, y_predicted_test)"
   ]
  },
  {
   "cell_type": "code",
   "execution_count": 127,
   "id": "52704fe2-f862-4503-ba5c-40b4507b744d",
   "metadata": {},
   "outputs": [
    {
     "data": {
      "text/plain": [
       "0.8803582571181376"
      ]
     },
     "execution_count": 127,
     "metadata": {},
     "output_type": "execute_result"
    }
   ],
   "source": [
    "# calculate metric for train\n",
    "r2_score(y_train, y_predicted_train)"
   ]
  },
  {
   "cell_type": "markdown",
   "id": "0a24e9ba-ee6b-40cf-ae62-b880b89fe86f",
   "metadata": {},
   "source": [
    "<span style=\"color:#DC537D\"><font size=\"+1\">What is the MSE?</font></span>"
   ]
  },
  {
   "cell_type": "code",
   "execution_count": 128,
   "id": "79efbd0c-2164-45a2-987a-fee504831690",
   "metadata": {},
   "outputs": [],
   "source": [
    "# import metric function\n",
    "from sklearn.metrics import mean_squared_error"
   ]
  },
  {
   "cell_type": "code",
   "execution_count": 129,
   "id": "bdf8b9e2-cdba-4930-984a-d460ade08e7f",
   "metadata": {},
   "outputs": [
    {
     "data": {
      "text/plain": [
       "94935.38934713826"
      ]
     },
     "execution_count": 129,
     "metadata": {},
     "output_type": "execute_result"
    }
   ],
   "source": [
    "# calculate metric for test\n",
    "mean_squared_error(y_test, y_predicted_test)"
   ]
  },
  {
   "cell_type": "code",
   "execution_count": 130,
   "id": "2de7b3d8-0ba2-4b50-a3ed-754b06d7f4dc",
   "metadata": {},
   "outputs": [
    {
     "data": {
      "text/plain": [
       "77392.20089455404"
      ]
     },
     "execution_count": 130,
     "metadata": {},
     "output_type": "execute_result"
    }
   ],
   "source": [
    "# calculate metric for train\n",
    "mean_squared_error(y_train, y_predicted_train)"
   ]
  },
  {
   "cell_type": "code",
   "execution_count": null,
   "id": "6ae35e3e-b39a-4c66-bb1c-77c66932c8fa",
   "metadata": {},
   "outputs": [],
   "source": []
  },
  {
   "cell_type": "markdown",
   "id": "f1dae4b2-764e-40c4-bdeb-ff99b6d42a7e",
   "metadata": {
    "tags": []
   },
   "source": [
    "# <span style=\"color:rebeccapurple\">Bonus Questions</span>\n",
    "Feel free to code out variations of the ML workflow to answer these questions"
   ]
  },
  {
   "cell_type": "markdown",
   "id": "ce4b62e2-6837-455e-bd63-f50da5b5092b",
   "metadata": {},
   "source": [
    "<span style=\"color:#DC537D\"><font size=\"+1\">Does changing the train-test split ratio improve the model?</font></span>\n",
    "<br>Hint: does the fraction of the split matter, or does the sample size?"
   ]
  },
  {
   "cell_type": "markdown",
   "id": "4c58c4ff-0185-4eff-a468-defb059b0721",
   "metadata": {},
   "source": [
    "<span style=\"color:#DC537D\"><font size=\"+1\">Do you always get the same result when you randomly split the train and test sets multiple times?</font></span>\n",
    "<br>Hint: think about the variance in the model"
   ]
  },
  {
   "cell_type": "markdown",
   "id": "6ce07b48-b852-41ff-a026-c574e9dd1fb6",
   "metadata": {},
   "source": [
    "<span style=\"color:#DC537D\"><font size=\"+1\">Are the features and target variables normally distributed?</font></span>\n",
    "<br>Hint: think about transforming individual features _before_ pre-processing to make it more normal-like"
   ]
  },
  {
   "cell_type": "markdown",
   "id": "ba9644d6-b702-45ae-a48d-aa8b0c8e2a07",
   "metadata": {},
   "source": [
    "<span style=\"color:#DC537D\"><font size=\"+1\">Does scaling really matter?</font></span>\n",
    "<br>Hint: don't pre-process the numerical columns before modeling and look at the coefficients"
   ]
  },
  {
   "cell_type": "code",
   "execution_count": null,
   "id": "97363118-5b68-4869-b151-8edaac238852",
   "metadata": {},
   "outputs": [],
   "source": []
  }
 ],
 "metadata": {
  "kernelspec": {
   "display_name": "Python 3 (ipykernel)",
   "language": "python",
   "name": "python3"
  },
  "language_info": {
   "codemirror_mode": {
    "name": "ipython",
    "version": 3
   },
   "file_extension": ".py",
   "mimetype": "text/x-python",
   "name": "python",
   "nbconvert_exporter": "python",
   "pygments_lexer": "ipython3",
   "version": "3.10.9"
  }
 },
 "nbformat": 4,
 "nbformat_minor": 5
}
