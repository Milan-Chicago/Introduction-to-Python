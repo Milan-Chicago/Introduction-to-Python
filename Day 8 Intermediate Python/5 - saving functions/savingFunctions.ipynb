{
 "cells": [
  {
   "cell_type": "markdown",
   "metadata": {},
   "source": [
    "**If you are using Google Colab, first run the code cell below. You can run a cell by clicking in the cell and clicking on the arrow that appears on the left side of the cell. DO NOT run this cell if you are not using Google Colab.**"
   ]
  },
  {
   "cell_type": "code",
   "execution_count": null,
   "metadata": {},
   "outputs": [],
   "source": [
    "!wget https://raw.githubusercontent.com/aGitHasNoName/savingFunctions/main/sentences.py"
   ]
  },
  {
   "cell_type": "markdown",
   "metadata": {},
   "source": [
    "*If you are new to Jupyter notebooks, each gray cell is a piece of code. To run the code, click inside the gray cell and either click the triangle button up top, or press shift+return (or shift+enter) on your keyboard. If you are using Google Colab, shift+return should also work.*"
   ]
  },
  {
   "cell_type": "markdown",
   "metadata": {},
   "source": [
    "## <br>Saving and Using Your Own Functions"
   ]
  },
  {
   "cell_type": "markdown",
   "metadata": {},
   "source": [
    "Today we will learn how to save functions on our computer and call them in other notebooks and scripts."
   ]
  },
  {
   "cell_type": "markdown",
   "metadata": {},
   "source": [
    "**What we won't be covering today:**\n",
    "- While we will be looking at some function definitions, we won't be talking about the syntax of function definitions (that is covered in the Python Fundamentals Bootcamp or other intro level tutorials).\n",
    "- We will focus on saving functions for your own use on your local computer. We won't be covering how to create packages for distribution.\n",
    "- If there's time at the end, I might talk about how to get started with using functions in your notebooks, but for now let's assume that you are already using functions within a notebook, you just want to make them portable."
   ]
  },
  {
   "cell_type": "markdown",
   "metadata": {},
   "source": [
    "#### <br>A \"function definition\""
   ]
  },
  {
   "cell_type": "markdown",
   "metadata": {},
   "source": [
    "Function - a chunk of code that you give a name to\n",
    "<br><br>After you name the code, whenever you want to use it, you can call it by name instead of typing or copying and pasting the entire chunk of code."
   ]
  },
  {
   "cell_type": "markdown",
   "metadata": {},
   "source": [
    "<br>Using functions can help your code be neater, faster, and reuseable.\n",
    "<br>Functions can help you remove the \"hard coding\" (but you can also hard code functions)"
   ]
  },
  {
   "cell_type": "markdown",
   "metadata": {},
   "source": [
    "<br>If you have functions that you want to use in multiple scripts or notebooks, you can save them. Here are a few times when you might want to do that.\n",
    "<br><br>For reusability:\n",
    "- You wrote code to create custom visualizations\n",
    "- You frequently work with the same file type and you have code to clean it or to extract certain data from it\n",
    "- You have code to check a file or dataset for certain qualities before you use it\n",
    "- You coded equations or algorithms\n",
    "- You find yourself frequently doing the exact same thing"
   ]
  },
  {
   "cell_type": "markdown",
   "metadata": {},
   "source": [
    "For organization/presentation:\n",
    "- Your notebook is getting long and slow and messy and you want to clean it up by saving the function definitions in a different file\n",
    "- You want to use your notebook to display visualizations to an advisor or colleague and they don't need to see all the code behind the scenes"
   ]
  },
  {
   "cell_type": "markdown",
   "metadata": {},
   "source": [
    "### <br>Saving custom python functions"
   ]
  },
  {
   "cell_type": "markdown",
   "metadata": {},
   "source": [
    "We will save our functions in a Python **script** on our computer. A Python script is a plain text file that ends in .py. Python scripts are used to run code from the command line on your computer."
   ]
  },
  {
   "cell_type": "markdown",
   "metadata": {},
   "source": [
    "By default, scripts run code from top to bottom. Of course, when you **run** a function definition:"
   ]
  },
  {
   "cell_type": "code",
   "execution_count": null,
   "metadata": {},
   "outputs": [],
   "source": [
    "def makeFancy(a_string):\n",
    "    new_list = a_string.upper().split()\n",
    "    new_string = \"**\".join(new_list)\n",
    "    return new_string"
   ]
  },
  {
   "cell_type": "markdown",
   "metadata": {},
   "source": [
    "...your computer only stores it in memory, ready to use it when it eventually gets called:"
   ]
  },
  {
   "cell_type": "code",
   "execution_count": null,
   "metadata": {},
   "outputs": [],
   "source": [
    "makeFancy(\"Today is Tuesday.\")"
   ]
  },
  {
   "cell_type": "markdown",
   "metadata": {},
   "source": [
    "<br>Sometimes, like when you're importing individual functions from your script into a notebook, you don't want the script to start running from top to bottom. Othertimes, you might have a script that you want to be able to use both ways - in its entirety from the command line AND calling individual functions into another script or notebook. \n",
    "<br><br>To get around this problem, we're going to include a special line at the end of our code to prevent the script from immediately running top to bottom when we import it:"
   ]
  },
  {
   "cell_type": "markdown",
   "metadata": {},
   "source": [
    "    if __name__ == \"__main__\":\n",
    "        main()"
   ]
  },
  {
   "cell_type": "markdown",
   "metadata": {},
   "source": [
    "<br>When we use two underscores on either side of a Python command, it is called a **dunder** variable. "
   ]
  },
  {
   "cell_type": "markdown",
   "metadata": {},
   "source": [
    "### <br><br>Example module"
   ]
  },
  {
   "cell_type": "markdown",
   "metadata": {},
   "source": [
    "When your script only contains functions for importing into other scripts and notebooks, you can refer to it as a **module**!"
   ]
  },
  {
   "cell_type": "markdown",
   "metadata": {},
   "source": [
    "Let's take a look at a Python script with functions we can import. Open the script \"sentences.py\" in your text editor. You can use any of these plain text editors:\n",
    "1. If you are using Jupyter Lab on your own computer, you can double click the script from the file tree on the left. Jupyter Lab has its own text editor.\n",
    "2. If you are using Google Colab online or Jupyter Notebook on your own computer, you will need to open the file in the text editor on your own computer:\n",
    "- On a PC: Notepad\n",
    "- On a Mac: TextEdit\n",
    "- Or another plain text editor of your choice"
   ]
  },
  {
   "cell_type": "markdown",
   "metadata": {},
   "source": [
    "### <br><br>Loading custom functions into a notebook"
   ]
  },
  {
   "cell_type": "markdown",
   "metadata": {},
   "source": [
    "<br>Let's use the functions in the *sentences* module.\n",
    "<br>We can import the whole package:"
   ]
  },
  {
   "cell_type": "code",
   "execution_count": null,
   "metadata": {},
   "outputs": [],
   "source": [
    "import sentences"
   ]
  },
  {
   "cell_type": "markdown",
   "metadata": {},
   "source": [
    "To see what functions are available in an imported package, we can use the dir() command:"
   ]
  },
  {
   "cell_type": "code",
   "execution_count": null,
   "metadata": {},
   "outputs": [],
   "source": [
    "dir(sentences)"
   ]
  },
  {
   "cell_type": "markdown",
   "metadata": {},
   "source": [
    "Notice that the functions we imported from statistics - mean and median - are also available to us through the new script. Always be careful with naming your functions so that they don't duplicate other functions you're calling.\n",
    "<br><br>It is still best to use the mean and median functions directly from their own package; you don't want to start relying on functions included in scripts included in other scripts included in other scripts... Professional packages will resolve these dependency redundancies."
   ]
  },
  {
   "cell_type": "markdown",
   "metadata": {},
   "source": [
    "<br>Let's try out our imported custom functions:"
   ]
  },
  {
   "cell_type": "code",
   "execution_count": null,
   "metadata": {},
   "outputs": [],
   "source": [
    "num_list = [84, 89, 90, 55, 68, 83, 90, 92, 85]"
   ]
  },
  {
   "cell_type": "code",
   "execution_count": null,
   "metadata": {},
   "outputs": [],
   "source": [
    "sentences.printMean(num_list)"
   ]
  },
  {
   "cell_type": "markdown",
   "metadata": {},
   "source": [
    "<br>**Exercise.** Run printMedian on the num_list:"
   ]
  },
  {
   "cell_type": "code",
   "execution_count": null,
   "metadata": {},
   "outputs": [],
   "source": []
  },
  {
   "cell_type": "markdown",
   "metadata": {},
   "source": [
    "<br><br>You can also import only a single function from a script:"
   ]
  },
  {
   "cell_type": "code",
   "execution_count": null,
   "metadata": {},
   "outputs": [],
   "source": [
    "from sentences import printSum"
   ]
  },
  {
   "cell_type": "code",
   "execution_count": null,
   "metadata": {},
   "outputs": [],
   "source": [
    "printSum(num_list)"
   ]
  },
  {
   "cell_type": "markdown",
   "metadata": {},
   "source": [
    "<br>If you ever forget which arguments are required from a function, you can use ?:"
   ]
  },
  {
   "cell_type": "code",
   "execution_count": null,
   "metadata": {},
   "outputs": [],
   "source": [
    "printSum?"
   ]
  },
  {
   "cell_type": "markdown",
   "metadata": {},
   "source": [
    "This shows why it is important to name arguments logically and include a good docstring."
   ]
  },
  {
   "cell_type": "markdown",
   "metadata": {},
   "source": [
    "### <br>Exercise. Write your own script with functions."
   ]
  },
  {
   "cell_type": "markdown",
   "metadata": {},
   "source": [
    "1. Open up a new empty plain text file in your text editor.\n",
    "2. Save the file as \"moreSentences.py\". If you're using Jupyter on your own computer, save it in the same location as sentences.py. If you're using Google Colab, save it somewhere you can find it.\n",
    "3. Import the mode function from the statistics package at the top of your script.\n",
    "4. Include the three new function definitions listed below.\n",
    "5. Add informative docstrings to all three functions.\n",
    "6. Include the \"if name equals main\" code at the end.\n",
    "7. It's ok to copy/paste from and look at sentences.py for guidance.\n",
    "8. Save your work!"
   ]
  },
  {
   "cell_type": "markdown",
   "metadata": {},
   "source": [
    "    def printMode(a_list):\n",
    "        m = mode(a_list)\n",
    "        return f\"The mode of the numbers provided is {m}.\"\n",
    "        \n",
    "    def printMax(a_list):\n",
    "        m = max(a_list)\n",
    "        return f\"The max of the numbers provided is {m}.\"\n",
    "        \n",
    "    def printMin(a_list):\n",
    "        m = min(a_list)\n",
    "        return f\"The min of the numbers provided is {m}.\""
   ]
  },
  {
   "cell_type": "markdown",
   "metadata": {},
   "source": [
    "<br><br>If you are using Google Colab, you will now need to **upload** your script into your Colab workspace. On the left, you should see some icons. Click on the file icon. Once the file tree appears, click on the upload icon, which look like a piece of paper with an arrow pointing up. Choose the file moreSentences.py from your computer."
   ]
  },
  {
   "cell_type": "markdown",
   "metadata": {},
   "source": [
    "<br><br>**Exercise.** Write code to import your new custom module into your notebook:"
   ]
  },
  {
   "cell_type": "code",
   "execution_count": null,
   "metadata": {},
   "outputs": [],
   "source": []
  },
  {
   "cell_type": "markdown",
   "metadata": {},
   "source": [
    "Use the dir() function to see what your module contains:"
   ]
  },
  {
   "cell_type": "code",
   "execution_count": null,
   "metadata": {},
   "outputs": [],
   "source": []
  },
  {
   "cell_type": "markdown",
   "metadata": {},
   "source": [
    "Test out your functions on the num_list:"
   ]
  },
  {
   "cell_type": "code",
   "execution_count": null,
   "metadata": {},
   "outputs": [],
   "source": []
  },
  {
   "cell_type": "code",
   "execution_count": null,
   "metadata": {},
   "outputs": [],
   "source": []
  },
  {
   "cell_type": "code",
   "execution_count": null,
   "metadata": {},
   "outputs": [],
   "source": []
  },
  {
   "cell_type": "code",
   "execution_count": null,
   "metadata": {},
   "outputs": [],
   "source": []
  },
  {
   "cell_type": "markdown",
   "metadata": {},
   "source": [
    "### <br><br>Where to save your custom modules"
   ]
  },
  {
   "cell_type": "markdown",
   "metadata": {},
   "source": [
    "For now, it is perfectly okay to keep your functions in the main folder for your project, like we're doing here - the notebook and modules are saved in the same directory."
   ]
  },
  {
   "cell_type": "markdown",
   "metadata": {},
   "source": [
    "If you want to create a subfolder for storing your modules, you can, with a couple tweaks. Once you have a folder containing multiple modules (scripts), you officially have a **package**. You will have to add a special file to the package folder in order to import modules from inside it. The file must be saved as \"\\_\\_init__.py\" (it's a dunder, so double underscores on either side). The file can be empty!"
   ]
  },
  {
   "cell_type": "markdown",
   "metadata": {},
   "source": [
    "If you create the init file, you can import modules from your subfolder like this: "
   ]
  },
  {
   "cell_type": "markdown",
   "metadata": {},
   "source": [
    "    import folder.script\n",
    "    \n",
    "    from folder.script import function"
   ]
  },
  {
   "cell_type": "code",
   "execution_count": null,
   "metadata": {},
   "outputs": [],
   "source": []
  },
  {
   "cell_type": "code",
   "execution_count": null,
   "metadata": {},
   "outputs": [],
   "source": []
  },
  {
   "cell_type": "code",
   "execution_count": null,
   "metadata": {},
   "outputs": [],
   "source": []
  },
  {
   "cell_type": "markdown",
   "metadata": {},
   "source": [
    "You can also keep a main folder outside of your project directory to hold all your packages and modules. For more info on how to set up custom packages on your computer and call them from anywhere, go to: https://python-102.readthedocs.io/en/latest/packaging.html#packages\n"
   ]
  },
  {
   "cell_type": "code",
   "execution_count": null,
   "metadata": {},
   "outputs": [],
   "source": []
  }
 ],
 "metadata": {
  "kernelspec": {
   "display_name": "Python 3",
   "language": "python",
   "name": "python3"
  },
  "language_info": {
   "codemirror_mode": {
    "name": "ipython",
    "version": 3
   },
   "file_extension": ".py",
   "mimetype": "text/x-python",
   "name": "python",
   "nbconvert_exporter": "python",
   "pygments_lexer": "ipython3",
   "version": "3.7.3"
  }
 },
 "nbformat": 4,
 "nbformat_minor": 4
}
