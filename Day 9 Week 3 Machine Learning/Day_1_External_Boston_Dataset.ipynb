{
 "cells": [
  {
   "cell_type": "markdown",
   "id": "bacterial-criminal",
   "metadata": {},
   "source": [
    "# Machine Learning Basics with Scikit-learn: Day 1"
   ]
  },
  {
   "cell_type": "markdown",
   "id": "large-lounge",
   "metadata": {},
   "source": [
    "## Introduction"
   ]
  },
  {
   "cell_type": "markdown",
   "id": "combined-diamond",
   "metadata": {},
   "source": [
    "### Objectives\n",
    "The workshop will focus on the basics of *scikit-learn*, which is one of the most popular machine learning libraries in Python. After the workshop you will:\n",
    "\n",
    "* Understand how to use scikit-learn functions and documentation.\n",
    "* Learn the usual procedure to transform your data for a machine learning model.\n",
    "* Create basic machine learning models."
   ]
  },
  {
   "cell_type": "markdown",
   "id": "international-customs",
   "metadata": {},
   "source": [
    "### Why scikit-learn?\n",
    "Scikit-learn is an open source machine learning library that supports supervised and unsupervised learning. It also provides various tools for model fitting, data preprocessing, model selection and evaluation, and many other utilities. It has a standardized and simple interface for preprocessing data and model training, optimization and evaluation. \n",
    "\n",
    "### Why are we teaching machine learning with scikit-learn?\n",
    "Using machine learning is becoming a mandatory new skill for many professional workers. As work and organizations demand more use of data analyses, machine learning allows us to analyze large datasets to extract meaningful information. Although machine learning techniques have been there for decades, modern programming languages are making these techniques available for thousands of users. Rather than developing each method from scratch, *scikit-learn* offers a simple way to implement them with our datasets. This package provides a easy toolkit to master and leverage machine learning skills. We hope that learning sckikit-learn helps you comprehend the overall process of data transformation: from curating and importing datasets, to curating models for data knowledge purposes. \n",
    "\n",
    "### Structure of the Workshop\n",
    "The workshop is divided into 5 days:\n",
    "\n",
    "1. Introduction to scikit-learn\n",
    "2. Supervised learning: Classification models\n",
    "3. Unsupervised learning: Clustering models\n",
    "4. Data cleaning / transformation\n",
    "5. Model selection\n",
    "\n",
    "Today, we will start with an overview of *scikit-learn.* We will load datasets, create training and testing datasets, create a model, and evaluate it. We will delve into the functions, models, and details these days. However, keep in mind that this workshop's content will stay at an introductory level. If you are interested in learning more, here are some good resources that you can explore:\n",
    "* [Official documentation](https://scikit-learn.org/stable/index.html)\n",
    "* [Google Cloud AI Adventures](https://www.youtube.com/hashtag/aiadventures)\n",
    "* [Google's Machine Learning Crash Course](https://developers.google.com/machine-learning/crash-course)\n",
    "* [Stanford University: CS229: Machine Learning](http://cs229.stanford.edu/)"
   ]
  },
  {
   "cell_type": "markdown",
   "id": "separate-spain",
   "metadata": {},
   "source": [
    "## Installing scikit-learn"
   ]
  },
  {
   "cell_type": "markdown",
   "id": "unlikely-capitol",
   "metadata": {},
   "source": [
    "Conda and Google Colab already have scikit-learn. You should skip the instalation if you're using one of those. If you are running this notebook on your own environment, please run the following command. And for more instructions, please check out the [documentation](https://scikit-learn.org/stable/install.html)"
   ]
  },
  {
   "cell_type": "code",
   "execution_count": null,
   "id": "regular-cleaners",
   "metadata": {},
   "outputs": [],
   "source": [
    "# If you do not have scikit-learn installed, uncomment the following lines and run the following command. \n",
    "import sys\n",
    "!{sys.executable} -m pip install scikit-learn==0.24.2\n",
    "!{sys.executable} -m pip install scikit-learn --upgrade"
   ]
  },
  {
   "cell_type": "markdown",
   "id": "small-packaging",
   "metadata": {},
   "source": [
    "Let's check that the package is in your environment. Run the following command."
   ]
  },
  {
   "cell_type": "code",
   "execution_count": null,
   "id": "through-bridal",
   "metadata": {},
   "outputs": [],
   "source": [
    "import sklearn\n",
    "sklearn.show_versions()"
   ]
  },
  {
   "cell_type": "markdown",
   "id": "considerable-therapy",
   "metadata": {},
   "source": [
    "## The big picture\n",
    "One of the biggest advantages of machine learning is to determine how to differentiate observations using a computational model, rather than using human coding and manual rules. When we have thousands of obsevations, machine learning models helps us automatize, scale, and guarantee the reproducibility these coding processes. The basic steps are:\n",
    "1. Gathering data\n",
    "2. Preparing that data\n",
    "3. Choosing a model\n",
    "4. Training\n",
    "5. Evaluation\n",
    "6. Prediction."
   ]
  },
  {
   "cell_type": "markdown",
   "id": "acute-paper",
   "metadata": {},
   "source": [
    "## 1. Gathering data\n",
    "\n",
    "The first step is collecting data and understanding the dataset. This step is very important because the quality and quantity of data that you gather will directly determine how good your predictive model can be. Also, many machine learning models are *biased* because of the data. A well-known example is [this face-generator model](https://www.theverge.com/21298762/face-depixelizer-ai-machine-learning-tool-pulse-stylegan-obama-bias) that did not recognize President Obama as an African-American person. \n",
    "\n",
    "You need to collect data and take into account these recommendations:\n",
    "* **Number of observations (*N*):** In statistics, there is a theorem called \"Law of Big Numbers.\" According to this law, the average of the results obtained from a large number of trials should be close to the expected value. In other words, by having a large number of observations, your model will tend to become closer to the expected value. Creating machine learning models is based on *big datasets.* Imagine companies that collect big data from their clients and are able to get a clear picture of them. Prediciton becomes more accurate as long as you have more observations and knowledge of your population. \n",
    "* **Missing data**: Many observations may lack some values. You can have multiple reasons for this: data-collection issues, restricted data, information not available, etc. It is important to make strategies whenever you have missing data. \n",
    "* **Representativity**: One main problem in most datasets is checking how representative is the dataset with respect to the population. How can we be sure that the dataset is not baised? Computers do not understand the dataset context, or how the dataset was collected. This problem lies on the people who collected the data. Moreover, people who got the data must be aware about any potential flaws or inequealities in the dataset. Descriptive analysis should guide any checkings and validation processes. \n",
    "\n",
    "In this workshop, we will use the datasets provided by *scikit-learn*. You can check other [toy datasets](https://scikit-learn.org/stable/datasets/toy_dataset.html) if you are interested in exploring more. These datasets are well-known, public, and used frequently for learning and testing purposes."
   ]
  },
  {
   "cell_type": "markdown",
   "id": "configured-telling",
   "metadata": {},
   "source": [
    "### Loading datasets\n",
    "\n",
    "Before we get started, some terms that we must get familiar with:\n",
    "* **Samples**: A sample is an observation available in the dataset. Also, they are known as observations, records, etc. They are usually the rows of a dataset table.\n",
    "* **Features**: A feature is an individual measurable property. We also know them as variables and attributes. Usually, these are the columns of a dataset table.\n",
    "\n",
    "We will start importing the scikit-learn's datasets:"
   ]
  },
  {
   "cell_type": "code",
   "execution_count": null,
   "id": "foreign-mirror",
   "metadata": {},
   "outputs": [],
   "source": [
    "from sklearn import datasets"
   ]
  },
  {
   "cell_type": "markdown",
   "id": "acceptable-palace",
   "metadata": {},
   "source": [
    "All datasets are now in the environment. We can call specifically one of those and assign them as a variable. We will use the *Boston house prices dataset.* Each record in the database describes a Boston suburb or town. The data was drawn from the Boston Standard Metropolitan Statistical Area (SMSA) in 1970. The attributes are deﬁned as follows (taken from the UCI Machine Learning Repository1): CRIM: per capita crime rate by town\n",
    "\n",
    "* CRIM: crime per capita crime rate by town\n",
    "* ZN: proportion of residential land zoned for lots over 25,000 sq.ft.\n",
    "* INDUS: proportion of non-retail business acres per town\n",
    "* CHAS: Charles River dummy variable (= 1 if tract bounds river; 0 otherwise)\n",
    "* NOX: nitric oxides concentration (parts per 10 million)\n",
    "* RM: average number of rooms per dwelling\n",
    "* AGE: proportion of owner-occupied units built prior to 1940\n",
    "* DIS: weighted distances to five Boston employment centres\n",
    "* RAD: index of accessibility to radial highways\n",
    "* TAX: full-value property-tax rate per \\$10,000\n",
    "* PTRATIO: pupil-teacher ratio by town\n",
    "* B: 1000(Bk - 0.63)^2 where Bk is the proportion of black people by town\n",
    "* LSTAT: proportion of lower status of the population\n",
    "* MEDV: Median value of owner-occupied homes in $1000’s\n",
    "\n",
    "This model has been frequently used for regression models."
   ]
  },
  {
   "cell_type": "code",
   "execution_count": 1,
   "id": "otherwise-quantity",
   "metadata": {},
   "outputs": [],
   "source": [
    "import pandas as pd\n",
    "boston_df = pd.read_csv(\"BostonHousing.csv\")"
   ]
  },
  {
   "cell_type": "code",
   "execution_count": 2,
   "id": "5bdbf121",
   "metadata": {},
   "outputs": [
    {
     "data": {
      "text/html": [
       "<div>\n",
       "<style scoped>\n",
       "    .dataframe tbody tr th:only-of-type {\n",
       "        vertical-align: middle;\n",
       "    }\n",
       "\n",
       "    .dataframe tbody tr th {\n",
       "        vertical-align: top;\n",
       "    }\n",
       "\n",
       "    .dataframe thead th {\n",
       "        text-align: right;\n",
       "    }\n",
       "</style>\n",
       "<table border=\"1\" class=\"dataframe\">\n",
       "  <thead>\n",
       "    <tr style=\"text-align: right;\">\n",
       "      <th></th>\n",
       "      <th>CRIM</th>\n",
       "      <th>ZN</th>\n",
       "      <th>INDUS</th>\n",
       "      <th>CHAS</th>\n",
       "      <th>NOX</th>\n",
       "      <th>RM</th>\n",
       "      <th>AGE</th>\n",
       "      <th>DIS</th>\n",
       "      <th>RAD</th>\n",
       "      <th>TAX</th>\n",
       "      <th>PTRATIO</th>\n",
       "      <th>LSTAT</th>\n",
       "      <th>MEDV</th>\n",
       "      <th>CAT. MEDV</th>\n",
       "    </tr>\n",
       "  </thead>\n",
       "  <tbody>\n",
       "    <tr>\n",
       "      <th>0</th>\n",
       "      <td>0.00632</td>\n",
       "      <td>18.0</td>\n",
       "      <td>2.31</td>\n",
       "      <td>0</td>\n",
       "      <td>0.538</td>\n",
       "      <td>6.575</td>\n",
       "      <td>65.2</td>\n",
       "      <td>4.0900</td>\n",
       "      <td>1</td>\n",
       "      <td>296</td>\n",
       "      <td>15.3</td>\n",
       "      <td>4.98</td>\n",
       "      <td>24.0</td>\n",
       "      <td>0</td>\n",
       "    </tr>\n",
       "    <tr>\n",
       "      <th>1</th>\n",
       "      <td>0.02731</td>\n",
       "      <td>0.0</td>\n",
       "      <td>7.07</td>\n",
       "      <td>0</td>\n",
       "      <td>0.469</td>\n",
       "      <td>6.421</td>\n",
       "      <td>78.9</td>\n",
       "      <td>4.9671</td>\n",
       "      <td>2</td>\n",
       "      <td>242</td>\n",
       "      <td>17.8</td>\n",
       "      <td>9.14</td>\n",
       "      <td>21.6</td>\n",
       "      <td>0</td>\n",
       "    </tr>\n",
       "    <tr>\n",
       "      <th>2</th>\n",
       "      <td>0.02729</td>\n",
       "      <td>0.0</td>\n",
       "      <td>7.07</td>\n",
       "      <td>0</td>\n",
       "      <td>0.469</td>\n",
       "      <td>7.185</td>\n",
       "      <td>61.1</td>\n",
       "      <td>4.9671</td>\n",
       "      <td>2</td>\n",
       "      <td>242</td>\n",
       "      <td>17.8</td>\n",
       "      <td>4.03</td>\n",
       "      <td>34.7</td>\n",
       "      <td>1</td>\n",
       "    </tr>\n",
       "    <tr>\n",
       "      <th>3</th>\n",
       "      <td>0.03237</td>\n",
       "      <td>0.0</td>\n",
       "      <td>2.18</td>\n",
       "      <td>0</td>\n",
       "      <td>0.458</td>\n",
       "      <td>6.998</td>\n",
       "      <td>45.8</td>\n",
       "      <td>6.0622</td>\n",
       "      <td>3</td>\n",
       "      <td>222</td>\n",
       "      <td>18.7</td>\n",
       "      <td>2.94</td>\n",
       "      <td>33.4</td>\n",
       "      <td>1</td>\n",
       "    </tr>\n",
       "    <tr>\n",
       "      <th>4</th>\n",
       "      <td>0.06905</td>\n",
       "      <td>0.0</td>\n",
       "      <td>2.18</td>\n",
       "      <td>0</td>\n",
       "      <td>0.458</td>\n",
       "      <td>7.147</td>\n",
       "      <td>54.2</td>\n",
       "      <td>6.0622</td>\n",
       "      <td>3</td>\n",
       "      <td>222</td>\n",
       "      <td>18.7</td>\n",
       "      <td>5.33</td>\n",
       "      <td>36.2</td>\n",
       "      <td>1</td>\n",
       "    </tr>\n",
       "  </tbody>\n",
       "</table>\n",
       "</div>"
      ],
      "text/plain": [
       "      CRIM    ZN  INDUS  CHAS    NOX     RM   AGE     DIS  RAD  TAX  PTRATIO  \\\n",
       "0  0.00632  18.0   2.31     0  0.538  6.575  65.2  4.0900    1  296     15.3   \n",
       "1  0.02731   0.0   7.07     0  0.469  6.421  78.9  4.9671    2  242     17.8   \n",
       "2  0.02729   0.0   7.07     0  0.469  7.185  61.1  4.9671    2  242     17.8   \n",
       "3  0.03237   0.0   2.18     0  0.458  6.998  45.8  6.0622    3  222     18.7   \n",
       "4  0.06905   0.0   2.18     0  0.458  7.147  54.2  6.0622    3  222     18.7   \n",
       "\n",
       "   LSTAT  MEDV  CAT. MEDV  \n",
       "0   4.98  24.0          0  \n",
       "1   9.14  21.6          0  \n",
       "2   4.03  34.7          1  \n",
       "3   2.94  33.4          1  \n",
       "4   5.33  36.2          1  "
      ]
     },
     "execution_count": 2,
     "metadata": {},
     "output_type": "execute_result"
    }
   ],
   "source": [
    "boston_df.head()"
   ]
  },
  {
   "cell_type": "code",
   "execution_count": 3,
   "id": "917189e9",
   "metadata": {},
   "outputs": [],
   "source": [
    "boston_df.columns = ['CRIM', 'ZN', 'INDUS', 'CHAS', 'NOX', 'RM', 'AGE', 'DIS', 'RAD', 'TAX',\n",
    "       'PTRATIO', 'LSTAT', 'PRICE', 'CATMEDV']"
   ]
  },
  {
   "cell_type": "markdown",
   "id": "handy-instrument",
   "metadata": {},
   "source": [
    "## 2. Preparing the data"
   ]
  },
  {
   "cell_type": "markdown",
   "id": "humanitarian-going",
   "metadata": {},
   "source": [
    "In a machine learning model, we will have *features* and a *target*. The target is the variable to predict/estimate by the model. The value of the target depends on the features' values. Usually, targets are the outcomes of a process (e.g., giving a loan, earnings). In statistics, the target is also known as the *dependent variable*, and the features are the *independent variables*.\n",
    "\n",
    "![In this example, demographic informations are used to predict users' behavior when they are navigating on a website](https://d2m6ke2px6quvq.cloudfront.net/uploads/2020/09/11/0e1df989-5fc9-474b-ba49-5eaebfc2d795.png)\n",
    "\n",
    "In this example, users' demographic and activity information are used to predict users' behavior when they are navigating on a website."
   ]
  },
  {
   "cell_type": "markdown",
   "id": "interpreted-slave",
   "metadata": {},
   "source": [
    "We will print the first 5 columns of this pandas dataframe. We will see each column with their respective feature name."
   ]
  },
  {
   "cell_type": "code",
   "execution_count": 4,
   "id": "phantom-final",
   "metadata": {
    "scrolled": true
   },
   "outputs": [
    {
     "name": "stdout",
     "output_type": "stream",
     "text": [
      "      CRIM    ZN  INDUS  CHAS    NOX     RM   AGE     DIS  RAD  TAX  PTRATIO  \\\n",
      "0  0.00632  18.0   2.31     0  0.538  6.575  65.2  4.0900    1  296     15.3   \n",
      "1  0.02731   0.0   7.07     0  0.469  6.421  78.9  4.9671    2  242     17.8   \n",
      "2  0.02729   0.0   7.07     0  0.469  7.185  61.1  4.9671    2  242     17.8   \n",
      "3  0.03237   0.0   2.18     0  0.458  6.998  45.8  6.0622    3  222     18.7   \n",
      "4  0.06905   0.0   2.18     0  0.458  7.147  54.2  6.0622    3  222     18.7   \n",
      "\n",
      "   LSTAT  PRICE  CATMEDV  \n",
      "0   4.98   24.0        0  \n",
      "1   9.14   21.6        0  \n",
      "2   4.03   34.7        1  \n",
      "3   2.94   33.4        1  \n",
      "4   5.33   36.2        1  \n"
     ]
    }
   ],
   "source": [
    "print(boston_df.head())"
   ]
  },
  {
   "cell_type": "markdown",
   "id": "hindu-assistant",
   "metadata": {},
   "source": [
    "### Exercise 1\n",
    "Before we create a model, let's get familiar with the target column, \"PRICE,\" which is the value of prices of the houses. Run the following command and check the mean, minimum value, maximum value, and the 50\\%. How is the data distributed?"
   ]
  },
  {
   "cell_type": "code",
   "execution_count": 5,
   "id": "shared-flesh",
   "metadata": {},
   "outputs": [
    {
     "name": "stdout",
     "output_type": "stream",
     "text": [
      "count    506.000000\n",
      "mean      22.532806\n",
      "std        9.197104\n",
      "min        5.000000\n",
      "25%       17.025000\n",
      "50%       21.200000\n",
      "75%       25.000000\n",
      "max       50.000000\n",
      "Name: PRICE, dtype: float64\n"
     ]
    }
   ],
   "source": [
    "print(boston_df['PRICE'].describe())"
   ]
  },
  {
   "cell_type": "markdown",
   "id": "stock-japanese",
   "metadata": {},
   "source": [
    "## 3. Training and Testing sets"
   ]
  },
  {
   "cell_type": "markdown",
   "id": "protected-breakfast",
   "metadata": {},
   "source": [
    "To see if the model is capable to predict \"future\" values, we split the original dataset in two sets: one portion will be used for **training**, and the second portion will be for **testing** purposes. The testing dataset will *test* the model against data that has never been used for *training*. Having a testing dataset allows us to see how the model might perform against data that it has not yet seen. This is meant to be representative of how the model might perform in the real world.\n",
    "\n",
    "A rule of thumb is use for a training-evaluation split somewhere on the order of 80/20, 90/10. Much of this depends on the size of the original source dataset. We will start training the model with 80% of the sample and test the model with the remaining 20%. We do this to assess the model's performance on unseen data.\n",
    "\n",
    "We must separate the features that will act as independent variables (`X`) from the target (`Y`). The independent variables include all attributes but `'PRICE'`:"
   ]
  },
  {
   "cell_type": "code",
   "execution_count": 6,
   "id": "three-twins",
   "metadata": {},
   "outputs": [],
   "source": [
    "X = boston_df.drop('PRICE', axis = 1)\n",
    "y = boston_df['PRICE']"
   ]
  },
  {
   "cell_type": "markdown",
   "id": "corresponding-click",
   "metadata": {},
   "source": [
    "To split the data, we use `train_test_split` function provided by *scikit-learn* library. We finally print the shapes of our training and test set to verify if the splitting has occurred properly."
   ]
  },
  {
   "cell_type": "code",
   "execution_count": 8,
   "id": "single-allen",
   "metadata": {},
   "outputs": [],
   "source": [
    "# Import the train_test_split function\n",
    "from sklearn.model_selection import train_test_split"
   ]
  },
  {
   "cell_type": "code",
   "execution_count": 9,
   "id": "comprehensive-panel",
   "metadata": {},
   "outputs": [],
   "source": [
    "X_train, X_test, y_train, y_test = train_test_split(X, y, test_size = 0.2)"
   ]
  },
  {
   "cell_type": "markdown",
   "id": "japanese-tourist",
   "metadata": {},
   "source": [
    "Now, we check the dimensions of both sets are correct. Since we have 506 observations, the training set has ~404 observations (80%) and the testing set has about 102 observations. Since we have 13 features in total, each `X` dataframe has 13 columns:"
   ]
  },
  {
   "cell_type": "code",
   "execution_count": 10,
   "id": "affiliated-slide",
   "metadata": {},
   "outputs": [
    {
     "name": "stdout",
     "output_type": "stream",
     "text": [
      "(404, 13)\n",
      "(102, 13)\n"
     ]
    }
   ],
   "source": [
    "print(X_train.shape)\n",
    "print(X_test.shape)"
   ]
  },
  {
   "cell_type": "markdown",
   "id": "surface-indicator",
   "metadata": {},
   "source": [
    "Finally, the target is a single column with 404 observations for the training set, and 102 observations for the testing set."
   ]
  },
  {
   "cell_type": "code",
   "execution_count": 11,
   "id": "cooperative-supplier",
   "metadata": {},
   "outputs": [
    {
     "name": "stdout",
     "output_type": "stream",
     "text": [
      "(404,)\n",
      "(102,)\n"
     ]
    }
   ],
   "source": [
    "print(y_train.shape)\n",
    "print(y_test.shape)"
   ]
  },
  {
   "cell_type": "markdown",
   "id": "improved-disability",
   "metadata": {},
   "source": [
    "### Exercise 2\n",
    "Change the proportion for the training set. Instead of 80\\%, set it up for **90%** (i.e., 90% for training and 10% for testing). How many observations would you have for the traning and testing datasets?"
   ]
  },
  {
   "cell_type": "code",
   "execution_count": 12,
   "id": "floral-convention",
   "metadata": {},
   "outputs": [],
   "source": [
    "## Run the code here\n",
    "X_train_2, X_test_2, y_train_2, y_test_2 = train_test_split(X, y, test_size = 0.1)"
   ]
  },
  {
   "cell_type": "code",
   "execution_count": 13,
   "id": "athletic-bronze",
   "metadata": {},
   "outputs": [
    {
     "name": "stdout",
     "output_type": "stream",
     "text": [
      "(455, 13)\n",
      "(51, 13)\n"
     ]
    }
   ],
   "source": [
    "# Print X datasets' shape\n",
    "print(X_train_2.shape)\n",
    "print(X_test_2.shape)"
   ]
  },
  {
   "cell_type": "code",
   "execution_count": 14,
   "id": "dressed-episode",
   "metadata": {},
   "outputs": [
    {
     "name": "stdout",
     "output_type": "stream",
     "text": [
      "(455,)\n",
      "(51,)\n"
     ]
    }
   ],
   "source": [
    "# Print y datasets' shape\n",
    "print(y_train_2.shape)\n",
    "print(y_test_2.shape)"
   ]
  },
  {
   "cell_type": "markdown",
   "id": "common-blair",
   "metadata": {},
   "source": [
    "## 4. Choosing a model"
   ]
  },
  {
   "cell_type": "markdown",
   "id": "eligible-shark",
   "metadata": {},
   "source": [
    "The next step in our workflow is choosing a model. There are many models that researchers and data scientists have created over the years. Some are very well suited for image data, others for sequences (like text, or music), some for numerical data, others for text-based data. \n",
    "\n",
    "Since we have 13 features, one target, and numerical data, we can use a **linear regression model.** Regression models are very useful for numeric datasets."
   ]
  },
  {
   "cell_type": "code",
   "execution_count": 15,
   "id": "helpful-hello",
   "metadata": {},
   "outputs": [],
   "source": [
    "# Import Linear Regression model\n",
    "from sklearn.linear_model import LinearRegression"
   ]
  },
  {
   "cell_type": "code",
   "execution_count": 16,
   "id": "interstate-tolerance",
   "metadata": {},
   "outputs": [
    {
     "data": {
      "text/html": [
       "<style>#sk-container-id-1 {color: black;}#sk-container-id-1 pre{padding: 0;}#sk-container-id-1 div.sk-toggleable {background-color: white;}#sk-container-id-1 label.sk-toggleable__label {cursor: pointer;display: block;width: 100%;margin-bottom: 0;padding: 0.3em;box-sizing: border-box;text-align: center;}#sk-container-id-1 label.sk-toggleable__label-arrow:before {content: \"▸\";float: left;margin-right: 0.25em;color: #696969;}#sk-container-id-1 label.sk-toggleable__label-arrow:hover:before {color: black;}#sk-container-id-1 div.sk-estimator:hover label.sk-toggleable__label-arrow:before {color: black;}#sk-container-id-1 div.sk-toggleable__content {max-height: 0;max-width: 0;overflow: hidden;text-align: left;background-color: #f0f8ff;}#sk-container-id-1 div.sk-toggleable__content pre {margin: 0.2em;color: black;border-radius: 0.25em;background-color: #f0f8ff;}#sk-container-id-1 input.sk-toggleable__control:checked~div.sk-toggleable__content {max-height: 200px;max-width: 100%;overflow: auto;}#sk-container-id-1 input.sk-toggleable__control:checked~label.sk-toggleable__label-arrow:before {content: \"▾\";}#sk-container-id-1 div.sk-estimator input.sk-toggleable__control:checked~label.sk-toggleable__label {background-color: #d4ebff;}#sk-container-id-1 div.sk-label input.sk-toggleable__control:checked~label.sk-toggleable__label {background-color: #d4ebff;}#sk-container-id-1 input.sk-hidden--visually {border: 0;clip: rect(1px 1px 1px 1px);clip: rect(1px, 1px, 1px, 1px);height: 1px;margin: -1px;overflow: hidden;padding: 0;position: absolute;width: 1px;}#sk-container-id-1 div.sk-estimator {font-family: monospace;background-color: #f0f8ff;border: 1px dotted black;border-radius: 0.25em;box-sizing: border-box;margin-bottom: 0.5em;}#sk-container-id-1 div.sk-estimator:hover {background-color: #d4ebff;}#sk-container-id-1 div.sk-parallel-item::after {content: \"\";width: 100%;border-bottom: 1px solid gray;flex-grow: 1;}#sk-container-id-1 div.sk-label:hover label.sk-toggleable__label {background-color: #d4ebff;}#sk-container-id-1 div.sk-serial::before {content: \"\";position: absolute;border-left: 1px solid gray;box-sizing: border-box;top: 0;bottom: 0;left: 50%;z-index: 0;}#sk-container-id-1 div.sk-serial {display: flex;flex-direction: column;align-items: center;background-color: white;padding-right: 0.2em;padding-left: 0.2em;position: relative;}#sk-container-id-1 div.sk-item {position: relative;z-index: 1;}#sk-container-id-1 div.sk-parallel {display: flex;align-items: stretch;justify-content: center;background-color: white;position: relative;}#sk-container-id-1 div.sk-item::before, #sk-container-id-1 div.sk-parallel-item::before {content: \"\";position: absolute;border-left: 1px solid gray;box-sizing: border-box;top: 0;bottom: 0;left: 50%;z-index: -1;}#sk-container-id-1 div.sk-parallel-item {display: flex;flex-direction: column;z-index: 1;position: relative;background-color: white;}#sk-container-id-1 div.sk-parallel-item:first-child::after {align-self: flex-end;width: 50%;}#sk-container-id-1 div.sk-parallel-item:last-child::after {align-self: flex-start;width: 50%;}#sk-container-id-1 div.sk-parallel-item:only-child::after {width: 0;}#sk-container-id-1 div.sk-dashed-wrapped {border: 1px dashed gray;margin: 0 0.4em 0.5em 0.4em;box-sizing: border-box;padding-bottom: 0.4em;background-color: white;}#sk-container-id-1 div.sk-label label {font-family: monospace;font-weight: bold;display: inline-block;line-height: 1.2em;}#sk-container-id-1 div.sk-label-container {text-align: center;}#sk-container-id-1 div.sk-container {/* jupyter's `normalize.less` sets `[hidden] { display: none; }` but bootstrap.min.css set `[hidden] { display: none !important; }` so we also need the `!important` here to be able to override the default hidden behavior on the sphinx rendered scikit-learn.org. See: https://github.com/scikit-learn/scikit-learn/issues/21755 */display: inline-block !important;position: relative;}#sk-container-id-1 div.sk-text-repr-fallback {display: none;}</style><div id=\"sk-container-id-1\" class=\"sk-top-container\"><div class=\"sk-text-repr-fallback\"><pre>LinearRegression()</pre><b>In a Jupyter environment, please rerun this cell to show the HTML representation or trust the notebook. <br />On GitHub, the HTML representation is unable to render, please try loading this page with nbviewer.org.</b></div><div class=\"sk-container\" hidden><div class=\"sk-item\"><div class=\"sk-estimator sk-toggleable\"><input class=\"sk-toggleable__control sk-hidden--visually\" id=\"sk-estimator-id-1\" type=\"checkbox\" checked><label for=\"sk-estimator-id-1\" class=\"sk-toggleable__label sk-toggleable__label-arrow\">LinearRegression</label><div class=\"sk-toggleable__content\"><pre>LinearRegression()</pre></div></div></div></div></div>"
      ],
      "text/plain": [
       "LinearRegression()"
      ]
     },
     "execution_count": 16,
     "metadata": {},
     "output_type": "execute_result"
    }
   ],
   "source": [
    "reg = LinearRegression()\n",
    "reg.fit(X_train, y_train)"
   ]
  },
  {
   "cell_type": "markdown",
   "id": "funky-award",
   "metadata": {},
   "source": [
    "### Exercise 3\n",
    "Run again the lineal regression model using your training set with 90% of the observations (`X_train_2`,`y_train_2`). Call your model `reg2`."
   ]
  },
  {
   "cell_type": "code",
   "execution_count": 17,
   "id": "dressed-virus",
   "metadata": {},
   "outputs": [
    {
     "data": {
      "text/html": [
       "<style>#sk-container-id-2 {color: black;}#sk-container-id-2 pre{padding: 0;}#sk-container-id-2 div.sk-toggleable {background-color: white;}#sk-container-id-2 label.sk-toggleable__label {cursor: pointer;display: block;width: 100%;margin-bottom: 0;padding: 0.3em;box-sizing: border-box;text-align: center;}#sk-container-id-2 label.sk-toggleable__label-arrow:before {content: \"▸\";float: left;margin-right: 0.25em;color: #696969;}#sk-container-id-2 label.sk-toggleable__label-arrow:hover:before {color: black;}#sk-container-id-2 div.sk-estimator:hover label.sk-toggleable__label-arrow:before {color: black;}#sk-container-id-2 div.sk-toggleable__content {max-height: 0;max-width: 0;overflow: hidden;text-align: left;background-color: #f0f8ff;}#sk-container-id-2 div.sk-toggleable__content pre {margin: 0.2em;color: black;border-radius: 0.25em;background-color: #f0f8ff;}#sk-container-id-2 input.sk-toggleable__control:checked~div.sk-toggleable__content {max-height: 200px;max-width: 100%;overflow: auto;}#sk-container-id-2 input.sk-toggleable__control:checked~label.sk-toggleable__label-arrow:before {content: \"▾\";}#sk-container-id-2 div.sk-estimator input.sk-toggleable__control:checked~label.sk-toggleable__label {background-color: #d4ebff;}#sk-container-id-2 div.sk-label input.sk-toggleable__control:checked~label.sk-toggleable__label {background-color: #d4ebff;}#sk-container-id-2 input.sk-hidden--visually {border: 0;clip: rect(1px 1px 1px 1px);clip: rect(1px, 1px, 1px, 1px);height: 1px;margin: -1px;overflow: hidden;padding: 0;position: absolute;width: 1px;}#sk-container-id-2 div.sk-estimator {font-family: monospace;background-color: #f0f8ff;border: 1px dotted black;border-radius: 0.25em;box-sizing: border-box;margin-bottom: 0.5em;}#sk-container-id-2 div.sk-estimator:hover {background-color: #d4ebff;}#sk-container-id-2 div.sk-parallel-item::after {content: \"\";width: 100%;border-bottom: 1px solid gray;flex-grow: 1;}#sk-container-id-2 div.sk-label:hover label.sk-toggleable__label {background-color: #d4ebff;}#sk-container-id-2 div.sk-serial::before {content: \"\";position: absolute;border-left: 1px solid gray;box-sizing: border-box;top: 0;bottom: 0;left: 50%;z-index: 0;}#sk-container-id-2 div.sk-serial {display: flex;flex-direction: column;align-items: center;background-color: white;padding-right: 0.2em;padding-left: 0.2em;position: relative;}#sk-container-id-2 div.sk-item {position: relative;z-index: 1;}#sk-container-id-2 div.sk-parallel {display: flex;align-items: stretch;justify-content: center;background-color: white;position: relative;}#sk-container-id-2 div.sk-item::before, #sk-container-id-2 div.sk-parallel-item::before {content: \"\";position: absolute;border-left: 1px solid gray;box-sizing: border-box;top: 0;bottom: 0;left: 50%;z-index: -1;}#sk-container-id-2 div.sk-parallel-item {display: flex;flex-direction: column;z-index: 1;position: relative;background-color: white;}#sk-container-id-2 div.sk-parallel-item:first-child::after {align-self: flex-end;width: 50%;}#sk-container-id-2 div.sk-parallel-item:last-child::after {align-self: flex-start;width: 50%;}#sk-container-id-2 div.sk-parallel-item:only-child::after {width: 0;}#sk-container-id-2 div.sk-dashed-wrapped {border: 1px dashed gray;margin: 0 0.4em 0.5em 0.4em;box-sizing: border-box;padding-bottom: 0.4em;background-color: white;}#sk-container-id-2 div.sk-label label {font-family: monospace;font-weight: bold;display: inline-block;line-height: 1.2em;}#sk-container-id-2 div.sk-label-container {text-align: center;}#sk-container-id-2 div.sk-container {/* jupyter's `normalize.less` sets `[hidden] { display: none; }` but bootstrap.min.css set `[hidden] { display: none !important; }` so we also need the `!important` here to be able to override the default hidden behavior on the sphinx rendered scikit-learn.org. See: https://github.com/scikit-learn/scikit-learn/issues/21755 */display: inline-block !important;position: relative;}#sk-container-id-2 div.sk-text-repr-fallback {display: none;}</style><div id=\"sk-container-id-2\" class=\"sk-top-container\"><div class=\"sk-text-repr-fallback\"><pre>LinearRegression()</pre><b>In a Jupyter environment, please rerun this cell to show the HTML representation or trust the notebook. <br />On GitHub, the HTML representation is unable to render, please try loading this page with nbviewer.org.</b></div><div class=\"sk-container\" hidden><div class=\"sk-item\"><div class=\"sk-estimator sk-toggleable\"><input class=\"sk-toggleable__control sk-hidden--visually\" id=\"sk-estimator-id-2\" type=\"checkbox\" checked><label for=\"sk-estimator-id-2\" class=\"sk-toggleable__label sk-toggleable__label-arrow\">LinearRegression</label><div class=\"sk-toggleable__content\"><pre>LinearRegression()</pre></div></div></div></div></div>"
      ],
      "text/plain": [
       "LinearRegression()"
      ]
     },
     "execution_count": 17,
     "metadata": {},
     "output_type": "execute_result"
    }
   ],
   "source": [
    "# Run regression model\n",
    "reg2 = LinearRegression()\n",
    "reg2.fit(X_train_2, y_train_2)"
   ]
  },
  {
   "cell_type": "markdown",
   "id": "fixed-lending",
   "metadata": {},
   "source": [
    "## 5. Evaluating your model\n",
    "\n",
    "Once training is complete, it's time to see if the model provides accurate results. A good practice is to compare the original values (`y_train`) with the predicted values given by the model. We want to check how *good* is the model predicitng the values were used for training. \n",
    "\n",
    "We use the function `predict` to get the values according to the trained model."
   ]
  },
  {
   "cell_type": "code",
   "execution_count": 18,
   "id": "structural-channel",
   "metadata": {},
   "outputs": [],
   "source": [
    "y_train_predict = reg.predict(X_train)"
   ]
  },
  {
   "cell_type": "markdown",
   "id": "animated-germany",
   "metadata": {},
   "source": [
    "We compare the predicted training values with the real training values by checking their difference. If the difference is small, the model is predicting values close to the real ones. We will create a table now to compare them visually."
   ]
  },
  {
   "cell_type": "code",
   "execution_count": 19,
   "id": "religious-first",
   "metadata": {},
   "outputs": [
    {
     "data": {
      "text/html": [
       "<div>\n",
       "<style scoped>\n",
       "    .dataframe tbody tr th:only-of-type {\n",
       "        vertical-align: middle;\n",
       "    }\n",
       "\n",
       "    .dataframe tbody tr th {\n",
       "        vertical-align: top;\n",
       "    }\n",
       "\n",
       "    .dataframe thead th {\n",
       "        text-align: right;\n",
       "    }\n",
       "</style>\n",
       "<table border=\"1\" class=\"dataframe\">\n",
       "  <thead>\n",
       "    <tr style=\"text-align: right;\">\n",
       "      <th></th>\n",
       "      <th>y_real</th>\n",
       "      <th>y_predicted</th>\n",
       "      <th>difference</th>\n",
       "    </tr>\n",
       "  </thead>\n",
       "  <tbody>\n",
       "    <tr>\n",
       "      <th>336</th>\n",
       "      <td>19.5</td>\n",
       "      <td>20.503928</td>\n",
       "      <td>-1.003928</td>\n",
       "    </tr>\n",
       "    <tr>\n",
       "      <th>293</th>\n",
       "      <td>23.9</td>\n",
       "      <td>25.596591</td>\n",
       "      <td>-1.696591</td>\n",
       "    </tr>\n",
       "    <tr>\n",
       "      <th>440</th>\n",
       "      <td>10.5</td>\n",
       "      <td>11.855436</td>\n",
       "      <td>-1.355436</td>\n",
       "    </tr>\n",
       "    <tr>\n",
       "      <th>198</th>\n",
       "      <td>34.6</td>\n",
       "      <td>37.569967</td>\n",
       "      <td>-2.969967</td>\n",
       "    </tr>\n",
       "    <tr>\n",
       "      <th>414</th>\n",
       "      <td>7.0</td>\n",
       "      <td>1.827492</td>\n",
       "      <td>5.172508</td>\n",
       "    </tr>\n",
       "    <tr>\n",
       "      <th>160</th>\n",
       "      <td>27.0</td>\n",
       "      <td>29.952321</td>\n",
       "      <td>-2.952321</td>\n",
       "    </tr>\n",
       "    <tr>\n",
       "      <th>28</th>\n",
       "      <td>18.4</td>\n",
       "      <td>18.414223</td>\n",
       "      <td>-0.014223</td>\n",
       "    </tr>\n",
       "    <tr>\n",
       "      <th>478</th>\n",
       "      <td>14.6</td>\n",
       "      <td>17.193530</td>\n",
       "      <td>-2.593530</td>\n",
       "    </tr>\n",
       "    <tr>\n",
       "      <th>235</th>\n",
       "      <td>24.0</td>\n",
       "      <td>22.710305</td>\n",
       "      <td>1.289695</td>\n",
       "    </tr>\n",
       "    <tr>\n",
       "      <th>47</th>\n",
       "      <td>16.6</td>\n",
       "      <td>17.847663</td>\n",
       "      <td>-1.247663</td>\n",
       "    </tr>\n",
       "  </tbody>\n",
       "</table>\n",
       "</div>"
      ],
      "text/plain": [
       "     y_real  y_predicted  difference\n",
       "336    19.5    20.503928   -1.003928\n",
       "293    23.9    25.596591   -1.696591\n",
       "440    10.5    11.855436   -1.355436\n",
       "198    34.6    37.569967   -2.969967\n",
       "414     7.0     1.827492    5.172508\n",
       "160    27.0    29.952321   -2.952321\n",
       "28     18.4    18.414223   -0.014223\n",
       "478    14.6    17.193530   -2.593530\n",
       "235    24.0    22.710305    1.289695\n",
       "47     16.6    17.847663   -1.247663"
      ]
     },
     "execution_count": 19,
     "metadata": {},
     "output_type": "execute_result"
    }
   ],
   "source": [
    "y_train_df = pd.DataFrame({'y_real': y_train, 'y_predicted': y_train_predict})\n",
    "y_train_df['difference'] = y_train_df.y_real - y_train_df.y_predicted \n",
    "y_train_df.head(10)"
   ]
  },
  {
   "cell_type": "markdown",
   "id": "martial-interaction",
   "metadata": {},
   "source": [
    "As expected, some predicted values are close to the real values (i.e., their differences are close to zero), and some others are far from expected (i.e., big values in their differences). \n",
    "\n",
    "We need **metrics** to evaluate empirically how good is this model. For linear regression models, one metric is the *coefficient of determination* (R^2) of the prediction. This score is related to the differences between the predicted values and the original values. The best possible score is 1.0. For more details, click [here](https://en.wikipedia.org/wiki/Coefficient_of_determination). "
   ]
  },
  {
   "cell_type": "code",
   "execution_count": 20,
   "id": "burning-acrobat",
   "metadata": {},
   "outputs": [
    {
     "name": "stdout",
     "output_type": "stream",
     "text": [
      "R2 score is 0.85\n"
     ]
    }
   ],
   "source": [
    "r2 = round(reg.score(X_train, y_train),2)\n",
    "print('R2 score is {}'.format(r2))"
   ]
  },
  {
   "cell_type": "markdown",
   "id": "brown-baltimore",
   "metadata": {},
   "source": [
    "### Exercise 4\n",
    "Calcualte the predicted value using the model `reg2` with the 90% training dataset. Use `y_train_predict_2` for the new predicted values. Then, copy the pandas dataframe and replace the files with your 90% datasets (`y_train_2` and `y_train_predict_2`). The new dataframe should be called `y_train_df_2`. Print `y_train_df_2` dataframe's head. "
   ]
  },
  {
   "cell_type": "code",
   "execution_count": 21,
   "id": "concrete-spine",
   "metadata": {},
   "outputs": [
    {
     "data": {
      "text/html": [
       "<div>\n",
       "<style scoped>\n",
       "    .dataframe tbody tr th:only-of-type {\n",
       "        vertical-align: middle;\n",
       "    }\n",
       "\n",
       "    .dataframe tbody tr th {\n",
       "        vertical-align: top;\n",
       "    }\n",
       "\n",
       "    .dataframe thead th {\n",
       "        text-align: right;\n",
       "    }\n",
       "</style>\n",
       "<table border=\"1\" class=\"dataframe\">\n",
       "  <thead>\n",
       "    <tr style=\"text-align: right;\">\n",
       "      <th></th>\n",
       "      <th>y_real</th>\n",
       "      <th>y_predicted</th>\n",
       "      <th>difference</th>\n",
       "    </tr>\n",
       "  </thead>\n",
       "  <tbody>\n",
       "    <tr>\n",
       "      <th>202</th>\n",
       "      <td>42.3</td>\n",
       "      <td>38.339876</td>\n",
       "      <td>3.960124</td>\n",
       "    </tr>\n",
       "    <tr>\n",
       "      <th>411</th>\n",
       "      <td>17.2</td>\n",
       "      <td>16.331458</td>\n",
       "      <td>0.868542</td>\n",
       "    </tr>\n",
       "    <tr>\n",
       "      <th>430</th>\n",
       "      <td>14.5</td>\n",
       "      <td>18.590209</td>\n",
       "      <td>-4.090209</td>\n",
       "    </tr>\n",
       "    <tr>\n",
       "      <th>113</th>\n",
       "      <td>18.7</td>\n",
       "      <td>18.784155</td>\n",
       "      <td>-0.084155</td>\n",
       "    </tr>\n",
       "    <tr>\n",
       "      <th>50</th>\n",
       "      <td>19.7</td>\n",
       "      <td>20.426836</td>\n",
       "      <td>-0.726836</td>\n",
       "    </tr>\n",
       "    <tr>\n",
       "      <th>346</th>\n",
       "      <td>17.2</td>\n",
       "      <td>17.596551</td>\n",
       "      <td>-0.396551</td>\n",
       "    </tr>\n",
       "    <tr>\n",
       "      <th>295</th>\n",
       "      <td>28.6</td>\n",
       "      <td>26.304314</td>\n",
       "      <td>2.295686</td>\n",
       "    </tr>\n",
       "    <tr>\n",
       "      <th>407</th>\n",
       "      <td>27.9</td>\n",
       "      <td>19.524300</td>\n",
       "      <td>8.375700</td>\n",
       "    </tr>\n",
       "    <tr>\n",
       "      <th>100</th>\n",
       "      <td>27.5</td>\n",
       "      <td>21.718153</td>\n",
       "      <td>5.781847</td>\n",
       "    </tr>\n",
       "    <tr>\n",
       "      <th>273</th>\n",
       "      <td>35.2</td>\n",
       "      <td>40.153392</td>\n",
       "      <td>-4.953392</td>\n",
       "    </tr>\n",
       "  </tbody>\n",
       "</table>\n",
       "</div>"
      ],
      "text/plain": [
       "     y_real  y_predicted  difference\n",
       "202    42.3    38.339876    3.960124\n",
       "411    17.2    16.331458    0.868542\n",
       "430    14.5    18.590209   -4.090209\n",
       "113    18.7    18.784155   -0.084155\n",
       "50     19.7    20.426836   -0.726836\n",
       "346    17.2    17.596551   -0.396551\n",
       "295    28.6    26.304314    2.295686\n",
       "407    27.9    19.524300    8.375700\n",
       "100    27.5    21.718153    5.781847\n",
       "273    35.2    40.153392   -4.953392"
      ]
     },
     "execution_count": 21,
     "metadata": {},
     "output_type": "execute_result"
    }
   ],
   "source": [
    "# Calculate the predicted prices based on the 90% training set\n",
    "y_train_predict_2 = reg2.predict(X_train_2)\n",
    "\n",
    "# Create the dataframe\n",
    "y_train_df_2 = pd.DataFrame({'y_real': y_train_2, 'y_predicted': y_train_predict_2})\n",
    "y_train_df_2['difference'] = y_train_df_2.y_real - y_train_df_2.y_predicted \n",
    "y_train_df_2.head(10)"
   ]
  },
  {
   "cell_type": "markdown",
   "id": "decimal-injury",
   "metadata": {},
   "source": [
    "Compute the R^2 of your model and compare it with the previous model' R^2. Is it better or worse?"
   ]
  },
  {
   "cell_type": "code",
   "execution_count": 22,
   "id": "finnish-kingdom",
   "metadata": {},
   "outputs": [
    {
     "name": "stdout",
     "output_type": "stream",
     "text": [
      "R2 score is 0.83\n"
     ]
    }
   ],
   "source": [
    "r2 = round(reg2.score(X_train_2, y_train_2),2)\n",
    "print('R2 score is {}'.format(r2))"
   ]
  },
  {
   "cell_type": "markdown",
   "id": "advanced-exhibit",
   "metadata": {},
   "source": [
    "## 6. Prediction\n",
    "In this final step, we use the model that we trained to *predict* new values (or values that were not tested before). This is the final test to check how good the model is. If the phenomena or casual effects are reflected correctly in our model, then the model will be capable to predict new observations. If the model's performance gets worse, we must reconsider the training dataset, features, and machine learning model used. \n",
    "\n",
    "Like the prior step, we first start predicting the target values (`y_test_predict`) from the testing dataset (`X_test`)"
   ]
  },
  {
   "cell_type": "code",
   "execution_count": 23,
   "id": "limited-pilot",
   "metadata": {},
   "outputs": [],
   "source": [
    "y_test_predict = reg.predict(X_test)"
   ]
  },
  {
   "cell_type": "markdown",
   "id": "diverse-flashing",
   "metadata": {},
   "source": [
    "We compare the predicted testing values with the real testing values by checking their difference. If the difference is small, the model is predicting values close to the real ones. We will create a table now to compare the numbers."
   ]
  },
  {
   "cell_type": "code",
   "execution_count": 24,
   "id": "catholic-reception",
   "metadata": {},
   "outputs": [
    {
     "data": {
      "text/html": [
       "<div>\n",
       "<style scoped>\n",
       "    .dataframe tbody tr th:only-of-type {\n",
       "        vertical-align: middle;\n",
       "    }\n",
       "\n",
       "    .dataframe tbody tr th {\n",
       "        vertical-align: top;\n",
       "    }\n",
       "\n",
       "    .dataframe thead th {\n",
       "        text-align: right;\n",
       "    }\n",
       "</style>\n",
       "<table border=\"1\" class=\"dataframe\">\n",
       "  <thead>\n",
       "    <tr style=\"text-align: right;\">\n",
       "      <th></th>\n",
       "      <th>y_original</th>\n",
       "      <th>y_predicted</th>\n",
       "      <th>difference</th>\n",
       "    </tr>\n",
       "  </thead>\n",
       "  <tbody>\n",
       "    <tr>\n",
       "      <th>248</th>\n",
       "      <td>24.5</td>\n",
       "      <td>20.783458</td>\n",
       "      <td>3.716542</td>\n",
       "    </tr>\n",
       "    <tr>\n",
       "      <th>201</th>\n",
       "      <td>24.1</td>\n",
       "      <td>23.605704</td>\n",
       "      <td>0.494296</td>\n",
       "    </tr>\n",
       "    <tr>\n",
       "      <th>177</th>\n",
       "      <td>24.6</td>\n",
       "      <td>24.944676</td>\n",
       "      <td>-0.344676</td>\n",
       "    </tr>\n",
       "    <tr>\n",
       "      <th>288</th>\n",
       "      <td>22.3</td>\n",
       "      <td>23.673788</td>\n",
       "      <td>-1.373788</td>\n",
       "    </tr>\n",
       "    <tr>\n",
       "      <th>489</th>\n",
       "      <td>7.0</td>\n",
       "      <td>13.207180</td>\n",
       "      <td>-6.207180</td>\n",
       "    </tr>\n",
       "    <tr>\n",
       "      <th>267</th>\n",
       "      <td>50.0</td>\n",
       "      <td>39.627067</td>\n",
       "      <td>10.372933</td>\n",
       "    </tr>\n",
       "    <tr>\n",
       "      <th>22</th>\n",
       "      <td>15.2</td>\n",
       "      <td>15.569097</td>\n",
       "      <td>-0.369097</td>\n",
       "    </tr>\n",
       "    <tr>\n",
       "      <th>180</th>\n",
       "      <td>39.8</td>\n",
       "      <td>37.653510</td>\n",
       "      <td>2.146490</td>\n",
       "    </tr>\n",
       "    <tr>\n",
       "      <th>334</th>\n",
       "      <td>20.7</td>\n",
       "      <td>21.590442</td>\n",
       "      <td>-0.890442</td>\n",
       "    </tr>\n",
       "    <tr>\n",
       "      <th>277</th>\n",
       "      <td>33.1</td>\n",
       "      <td>41.398983</td>\n",
       "      <td>-8.298983</td>\n",
       "    </tr>\n",
       "  </tbody>\n",
       "</table>\n",
       "</div>"
      ],
      "text/plain": [
       "     y_original  y_predicted  difference\n",
       "248        24.5    20.783458    3.716542\n",
       "201        24.1    23.605704    0.494296\n",
       "177        24.6    24.944676   -0.344676\n",
       "288        22.3    23.673788   -1.373788\n",
       "489         7.0    13.207180   -6.207180\n",
       "267        50.0    39.627067   10.372933\n",
       "22         15.2    15.569097   -0.369097\n",
       "180        39.8    37.653510    2.146490\n",
       "334        20.7    21.590442   -0.890442\n",
       "277        33.1    41.398983   -8.298983"
      ]
     },
     "execution_count": 24,
     "metadata": {},
     "output_type": "execute_result"
    }
   ],
   "source": [
    "y_test_df = pd.DataFrame({'y_original': y_test, 'y_predicted': y_test_predict})\n",
    "y_test_df['difference'] = y_test_df.y_original - y_test_df.y_predicted \n",
    "y_test_df.head(10)"
   ]
  },
  {
   "cell_type": "markdown",
   "id": "spread-plasma",
   "metadata": {},
   "source": [
    "Finally, we compute the R^2 of this model and check its performance. We can expect to see a lower performance compared to the training validation. We will discuss in another session how we can make these models have better scores. "
   ]
  },
  {
   "cell_type": "code",
   "execution_count": 25,
   "id": "interim-shock",
   "metadata": {},
   "outputs": [
    {
     "name": "stdout",
     "output_type": "stream",
     "text": [
      "R^2: 0.81\n"
     ]
    }
   ],
   "source": [
    "r2 = round(reg.score(X_test, y_test),2)\n",
    "print(\"R^2: {}\".format(r2))"
   ]
  },
  {
   "cell_type": "markdown",
   "id": "creative-ordinance",
   "metadata": {},
   "source": [
    "### Exercise 5"
   ]
  },
  {
   "cell_type": "markdown",
   "id": "headed-blond",
   "metadata": {},
   "source": [
    "Calcualte the predicted value using the model `reg2` with the 90% testing dataset. Use `y_test_predict_2` for the new predicted values. Then, copy the pandas dataframe and replace the variables with your 90% testing dataset (`y_test_2` and `y_test_predict_2`). The new dataframe should be called `y_test_df_2`. Print `y_test_df_2` dataframe's head. "
   ]
  },
  {
   "cell_type": "code",
   "execution_count": 26,
   "id": "included-uncertainty",
   "metadata": {},
   "outputs": [],
   "source": [
    "# Calculate the predicted value\n",
    "y_test_predict_2 = reg2.predict(X_test_2)"
   ]
  },
  {
   "cell_type": "code",
   "execution_count": 27,
   "id": "administrative-peeing",
   "metadata": {},
   "outputs": [
    {
     "data": {
      "text/html": [
       "<div>\n",
       "<style scoped>\n",
       "    .dataframe tbody tr th:only-of-type {\n",
       "        vertical-align: middle;\n",
       "    }\n",
       "\n",
       "    .dataframe tbody tr th {\n",
       "        vertical-align: top;\n",
       "    }\n",
       "\n",
       "    .dataframe thead th {\n",
       "        text-align: right;\n",
       "    }\n",
       "</style>\n",
       "<table border=\"1\" class=\"dataframe\">\n",
       "  <thead>\n",
       "    <tr style=\"text-align: right;\">\n",
       "      <th></th>\n",
       "      <th>y_original</th>\n",
       "      <th>y_predicted</th>\n",
       "      <th>difference</th>\n",
       "    </tr>\n",
       "  </thead>\n",
       "  <tbody>\n",
       "    <tr>\n",
       "      <th>129</th>\n",
       "      <td>14.3</td>\n",
       "      <td>15.965541</td>\n",
       "      <td>-1.665541</td>\n",
       "    </tr>\n",
       "    <tr>\n",
       "      <th>204</th>\n",
       "      <td>50.0</td>\n",
       "      <td>40.958182</td>\n",
       "      <td>9.041818</td>\n",
       "    </tr>\n",
       "    <tr>\n",
       "      <th>386</th>\n",
       "      <td>10.5</td>\n",
       "      <td>8.474505</td>\n",
       "      <td>2.025495</td>\n",
       "    </tr>\n",
       "    <tr>\n",
       "      <th>436</th>\n",
       "      <td>9.6</td>\n",
       "      <td>15.254705</td>\n",
       "      <td>-5.654705</td>\n",
       "    </tr>\n",
       "    <tr>\n",
       "      <th>173</th>\n",
       "      <td>23.6</td>\n",
       "      <td>24.571495</td>\n",
       "      <td>-0.971495</td>\n",
       "    </tr>\n",
       "    <tr>\n",
       "      <th>347</th>\n",
       "      <td>23.1</td>\n",
       "      <td>20.586548</td>\n",
       "      <td>2.513452</td>\n",
       "    </tr>\n",
       "    <tr>\n",
       "      <th>380</th>\n",
       "      <td>10.4</td>\n",
       "      <td>6.161557</td>\n",
       "      <td>4.238443</td>\n",
       "    </tr>\n",
       "    <tr>\n",
       "      <th>383</th>\n",
       "      <td>12.3</td>\n",
       "      <td>13.320262</td>\n",
       "      <td>-1.020262</td>\n",
       "    </tr>\n",
       "    <tr>\n",
       "      <th>339</th>\n",
       "      <td>19.0</td>\n",
       "      <td>21.446008</td>\n",
       "      <td>-2.446008</td>\n",
       "    </tr>\n",
       "    <tr>\n",
       "      <th>29</th>\n",
       "      <td>21.0</td>\n",
       "      <td>19.304946</td>\n",
       "      <td>1.695054</td>\n",
       "    </tr>\n",
       "  </tbody>\n",
       "</table>\n",
       "</div>"
      ],
      "text/plain": [
       "     y_original  y_predicted  difference\n",
       "129        14.3    15.965541   -1.665541\n",
       "204        50.0    40.958182    9.041818\n",
       "386        10.5     8.474505    2.025495\n",
       "436         9.6    15.254705   -5.654705\n",
       "173        23.6    24.571495   -0.971495\n",
       "347        23.1    20.586548    2.513452\n",
       "380        10.4     6.161557    4.238443\n",
       "383        12.3    13.320262   -1.020262\n",
       "339        19.0    21.446008   -2.446008\n",
       "29         21.0    19.304946    1.695054"
      ]
     },
     "execution_count": 27,
     "metadata": {},
     "output_type": "execute_result"
    }
   ],
   "source": [
    "# Create the dataframe\n",
    "y_test_df_2 = pd.DataFrame({'y_original': y_test_2, 'y_predicted': y_test_predict_2})\n",
    "y_test_df_2['difference'] = y_test_df_2.y_original - y_test_df_2.y_predicted \n",
    "y_test_df_2.head(10)"
   ]
  },
  {
   "cell_type": "markdown",
   "id": "pleasant-lighter",
   "metadata": {},
   "source": [
    "Compute the R2 of your model and compare it with the previous model' R2. Is it better or worse?"
   ]
  },
  {
   "cell_type": "code",
   "execution_count": 28,
   "id": "floppy-excess",
   "metadata": {},
   "outputs": [
    {
     "name": "stdout",
     "output_type": "stream",
     "text": [
      "R^2: 0.88\n"
     ]
    }
   ],
   "source": [
    "# Compute the score\n",
    "r2 = round(reg2.score(X_test_2, y_test_2),2)\n",
    "print(\"R^2: {}\".format(r2))"
   ]
  },
  {
   "cell_type": "code",
   "execution_count": null,
   "id": "temporal-banking",
   "metadata": {},
   "outputs": [],
   "source": []
  }
 ],
 "metadata": {
  "kernelspec": {
   "display_name": "Python 3 (ipykernel)",
   "language": "python",
   "name": "python3"
  },
  "language_info": {
   "codemirror_mode": {
    "name": "ipython",
    "version": 3
   },
   "file_extension": ".py",
   "mimetype": "text/x-python",
   "name": "python",
   "nbconvert_exporter": "python",
   "pygments_lexer": "ipython3",
   "version": "3.9.7"
  }
 },
 "nbformat": 4,
 "nbformat_minor": 5
}
