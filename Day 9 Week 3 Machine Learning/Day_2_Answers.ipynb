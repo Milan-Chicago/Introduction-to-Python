{
 "cells": [
  {
   "cell_type": "markdown",
   "id": "pleasant-norwegian",
   "metadata": {},
   "source": [
    "# Machine Learning Basics with Scikit-learn: Day 2"
   ]
  },
  {
   "cell_type": "markdown",
   "id": "happy-gossip",
   "metadata": {},
   "source": [
    "Today we will learn about **supervised learning.** We will cover some popular methods implemented in *scikit-learn*. If you are interested in learning more, explore the [Supervised Learning documentation](https://scikit-learn.org/stable/supervised_learning.html#supervised-learning). \n",
    "\n",
    "Supervised learning consists in learning the relationship between two datasets: the observed data `X` and an external variable `y` that we are trying to predict, usually called “target” or “labels”. Most often, `y` is a one-dimension array of length `n_samples`.\n",
    "\n",
    "To run these models easily, all supervised estimators in *scikit-learn* implement a `fit(X, y)` function to fit the model and a `predict(X)` function to predicte labels `y` given observations `X`.\n",
    "\n",
    "### Distinction between classification and regression\n",
    "Supervised learning aims to predict an outcome `y` based on information available `X`. There are two kinds of strategies: \n",
    "* If the prediction task is to classify the observations in a set of *categorical* values, in other words to “name” the objects observed, the task is said to be a **classification** task. Given the input `X` and the real values `y`, the model predicts the outcomes `y',` which can be correct or wrong. The `y` is a vector of integers (i.e., 0 or 1) or strings (e.g., `class1`,`class2`).\n",
    "* On the other hand, if the goal is to predict a *continuous* target variable, it is said to be a **regression** task. Based on the input `X`, we will obtain a numerical value `y'`, which is an approximation of the real value `y.`\n",
    "\n",
    "We will focus on classification models:\n",
    "* Nearest neighbors\n",
    "* Decision trees\n",
    "* Logistic regressions\n",
    "* Neural networks\n",
    "* Support vector machines\n",
    "\n",
    "If you're using Google Colab. Please uncomment and run the following commands. We need to use scikit-learn version 0.24.2."
   ]
  },
  {
   "cell_type": "code",
   "execution_count": null,
   "id": "union-carry",
   "metadata": {},
   "outputs": [],
   "source": [
    "# import sys\n",
    "# !{sys.executable} -m pip install scikit-learn==0.24.2\n",
    "# !{sys.executable} -m pip install scikit-learn --upgrade"
   ]
  },
  {
   "cell_type": "markdown",
   "id": "structural-parks",
   "metadata": {},
   "source": [
    "We will start loading all the packages required to run these models"
   ]
  },
  {
   "cell_type": "code",
   "execution_count": 1,
   "id": "reserved-declaration",
   "metadata": {},
   "outputs": [],
   "source": [
    "import numpy as np\n",
    "import pandas as pd\n",
    "import matplotlib.pyplot as plt\n",
    "import seaborn as sns\n",
    "\n",
    "from matplotlib.colors import ListedColormap\n",
    "from sklearn import datasets\n",
    "from sklearn import neighbors, datasets\n",
    "from sklearn import svm\n",
    "from sklearn import tree\n",
    "\n",
    "from sklearn.neighbors import KNeighborsClassifier\n",
    "from sklearn.linear_model import LogisticRegression\n",
    "from sklearn.model_selection import train_test_split\n",
    "from sklearn.neural_network import MLPClassifier\n",
    "from sklearn.tree import export_text"
   ]
  },
  {
   "cell_type": "markdown",
   "id": "blocked-courtesy",
   "metadata": {},
   "source": [
    "### Importing the dataset\n",
    "We will use the Wine dataset provided by `scikit-learn.` The data are the results of a chemical analysis of wines grown in the same region in Italy by *three* different cultivators. There are thirteen different measurements taken for different constituents found in the three types of wine:\n",
    "* Alcohol\n",
    "* Malic acid\n",
    "* Ash\n",
    "* Alcalinity of ash\n",
    "* Magnesium\n",
    "* Total phenols\n",
    "* Flavanoids\n",
    "* Nonflavanoid phenols\n",
    "* Proanthocyanins\n",
    "* Color intensity\n",
    "* Hue\n",
    "* OD280/OD315 of diluted wines\n",
    "* Proline"
   ]
  },
  {
   "cell_type": "code",
   "execution_count": 2,
   "id": "complimentary-macintosh",
   "metadata": {},
   "outputs": [],
   "source": [
    "wine_dataset = datasets.load_wine()\n",
    "wine = pd.DataFrame(wine_dataset.data, columns=wine_dataset.feature_names)\n",
    "wine['target'] = pd.Series(wine_dataset.target)"
   ]
  },
  {
   "cell_type": "code",
   "execution_count": null,
   "id": "consecutive-sampling",
   "metadata": {},
   "outputs": [],
   "source": [
    "wine"
   ]
  },
  {
   "cell_type": "markdown",
   "id": "seasonal-puppy",
   "metadata": {},
   "source": [
    "For demo purposes, we will use two dimensions of the dataset. In your exercises, you will create the models using **all** the features. "
   ]
  },
  {
   "cell_type": "code",
   "execution_count": 3,
   "id": "vulnerable-angola",
   "metadata": {},
   "outputs": [],
   "source": [
    "X = wine.iloc[:,:2]\n",
    "y = wine.target"
   ]
  },
  {
   "cell_type": "code",
   "execution_count": null,
   "id": "delayed-washington",
   "metadata": {},
   "outputs": [],
   "source": [
    "X"
   ]
  },
  {
   "cell_type": "markdown",
   "id": "enormous-casting",
   "metadata": {},
   "source": [
    "### Datasets for your exercises\n",
    "As yesterday, we partition the dataset into training and testing datasets. We will use the 80/20 proportion."
   ]
  },
  {
   "cell_type": "code",
   "execution_count": 4,
   "id": "opposite-immune",
   "metadata": {},
   "outputs": [],
   "source": [
    "X_train, X_test, y_train, y_test = train_test_split(X, y, test_size = 0.2)"
   ]
  },
  {
   "cell_type": "markdown",
   "id": "comic-expense",
   "metadata": {},
   "source": [
    "We will do the same using all the features."
   ]
  },
  {
   "cell_type": "code",
   "execution_count": 5,
   "id": "acquired-effects",
   "metadata": {},
   "outputs": [],
   "source": [
    "X_all = wine.iloc[:,:-1]\n",
    "y_all = wine.target\n",
    "X_all_train, X_all_test, y_all_train, y_all_test = train_test_split(X_all, y_all, test_size = 0.2)"
   ]
  },
  {
   "cell_type": "code",
   "execution_count": null,
   "id": "fewer-ethiopia",
   "metadata": {},
   "outputs": [],
   "source": [
    "X_all_train"
   ]
  },
  {
   "cell_type": "markdown",
   "id": "electric-election",
   "metadata": {},
   "source": [
    "## 1. KNN (k nearest neighbors) classifier\n",
    "The simplest possible classifier is the *nearest neighbor*: given a new observation `X_test`, find in the training set the observation with the closest feature vector. The model considers *k* nearest neighbors to make a prediction.\n",
    "\n",
    "![Example of kkn](https://www.kdnuggets.com/wp-content/uploads/popular-knn-metrics-0.png)\n",
    "\n",
    "This happens for each and every test observation and that is how it finds similarities in the data. For calculating distances KNN uses a distance metric from the list of available metrics.\n",
    "\n",
    "Please see the [Nearest Neighbors section](https://scikit-learn.org/stable/modules/neighbors.html#neighbors) of the online Scikit-learn documentation for more information about this type of classifier.\n",
    "\n",
    "Let's start creating the knn model:"
   ]
  },
  {
   "cell_type": "code",
   "execution_count": 6,
   "id": "renewable-symposium",
   "metadata": {},
   "outputs": [
    {
     "data": {
      "text/plain": [
       "KNeighborsClassifier()"
      ]
     },
     "execution_count": 6,
     "metadata": {},
     "output_type": "execute_result"
    }
   ],
   "source": [
    "knn = KNeighborsClassifier()\n",
    "knn.fit(X_train, y_train)"
   ]
  },
  {
   "cell_type": "markdown",
   "id": "blond-words",
   "metadata": {},
   "source": [
    "Now, we use this model to predict the values of the wine' class (`y_predict`) using the testing set (`X_test`)."
   ]
  },
  {
   "cell_type": "code",
   "execution_count": 7,
   "id": "satisfactory-riverside",
   "metadata": {},
   "outputs": [
    {
     "data": {
      "text/plain": [
       "array([0, 2, 1, 0, 2, 0, 1, 0, 2, 1, 1, 0, 1, 1, 0, 2, 1, 2, 1, 1, 0, 0,\n",
       "       1, 2, 1, 1, 0, 2, 2, 1, 2, 0, 0, 0, 2, 2])"
      ]
     },
     "execution_count": 7,
     "metadata": {},
     "output_type": "execute_result"
    }
   ],
   "source": [
    "y_predicted = knn.predict(X_test)\n",
    "y_predicted"
   ]
  },
  {
   "cell_type": "markdown",
   "id": "unsigned-think",
   "metadata": {},
   "source": [
    "Let's compare how good are the predicted values with respect to the real values"
   ]
  },
  {
   "cell_type": "code",
   "execution_count": 8,
   "id": "intellectual-functionality",
   "metadata": {},
   "outputs": [
    {
     "data": {
      "text/plain": [
       "array([0, 2, 1, 0, 1, 0, 1, 0, 0, 1, 1, 0, 1, 1, 0, 1, 1, 2, 1, 1, 2, 2,\n",
       "       1, 2, 1, 1, 2, 1, 2, 1, 0, 0, 1, 0, 2, 2])"
      ]
     },
     "execution_count": 8,
     "metadata": {},
     "output_type": "execute_result"
    }
   ],
   "source": [
    "np.array(y_test)"
   ]
  },
  {
   "cell_type": "markdown",
   "id": "possible-belarus",
   "metadata": {},
   "source": [
    "We will consolidate all the results in one single table and check if the predictions are correct."
   ]
  },
  {
   "cell_type": "code",
   "execution_count": 9,
   "id": "central-raleigh",
   "metadata": {},
   "outputs": [
    {
     "data": {
      "text/html": [
       "<div>\n",
       "<style scoped>\n",
       "    .dataframe tbody tr th:only-of-type {\n",
       "        vertical-align: middle;\n",
       "    }\n",
       "\n",
       "    .dataframe tbody tr th {\n",
       "        vertical-align: top;\n",
       "    }\n",
       "\n",
       "    .dataframe thead th {\n",
       "        text-align: right;\n",
       "    }\n",
       "</style>\n",
       "<table border=\"1\" class=\"dataframe\">\n",
       "  <thead>\n",
       "    <tr style=\"text-align: right;\">\n",
       "      <th></th>\n",
       "      <th>y_real</th>\n",
       "      <th>y_predicted</th>\n",
       "      <th>is_correct</th>\n",
       "    </tr>\n",
       "  </thead>\n",
       "  <tbody>\n",
       "    <tr>\n",
       "      <th>56</th>\n",
       "      <td>0</td>\n",
       "      <td>0</td>\n",
       "      <td>True</td>\n",
       "    </tr>\n",
       "    <tr>\n",
       "      <th>153</th>\n",
       "      <td>2</td>\n",
       "      <td>2</td>\n",
       "      <td>True</td>\n",
       "    </tr>\n",
       "    <tr>\n",
       "      <th>127</th>\n",
       "      <td>1</td>\n",
       "      <td>1</td>\n",
       "      <td>True</td>\n",
       "    </tr>\n",
       "    <tr>\n",
       "      <th>33</th>\n",
       "      <td>0</td>\n",
       "      <td>0</td>\n",
       "      <td>True</td>\n",
       "    </tr>\n",
       "    <tr>\n",
       "      <th>118</th>\n",
       "      <td>1</td>\n",
       "      <td>2</td>\n",
       "      <td>False</td>\n",
       "    </tr>\n",
       "  </tbody>\n",
       "</table>\n",
       "</div>"
      ],
      "text/plain": [
       "     y_real  y_predicted  is_correct\n",
       "56        0            0        True\n",
       "153       2            2        True\n",
       "127       1            1        True\n",
       "33        0            0        True\n",
       "118       1            2       False"
      ]
     },
     "execution_count": 9,
     "metadata": {},
     "output_type": "execute_result"
    }
   ],
   "source": [
    "results = pd.DataFrame({'y_real':y_test, 'y_predicted':y_predicted})\n",
    "results[\"is_correct\"] = [i['y_real'] == i['y_predicted'] for k,i in results.iterrows()]\n",
    "results.head()"
   ]
  },
  {
   "cell_type": "markdown",
   "id": "nominated-psychiatry",
   "metadata": {},
   "source": [
    "Let's count how many are correct and how many are false"
   ]
  },
  {
   "cell_type": "code",
   "execution_count": 10,
   "id": "regional-meaning",
   "metadata": {},
   "outputs": [
    {
     "name": "stdout",
     "output_type": "stream",
     "text": [
      "Correct predictions: 27\n",
      "Wrong predictions: 9\n",
      "Percentage of correct predictions: 75.0%\n"
     ]
    }
   ],
   "source": [
    "print(\"Correct predictions: \" + str(len(results[results.is_correct == True])))\n",
    "print(\"Wrong predictions: \" + str(len(results[results.is_correct == False])))\n",
    "print(\"Percentage of correct predictions: \" + str(round(100*len(results[results.is_correct == True])/len(results),2)) + \"%\")"
   ]
  },
  {
   "cell_type": "markdown",
   "id": "clean-editing",
   "metadata": {},
   "source": [
    "Since we are using two dimensions, we can see visually how the model predicts.  "
   ]
  },
  {
   "cell_type": "code",
   "execution_count": 11,
   "id": "subsequent-conditioning",
   "metadata": {},
   "outputs": [
    {
     "data": {
      "image/png": "[encoded data removed]",
      "text/plain": [
       "<Figure size 576x432 with 1 Axes>"
      ]
     },
     "metadata": {
      "needs_background": "light"
     },
     "output_type": "display_data"
    }
   ],
   "source": [
    "# Create color maps\n",
    "h = .02  # step size in the mesh\n",
    "cmap_light = ListedColormap(['orange', 'cyan', 'cornflowerblue'])\n",
    "cmap_bold = ['darkorange', 'c', 'darkblue']\n",
    "\n",
    "# Plot the decision boundary. For that, we will assign a color to each\n",
    "# point in the mesh [x_min, x_max]x[y_min, y_max].\n",
    "x_min, x_max = X_train.iloc[:, 0].min() - 1, X_train.iloc[:, 0].max() + 1\n",
    "y_min, y_max = X_train.iloc[:, 1].min() - 1, X_train.iloc[:, 1].max() + 1\n",
    "xx, yy = np.meshgrid(np.arange(x_min, x_max, h),\n",
    "                     np.arange(y_min, y_max, h))\n",
    "\n",
    "# Predict the areas according to the model\n",
    "Z = knn.predict(np.c_[xx.ravel(), yy.ravel()])\n",
    "\n",
    "# Put the result into a color plot\n",
    "Z = Z.reshape(xx.shape)\n",
    "plt.figure(figsize=(8, 6))\n",
    "plt.contourf(xx, yy, Z, cmap=cmap_light)\n",
    "\n",
    "# Plot also the training points\n",
    "sns.scatterplot(x=X_train.iloc[:, 0], y=X_train.iloc[:, 1], hue=y_train,\n",
    "                palette=cmap_bold, alpha=1.0, edgecolor=\"black\")\n",
    "plt.xlim(xx.min(), xx.max())\n",
    "plt.ylim(yy.min(), yy.max())\n",
    "plt.title(\"3-Class classification\")\n",
    "\n",
    "plt.show()"
   ]
  },
  {
   "cell_type": "markdown",
   "id": "contemporary-cooling",
   "metadata": {},
   "source": [
    "### Exercise 1:\n",
    "Now, it's your turn to create the model with all the features: `X_all_train`, `y_all_train` "
   ]
  },
  {
   "cell_type": "code",
   "execution_count": 12,
   "id": "cosmetic-nature",
   "metadata": {},
   "outputs": [
    {
     "data": {
      "text/plain": [
       "KNeighborsClassifier()"
      ]
     },
     "execution_count": 12,
     "metadata": {},
     "output_type": "execute_result"
    }
   ],
   "source": [
    "# Run a new model. Remember to use X_all_train and y_all_train\n",
    "knn = KNeighborsClassifier()\n",
    "knn.fit(X_all_train, y_all_train)"
   ]
  },
  {
   "cell_type": "code",
   "execution_count": 13,
   "id": "developing-villa",
   "metadata": {},
   "outputs": [],
   "source": [
    "# Get the predicted value. Remember to use `X_all_test`\n",
    "y_all_predicted = knn.predict(X_all_test)"
   ]
  },
  {
   "cell_type": "code",
   "execution_count": 14,
   "id": "covered-accent",
   "metadata": {},
   "outputs": [
    {
     "data": {
      "text/html": [
       "<div>\n",
       "<style scoped>\n",
       "    .dataframe tbody tr th:only-of-type {\n",
       "        vertical-align: middle;\n",
       "    }\n",
       "\n",
       "    .dataframe tbody tr th {\n",
       "        vertical-align: top;\n",
       "    }\n",
       "\n",
       "    .dataframe thead th {\n",
       "        text-align: right;\n",
       "    }\n",
       "</style>\n",
       "<table border=\"1\" class=\"dataframe\">\n",
       "  <thead>\n",
       "    <tr style=\"text-align: right;\">\n",
       "      <th></th>\n",
       "      <th>y_real</th>\n",
       "      <th>y_predicted</th>\n",
       "      <th>is_correct</th>\n",
       "    </tr>\n",
       "  </thead>\n",
       "  <tbody>\n",
       "    <tr>\n",
       "      <th>103</th>\n",
       "      <td>1</td>\n",
       "      <td>1</td>\n",
       "      <td>True</td>\n",
       "    </tr>\n",
       "    <tr>\n",
       "      <th>140</th>\n",
       "      <td>2</td>\n",
       "      <td>2</td>\n",
       "      <td>True</td>\n",
       "    </tr>\n",
       "    <tr>\n",
       "      <th>93</th>\n",
       "      <td>1</td>\n",
       "      <td>1</td>\n",
       "      <td>True</td>\n",
       "    </tr>\n",
       "    <tr>\n",
       "      <th>8</th>\n",
       "      <td>0</td>\n",
       "      <td>0</td>\n",
       "      <td>True</td>\n",
       "    </tr>\n",
       "    <tr>\n",
       "      <th>155</th>\n",
       "      <td>2</td>\n",
       "      <td>2</td>\n",
       "      <td>True</td>\n",
       "    </tr>\n",
       "    <tr>\n",
       "      <th>107</th>\n",
       "      <td>1</td>\n",
       "      <td>1</td>\n",
       "      <td>True</td>\n",
       "    </tr>\n",
       "    <tr>\n",
       "      <th>120</th>\n",
       "      <td>1</td>\n",
       "      <td>2</td>\n",
       "      <td>False</td>\n",
       "    </tr>\n",
       "    <tr>\n",
       "      <th>73</th>\n",
       "      <td>1</td>\n",
       "      <td>0</td>\n",
       "      <td>False</td>\n",
       "    </tr>\n",
       "    <tr>\n",
       "      <th>123</th>\n",
       "      <td>1</td>\n",
       "      <td>1</td>\n",
       "      <td>True</td>\n",
       "    </tr>\n",
       "    <tr>\n",
       "      <th>169</th>\n",
       "      <td>2</td>\n",
       "      <td>2</td>\n",
       "      <td>True</td>\n",
       "    </tr>\n",
       "    <tr>\n",
       "      <th>128</th>\n",
       "      <td>1</td>\n",
       "      <td>1</td>\n",
       "      <td>True</td>\n",
       "    </tr>\n",
       "    <tr>\n",
       "      <th>52</th>\n",
       "      <td>0</td>\n",
       "      <td>0</td>\n",
       "      <td>True</td>\n",
       "    </tr>\n",
       "    <tr>\n",
       "      <th>170</th>\n",
       "      <td>2</td>\n",
       "      <td>2</td>\n",
       "      <td>True</td>\n",
       "    </tr>\n",
       "    <tr>\n",
       "      <th>67</th>\n",
       "      <td>1</td>\n",
       "      <td>1</td>\n",
       "      <td>True</td>\n",
       "    </tr>\n",
       "    <tr>\n",
       "      <th>51</th>\n",
       "      <td>0</td>\n",
       "      <td>0</td>\n",
       "      <td>True</td>\n",
       "    </tr>\n",
       "    <tr>\n",
       "      <th>127</th>\n",
       "      <td>1</td>\n",
       "      <td>1</td>\n",
       "      <td>True</td>\n",
       "    </tr>\n",
       "    <tr>\n",
       "      <th>166</th>\n",
       "      <td>2</td>\n",
       "      <td>2</td>\n",
       "      <td>True</td>\n",
       "    </tr>\n",
       "    <tr>\n",
       "      <th>116</th>\n",
       "      <td>1</td>\n",
       "      <td>1</td>\n",
       "      <td>True</td>\n",
       "    </tr>\n",
       "    <tr>\n",
       "      <th>25</th>\n",
       "      <td>0</td>\n",
       "      <td>2</td>\n",
       "      <td>False</td>\n",
       "    </tr>\n",
       "    <tr>\n",
       "      <th>66</th>\n",
       "      <td>1</td>\n",
       "      <td>1</td>\n",
       "      <td>True</td>\n",
       "    </tr>\n",
       "    <tr>\n",
       "      <th>157</th>\n",
       "      <td>2</td>\n",
       "      <td>0</td>\n",
       "      <td>False</td>\n",
       "    </tr>\n",
       "    <tr>\n",
       "      <th>29</th>\n",
       "      <td>0</td>\n",
       "      <td>0</td>\n",
       "      <td>True</td>\n",
       "    </tr>\n",
       "    <tr>\n",
       "      <th>88</th>\n",
       "      <td>1</td>\n",
       "      <td>2</td>\n",
       "      <td>False</td>\n",
       "    </tr>\n",
       "    <tr>\n",
       "      <th>16</th>\n",
       "      <td>0</td>\n",
       "      <td>0</td>\n",
       "      <td>True</td>\n",
       "    </tr>\n",
       "    <tr>\n",
       "      <th>81</th>\n",
       "      <td>1</td>\n",
       "      <td>2</td>\n",
       "      <td>False</td>\n",
       "    </tr>\n",
       "    <tr>\n",
       "      <th>49</th>\n",
       "      <td>0</td>\n",
       "      <td>0</td>\n",
       "      <td>True</td>\n",
       "    </tr>\n",
       "    <tr>\n",
       "      <th>4</th>\n",
       "      <td>0</td>\n",
       "      <td>1</td>\n",
       "      <td>False</td>\n",
       "    </tr>\n",
       "    <tr>\n",
       "      <th>14</th>\n",
       "      <td>0</td>\n",
       "      <td>0</td>\n",
       "      <td>True</td>\n",
       "    </tr>\n",
       "    <tr>\n",
       "      <th>38</th>\n",
       "      <td>0</td>\n",
       "      <td>0</td>\n",
       "      <td>True</td>\n",
       "    </tr>\n",
       "    <tr>\n",
       "      <th>109</th>\n",
       "      <td>1</td>\n",
       "      <td>1</td>\n",
       "      <td>True</td>\n",
       "    </tr>\n",
       "    <tr>\n",
       "      <th>83</th>\n",
       "      <td>1</td>\n",
       "      <td>2</td>\n",
       "      <td>False</td>\n",
       "    </tr>\n",
       "    <tr>\n",
       "      <th>168</th>\n",
       "      <td>2</td>\n",
       "      <td>0</td>\n",
       "      <td>False</td>\n",
       "    </tr>\n",
       "    <tr>\n",
       "      <th>60</th>\n",
       "      <td>1</td>\n",
       "      <td>2</td>\n",
       "      <td>False</td>\n",
       "    </tr>\n",
       "    <tr>\n",
       "      <th>75</th>\n",
       "      <td>1</td>\n",
       "      <td>1</td>\n",
       "      <td>True</td>\n",
       "    </tr>\n",
       "    <tr>\n",
       "      <th>76</th>\n",
       "      <td>1</td>\n",
       "      <td>1</td>\n",
       "      <td>True</td>\n",
       "    </tr>\n",
       "    <tr>\n",
       "      <th>35</th>\n",
       "      <td>0</td>\n",
       "      <td>0</td>\n",
       "      <td>True</td>\n",
       "    </tr>\n",
       "  </tbody>\n",
       "</table>\n",
       "</div>"
      ],
      "text/plain": [
       "     y_real  y_predicted  is_correct\n",
       "103       1            1        True\n",
       "140       2            2        True\n",
       "93        1            1        True\n",
       "8         0            0        True\n",
       "155       2            2        True\n",
       "107       1            1        True\n",
       "120       1            2       False\n",
       "73        1            0       False\n",
       "123       1            1        True\n",
       "169       2            2        True\n",
       "128       1            1        True\n",
       "52        0            0        True\n",
       "170       2            2        True\n",
       "67        1            1        True\n",
       "51        0            0        True\n",
       "127       1            1        True\n",
       "166       2            2        True\n",
       "116       1            1        True\n",
       "25        0            2       False\n",
       "66        1            1        True\n",
       "157       2            0       False\n",
       "29        0            0        True\n",
       "88        1            2       False\n",
       "16        0            0        True\n",
       "81        1            2       False\n",
       "49        0            0        True\n",
       "4         0            1       False\n",
       "14        0            0        True\n",
       "38        0            0        True\n",
       "109       1            1        True\n",
       "83        1            2       False\n",
       "168       2            0       False\n",
       "60        1            2       False\n",
       "75        1            1        True\n",
       "76        1            1        True\n",
       "35        0            0        True"
      ]
     },
     "execution_count": 14,
     "metadata": {},
     "output_type": "execute_result"
    }
   ],
   "source": [
    "# Create the new result dataframe\n",
    "results = pd.DataFrame({'y_real': y_all_test, 'y_predicted': y_all_predicted})\n",
    "results[\"is_correct\"] = [i['y_real'] == i['y_predicted'] for k,i in results.iterrows()]\n",
    "results"
   ]
  },
  {
   "cell_type": "code",
   "execution_count": 15,
   "id": "criminal-agreement",
   "metadata": {},
   "outputs": [
    {
     "name": "stdout",
     "output_type": "stream",
     "text": [
      "Correct predictions: 26\n",
      "Wrong predictions: 10\n",
      "Percentage of correct predictions: 72.22%\n"
     ]
    }
   ],
   "source": [
    "# Run the new results\n",
    "print(\"Correct predictions: \" + str(len(results[results.is_correct == True])))\n",
    "print(\"Wrong predictions: \" + str(len(results[results.is_correct == False])))\n",
    "print(\"Percentage of correct predictions: \" + str(round(100*len(results[results.is_correct == True])/len(results),2)) + \"%\")"
   ]
  },
  {
   "cell_type": "markdown",
   "id": "fatal-soldier",
   "metadata": {},
   "source": [
    "Which model is doing better? The one using two variables or all the variables?"
   ]
  },
  {
   "cell_type": "markdown",
   "id": "systematic-vertex",
   "metadata": {},
   "source": [
    "## 2. Decision Trees\n",
    "Decision Trees are a non-parametric supervised learning method used for classification and regression. The goal is to create a model that predicts the value of a target variable by learning simple decision rules inferred from the data features. A tree can be seen as a piecewise constant approximation.\n",
    "\n",
    "Decision trees learn from data and set *if-then-else* decision rules. The deeper the tree, the more complex the decision rules and the fitter the model.\n",
    "\n",
    "Here is a simple example:\n",
    "\n",
    "<img src=\"https://miro.medium.com/max/2000/1*jojTznh4HOX_8cGw_04ODA.png\" alt=\"drawing\" width=\"700\"/>\n",
    "\n",
    "Some advantages of decision trees are:\n",
    "* Simple to understand and to interpret. Trees can be visualised.\n",
    "* Requires little data preparation. \n",
    "* Other techniques often require data normalisation, dummy variables need to be created and blank values to be removed. Note however that this module does not support missing values.\n",
    "* Able to handle multi-output problems.\n",
    "* Uses a white box model. If a given situation is observable in a model, the explanation for the condition is easily explained by boolean logic. By contrast, in a black box model (e.g., in an artificial neural network), results may be more difficult to interpret.\n",
    "* Possible to validate a model using statistical tests. That makes it possible to account for the reliability of the model.\n",
    "* Performs well even if its assumptions are somewhat violated by the true model from which the data were generated.\n",
    "\n",
    "The disadvantages of decision trees include:\n",
    "* Decision-tree learners can create over-complex trees that do not generalise the data well. This is called *overfitting*.\n",
    "* Decision trees can be unstable because small variations in the data might result in a completely different tree being generated. \n",
    "* There are concepts that are hard to learn because decision trees do not express them easily, such as XOR, parity or multiplexer problems.\n",
    "* Decision tree learners create biased trees if some classes dominate. It is therefore recommended to balance the dataset prior to fitting with the decision tree.\n",
    "\n",
    "For more information, check the [documentation](https://scikit-learn.org/stable/modules/tree.html).\n",
    "\n",
    "\n",
    "### Creating a decision-tree\n",
    "Let's create a decision tree classifier:"
   ]
  },
  {
   "cell_type": "code",
   "execution_count": 16,
   "id": "sacred-acquisition",
   "metadata": {},
   "outputs": [],
   "source": [
    "clf = tree.DecisionTreeClassifier()\n",
    "clf = clf.fit(X_train, y_train)"
   ]
  },
  {
   "cell_type": "code",
   "execution_count": 17,
   "id": "prescribed-amazon",
   "metadata": {},
   "outputs": [
    {
     "name": "stdout",
     "output_type": "stream",
     "text": [
      "Correct predictions: 25\n",
      "Wrong predictions: 11\n",
      "Percentage of correct predictions: 69.44%\n"
     ]
    }
   ],
   "source": [
    "y_predicted = clf.predict(X_test)\n",
    "results = pd.DataFrame({'y_real': y_test, 'y_predicted': y_predicted})\n",
    "results[\"is_correct\"] = [i['y_real'] == i['y_predicted'] for k,i in results.iterrows()]\n",
    "\n",
    "print(\"Correct predictions: \" + str(len(results[results.is_correct == True])))\n",
    "print(\"Wrong predictions: \" + str(len(results[results.is_correct == False])))\n",
    "print(\"Percentage of correct predictions: \" + str(round(100*len(results[results.is_correct == True])/len(results),2)) + \"%\")"
   ]
  },
  {
   "cell_type": "markdown",
   "id": "further-venue",
   "metadata": {},
   "source": [
    "We got a high accurate model using a decision tree. We can visualize the rules created by the decision tree:"
   ]
  },
  {
   "cell_type": "code",
   "execution_count": 18,
   "id": "controlling-extreme",
   "metadata": {},
   "outputs": [
    {
     "name": "stdout",
     "output_type": "stream",
     "text": [
      "|--- alcohol <= 12.75\n",
      "|   |--- malic_acid <= 2.93\n",
      "|   |   |--- alcohol <= 12.49\n",
      "|   |   |   |--- class: 1\n",
      "|   |   |--- alcohol >  12.49\n",
      "|   |   |   |--- malic_acid <= 1.31\n",
      "|   |   |   |   |--- class: 2\n",
      "|   |   |   |--- malic_acid >  1.31\n",
      "|   |   |   |   |--- malic_acid <= 2.45\n",
      "|   |   |   |   |   |--- class: 1\n",
      "|   |   |   |   |--- malic_acid >  2.45\n",
      "|   |   |   |   |   |--- class: 2\n",
      "|   |--- malic_acid >  2.93\n",
      "|   |   |--- alcohol <= 12.10\n",
      "|   |   |   |--- class: 1\n",
      "|   |   |--- alcohol >  12.10\n",
      "|   |   |   |--- alcohol <= 12.27\n",
      "|   |   |   |   |--- class: 2\n",
      "|   |   |   |--- alcohol >  12.27\n",
      "|   |   |   |   |--- alcohol <= 12.32\n",
      "|   |   |   |   |   |--- class: 1\n",
      "|   |   |   |   |--- alcohol >  12.32\n",
      "|   |   |   |   |   |--- malic_acid <= 3.85\n",
      "|   |   |   |   |   |   |--- class: 2\n",
      "|   |   |   |   |   |--- malic_acid >  3.85\n",
      "|   |   |   |   |   |   |--- malic_acid <= 4.97\n",
      "|   |   |   |   |   |   |   |--- class: 1\n",
      "|   |   |   |   |   |   |--- malic_acid >  4.97\n",
      "|   |   |   |   |   |   |   |--- class: 2\n",
      "|--- alcohol >  12.75\n",
      "|   |--- malic_acid <= 2.38\n",
      "|   |   |--- malic_acid <= 1.30\n",
      "|   |   |   |--- class: 1\n",
      "|   |   |--- malic_acid >  1.30\n",
      "|   |   |   |--- malic_acid <= 1.69\n",
      "|   |   |   |   |--- malic_acid <= 1.65\n",
      "|   |   |   |   |   |--- malic_acid <= 1.39\n",
      "|   |   |   |   |   |   |--- alcohol <= 13.36\n",
      "|   |   |   |   |   |   |   |--- class: 2\n",
      "|   |   |   |   |   |   |--- alcohol >  13.36\n",
      "|   |   |   |   |   |   |   |--- class: 0\n",
      "|   |   |   |   |   |--- malic_acid >  1.39\n",
      "|   |   |   |   |   |   |--- malic_acid <= 1.55\n",
      "|   |   |   |   |   |   |   |--- malic_acid <= 1.50\n",
      "|   |   |   |   |   |   |   |   |--- class: 0\n",
      "|   |   |   |   |   |   |   |--- malic_acid >  1.50\n",
      "|   |   |   |   |   |   |   |   |--- class: 1\n",
      "|   |   |   |   |   |   |--- malic_acid >  1.55\n",
      "|   |   |   |   |   |   |   |--- class: 0\n",
      "|   |   |   |   |--- malic_acid >  1.65\n",
      "|   |   |   |   |   |--- alcohol <= 13.53\n",
      "|   |   |   |   |   |   |--- alcohol <= 13.23\n",
      "|   |   |   |   |   |   |   |--- class: 1\n",
      "|   |   |   |   |   |   |--- alcohol >  13.23\n",
      "|   |   |   |   |   |   |   |--- malic_acid <= 1.66\n",
      "|   |   |   |   |   |   |   |   |--- class: 1\n",
      "|   |   |   |   |   |   |   |--- malic_acid >  1.66\n",
      "|   |   |   |   |   |   |   |   |--- class: 2\n",
      "|   |   |   |   |   |--- alcohol >  13.53\n",
      "|   |   |   |   |   |   |--- malic_acid <= 1.67\n",
      "|   |   |   |   |   |   |   |--- class: 0\n",
      "|   |   |   |   |   |   |--- malic_acid >  1.67\n",
      "|   |   |   |   |   |   |   |--- class: 2\n",
      "|   |   |   |--- malic_acid >  1.69\n",
      "|   |   |   |   |--- class: 0\n",
      "|   |--- malic_acid >  2.38\n",
      "|   |   |--- alcohol <= 14.19\n",
      "|   |   |   |--- malic_acid <= 5.73\n",
      "|   |   |   |   |--- malic_acid <= 3.87\n",
      "|   |   |   |   |   |--- malic_acid <= 3.75\n",
      "|   |   |   |   |   |   |--- alcohol <= 13.20\n",
      "|   |   |   |   |   |   |   |--- class: 2\n",
      "|   |   |   |   |   |   |--- alcohol >  13.20\n",
      "|   |   |   |   |   |   |   |--- alcohol <= 13.28\n",
      "|   |   |   |   |   |   |   |   |--- class: 0\n",
      "|   |   |   |   |   |   |   |--- alcohol >  13.28\n",
      "|   |   |   |   |   |   |   |   |--- alcohol <= 13.66\n",
      "|   |   |   |   |   |   |   |   |   |--- alcohol <= 13.55\n",
      "|   |   |   |   |   |   |   |   |   |   |--- class: 2\n",
      "|   |   |   |   |   |   |   |   |   |--- alcohol >  13.55\n",
      "|   |   |   |   |   |   |   |   |   |   |--- class: 0\n",
      "|   |   |   |   |   |   |   |   |--- alcohol >  13.66\n",
      "|   |   |   |   |   |   |   |   |   |--- class: 2\n",
      "|   |   |   |   |   |--- malic_acid >  3.75\n",
      "|   |   |   |   |   |   |--- class: 0\n",
      "|   |   |   |   |--- malic_acid >  3.87\n",
      "|   |   |   |   |   |--- class: 2\n",
      "|   |   |   |--- malic_acid >  5.73\n",
      "|   |   |   |   |--- class: 1\n",
      "|   |   |--- alcohol >  14.19\n",
      "|   |   |   |--- class: 0\n",
      "\n"
     ]
    }
   ],
   "source": [
    "r = export_text(clf, feature_names=wine.columns[:2].tolist())\n",
    "print(r)"
   ]
  },
  {
   "cell_type": "markdown",
   "id": "endless-kansas",
   "metadata": {},
   "source": [
    "We can visualize the model as a decision tree. "
   ]
  },
  {
   "cell_type": "code",
   "execution_count": 19,
   "id": "wrapped-vision",
   "metadata": {},
   "outputs": [
    {
     "data": {
      "image/png": "[encoded data removed]",
      "text/plain": [
       "<Figure size 720x720 with 1 Axes>"
      ]
     },
     "metadata": {
      "needs_background": "light"
     },
     "output_type": "display_data"
    }
   ],
   "source": [
    "plt.figure(1, figsize=(10, 10))\n",
    "tree.plot_tree(clf)\n",
    "plt.show()"
   ]
  },
  {
   "cell_type": "markdown",
   "id": "heavy-given",
   "metadata": {},
   "source": [
    "And also, we can see these regions in a 2D plane."
   ]
  },
  {
   "cell_type": "code",
   "execution_count": 20,
   "id": "helpful-somerset",
   "metadata": {},
   "outputs": [
    {
     "data": {
      "image/png": "[encoded data removed]",
      "text/plain": [
       "<Figure size 576x432 with 1 Axes>"
      ]
     },
     "metadata": {},
     "output_type": "display_data"
    }
   ],
   "source": [
    "Z = clf.predict(np.c_[xx.ravel(), yy.ravel()])\n",
    "\n",
    "# Put the result into a color plot\n",
    "Z = Z.reshape(xx.shape)\n",
    "plt.figure(1, figsize=(8, 6))\n",
    "plt.pcolormesh(xx, yy, Z, shading='auto', cmap=plt.cm.Paired)\n",
    "\n",
    "# Plot also the training points\n",
    "plt.scatter(X_train.iloc[:, 0], X_train.iloc[:, 1], c=y_train, edgecolors='k', cmap=plt.cm.Paired)\n",
    "plt.xlabel(wine.columns[0])\n",
    "plt.ylabel(wine.columns[1])\n",
    "\n",
    "plt.xlim(xx.min(), xx.max())\n",
    "plt.ylim(yy.min(), yy.max())\n",
    "plt.xticks(())\n",
    "plt.yticks(())\n",
    "\n",
    "plt.show()"
   ]
  },
  {
   "cell_type": "markdown",
   "id": "medium-proxy",
   "metadata": {},
   "source": [
    "### Exercise 2:\n",
    "Now, it's your turn to create a decision tree using all the features available. How well does this model perfom? Is it better or worse?"
   ]
  },
  {
   "cell_type": "code",
   "execution_count": 21,
   "id": "treated-gathering",
   "metadata": {},
   "outputs": [],
   "source": [
    "# Create your model here with X_all_train and y_all_train. Don't forget to run the fit function:\n",
    "clf = tree.DecisionTreeClassifier()\n",
    "clf = clf.fit(X_all_train, y_all_train)"
   ]
  },
  {
   "cell_type": "code",
   "execution_count": 22,
   "id": "valuable-organizer",
   "metadata": {},
   "outputs": [],
   "source": [
    "# Get the predicted value. Don't forget to use `X_all_test`\n",
    "y_all_predicted = clf.predict(X_all_test)"
   ]
  },
  {
   "cell_type": "code",
   "execution_count": 23,
   "id": "lonely-nancy",
   "metadata": {},
   "outputs": [
    {
     "data": {
      "text/html": [
       "<div>\n",
       "<style scoped>\n",
       "    .dataframe tbody tr th:only-of-type {\n",
       "        vertical-align: middle;\n",
       "    }\n",
       "\n",
       "    .dataframe tbody tr th {\n",
       "        vertical-align: top;\n",
       "    }\n",
       "\n",
       "    .dataframe thead th {\n",
       "        text-align: right;\n",
       "    }\n",
       "</style>\n",
       "<table border=\"1\" class=\"dataframe\">\n",
       "  <thead>\n",
       "    <tr style=\"text-align: right;\">\n",
       "      <th></th>\n",
       "      <th>y_real</th>\n",
       "      <th>y_predicted</th>\n",
       "      <th>is_correct</th>\n",
       "    </tr>\n",
       "  </thead>\n",
       "  <tbody>\n",
       "    <tr>\n",
       "      <th>103</th>\n",
       "      <td>1</td>\n",
       "      <td>1</td>\n",
       "      <td>True</td>\n",
       "    </tr>\n",
       "    <tr>\n",
       "      <th>140</th>\n",
       "      <td>2</td>\n",
       "      <td>2</td>\n",
       "      <td>True</td>\n",
       "    </tr>\n",
       "    <tr>\n",
       "      <th>93</th>\n",
       "      <td>1</td>\n",
       "      <td>1</td>\n",
       "      <td>True</td>\n",
       "    </tr>\n",
       "    <tr>\n",
       "      <th>8</th>\n",
       "      <td>0</td>\n",
       "      <td>0</td>\n",
       "      <td>True</td>\n",
       "    </tr>\n",
       "    <tr>\n",
       "      <th>155</th>\n",
       "      <td>2</td>\n",
       "      <td>2</td>\n",
       "      <td>True</td>\n",
       "    </tr>\n",
       "    <tr>\n",
       "      <th>107</th>\n",
       "      <td>1</td>\n",
       "      <td>1</td>\n",
       "      <td>True</td>\n",
       "    </tr>\n",
       "    <tr>\n",
       "      <th>120</th>\n",
       "      <td>1</td>\n",
       "      <td>1</td>\n",
       "      <td>True</td>\n",
       "    </tr>\n",
       "    <tr>\n",
       "      <th>73</th>\n",
       "      <td>1</td>\n",
       "      <td>1</td>\n",
       "      <td>True</td>\n",
       "    </tr>\n",
       "    <tr>\n",
       "      <th>123</th>\n",
       "      <td>1</td>\n",
       "      <td>1</td>\n",
       "      <td>True</td>\n",
       "    </tr>\n",
       "    <tr>\n",
       "      <th>169</th>\n",
       "      <td>2</td>\n",
       "      <td>2</td>\n",
       "      <td>True</td>\n",
       "    </tr>\n",
       "    <tr>\n",
       "      <th>128</th>\n",
       "      <td>1</td>\n",
       "      <td>1</td>\n",
       "      <td>True</td>\n",
       "    </tr>\n",
       "    <tr>\n",
       "      <th>52</th>\n",
       "      <td>0</td>\n",
       "      <td>0</td>\n",
       "      <td>True</td>\n",
       "    </tr>\n",
       "    <tr>\n",
       "      <th>170</th>\n",
       "      <td>2</td>\n",
       "      <td>2</td>\n",
       "      <td>True</td>\n",
       "    </tr>\n",
       "    <tr>\n",
       "      <th>67</th>\n",
       "      <td>1</td>\n",
       "      <td>1</td>\n",
       "      <td>True</td>\n",
       "    </tr>\n",
       "    <tr>\n",
       "      <th>51</th>\n",
       "      <td>0</td>\n",
       "      <td>0</td>\n",
       "      <td>True</td>\n",
       "    </tr>\n",
       "    <tr>\n",
       "      <th>127</th>\n",
       "      <td>1</td>\n",
       "      <td>1</td>\n",
       "      <td>True</td>\n",
       "    </tr>\n",
       "    <tr>\n",
       "      <th>166</th>\n",
       "      <td>2</td>\n",
       "      <td>2</td>\n",
       "      <td>True</td>\n",
       "    </tr>\n",
       "    <tr>\n",
       "      <th>116</th>\n",
       "      <td>1</td>\n",
       "      <td>1</td>\n",
       "      <td>True</td>\n",
       "    </tr>\n",
       "    <tr>\n",
       "      <th>25</th>\n",
       "      <td>0</td>\n",
       "      <td>1</td>\n",
       "      <td>False</td>\n",
       "    </tr>\n",
       "    <tr>\n",
       "      <th>66</th>\n",
       "      <td>1</td>\n",
       "      <td>1</td>\n",
       "      <td>True</td>\n",
       "    </tr>\n",
       "    <tr>\n",
       "      <th>157</th>\n",
       "      <td>2</td>\n",
       "      <td>2</td>\n",
       "      <td>True</td>\n",
       "    </tr>\n",
       "    <tr>\n",
       "      <th>29</th>\n",
       "      <td>0</td>\n",
       "      <td>0</td>\n",
       "      <td>True</td>\n",
       "    </tr>\n",
       "    <tr>\n",
       "      <th>88</th>\n",
       "      <td>1</td>\n",
       "      <td>1</td>\n",
       "      <td>True</td>\n",
       "    </tr>\n",
       "    <tr>\n",
       "      <th>16</th>\n",
       "      <td>0</td>\n",
       "      <td>0</td>\n",
       "      <td>True</td>\n",
       "    </tr>\n",
       "    <tr>\n",
       "      <th>81</th>\n",
       "      <td>1</td>\n",
       "      <td>0</td>\n",
       "      <td>False</td>\n",
       "    </tr>\n",
       "    <tr>\n",
       "      <th>49</th>\n",
       "      <td>0</td>\n",
       "      <td>0</td>\n",
       "      <td>True</td>\n",
       "    </tr>\n",
       "    <tr>\n",
       "      <th>4</th>\n",
       "      <td>0</td>\n",
       "      <td>0</td>\n",
       "      <td>True</td>\n",
       "    </tr>\n",
       "    <tr>\n",
       "      <th>14</th>\n",
       "      <td>0</td>\n",
       "      <td>0</td>\n",
       "      <td>True</td>\n",
       "    </tr>\n",
       "    <tr>\n",
       "      <th>38</th>\n",
       "      <td>0</td>\n",
       "      <td>1</td>\n",
       "      <td>False</td>\n",
       "    </tr>\n",
       "    <tr>\n",
       "      <th>109</th>\n",
       "      <td>1</td>\n",
       "      <td>1</td>\n",
       "      <td>True</td>\n",
       "    </tr>\n",
       "    <tr>\n",
       "      <th>83</th>\n",
       "      <td>1</td>\n",
       "      <td>2</td>\n",
       "      <td>False</td>\n",
       "    </tr>\n",
       "    <tr>\n",
       "      <th>168</th>\n",
       "      <td>2</td>\n",
       "      <td>2</td>\n",
       "      <td>True</td>\n",
       "    </tr>\n",
       "    <tr>\n",
       "      <th>60</th>\n",
       "      <td>1</td>\n",
       "      <td>1</td>\n",
       "      <td>True</td>\n",
       "    </tr>\n",
       "    <tr>\n",
       "      <th>75</th>\n",
       "      <td>1</td>\n",
       "      <td>1</td>\n",
       "      <td>True</td>\n",
       "    </tr>\n",
       "    <tr>\n",
       "      <th>76</th>\n",
       "      <td>1</td>\n",
       "      <td>1</td>\n",
       "      <td>True</td>\n",
       "    </tr>\n",
       "    <tr>\n",
       "      <th>35</th>\n",
       "      <td>0</td>\n",
       "      <td>0</td>\n",
       "      <td>True</td>\n",
       "    </tr>\n",
       "  </tbody>\n",
       "</table>\n",
       "</div>"
      ],
      "text/plain": [
       "     y_real  y_predicted  is_correct\n",
       "103       1            1        True\n",
       "140       2            2        True\n",
       "93        1            1        True\n",
       "8         0            0        True\n",
       "155       2            2        True\n",
       "107       1            1        True\n",
       "120       1            1        True\n",
       "73        1            1        True\n",
       "123       1            1        True\n",
       "169       2            2        True\n",
       "128       1            1        True\n",
       "52        0            0        True\n",
       "170       2            2        True\n",
       "67        1            1        True\n",
       "51        0            0        True\n",
       "127       1            1        True\n",
       "166       2            2        True\n",
       "116       1            1        True\n",
       "25        0            1       False\n",
       "66        1            1        True\n",
       "157       2            2        True\n",
       "29        0            0        True\n",
       "88        1            1        True\n",
       "16        0            0        True\n",
       "81        1            0       False\n",
       "49        0            0        True\n",
       "4         0            0        True\n",
       "14        0            0        True\n",
       "38        0            1       False\n",
       "109       1            1        True\n",
       "83        1            2       False\n",
       "168       2            2        True\n",
       "60        1            1        True\n",
       "75        1            1        True\n",
       "76        1            1        True\n",
       "35        0            0        True"
      ]
     },
     "execution_count": 23,
     "metadata": {},
     "output_type": "execute_result"
    }
   ],
   "source": [
    "# Create the new result dataframe\n",
    "results = pd.DataFrame({'y_real': y_all_test, 'y_predicted': y_all_predicted})\n",
    "results[\"is_correct\"] = [i['y_real'] == i['y_predicted'] for k,i in results.iterrows()]\n",
    "results"
   ]
  },
  {
   "cell_type": "code",
   "execution_count": 24,
   "id": "bigger-store",
   "metadata": {},
   "outputs": [],
   "source": [
    "# Run the new results\n",
    "#print(\"Correct predictions: \" + str(len(results[results.is_correct == True])))\n",
    "#print(\"Wrong predictions: \" + str(len(results[results.is_correct == False])))\n",
    "#print(\"Percentage of correct predictions: \" + str(round(100*len(results[results.is_correct == True])/len(results),2)) + \"%\")"
   ]
  },
  {
   "cell_type": "markdown",
   "id": "frank-bachelor",
   "metadata": {},
   "source": [
    "## 3. Logistic regressions\n",
    "\n",
    "Logistic regression is a statistical model that in its basic form uses a logistic function to model a binary dependent variable, although many more complex extensions exist. The logistic regression (or logit regression) estimates the parameters of a *logistic model* (a form of binary regression). \n",
    "\n",
    "<img src=\"https://scikit-learn.org/stable/_images/sphx_glr_plot_logistic_001.png\" alt=\"drawing\" width=\"400\"/>\n",
    "\n",
    "Mathematically, a binary logistic model has a dependent variable with two possible values, such as pass/fail which is represented by an indicator variable, where the two values are labeled \"0\" and \"1\".\n",
    "\n",
    "We will create a logistic regression with the current data."
   ]
  },
  {
   "cell_type": "code",
   "execution_count": 25,
   "id": "experienced-sterling",
   "metadata": {},
   "outputs": [
    {
     "data": {
      "text/plain": [
       "LogisticRegression(C=100000.0)"
      ]
     },
     "execution_count": 25,
     "metadata": {},
     "output_type": "execute_result"
    }
   ],
   "source": [
    "log = LogisticRegression(C=1e5)\n",
    "log.fit(X_train, y_train)"
   ]
  },
  {
   "cell_type": "code",
   "execution_count": 26,
   "id": "earlier-representation",
   "metadata": {},
   "outputs": [
    {
     "data": {
      "text/html": [
       "<div>\n",
       "<style scoped>\n",
       "    .dataframe tbody tr th:only-of-type {\n",
       "        vertical-align: middle;\n",
       "    }\n",
       "\n",
       "    .dataframe tbody tr th {\n",
       "        vertical-align: top;\n",
       "    }\n",
       "\n",
       "    .dataframe thead th {\n",
       "        text-align: right;\n",
       "    }\n",
       "</style>\n",
       "<table border=\"1\" class=\"dataframe\">\n",
       "  <thead>\n",
       "    <tr style=\"text-align: right;\">\n",
       "      <th></th>\n",
       "      <th>y_real</th>\n",
       "      <th>y_predicted</th>\n",
       "      <th>is_correct</th>\n",
       "    </tr>\n",
       "  </thead>\n",
       "  <tbody>\n",
       "    <tr>\n",
       "      <th>56</th>\n",
       "      <td>0</td>\n",
       "      <td>0</td>\n",
       "      <td>True</td>\n",
       "    </tr>\n",
       "    <tr>\n",
       "      <th>153</th>\n",
       "      <td>2</td>\n",
       "      <td>2</td>\n",
       "      <td>True</td>\n",
       "    </tr>\n",
       "    <tr>\n",
       "      <th>127</th>\n",
       "      <td>1</td>\n",
       "      <td>1</td>\n",
       "      <td>True</td>\n",
       "    </tr>\n",
       "    <tr>\n",
       "      <th>33</th>\n",
       "      <td>0</td>\n",
       "      <td>0</td>\n",
       "      <td>True</td>\n",
       "    </tr>\n",
       "    <tr>\n",
       "      <th>118</th>\n",
       "      <td>1</td>\n",
       "      <td>2</td>\n",
       "      <td>False</td>\n",
       "    </tr>\n",
       "  </tbody>\n",
       "</table>\n",
       "</div>"
      ],
      "text/plain": [
       "     y_real  y_predicted  is_correct\n",
       "56        0            0        True\n",
       "153       2            2        True\n",
       "127       1            1        True\n",
       "33        0            0        True\n",
       "118       1            2       False"
      ]
     },
     "execution_count": 26,
     "metadata": {},
     "output_type": "execute_result"
    }
   ],
   "source": [
    "y_predicted = log.predict(X_test)\n",
    "results = pd.DataFrame({'y_real':y_test, 'y_predicted':y_predicted})\n",
    "results[\"is_correct\"] = [i['y_real'] == i['y_predicted'] for k,i in results.iterrows()]\n",
    "results.head()"
   ]
  },
  {
   "cell_type": "code",
   "execution_count": 27,
   "id": "delayed-ethics",
   "metadata": {},
   "outputs": [
    {
     "name": "stdout",
     "output_type": "stream",
     "text": [
      "Correct predictions: 26\n",
      "Wrong predictions: 10\n",
      "Percentage of correct predictions: 72.22%\n"
     ]
    }
   ],
   "source": [
    "print(\"Correct predictions: \" + str(len(results[results.is_correct == True])))\n",
    "print(\"Wrong predictions: \" + str(len(results[results.is_correct == False])))\n",
    "print(\"Percentage of correct predictions: \" + str(round(100*len(results[results.is_correct == True])/len(results),2)) + \"%\")"
   ]
  },
  {
   "cell_type": "markdown",
   "id": "afraid-acquisition",
   "metadata": {},
   "source": [
    "We will plot the classification results:"
   ]
  },
  {
   "cell_type": "code",
   "execution_count": 28,
   "id": "fallen-electricity",
   "metadata": {},
   "outputs": [
    {
     "data": {
      "image/png": "[encoded data removed]",
      "text/plain": [
       "<Figure size 576x432 with 1 Axes>"
      ]
     },
     "metadata": {},
     "output_type": "display_data"
    }
   ],
   "source": [
    "Z = log.predict(np.c_[xx.ravel(), yy.ravel()])\n",
    "\n",
    "# Put the result into a color plot\n",
    "Z = Z.reshape(xx.shape)\n",
    "plt.figure(1, figsize=(8, 6))\n",
    "plt.pcolormesh(xx, yy, Z, shading='auto', cmap=plt.cm.Paired)\n",
    "\n",
    "# Plot also the training points\n",
    "plt.scatter(X_train.iloc[:, 0], X_train.iloc[:, 1], c=y_train, edgecolors='k', cmap=plt.cm.Paired)\n",
    "plt.xlabel(wine.columns[0])\n",
    "plt.ylabel(wine.columns[1])\n",
    "\n",
    "plt.xlim(xx.min(), xx.max())\n",
    "plt.ylim(yy.min(), yy.max())\n",
    "plt.xticks(())\n",
    "plt.yticks(())\n",
    "\n",
    "plt.show()"
   ]
  },
  {
   "cell_type": "markdown",
   "id": "important-score",
   "metadata": {},
   "source": [
    "### Exercise 3:\n",
    "Now, it's your turn to create a linear regression mdoel using all the features available. How well does this model perfom? Is it better or worse?"
   ]
  },
  {
   "cell_type": "code",
   "execution_count": 29,
   "id": "associate-check",
   "metadata": {},
   "outputs": [
    {
     "name": "stderr",
     "output_type": "stream",
     "text": [
      "/usr/local/lib/python3.9/site-packages/sklearn/linear_model/_logistic.py:763: ConvergenceWarning: lbfgs failed to converge (status=1):\n",
      "STOP: TOTAL NO. of ITERATIONS REACHED LIMIT.\n",
      "\n",
      "Increase the number of iterations (max_iter) or scale the data as shown in:\n",
      "    https://scikit-learn.org/stable/modules/preprocessing.html\n",
      "Please also refer to the documentation for alternative solver options:\n",
      "    https://scikit-learn.org/stable/modules/linear_model.html#logistic-regression\n",
      "  n_iter_i = _check_optimize_result(\n"
     ]
    },
    {
     "data": {
      "text/plain": [
       "LogisticRegression(C=100000.0)"
      ]
     },
     "execution_count": 29,
     "metadata": {},
     "output_type": "execute_result"
    }
   ],
   "source": [
    "# Create your model here. Don't forget to run the fit function:\n",
    "log = LogisticRegression(C=1e5)\n",
    "log.fit(X_all_train, y_all_train)"
   ]
  },
  {
   "cell_type": "code",
   "execution_count": 30,
   "id": "optical-breakdown",
   "metadata": {},
   "outputs": [],
   "source": [
    "# Get the predicted value. Remember to use `X_all_test`\n",
    "y_all_predicted = log.predict(X_all_test)"
   ]
  },
  {
   "cell_type": "code",
   "execution_count": 31,
   "id": "static-preserve",
   "metadata": {},
   "outputs": [
    {
     "data": {
      "text/html": [
       "<div>\n",
       "<style scoped>\n",
       "    .dataframe tbody tr th:only-of-type {\n",
       "        vertical-align: middle;\n",
       "    }\n",
       "\n",
       "    .dataframe tbody tr th {\n",
       "        vertical-align: top;\n",
       "    }\n",
       "\n",
       "    .dataframe thead th {\n",
       "        text-align: right;\n",
       "    }\n",
       "</style>\n",
       "<table border=\"1\" class=\"dataframe\">\n",
       "  <thead>\n",
       "    <tr style=\"text-align: right;\">\n",
       "      <th></th>\n",
       "      <th>y_real</th>\n",
       "      <th>y_predicted</th>\n",
       "      <th>is_correct</th>\n",
       "    </tr>\n",
       "  </thead>\n",
       "  <tbody>\n",
       "    <tr>\n",
       "      <th>103</th>\n",
       "      <td>1</td>\n",
       "      <td>1</td>\n",
       "      <td>True</td>\n",
       "    </tr>\n",
       "    <tr>\n",
       "      <th>140</th>\n",
       "      <td>2</td>\n",
       "      <td>2</td>\n",
       "      <td>True</td>\n",
       "    </tr>\n",
       "    <tr>\n",
       "      <th>93</th>\n",
       "      <td>1</td>\n",
       "      <td>1</td>\n",
       "      <td>True</td>\n",
       "    </tr>\n",
       "    <tr>\n",
       "      <th>8</th>\n",
       "      <td>0</td>\n",
       "      <td>0</td>\n",
       "      <td>True</td>\n",
       "    </tr>\n",
       "    <tr>\n",
       "      <th>155</th>\n",
       "      <td>2</td>\n",
       "      <td>2</td>\n",
       "      <td>True</td>\n",
       "    </tr>\n",
       "    <tr>\n",
       "      <th>107</th>\n",
       "      <td>1</td>\n",
       "      <td>1</td>\n",
       "      <td>True</td>\n",
       "    </tr>\n",
       "    <tr>\n",
       "      <th>120</th>\n",
       "      <td>1</td>\n",
       "      <td>1</td>\n",
       "      <td>True</td>\n",
       "    </tr>\n",
       "    <tr>\n",
       "      <th>73</th>\n",
       "      <td>1</td>\n",
       "      <td>1</td>\n",
       "      <td>True</td>\n",
       "    </tr>\n",
       "    <tr>\n",
       "      <th>123</th>\n",
       "      <td>1</td>\n",
       "      <td>1</td>\n",
       "      <td>True</td>\n",
       "    </tr>\n",
       "    <tr>\n",
       "      <th>169</th>\n",
       "      <td>2</td>\n",
       "      <td>2</td>\n",
       "      <td>True</td>\n",
       "    </tr>\n",
       "    <tr>\n",
       "      <th>128</th>\n",
       "      <td>1</td>\n",
       "      <td>1</td>\n",
       "      <td>True</td>\n",
       "    </tr>\n",
       "    <tr>\n",
       "      <th>52</th>\n",
       "      <td>0</td>\n",
       "      <td>0</td>\n",
       "      <td>True</td>\n",
       "    </tr>\n",
       "    <tr>\n",
       "      <th>170</th>\n",
       "      <td>2</td>\n",
       "      <td>2</td>\n",
       "      <td>True</td>\n",
       "    </tr>\n",
       "    <tr>\n",
       "      <th>67</th>\n",
       "      <td>1</td>\n",
       "      <td>1</td>\n",
       "      <td>True</td>\n",
       "    </tr>\n",
       "    <tr>\n",
       "      <th>51</th>\n",
       "      <td>0</td>\n",
       "      <td>0</td>\n",
       "      <td>True</td>\n",
       "    </tr>\n",
       "    <tr>\n",
       "      <th>127</th>\n",
       "      <td>1</td>\n",
       "      <td>1</td>\n",
       "      <td>True</td>\n",
       "    </tr>\n",
       "    <tr>\n",
       "      <th>166</th>\n",
       "      <td>2</td>\n",
       "      <td>2</td>\n",
       "      <td>True</td>\n",
       "    </tr>\n",
       "    <tr>\n",
       "      <th>116</th>\n",
       "      <td>1</td>\n",
       "      <td>1</td>\n",
       "      <td>True</td>\n",
       "    </tr>\n",
       "    <tr>\n",
       "      <th>25</th>\n",
       "      <td>0</td>\n",
       "      <td>1</td>\n",
       "      <td>False</td>\n",
       "    </tr>\n",
       "    <tr>\n",
       "      <th>66</th>\n",
       "      <td>1</td>\n",
       "      <td>0</td>\n",
       "      <td>False</td>\n",
       "    </tr>\n",
       "    <tr>\n",
       "      <th>157</th>\n",
       "      <td>2</td>\n",
       "      <td>2</td>\n",
       "      <td>True</td>\n",
       "    </tr>\n",
       "    <tr>\n",
       "      <th>29</th>\n",
       "      <td>0</td>\n",
       "      <td>0</td>\n",
       "      <td>True</td>\n",
       "    </tr>\n",
       "    <tr>\n",
       "      <th>88</th>\n",
       "      <td>1</td>\n",
       "      <td>1</td>\n",
       "      <td>True</td>\n",
       "    </tr>\n",
       "    <tr>\n",
       "      <th>16</th>\n",
       "      <td>0</td>\n",
       "      <td>0</td>\n",
       "      <td>True</td>\n",
       "    </tr>\n",
       "    <tr>\n",
       "      <th>81</th>\n",
       "      <td>1</td>\n",
       "      <td>0</td>\n",
       "      <td>False</td>\n",
       "    </tr>\n",
       "    <tr>\n",
       "      <th>49</th>\n",
       "      <td>0</td>\n",
       "      <td>0</td>\n",
       "      <td>True</td>\n",
       "    </tr>\n",
       "    <tr>\n",
       "      <th>4</th>\n",
       "      <td>0</td>\n",
       "      <td>1</td>\n",
       "      <td>False</td>\n",
       "    </tr>\n",
       "    <tr>\n",
       "      <th>14</th>\n",
       "      <td>0</td>\n",
       "      <td>0</td>\n",
       "      <td>True</td>\n",
       "    </tr>\n",
       "    <tr>\n",
       "      <th>38</th>\n",
       "      <td>0</td>\n",
       "      <td>0</td>\n",
       "      <td>True</td>\n",
       "    </tr>\n",
       "    <tr>\n",
       "      <th>109</th>\n",
       "      <td>1</td>\n",
       "      <td>1</td>\n",
       "      <td>True</td>\n",
       "    </tr>\n",
       "    <tr>\n",
       "      <th>83</th>\n",
       "      <td>1</td>\n",
       "      <td>2</td>\n",
       "      <td>False</td>\n",
       "    </tr>\n",
       "    <tr>\n",
       "      <th>168</th>\n",
       "      <td>2</td>\n",
       "      <td>2</td>\n",
       "      <td>True</td>\n",
       "    </tr>\n",
       "    <tr>\n",
       "      <th>60</th>\n",
       "      <td>1</td>\n",
       "      <td>1</td>\n",
       "      <td>True</td>\n",
       "    </tr>\n",
       "    <tr>\n",
       "      <th>75</th>\n",
       "      <td>1</td>\n",
       "      <td>1</td>\n",
       "      <td>True</td>\n",
       "    </tr>\n",
       "    <tr>\n",
       "      <th>76</th>\n",
       "      <td>1</td>\n",
       "      <td>1</td>\n",
       "      <td>True</td>\n",
       "    </tr>\n",
       "    <tr>\n",
       "      <th>35</th>\n",
       "      <td>0</td>\n",
       "      <td>0</td>\n",
       "      <td>True</td>\n",
       "    </tr>\n",
       "  </tbody>\n",
       "</table>\n",
       "</div>"
      ],
      "text/plain": [
       "     y_real  y_predicted  is_correct\n",
       "103       1            1        True\n",
       "140       2            2        True\n",
       "93        1            1        True\n",
       "8         0            0        True\n",
       "155       2            2        True\n",
       "107       1            1        True\n",
       "120       1            1        True\n",
       "73        1            1        True\n",
       "123       1            1        True\n",
       "169       2            2        True\n",
       "128       1            1        True\n",
       "52        0            0        True\n",
       "170       2            2        True\n",
       "67        1            1        True\n",
       "51        0            0        True\n",
       "127       1            1        True\n",
       "166       2            2        True\n",
       "116       1            1        True\n",
       "25        0            1       False\n",
       "66        1            0       False\n",
       "157       2            2        True\n",
       "29        0            0        True\n",
       "88        1            1        True\n",
       "16        0            0        True\n",
       "81        1            0       False\n",
       "49        0            0        True\n",
       "4         0            1       False\n",
       "14        0            0        True\n",
       "38        0            0        True\n",
       "109       1            1        True\n",
       "83        1            2       False\n",
       "168       2            2        True\n",
       "60        1            1        True\n",
       "75        1            1        True\n",
       "76        1            1        True\n",
       "35        0            0        True"
      ]
     },
     "execution_count": 31,
     "metadata": {},
     "output_type": "execute_result"
    }
   ],
   "source": [
    "# Create the new result dataframe\n",
    "results = pd.DataFrame({'y_real': y_all_test, 'y_predicted': y_all_predicted})\n",
    "results[\"is_correct\"] = [i['y_real'] == i['y_predicted'] for k,i in results.iterrows()]\n",
    "results"
   ]
  },
  {
   "cell_type": "code",
   "execution_count": 32,
   "id": "seeing-maintenance",
   "metadata": {},
   "outputs": [
    {
     "name": "stdout",
     "output_type": "stream",
     "text": [
      "Correct predictions: 31\n",
      "Wrong predictions: 5\n",
      "Percentage of correct predictions: 86.11%\n"
     ]
    }
   ],
   "source": [
    "# Run the new results\n",
    "print(\"Correct predictions: \" + str(len(results[results.is_correct == True])))\n",
    "print(\"Wrong predictions: \" + str(len(results[results.is_correct == False])))\n",
    "print(\"Percentage of correct predictions: \" + str(round(100*len(results[results.is_correct == True])/len(results),2)) + \"%\")"
   ]
  },
  {
   "cell_type": "markdown",
   "id": "blessed-salem",
   "metadata": {},
   "source": [
    "# 4. Support vector machines (SVMs)\n",
    "\n",
    "Support Vector Machines belong to the discriminant model family. These models try to find a combination of samples to build a *threshold* maximizing the margin between two classes. After using the training examples to create this threshold, SVM maps new examples into that same space and predicts their category to belong based on which side of the gap they fall.\n",
    "\n",
    "The main features of SVMs are:\n",
    "* allowing to make a certain number of mistakes during the training process.\n",
    "* keeping margin as wide as possible so that other points can still be classified correctly.\n",
    "\n",
    "This process is known as *Soft Margin Formulation.*\n",
    "\n",
    "<img src=\"https://miro.medium.com/max/1400/1*M_3iYollNTlz0PVn5udCBQ.png\" alt=\"drawing\" width=\"500\"/>\n",
    "\n",
    "This method is highly effective to solve classification problems in non-lineable separable spaces. SVMs performs a non-linear classification using what is called the **kernel trick**, implicitly mapping their inputs into high-dimensional feature spaces.\n",
    "\n",
    "<img src=\"https://miro.medium.com/max/1400/1*mCwnu5kXot6buL7jeIafqQ.png\" alt=\"drawing\" width=\"600\"/>\n",
    "\n",
    "If you are interested in learning more, check out this [link](https://towardsdatascience.com/support-vector-machines-soft-margin-formulation-and-kernel-trick-4c9729dc8efe).\n",
    "\n",
    "\n",
    "## Creating the threshold.\n",
    "There are three main kernels used to identify these thresholds, which will separate the classes using SVM:\n",
    "* Linear: A lineal formulation will be used to separate the classes\n",
    "* Polinomial: A polinomial function (i.e., x^2, x^3, x^4, ...) will be used to separate the classes.\n",
    "* Radial Basis Function (RBF): It uses normal curves around the data points, and sums these so that the decision boundary can be defined by a type of topology condition such as curves where the sum is above a value of 0.5. \n",
    "\n",
    "We will start running the **SVC lineal kernel** in the next line:"
   ]
  },
  {
   "cell_type": "code",
   "execution_count": 33,
   "id": "clinical-context",
   "metadata": {},
   "outputs": [
    {
     "data": {
      "text/plain": [
       "SVC(kernel='linear')"
      ]
     },
     "execution_count": 33,
     "metadata": {},
     "output_type": "execute_result"
    }
   ],
   "source": [
    "svc = svm.SVC(kernel='linear')\n",
    "svc.fit(X_train, y_train)"
   ]
  },
  {
   "cell_type": "markdown",
   "id": "lovely-relaxation",
   "metadata": {},
   "source": [
    "Let's check the predicted values from the *testing* dataset"
   ]
  },
  {
   "cell_type": "code",
   "execution_count": 34,
   "id": "musical-balance",
   "metadata": {},
   "outputs": [
    {
     "data": {
      "text/plain": [
       "array([0, 2, 1, 0, 2, 0, 1, 0, 2, 1, 1, 0, 1, 1, 0, 2, 1, 2, 1, 1, 0, 0,\n",
       "       0, 2, 1, 1, 1, 2, 2, 1, 2, 0, 0, 0, 2, 0])"
      ]
     },
     "execution_count": 34,
     "metadata": {},
     "output_type": "execute_result"
    }
   ],
   "source": [
    "y_predicted = svc.predict(X_test)\n",
    "y_predicted"
   ]
  },
  {
   "cell_type": "markdown",
   "id": "radical-atlantic",
   "metadata": {},
   "source": [
    "We are going to consolidate the predicted results with the real results."
   ]
  },
  {
   "cell_type": "code",
   "execution_count": 35,
   "id": "proof-header",
   "metadata": {},
   "outputs": [
    {
     "data": {
      "text/html": [
       "<div>\n",
       "<style scoped>\n",
       "    .dataframe tbody tr th:only-of-type {\n",
       "        vertical-align: middle;\n",
       "    }\n",
       "\n",
       "    .dataframe tbody tr th {\n",
       "        vertical-align: top;\n",
       "    }\n",
       "\n",
       "    .dataframe thead th {\n",
       "        text-align: right;\n",
       "    }\n",
       "</style>\n",
       "<table border=\"1\" class=\"dataframe\">\n",
       "  <thead>\n",
       "    <tr style=\"text-align: right;\">\n",
       "      <th></th>\n",
       "      <th>y_real</th>\n",
       "      <th>y_predicted</th>\n",
       "      <th>is_correct</th>\n",
       "    </tr>\n",
       "  </thead>\n",
       "  <tbody>\n",
       "    <tr>\n",
       "      <th>56</th>\n",
       "      <td>0</td>\n",
       "      <td>0</td>\n",
       "      <td>True</td>\n",
       "    </tr>\n",
       "    <tr>\n",
       "      <th>153</th>\n",
       "      <td>2</td>\n",
       "      <td>2</td>\n",
       "      <td>True</td>\n",
       "    </tr>\n",
       "    <tr>\n",
       "      <th>127</th>\n",
       "      <td>1</td>\n",
       "      <td>1</td>\n",
       "      <td>True</td>\n",
       "    </tr>\n",
       "    <tr>\n",
       "      <th>33</th>\n",
       "      <td>0</td>\n",
       "      <td>0</td>\n",
       "      <td>True</td>\n",
       "    </tr>\n",
       "    <tr>\n",
       "      <th>118</th>\n",
       "      <td>1</td>\n",
       "      <td>2</td>\n",
       "      <td>False</td>\n",
       "    </tr>\n",
       "  </tbody>\n",
       "</table>\n",
       "</div>"
      ],
      "text/plain": [
       "     y_real  y_predicted  is_correct\n",
       "56        0            0        True\n",
       "153       2            2        True\n",
       "127       1            1        True\n",
       "33        0            0        True\n",
       "118       1            2       False"
      ]
     },
     "execution_count": 35,
     "metadata": {},
     "output_type": "execute_result"
    }
   ],
   "source": [
    "results = pd.DataFrame({'y_real':y_test, 'y_predicted':y_predicted})\n",
    "results[\"is_correct\"] = [i['y_real'] == i['y_predicted'] for k,i in results.iterrows()]\n",
    "results.head()"
   ]
  },
  {
   "cell_type": "markdown",
   "id": "medical-coverage",
   "metadata": {},
   "source": [
    "Checking the results"
   ]
  },
  {
   "cell_type": "code",
   "execution_count": 36,
   "id": "domestic-holmes",
   "metadata": {},
   "outputs": [
    {
     "name": "stdout",
     "output_type": "stream",
     "text": [
      "Correct predictions: 25\n",
      "Wrong predictions: 11\n",
      "Percentage of correct predictions: 69.44%\n"
     ]
    }
   ],
   "source": [
    "print(\"Correct predictions: \" + str(len(results[results.is_correct == True])))\n",
    "print(\"Wrong predictions: \" + str(len(results[results.is_correct == False])))\n",
    "print(\"Percentage of correct predictions: \" + str(round(100*len(results[results.is_correct == True])/len(results),2)) + \"%\")"
   ]
  },
  {
   "cell_type": "markdown",
   "id": "negative-alabama",
   "metadata": {},
   "source": [
    "Let's plot the classification model. "
   ]
  },
  {
   "cell_type": "code",
   "execution_count": 37,
   "id": "celtic-tyler",
   "metadata": {},
   "outputs": [
    {
     "data": {
      "image/png": "[encoded data removed]",
      "text/plain": [
       "<Figure size 576x432 with 1 Axes>"
      ]
     },
     "metadata": {},
     "output_type": "display_data"
    }
   ],
   "source": [
    "# plot the line, the points, and the nearest vectors to the plane\n",
    "fignum = 1\n",
    "plt.figure(fignum, figsize=(8, 6))\n",
    "plt.clf()\n",
    "\n",
    "plt.scatter(svc.support_vectors_[:, 0], svc.support_vectors_[:, 1], s=80,\n",
    "            facecolors='none', zorder=10, edgecolors='k')\n",
    "plt.scatter(X_train.iloc[:, 0], X_train.iloc[:, 1], c=y_train, zorder=10, cmap=plt.cm.Paired,\n",
    "            edgecolors='k')\n",
    "plt.axis('tight')\n",
    "\n",
    "Z = svc.predict(np.c_[xx.ravel(), yy.ravel()])\n",
    "\n",
    "# Put the result into a color plot\n",
    "Z = Z.reshape(xx.shape)\n",
    "plt.figure(fignum, figsize=(8, 6))\n",
    "plt.pcolormesh(xx, yy, Z, cmap=plt.cm.Paired, shading='auto')\n",
    "plt.contour(xx, yy, Z, colors=['k', 'k', 'k'], linestyles=['--', '-', '--'],\n",
    "            levels=[-.5, 0, .5])\n",
    "plt.xlabel(wine.columns[0])\n",
    "plt.ylabel(wine.columns[1])\n",
    "plt.xlim(x_min, x_max)\n",
    "plt.ylim(y_min, y_max)\n",
    "\n",
    "plt.xticks(())\n",
    "plt.yticks(())\n",
    "fignum = fignum + 1"
   ]
  },
  {
   "cell_type": "markdown",
   "id": "outer-garlic",
   "metadata": {},
   "source": [
    "### Exercise 4:\n",
    "Now, it's your turn to create a SVM model with a linear kernel using all the features available. How well does this model perfom? Is it better or worse?"
   ]
  },
  {
   "cell_type": "code",
   "execution_count": 38,
   "id": "proper-double",
   "metadata": {},
   "outputs": [
    {
     "data": {
      "text/plain": [
       "SVC(kernel='linear')"
      ]
     },
     "execution_count": 38,
     "metadata": {},
     "output_type": "execute_result"
    }
   ],
   "source": [
    "# Create your model here. Don't forget to run the fit function:\n",
    "svc = svm.SVC(kernel='linear')\n",
    "svc.fit(X_all_train, y_all_train)"
   ]
  },
  {
   "cell_type": "code",
   "execution_count": 39,
   "id": "baking-keeping",
   "metadata": {},
   "outputs": [],
   "source": [
    "# Get the predicted value. Don't forget to use X_all_test\n",
    "y_all_predicted = svc.predict(X_all_test)"
   ]
  },
  {
   "cell_type": "code",
   "execution_count": 40,
   "id": "urban-adapter",
   "metadata": {},
   "outputs": [
    {
     "data": {
      "text/html": [
       "<div>\n",
       "<style scoped>\n",
       "    .dataframe tbody tr th:only-of-type {\n",
       "        vertical-align: middle;\n",
       "    }\n",
       "\n",
       "    .dataframe tbody tr th {\n",
       "        vertical-align: top;\n",
       "    }\n",
       "\n",
       "    .dataframe thead th {\n",
       "        text-align: right;\n",
       "    }\n",
       "</style>\n",
       "<table border=\"1\" class=\"dataframe\">\n",
       "  <thead>\n",
       "    <tr style=\"text-align: right;\">\n",
       "      <th></th>\n",
       "      <th>y_real</th>\n",
       "      <th>y_predicted</th>\n",
       "      <th>is_correct</th>\n",
       "    </tr>\n",
       "  </thead>\n",
       "  <tbody>\n",
       "    <tr>\n",
       "      <th>103</th>\n",
       "      <td>1</td>\n",
       "      <td>1</td>\n",
       "      <td>True</td>\n",
       "    </tr>\n",
       "    <tr>\n",
       "      <th>140</th>\n",
       "      <td>2</td>\n",
       "      <td>2</td>\n",
       "      <td>True</td>\n",
       "    </tr>\n",
       "    <tr>\n",
       "      <th>93</th>\n",
       "      <td>1</td>\n",
       "      <td>1</td>\n",
       "      <td>True</td>\n",
       "    </tr>\n",
       "    <tr>\n",
       "      <th>8</th>\n",
       "      <td>0</td>\n",
       "      <td>0</td>\n",
       "      <td>True</td>\n",
       "    </tr>\n",
       "    <tr>\n",
       "      <th>155</th>\n",
       "      <td>2</td>\n",
       "      <td>2</td>\n",
       "      <td>True</td>\n",
       "    </tr>\n",
       "    <tr>\n",
       "      <th>107</th>\n",
       "      <td>1</td>\n",
       "      <td>1</td>\n",
       "      <td>True</td>\n",
       "    </tr>\n",
       "    <tr>\n",
       "      <th>120</th>\n",
       "      <td>1</td>\n",
       "      <td>1</td>\n",
       "      <td>True</td>\n",
       "    </tr>\n",
       "    <tr>\n",
       "      <th>73</th>\n",
       "      <td>1</td>\n",
       "      <td>1</td>\n",
       "      <td>True</td>\n",
       "    </tr>\n",
       "    <tr>\n",
       "      <th>123</th>\n",
       "      <td>1</td>\n",
       "      <td>1</td>\n",
       "      <td>True</td>\n",
       "    </tr>\n",
       "    <tr>\n",
       "      <th>169</th>\n",
       "      <td>2</td>\n",
       "      <td>2</td>\n",
       "      <td>True</td>\n",
       "    </tr>\n",
       "    <tr>\n",
       "      <th>128</th>\n",
       "      <td>1</td>\n",
       "      <td>1</td>\n",
       "      <td>True</td>\n",
       "    </tr>\n",
       "    <tr>\n",
       "      <th>52</th>\n",
       "      <td>0</td>\n",
       "      <td>0</td>\n",
       "      <td>True</td>\n",
       "    </tr>\n",
       "    <tr>\n",
       "      <th>170</th>\n",
       "      <td>2</td>\n",
       "      <td>2</td>\n",
       "      <td>True</td>\n",
       "    </tr>\n",
       "    <tr>\n",
       "      <th>67</th>\n",
       "      <td>1</td>\n",
       "      <td>1</td>\n",
       "      <td>True</td>\n",
       "    </tr>\n",
       "    <tr>\n",
       "      <th>51</th>\n",
       "      <td>0</td>\n",
       "      <td>0</td>\n",
       "      <td>True</td>\n",
       "    </tr>\n",
       "    <tr>\n",
       "      <th>127</th>\n",
       "      <td>1</td>\n",
       "      <td>1</td>\n",
       "      <td>True</td>\n",
       "    </tr>\n",
       "    <tr>\n",
       "      <th>166</th>\n",
       "      <td>2</td>\n",
       "      <td>2</td>\n",
       "      <td>True</td>\n",
       "    </tr>\n",
       "    <tr>\n",
       "      <th>116</th>\n",
       "      <td>1</td>\n",
       "      <td>1</td>\n",
       "      <td>True</td>\n",
       "    </tr>\n",
       "    <tr>\n",
       "      <th>25</th>\n",
       "      <td>0</td>\n",
       "      <td>1</td>\n",
       "      <td>False</td>\n",
       "    </tr>\n",
       "    <tr>\n",
       "      <th>66</th>\n",
       "      <td>1</td>\n",
       "      <td>1</td>\n",
       "      <td>True</td>\n",
       "    </tr>\n",
       "    <tr>\n",
       "      <th>157</th>\n",
       "      <td>2</td>\n",
       "      <td>2</td>\n",
       "      <td>True</td>\n",
       "    </tr>\n",
       "    <tr>\n",
       "      <th>29</th>\n",
       "      <td>0</td>\n",
       "      <td>0</td>\n",
       "      <td>True</td>\n",
       "    </tr>\n",
       "    <tr>\n",
       "      <th>88</th>\n",
       "      <td>1</td>\n",
       "      <td>1</td>\n",
       "      <td>True</td>\n",
       "    </tr>\n",
       "    <tr>\n",
       "      <th>16</th>\n",
       "      <td>0</td>\n",
       "      <td>0</td>\n",
       "      <td>True</td>\n",
       "    </tr>\n",
       "    <tr>\n",
       "      <th>81</th>\n",
       "      <td>1</td>\n",
       "      <td>1</td>\n",
       "      <td>True</td>\n",
       "    </tr>\n",
       "    <tr>\n",
       "      <th>49</th>\n",
       "      <td>0</td>\n",
       "      <td>0</td>\n",
       "      <td>True</td>\n",
       "    </tr>\n",
       "    <tr>\n",
       "      <th>4</th>\n",
       "      <td>0</td>\n",
       "      <td>1</td>\n",
       "      <td>False</td>\n",
       "    </tr>\n",
       "    <tr>\n",
       "      <th>14</th>\n",
       "      <td>0</td>\n",
       "      <td>0</td>\n",
       "      <td>True</td>\n",
       "    </tr>\n",
       "    <tr>\n",
       "      <th>38</th>\n",
       "      <td>0</td>\n",
       "      <td>0</td>\n",
       "      <td>True</td>\n",
       "    </tr>\n",
       "    <tr>\n",
       "      <th>109</th>\n",
       "      <td>1</td>\n",
       "      <td>1</td>\n",
       "      <td>True</td>\n",
       "    </tr>\n",
       "    <tr>\n",
       "      <th>83</th>\n",
       "      <td>1</td>\n",
       "      <td>2</td>\n",
       "      <td>False</td>\n",
       "    </tr>\n",
       "    <tr>\n",
       "      <th>168</th>\n",
       "      <td>2</td>\n",
       "      <td>2</td>\n",
       "      <td>True</td>\n",
       "    </tr>\n",
       "    <tr>\n",
       "      <th>60</th>\n",
       "      <td>1</td>\n",
       "      <td>1</td>\n",
       "      <td>True</td>\n",
       "    </tr>\n",
       "    <tr>\n",
       "      <th>75</th>\n",
       "      <td>1</td>\n",
       "      <td>1</td>\n",
       "      <td>True</td>\n",
       "    </tr>\n",
       "    <tr>\n",
       "      <th>76</th>\n",
       "      <td>1</td>\n",
       "      <td>1</td>\n",
       "      <td>True</td>\n",
       "    </tr>\n",
       "    <tr>\n",
       "      <th>35</th>\n",
       "      <td>0</td>\n",
       "      <td>0</td>\n",
       "      <td>True</td>\n",
       "    </tr>\n",
       "  </tbody>\n",
       "</table>\n",
       "</div>"
      ],
      "text/plain": [
       "     y_real  y_predicted  is_correct\n",
       "103       1            1        True\n",
       "140       2            2        True\n",
       "93        1            1        True\n",
       "8         0            0        True\n",
       "155       2            2        True\n",
       "107       1            1        True\n",
       "120       1            1        True\n",
       "73        1            1        True\n",
       "123       1            1        True\n",
       "169       2            2        True\n",
       "128       1            1        True\n",
       "52        0            0        True\n",
       "170       2            2        True\n",
       "67        1            1        True\n",
       "51        0            0        True\n",
       "127       1            1        True\n",
       "166       2            2        True\n",
       "116       1            1        True\n",
       "25        0            1       False\n",
       "66        1            1        True\n",
       "157       2            2        True\n",
       "29        0            0        True\n",
       "88        1            1        True\n",
       "16        0            0        True\n",
       "81        1            1        True\n",
       "49        0            0        True\n",
       "4         0            1       False\n",
       "14        0            0        True\n",
       "38        0            0        True\n",
       "109       1            1        True\n",
       "83        1            2       False\n",
       "168       2            2        True\n",
       "60        1            1        True\n",
       "75        1            1        True\n",
       "76        1            1        True\n",
       "35        0            0        True"
      ]
     },
     "execution_count": 40,
     "metadata": {},
     "output_type": "execute_result"
    }
   ],
   "source": [
    "# Create the new result dataframe\n",
    "results = pd.DataFrame({'y_real': y_all_test, 'y_predicted': y_all_predicted})\n",
    "results[\"is_correct\"] = [i['y_real'] == i['y_predicted'] for k,i in results.iterrows()]\n",
    "results"
   ]
  },
  {
   "cell_type": "code",
   "execution_count": 41,
   "id": "descending-spice",
   "metadata": {},
   "outputs": [
    {
     "name": "stdout",
     "output_type": "stream",
     "text": [
      "Correct predictions: 33\n",
      "Wrong predictions: 3\n",
      "Percentage of correct predictions: 91.67%\n"
     ]
    }
   ],
   "source": [
    "# Run the new results\n",
    "print(\"Correct predictions: \" + str(len(results[results.is_correct == True])))\n",
    "print(\"Wrong predictions: \" + str(len(results[results.is_correct == False])))\n",
    "print(\"Percentage of correct predictions: \" + str(round(100*len(results[results.is_correct == True])/len(results),2)) + \"%\")"
   ]
  },
  {
   "cell_type": "markdown",
   "id": "suspended-horse",
   "metadata": {},
   "source": [
    "### Polynominal kernel\n",
    "Now, we will use a polynomial kernel with degree 2. This will include a quadratic function in the formula. "
   ]
  },
  {
   "cell_type": "code",
   "execution_count": 42,
   "id": "false-making",
   "metadata": {},
   "outputs": [
    {
     "data": {
      "text/plain": [
       "SVC(gamma=2, kernel='poly')"
      ]
     },
     "execution_count": 42,
     "metadata": {},
     "output_type": "execute_result"
    }
   ],
   "source": [
    "svc = svm.SVC(kernel='poly', gamma=2)\n",
    "svc.fit(X_train, y_train)"
   ]
  },
  {
   "cell_type": "markdown",
   "id": "suited-prompt",
   "metadata": {},
   "source": [
    "Now, we calculate the predicted values from the testing dataset"
   ]
  },
  {
   "cell_type": "code",
   "execution_count": 43,
   "id": "endless-server",
   "metadata": {},
   "outputs": [
    {
     "name": "stdout",
     "output_type": "stream",
     "text": [
      "Correct predictions: 27\n",
      "Wrong predictions: 9\n",
      "Percentage of correct predictions: 75.0%\n"
     ]
    }
   ],
   "source": [
    "y_predicted = svc.predict(X_test)\n",
    "results = pd.DataFrame({'y_real':y_test, 'y_predicted':y_predicted})\n",
    "results[\"is_correct\"] = [i['y_real'] == i['y_predicted'] for k,i in results.iterrows()]\n",
    "\n",
    "print(\"Correct predictions: \" + str(len(results[results.is_correct == True])))\n",
    "print(\"Wrong predictions: \" + str(len(results[results.is_correct == False])))\n",
    "print(\"Percentage of correct predictions: \" + str(round(100*len(results[results.is_correct == True])/len(results),2)) + \"%\")"
   ]
  },
  {
   "cell_type": "markdown",
   "id": "configured-geneva",
   "metadata": {},
   "source": [
    "We will plot the plane to see the new thresholds "
   ]
  },
  {
   "cell_type": "code",
   "execution_count": 44,
   "id": "familiar-fitness",
   "metadata": {},
   "outputs": [
    {
     "data": {
      "image/png": "[encoded data removed]",
      "text/plain": [
       "<Figure size 576x432 with 1 Axes>"
      ]
     },
     "metadata": {},
     "output_type": "display_data"
    }
   ],
   "source": [
    "# plot the line, the points, and the nearest vectors to the plane\n",
    "fignum = 1\n",
    "plt.figure(fignum, figsize=(8, 6))\n",
    "plt.clf()\n",
    "\n",
    "plt.scatter(svc.support_vectors_[:, 0], svc.support_vectors_[:, 1], s=80,\n",
    "            facecolors='none', zorder=10, edgecolors='k')\n",
    "plt.scatter(X_train.iloc[:, 0], X_train.iloc[:, 1], c=y_train, zorder=10, cmap=plt.cm.Paired,\n",
    "            edgecolors='k')\n",
    "\n",
    "plt.axis('tight')\n",
    "x_min, x_max = X_train.iloc[:, 0].min() - 1, X_train.iloc[:, 0].max() + 1\n",
    "y_min, y_max = X_train.iloc[:, 1].min() - 1, X_train.iloc[:, 1].max() + 1\n",
    "\n",
    "Z = svc.predict(np.c_[xx.ravel(), yy.ravel()])\n",
    "\n",
    "# Put the result into a color plot\n",
    "Z = Z.reshape(xx.shape)\n",
    "plt.figure(fignum, figsize=(4, 3))\n",
    "plt.pcolormesh(xx, yy, Z, cmap=plt.cm.Paired, shading='auto')\n",
    "plt.contour(xx, yy, Z, colors=['k', 'k', 'k'], linestyles=['--', '-', '--'],\n",
    "            levels=[-.5, 0, .5])\n",
    "plt.xlabel(wine.columns[0])\n",
    "plt.ylabel(wine.columns[1])\n",
    "plt.xlim(x_min, x_max)\n",
    "plt.ylim(y_min, y_max)\n",
    "\n",
    "plt.xticks(())\n",
    "plt.yticks(())\n",
    "fignum = fignum + 1"
   ]
  },
  {
   "cell_type": "markdown",
   "id": "intensive-brunswick",
   "metadata": {},
   "source": [
    "### RBF kernel\n",
    "Lastly, let's use the Radial Basis Function kernel to detect other thresholds."
   ]
  },
  {
   "cell_type": "code",
   "execution_count": 45,
   "id": "uniform-fireplace",
   "metadata": {},
   "outputs": [
    {
     "data": {
      "text/plain": [
       "SVC(gamma=2)"
      ]
     },
     "execution_count": 45,
     "metadata": {},
     "output_type": "execute_result"
    }
   ],
   "source": [
    "svc = svm.SVC(kernel='rbf', gamma=2)\n",
    "svc.fit(X_train, y_train)"
   ]
  },
  {
   "cell_type": "code",
   "execution_count": 46,
   "id": "harmful-compression",
   "metadata": {},
   "outputs": [
    {
     "name": "stdout",
     "output_type": "stream",
     "text": [
      "Correct predictions: 32\n",
      "Wrong predictions: 4\n",
      "Percentage of correct predictions: 88.89%\n"
     ]
    }
   ],
   "source": [
    "y_predicted = svc.predict(X_test)\n",
    "results = pd.DataFrame({'y_real':y_test, 'y_predicted':y_predicted})\n",
    "results[\"is_correct\"] = [i['y_real'] == i['y_predicted'] for k,i in results.iterrows()]\n",
    "\n",
    "print(\"Correct predictions: \" + str(len(results[results.is_correct == True])))\n",
    "print(\"Wrong predictions: \" + str(len(results[results.is_correct == False])))\n",
    "print(\"Percentage of correct predictions: \" + str(round(100*len(results[results.is_correct == True])/len(results),2)) + \"%\")"
   ]
  },
  {
   "cell_type": "code",
   "execution_count": 47,
   "id": "three-sleeping",
   "metadata": {},
   "outputs": [
    {
     "data": {
      "image/png": "[encoded data removed]",
      "text/plain": [
       "<Figure size 576x432 with 1 Axes>"
      ]
     },
     "metadata": {},
     "output_type": "display_data"
    }
   ],
   "source": [
    "# plot the line, the points, and the nearest vectors to the plane\n",
    "fignum = 1\n",
    "plt.figure(fignum, figsize=(8, 6))\n",
    "plt.clf()\n",
    "\n",
    "plt.scatter(svc.support_vectors_[:, 0], svc.support_vectors_[:, 1], s=80,\n",
    "            facecolors='none', zorder=10, edgecolors='k')\n",
    "plt.scatter(X_train.iloc[:, 0], X_train.iloc[:, 1], c=y_train, zorder=10, cmap=plt.cm.Paired,\n",
    "            edgecolors='k')\n",
    "\n",
    "plt.axis('tight')\n",
    "Z = svc.predict(np.c_[xx.ravel(), yy.ravel()])\n",
    "\n",
    "# Put the result into a color plot\n",
    "Z = Z.reshape(xx.shape)\n",
    "plt.figure(fignum, figsize=(4, 3))\n",
    "plt.pcolormesh(xx, yy, Z, cmap=plt.cm.Paired, shading='auto')\n",
    "plt.contour(xx, yy, Z, colors=['k', 'k', 'k'], linestyles=['--', '-', '--'],\n",
    "            levels=[-.5, 0, .5])\n",
    "plt.xlabel(wine.columns[0])\n",
    "plt.ylabel(wine.columns[1])\n",
    "plt.xlim(x_min, x_max)\n",
    "plt.ylim(y_min, y_max)\n",
    "\n",
    "plt.xticks(())\n",
    "plt.yticks(())\n",
    "fignum = fignum + 1"
   ]
  },
  {
   "cell_type": "markdown",
   "id": "weighted-disposal",
   "metadata": {},
   "source": [
    "## 5. Neural Networks: Muli-layer perceptron\n",
    "\n",
    "Multi-layer perceptron (MLP) is an artificial neural network. The model learns from the dataset through three types of layers:\n",
    "* *The input layer*: The input layer receives the features to be processed.\n",
    "* *The output layer*: The prediction and classification is performed by the output layer.\n",
    "* *The hidden layers*: An arbitrary number of hidden layers that are placed in between the input and output layer perform the computation. Each layer has nodes (also known as neurons) that transforms the values from the previous layer into an activation funcition. The output layer receives the activated values from the last hidden layer and transforms them into output values.\n",
    "\n",
    "<img src=\"https://static.javatpoint.com/tutorial/tensorflow/images/multi-layer-perceptron-in-tensorflow.png\" alt=\"drawing\" width=\"400\"/>\n",
    "\n",
    "Multi-layer perceptrons are networks of nodes that pass a linear combination of their inputs from one layer to another. As they do this, the nodes decide how to modify their inputs, utilizing a given activation function. The activation function of a neuron is the key here. By selecting non-linear activation functions, such as the logistic function \\sigma(x) shown below, the neural network can embed non-linearity in its operation:\n",
    "\n",
    "<img src=\"https://www.baeldung.com/wp-content/uploads/sites/4/2020/06/Copy-of-Copy-of-Blank-Diagram1.svg\" alt=\"drawing\" width=\"400\"/>\n",
    "\n",
    "Neural networks are good for non-linear classes of problems. The first advantage of neural networks is, therefore, their flexibility in addressing problems with non-linear shapes. MLPs are implemented in diverse fields such as speech recognition, image recognition, and machine translation software. From artificial neural networks, **deep learning** has emerged as a sub-field of machine learning.\n",
    "\n",
    "Let's create a simple perceptron with 5 nodes in two layers"
   ]
  },
  {
   "cell_type": "code",
   "execution_count": 48,
   "id": "buried-corpus",
   "metadata": {},
   "outputs": [
    {
     "data": {
      "text/plain": [
       "MLPClassifier(alpha=1e-05, hidden_layer_sizes=(5, 2), max_iter=2000,\n",
       "              random_state=1, solver='lbfgs')"
      ]
     },
     "execution_count": 48,
     "metadata": {},
     "output_type": "execute_result"
    }
   ],
   "source": [
    "clf = MLPClassifier(solver='lbfgs', alpha=1e-5, hidden_layer_sizes=(5, 2), random_state=1, max_iter=10000)\n",
    "clf.fit(X_train, y_train)"
   ]
  },
  {
   "cell_type": "markdown",
   "id": "assured-philip",
   "metadata": {},
   "source": [
    "We will use the trained perpcetron to predict the wines' classes and compare with the real values. "
   ]
  },
  {
   "cell_type": "code",
   "execution_count": 49,
   "id": "spanish-painting",
   "metadata": {},
   "outputs": [
    {
     "data": {
      "text/html": [
       "<div>\n",
       "<style scoped>\n",
       "    .dataframe tbody tr th:only-of-type {\n",
       "        vertical-align: middle;\n",
       "    }\n",
       "\n",
       "    .dataframe tbody tr th {\n",
       "        vertical-align: top;\n",
       "    }\n",
       "\n",
       "    .dataframe thead th {\n",
       "        text-align: right;\n",
       "    }\n",
       "</style>\n",
       "<table border=\"1\" class=\"dataframe\">\n",
       "  <thead>\n",
       "    <tr style=\"text-align: right;\">\n",
       "      <th></th>\n",
       "      <th>y_real</th>\n",
       "      <th>y_predicted</th>\n",
       "      <th>is_correct</th>\n",
       "    </tr>\n",
       "  </thead>\n",
       "  <tbody>\n",
       "    <tr>\n",
       "      <th>56</th>\n",
       "      <td>0</td>\n",
       "      <td>0</td>\n",
       "      <td>True</td>\n",
       "    </tr>\n",
       "    <tr>\n",
       "      <th>153</th>\n",
       "      <td>2</td>\n",
       "      <td>2</td>\n",
       "      <td>True</td>\n",
       "    </tr>\n",
       "    <tr>\n",
       "      <th>127</th>\n",
       "      <td>1</td>\n",
       "      <td>0</td>\n",
       "      <td>False</td>\n",
       "    </tr>\n",
       "    <tr>\n",
       "      <th>33</th>\n",
       "      <td>0</td>\n",
       "      <td>0</td>\n",
       "      <td>True</td>\n",
       "    </tr>\n",
       "    <tr>\n",
       "      <th>118</th>\n",
       "      <td>1</td>\n",
       "      <td>2</td>\n",
       "      <td>False</td>\n",
       "    </tr>\n",
       "  </tbody>\n",
       "</table>\n",
       "</div>"
      ],
      "text/plain": [
       "     y_real  y_predicted  is_correct\n",
       "56        0            0        True\n",
       "153       2            2        True\n",
       "127       1            0       False\n",
       "33        0            0        True\n",
       "118       1            2       False"
      ]
     },
     "execution_count": 49,
     "metadata": {},
     "output_type": "execute_result"
    }
   ],
   "source": [
    "y_predicted = clf.predict(X_test)\n",
    "results = pd.DataFrame({'y_real':y_test, 'y_predicted':y_predicted})\n",
    "results[\"is_correct\"] = [i['y_real'] == i['y_predicted'] for k,i in results.iterrows()]\n",
    "results.head()"
   ]
  },
  {
   "cell_type": "code",
   "execution_count": 50,
   "id": "loving-restoration",
   "metadata": {},
   "outputs": [
    {
     "name": "stdout",
     "output_type": "stream",
     "text": [
      "Correct predictions: 15\n",
      "Wrong predictions: 21\n",
      "Percentage of correct predictions: 41.67%\n"
     ]
    }
   ],
   "source": [
    "print(\"Correct predictions: \" + str(len(results[results.is_correct == True])))\n",
    "print(\"Wrong predictions: \" + str(len(results[results.is_correct == False])))\n",
    "print(\"Percentage of correct predictions: \" + str(round(100*len(results[results.is_correct == True])/len(results),2)) + \"%\")"
   ]
  },
  {
   "cell_type": "markdown",
   "id": "common-infrastructure",
   "metadata": {},
   "source": [
    "Let's see visually how the neural network performed"
   ]
  },
  {
   "cell_type": "code",
   "execution_count": 51,
   "id": "religious-microwave",
   "metadata": {},
   "outputs": [
    {
     "data": {
      "image/png": "[encoded data removed]",
      "text/plain": [
       "<Figure size 576x432 with 1 Axes>"
      ]
     },
     "metadata": {},
     "output_type": "display_data"
    }
   ],
   "source": [
    "Z = clf.predict(np.c_[xx.ravel(), yy.ravel()])\n",
    "\n",
    "# Put the result into a color plot\n",
    "Z = Z.reshape(xx.shape)\n",
    "plt.figure(1, figsize=(8, 6))\n",
    "plt.pcolormesh(xx, yy, Z, shading='auto', cmap=plt.cm.Paired)\n",
    "\n",
    "# Plot also the training points\n",
    "plt.scatter(X_train.iloc[:, 0], X_train.iloc[:, 1], c=y_train, edgecolors='k', cmap=plt.cm.Paired)\n",
    "plt.xlabel(wine.columns[0])\n",
    "plt.ylabel(wine.columns[1])\n",
    "\n",
    "plt.xlim(xx.min(), xx.max())\n",
    "plt.ylim(yy.min(), yy.max())\n",
    "plt.xticks(())\n",
    "plt.yticks(())\n",
    "\n",
    "plt.show()"
   ]
  },
  {
   "cell_type": "markdown",
   "id": "gentle-government",
   "metadata": {},
   "source": [
    "### Exercise 5:\n",
    "Now, it's your turn to create a neural network using all the features available from the wine dataset. Try with 20 nodes and 10 layers => (20,10). How well does this model perfom? Is it better or worse?"
   ]
  },
  {
   "cell_type": "code",
   "execution_count": 60,
   "id": "imperial-tobacco",
   "metadata": {},
   "outputs": [
    {
     "data": {
      "text/plain": [
       "MLPClassifier(alpha=1e-05, hidden_layer_sizes=(20, 15), max_iter=10000,\n",
       "              random_state=1, solver='lbfgs')"
      ]
     },
     "execution_count": 60,
     "metadata": {},
     "output_type": "execute_result"
    }
   ],
   "source": [
    "# Create your model here. Don't forget to run the fit function, and use the X_all_train and y_all_train dataframes.\n",
    "clf = MLPClassifier(solver='lbfgs', alpha=1e-5, hidden_layer_sizes=(20, 15), random_state=1, max_iter=10000)\n",
    "clf.fit(X_all_train, y_all_train)"
   ]
  },
  {
   "cell_type": "code",
   "execution_count": 61,
   "id": "after-final",
   "metadata": {},
   "outputs": [],
   "source": [
    "# Get the predicted value. Don't forget to use `X_all_test`\n",
    "y_all_predicted = clf.predict(X_all_test)"
   ]
  },
  {
   "cell_type": "code",
   "execution_count": 62,
   "id": "welcome-oasis",
   "metadata": {},
   "outputs": [
    {
     "data": {
      "text/html": [
       "<div>\n",
       "<style scoped>\n",
       "    .dataframe tbody tr th:only-of-type {\n",
       "        vertical-align: middle;\n",
       "    }\n",
       "\n",
       "    .dataframe tbody tr th {\n",
       "        vertical-align: top;\n",
       "    }\n",
       "\n",
       "    .dataframe thead th {\n",
       "        text-align: right;\n",
       "    }\n",
       "</style>\n",
       "<table border=\"1\" class=\"dataframe\">\n",
       "  <thead>\n",
       "    <tr style=\"text-align: right;\">\n",
       "      <th></th>\n",
       "      <th>y_real</th>\n",
       "      <th>y_predicted</th>\n",
       "      <th>is_correct</th>\n",
       "    </tr>\n",
       "  </thead>\n",
       "  <tbody>\n",
       "    <tr>\n",
       "      <th>103</th>\n",
       "      <td>1</td>\n",
       "      <td>1</td>\n",
       "      <td>True</td>\n",
       "    </tr>\n",
       "    <tr>\n",
       "      <th>140</th>\n",
       "      <td>2</td>\n",
       "      <td>2</td>\n",
       "      <td>True</td>\n",
       "    </tr>\n",
       "    <tr>\n",
       "      <th>93</th>\n",
       "      <td>1</td>\n",
       "      <td>1</td>\n",
       "      <td>True</td>\n",
       "    </tr>\n",
       "    <tr>\n",
       "      <th>8</th>\n",
       "      <td>0</td>\n",
       "      <td>0</td>\n",
       "      <td>True</td>\n",
       "    </tr>\n",
       "    <tr>\n",
       "      <th>155</th>\n",
       "      <td>2</td>\n",
       "      <td>2</td>\n",
       "      <td>True</td>\n",
       "    </tr>\n",
       "    <tr>\n",
       "      <th>107</th>\n",
       "      <td>1</td>\n",
       "      <td>1</td>\n",
       "      <td>True</td>\n",
       "    </tr>\n",
       "    <tr>\n",
       "      <th>120</th>\n",
       "      <td>1</td>\n",
       "      <td>1</td>\n",
       "      <td>True</td>\n",
       "    </tr>\n",
       "    <tr>\n",
       "      <th>73</th>\n",
       "      <td>1</td>\n",
       "      <td>1</td>\n",
       "      <td>True</td>\n",
       "    </tr>\n",
       "    <tr>\n",
       "      <th>123</th>\n",
       "      <td>1</td>\n",
       "      <td>1</td>\n",
       "      <td>True</td>\n",
       "    </tr>\n",
       "    <tr>\n",
       "      <th>169</th>\n",
       "      <td>2</td>\n",
       "      <td>2</td>\n",
       "      <td>True</td>\n",
       "    </tr>\n",
       "    <tr>\n",
       "      <th>128</th>\n",
       "      <td>1</td>\n",
       "      <td>1</td>\n",
       "      <td>True</td>\n",
       "    </tr>\n",
       "    <tr>\n",
       "      <th>52</th>\n",
       "      <td>0</td>\n",
       "      <td>0</td>\n",
       "      <td>True</td>\n",
       "    </tr>\n",
       "    <tr>\n",
       "      <th>170</th>\n",
       "      <td>2</td>\n",
       "      <td>2</td>\n",
       "      <td>True</td>\n",
       "    </tr>\n",
       "    <tr>\n",
       "      <th>67</th>\n",
       "      <td>1</td>\n",
       "      <td>1</td>\n",
       "      <td>True</td>\n",
       "    </tr>\n",
       "    <tr>\n",
       "      <th>51</th>\n",
       "      <td>0</td>\n",
       "      <td>0</td>\n",
       "      <td>True</td>\n",
       "    </tr>\n",
       "    <tr>\n",
       "      <th>127</th>\n",
       "      <td>1</td>\n",
       "      <td>1</td>\n",
       "      <td>True</td>\n",
       "    </tr>\n",
       "    <tr>\n",
       "      <th>166</th>\n",
       "      <td>2</td>\n",
       "      <td>2</td>\n",
       "      <td>True</td>\n",
       "    </tr>\n",
       "    <tr>\n",
       "      <th>116</th>\n",
       "      <td>1</td>\n",
       "      <td>1</td>\n",
       "      <td>True</td>\n",
       "    </tr>\n",
       "    <tr>\n",
       "      <th>25</th>\n",
       "      <td>0</td>\n",
       "      <td>1</td>\n",
       "      <td>False</td>\n",
       "    </tr>\n",
       "    <tr>\n",
       "      <th>66</th>\n",
       "      <td>1</td>\n",
       "      <td>1</td>\n",
       "      <td>True</td>\n",
       "    </tr>\n",
       "    <tr>\n",
       "      <th>157</th>\n",
       "      <td>2</td>\n",
       "      <td>2</td>\n",
       "      <td>True</td>\n",
       "    </tr>\n",
       "    <tr>\n",
       "      <th>29</th>\n",
       "      <td>0</td>\n",
       "      <td>0</td>\n",
       "      <td>True</td>\n",
       "    </tr>\n",
       "    <tr>\n",
       "      <th>88</th>\n",
       "      <td>1</td>\n",
       "      <td>1</td>\n",
       "      <td>True</td>\n",
       "    </tr>\n",
       "    <tr>\n",
       "      <th>16</th>\n",
       "      <td>0</td>\n",
       "      <td>0</td>\n",
       "      <td>True</td>\n",
       "    </tr>\n",
       "    <tr>\n",
       "      <th>81</th>\n",
       "      <td>1</td>\n",
       "      <td>1</td>\n",
       "      <td>True</td>\n",
       "    </tr>\n",
       "    <tr>\n",
       "      <th>49</th>\n",
       "      <td>0</td>\n",
       "      <td>0</td>\n",
       "      <td>True</td>\n",
       "    </tr>\n",
       "    <tr>\n",
       "      <th>4</th>\n",
       "      <td>0</td>\n",
       "      <td>1</td>\n",
       "      <td>False</td>\n",
       "    </tr>\n",
       "    <tr>\n",
       "      <th>14</th>\n",
       "      <td>0</td>\n",
       "      <td>0</td>\n",
       "      <td>True</td>\n",
       "    </tr>\n",
       "    <tr>\n",
       "      <th>38</th>\n",
       "      <td>0</td>\n",
       "      <td>0</td>\n",
       "      <td>True</td>\n",
       "    </tr>\n",
       "    <tr>\n",
       "      <th>109</th>\n",
       "      <td>1</td>\n",
       "      <td>1</td>\n",
       "      <td>True</td>\n",
       "    </tr>\n",
       "    <tr>\n",
       "      <th>83</th>\n",
       "      <td>1</td>\n",
       "      <td>2</td>\n",
       "      <td>False</td>\n",
       "    </tr>\n",
       "    <tr>\n",
       "      <th>168</th>\n",
       "      <td>2</td>\n",
       "      <td>2</td>\n",
       "      <td>True</td>\n",
       "    </tr>\n",
       "    <tr>\n",
       "      <th>60</th>\n",
       "      <td>1</td>\n",
       "      <td>1</td>\n",
       "      <td>True</td>\n",
       "    </tr>\n",
       "    <tr>\n",
       "      <th>75</th>\n",
       "      <td>1</td>\n",
       "      <td>1</td>\n",
       "      <td>True</td>\n",
       "    </tr>\n",
       "    <tr>\n",
       "      <th>76</th>\n",
       "      <td>1</td>\n",
       "      <td>1</td>\n",
       "      <td>True</td>\n",
       "    </tr>\n",
       "    <tr>\n",
       "      <th>35</th>\n",
       "      <td>0</td>\n",
       "      <td>0</td>\n",
       "      <td>True</td>\n",
       "    </tr>\n",
       "  </tbody>\n",
       "</table>\n",
       "</div>"
      ],
      "text/plain": [
       "     y_real  y_predicted  is_correct\n",
       "103       1            1        True\n",
       "140       2            2        True\n",
       "93        1            1        True\n",
       "8         0            0        True\n",
       "155       2            2        True\n",
       "107       1            1        True\n",
       "120       1            1        True\n",
       "73        1            1        True\n",
       "123       1            1        True\n",
       "169       2            2        True\n",
       "128       1            1        True\n",
       "52        0            0        True\n",
       "170       2            2        True\n",
       "67        1            1        True\n",
       "51        0            0        True\n",
       "127       1            1        True\n",
       "166       2            2        True\n",
       "116       1            1        True\n",
       "25        0            1       False\n",
       "66        1            1        True\n",
       "157       2            2        True\n",
       "29        0            0        True\n",
       "88        1            1        True\n",
       "16        0            0        True\n",
       "81        1            1        True\n",
       "49        0            0        True\n",
       "4         0            1       False\n",
       "14        0            0        True\n",
       "38        0            0        True\n",
       "109       1            1        True\n",
       "83        1            2       False\n",
       "168       2            2        True\n",
       "60        1            1        True\n",
       "75        1            1        True\n",
       "76        1            1        True\n",
       "35        0            0        True"
      ]
     },
     "execution_count": 62,
     "metadata": {},
     "output_type": "execute_result"
    }
   ],
   "source": [
    "# Create the new result dataframe\n",
    "results = pd.DataFrame({'y_real': y_all_test, 'y_predicted': y_all_predicted})\n",
    "results[\"is_correct\"] = [i['y_real'] == i['y_predicted'] for k,i in results.iterrows()]\n",
    "results"
   ]
  },
  {
   "cell_type": "code",
   "execution_count": 63,
   "id": "retired-plaintiff",
   "metadata": {},
   "outputs": [
    {
     "name": "stdout",
     "output_type": "stream",
     "text": [
      "Correct predictions: 33\n",
      "Wrong predictions: 3\n",
      "Percentage of correct predictions: 91.67%\n"
     ]
    }
   ],
   "source": [
    "# Run the new results\n",
    "print(\"Correct predictions: \" + str(len(results[results.is_correct == True])))\n",
    "print(\"Wrong predictions: \" + str(len(results[results.is_correct == False])))\n",
    "print(\"Percentage of correct predictions: \" + str(round(100*len(results[results.is_correct == True])/len(results),2)) + \"%\")"
   ]
  }
 ],
 "metadata": {
  "kernelspec": {
   "display_name": "Python 3",
   "language": "python",
   "name": "python3"
  },
  "language_info": {
   "codemirror_mode": {
    "name": "ipython",
    "version": 3
   },
   "file_extension": ".py",
   "mimetype": "text/x-python",
   "name": "python",
   "nbconvert_exporter": "python",
   "pygments_lexer": "ipython3",
   "version": "3.9.1"
  }
 },
 "nbformat": 4,
 "nbformat_minor": 5
}
